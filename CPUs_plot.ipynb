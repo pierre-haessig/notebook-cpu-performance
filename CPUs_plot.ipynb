{
 "cells": [
  {
   "cell_type": "markdown",
   "id": "62844a96-f4b5-4d8a-a036-317ae248d06a",
   "metadata": {},
   "source": [
    "# CPUs plot with Altair/Vega\n",
    "\n",
    "Plots, made by [Vega-Altair](https://altair-viz.github.io/):\n",
    "1. Performance by launch date\n",
    "   - with linear or log scale\n",
    "   - with or without regression line\n",
    "2. Sorted performance (like already done with Matplotlib)\n",
    "\n",
    "Remark: Altair plots which aren't persistent the notebook, for some reason...\n",
    "\n",
    "Two Vega plot specifications are saved for Performance by launch date:\n",
    "- [CPUs_bydate_linear_withreg.json](Geekbench%206%20plots/CPUs_bydate_linear_withreg.json)\n",
    "  (along with static image [CPUs_bydate_linear_withreg.png](Geekbench%206%20plots/CPUs_bydate_linear_withreg.png))\n",
    "- [CPUs_bydate_log_withreg.json](Geekbench%206%20plots/CPUs_bydate_log_withreg.json)\n",
    "  (along with static image [CPUs_bydate_log_withreg.png](Geekbench%206%20plots/CPUs_bydate_log_withreg.png))\n",
    "\n",
    "Work in progress:\n",
    "- show side by side the CPU perf by name sorted by perf and the plot by launch date\n",
    "  - with highlighting selection\n",
    "  - → works but the plot is way to big (too high)\n",
    "- change the sorting order interactively. See https://stackoverflow.com/questions/67379937/change-mark-order-via-parameter (doesn't work yet...) and https://altair-viz.github.io/user_guide/transform/window.html\n",
    "\n",
    "PH, Feb-Apr 2025"
   ]
  },
  {
   "cell_type": "code",
   "execution_count": 1,
   "id": "8196c4eb-52bf-47bd-ab85-c8e828773292",
   "metadata": {},
   "outputs": [],
   "source": [
    "import numpy as np\n",
    "import pandas as pd\n",
    "import statsmodels.api as sm\n",
    "import altair as alt"
   ]
  },
  {
   "cell_type": "markdown",
   "id": "43252202-b7e7-4e0b-ab1a-d1638b17a57c",
   "metadata": {},
   "source": [
    "## Load CPU dataset"
   ]
  },
  {
   "cell_type": "markdown",
   "id": "ac5256b5-989c-4aad-a271-b277dacd2f32",
   "metadata": {},
   "source": [
    "load CSV export of Baserow table (CSV exported in [Retrieve_baserow.ipynb](Retrieve_baserow.ipynb))\n",
    "- 32 rows as of April 27, 2025, but only 29 in the [low power U-series](https://www.makeuseof.com/intel-u-vs-p-vs-h-laptop-cpus/)"
   ]
  },
  {
   "cell_type": "code",
   "execution_count": 2,
   "id": "cc99c68d-f0b0-4915-95df-0ed58cd75446",
   "metadata": {},
   "outputs": [
    {
     "data": {
      "text/html": [
       "<div>\n",
       "<style scoped>\n",
       "    .dataframe tbody tr th:only-of-type {\n",
       "        vertical-align: middle;\n",
       "    }\n",
       "\n",
       "    .dataframe tbody tr th {\n",
       "        vertical-align: top;\n",
       "    }\n",
       "\n",
       "    .dataframe thead th {\n",
       "        text-align: right;\n",
       "    }\n",
       "</style>\n",
       "<table border=\"1\" class=\"dataframe\">\n",
       "  <thead>\n",
       "    <tr style=\"text-align: right;\">\n",
       "      <th></th>\n",
       "      <th>Name</th>\n",
       "      <th>Designer</th>\n",
       "      <th>Launch date</th>\n",
       "      <th>Cores</th>\n",
       "      <th>Age</th>\n",
       "      <th>Architecture</th>\n",
       "      <th>GB6 Single</th>\n",
       "      <th>GB6 Multi</th>\n",
       "      <th>Win11</th>\n",
       "      <th>Product URL</th>\n",
       "      <th>GB6 Single log2</th>\n",
       "      <th>GB6 Multi log2</th>\n",
       "    </tr>\n",
       "  </thead>\n",
       "  <tbody>\n",
       "    <tr>\n",
       "      <th>29</th>\n",
       "      <td>AMD Ryzen 5 PRO 6650U</td>\n",
       "      <td>AMD</td>\n",
       "      <td>2022-04-19</td>\n",
       "      <td>6</td>\n",
       "      <td>3.0</td>\n",
       "      <td>Rembrandt</td>\n",
       "      <td>1828.0</td>\n",
       "      <td>6717.0</td>\n",
       "      <td>Yes</td>\n",
       "      <td>https://www.amd.com/en/support/downloads/drive...</td>\n",
       "      <td>0.870266</td>\n",
       "      <td>2.747817</td>\n",
       "    </tr>\n",
       "    <tr>\n",
       "      <th>30</th>\n",
       "      <td>AMD Ryzen 5 PRO 7540U</td>\n",
       "      <td>AMD</td>\n",
       "      <td>2023-03-05</td>\n",
       "      <td>6</td>\n",
       "      <td>2.1</td>\n",
       "      <td>Phoenix</td>\n",
       "      <td>2226.0</td>\n",
       "      <td>8076.0</td>\n",
       "      <td>Yes</td>\n",
       "      <td>https://www.amd.com/en/products/processors/lap...</td>\n",
       "      <td>1.154454</td>\n",
       "      <td>3.013641</td>\n",
       "    </tr>\n",
       "    <tr>\n",
       "      <th>31</th>\n",
       "      <td>AMD Ryzen 5 PRO 8540U</td>\n",
       "      <td>AMD</td>\n",
       "      <td>2024-04-01</td>\n",
       "      <td>6</td>\n",
       "      <td>1.1</td>\n",
       "      <td>Hawk Point</td>\n",
       "      <td>2345.0</td>\n",
       "      <td>8081.0</td>\n",
       "      <td>Yes</td>\n",
       "      <td>https://www.amd.com/en/products/processors/lap...</td>\n",
       "      <td>1.229588</td>\n",
       "      <td>3.014534</td>\n",
       "    </tr>\n",
       "  </tbody>\n",
       "</table>\n",
       "</div>"
      ],
      "text/plain": [
       "                     Name Designer Launch date  Cores  Age Architecture  \\\n",
       "29  AMD Ryzen 5 PRO 6650U      AMD  2022-04-19      6  3.0    Rembrandt   \n",
       "30  AMD Ryzen 5 PRO 7540U      AMD  2023-03-05      6  2.1      Phoenix   \n",
       "31  AMD Ryzen 5 PRO 8540U      AMD  2024-04-01      6  1.1   Hawk Point   \n",
       "\n",
       "    GB6 Single  GB6 Multi Win11  \\\n",
       "29      1828.0     6717.0   Yes   \n",
       "30      2226.0     8076.0   Yes   \n",
       "31      2345.0     8081.0   Yes   \n",
       "\n",
       "                                          Product URL  GB6 Single log2  \\\n",
       "29  https://www.amd.com/en/support/downloads/drive...         0.870266   \n",
       "30  https://www.amd.com/en/products/processors/lap...         1.154454   \n",
       "31  https://www.amd.com/en/products/processors/lap...         1.229588   \n",
       "\n",
       "    GB6 Multi log2  \n",
       "29        2.747817  \n",
       "30        3.013641  \n",
       "31        3.014534  "
      ]
     },
     "execution_count": 2,
     "metadata": {},
     "output_type": "execute_result"
    }
   ],
   "source": [
    "cpus = pd.read_csv('CPUs.csv', parse_dates=['Launch date'])\n",
    "# add Log transforms\n",
    "cpus['GB6 Single log2'] = np.log2(cpus['GB6 Single']/1000)\n",
    "cpus['GB6 Multi log2'] = np.log2(cpus['GB6 Multi']/1000)\n",
    "\n",
    "cpus.tail(3)"
   ]
  },
  {
   "cell_type": "markdown",
   "id": "d27538e7-e046-4b02-8f76-ad0baa630592",
   "metadata": {},
   "source": [
    "Select CPUs to keep on the plot: only low power (series-U)"
   ]
  },
  {
   "cell_type": "code",
   "execution_count": 3,
   "id": "9c0560f1-4e42-4798-a050-6ef0235b3a24",
   "metadata": {},
   "outputs": [],
   "source": [
    "cpu_list_plot = [\n",
    "    'Intel Core i5-5200U',\n",
    "    'Intel Core i5-5300U',\n",
    "    'Intel Core i5-6200U',\n",
    "    'Intel Core i5-6300U',\n",
    "    'Intel Core i5-7200U',\n",
    "    'Intel Core i5-7300U',\n",
    "    'Intel Core i5-8250U',\n",
    "    'Intel Core i5-8350U',\n",
    "    'Intel Core i5-8265U',\n",
    "    'Intel Core i5-8365U',\n",
    "    #'Intel Core i5-9400H',\n",
    "    'Intel Core i5-10210U',\n",
    "    'Intel Core i5-10310U',\n",
    "    'Intel Core i5-1035G4',\n",
    "    'Intel Core i5-1035G7',\n",
    "    'Intel Core i5-1135G7',\n",
    "    'Intel Core i5-1145G7',\n",
    "    'Intel Core i5-1235U',\n",
    "    'Intel Core i5-1245U',\n",
    "    'Intel Core i5-1335U',\n",
    "    'Intel Core i5-1345U',\n",
    "    'Intel Core Ultra 5 125U',\n",
    "    'Intel Core Ultra 5 135U',\n",
    "    #'Intel Core Ultra 5 125H',\n",
    "    #'Intel Core Ultra 5 135H',\n",
    "    # AMD\n",
    "    'AMD Ryzen 7 PRO 2700U',\n",
    "    'AMD Ryzen 5 PRO 3500U',\n",
    "    'AMD Ryzen 5 PRO 4650U',\n",
    "    'AMD Ryzen 5 PRO 5650U',\n",
    "    'AMD Ryzen 5 PRO 6650U',\n",
    "    'AMD Ryzen 5 PRO 7540U',\n",
    "    'AMD Ryzen 5 PRO 8540U'\n",
    "]"
   ]
  },
  {
   "cell_type": "code",
   "execution_count": 4,
   "id": "538443ca-e809-4aff-add6-cfb2d29cd0f2",
   "metadata": {},
   "outputs": [
    {
     "name": "stdout",
     "output_type": "stream",
     "text": [
      "dropped rows:  [10, 23, 24]\n"
     ]
    }
   ],
   "source": [
    "i_drop = []\n",
    "for i in range(len(cpus)):\n",
    "    if cpus.iloc[i].Name not in cpu_list_plot:\n",
    "        i_drop.append(i)\n",
    "print(\"dropped rows: \", i_drop)\n",
    "cpus.drop(i_drop, inplace=True)"
   ]
  },
  {
   "cell_type": "code",
   "execution_count": 5,
   "id": "1bf30d53-e4e0-4a4e-b6be-4c8e37d05c5f",
   "metadata": {},
   "outputs": [
    {
     "data": {
      "text/plain": [
       "29"
      ]
     },
     "execution_count": 5,
     "metadata": {},
     "output_type": "execute_result"
    }
   ],
   "source": [
    "len(cpus)"
   ]
  },
  {
   "cell_type": "markdown",
   "id": "f7088ba0-9374-4bde-a15f-5c116d076415",
   "metadata": {},
   "source": [
    "### Compute \"Moore’s law coefficient\"\n",
    "\n",
    "Regression model for performance score $p$:\n",
    "\n",
    "$$\\log_2 p = a.t + b$$\n",
    "\n",
    "with $t$ in years\n",
    "\n",
    "so that in linear scale we have:\n",
    "\n",
    "$$p = c.2^{a.t}$$\n",
    "\n",
    "which can be expressed in several ways:\n",
    "- multiplicative gain per year: $2^{a.1} = 2^a$\n",
    "- time it takes to double the performance: $T$ such that $T.a = 1$, i.e. $T=1/a$\n",
    "\n",
    "Results (with 05-95% confidence intervals):\n",
    "- **Single-core** performance trend: $a=0.160$ in [0.14, 0.18]\n",
    "    - gain per year: 1.12 [1.10, 1.13], i.e. +12%/y ±1%/y\n",
    "    - $T$ = 6.25 y [5.5, 7.2], i.e. about 6y ±1y\n",
    "- **Multi-core** performance trend: $a=0.266$ in [0.24, 0.29]\n",
    "    - gain per year: 1.20 [1.18, 1.22], i.e. +20%/y ±2%/y\n",
    "    - $T$ = 3.75 y [3.5, 4.2], i.e. about 4y ±4M"
   ]
  },
  {
   "cell_type": "markdown",
   "id": "e941b9df-7c9e-4030-b757-962b5154d901",
   "metadata": {},
   "source": [
    "Convert lauch date to a fractional year (used as regressor)"
   ]
  },
  {
   "cell_type": "code",
   "execution_count": 6,
   "id": "7b41cf7d-2efe-442c-ac7b-a85f8b1dc363",
   "metadata": {},
   "outputs": [
    {
     "data": {
      "text/plain": [
       "27    5.497604\n",
       "28    6.162902\n",
       "29    7.296372\n",
       "30    8.172485\n",
       "31    9.248460\n",
       "Name: Launch date, dtype: float64"
      ]
     },
     "execution_count": 6,
     "metadata": {},
     "output_type": "execute_result"
    }
   ],
   "source": [
    "t = cpus['Launch date'] - cpus['Launch date'][0]\n",
    "t = t/pd.Timedelta('1 day')/365.25\n",
    "t.tail()"
   ]
  },
  {
   "cell_type": "markdown",
   "id": "8b9f76bc-0426-4560-8534-d9359d4a6162",
   "metadata": {},
   "source": [
    "Fit with Numpy"
   ]
  },
  {
   "cell_type": "code",
   "execution_count": 7,
   "id": "79deaca6-6ee3-4235-9021-e60deacd647a",
   "metadata": {},
   "outputs": [
    {
     "data": {
      "text/plain": [
       "array([ 0.1603516 , -0.26622315])"
      ]
     },
     "execution_count": 7,
     "metadata": {},
     "output_type": "execute_result"
    }
   ],
   "source": [
    "np.polyfit(t,  cpus['GB6 Single log2'], deg=1)"
   ]
  },
  {
   "cell_type": "code",
   "execution_count": 8,
   "id": "13aca2ae-236b-43bd-81a4-34ddfb12b990",
   "metadata": {},
   "outputs": [
    {
     "data": {
      "text/plain": [
       "array([0.26611921, 0.6764268 ])"
      ]
     },
     "execution_count": 8,
     "metadata": {},
     "output_type": "execute_result"
    }
   ],
   "source": [
    "np.polyfit(t,  cpus['GB6 Multi log2'], deg=1)"
   ]
  },
  {
   "cell_type": "markdown",
   "id": "9cb99065-d5ff-48bc-9ae6-9a2ce8e2922f",
   "metadata": {},
   "source": [
    "Fit with Statsmodels: same result, but with confidence interval"
   ]
  },
  {
   "cell_type": "code",
   "execution_count": 9,
   "id": "95c50871-0821-4ebe-964d-fd94b9756cf1",
   "metadata": {},
   "outputs": [
    {
     "data": {
      "text/html": [
       "<table class=\"simpletable\">\n",
       "<caption>OLS Regression Results</caption>\n",
       "<tr>\n",
       "  <th>Dep. Variable:</th>    <td>GB6 Single log2</td> <th>  R-squared:         </th> <td>   0.911</td>\n",
       "</tr>\n",
       "<tr>\n",
       "  <th>Model:</th>                  <td>OLS</td>       <th>  Adj. R-squared:    </th> <td>   0.908</td>\n",
       "</tr>\n",
       "<tr>\n",
       "  <th>No. Observations:</th>     <td>    29</td>      <th>  F-statistic:       </th> <td>   275.9</td>\n",
       "</tr>\n",
       "<tr>\n",
       "  <th>Covariance Type:</th>     <td>nonrobust</td>    <th>  Prob (F-statistic):</th> <td>1.06e-15</td>\n",
       "</tr>\n",
       "</table>\n",
       "<table class=\"simpletable\">\n",
       "<tr>\n",
       "       <td></td>          <th>coef</th>     <th>std err</th>      <th>t</th>      <th>P>|t|</th>  <th>[0.025</th>    <th>0.975]</th>  \n",
       "</tr>\n",
       "<tr>\n",
       "  <th>const</th>       <td>   -0.2662</td> <td>    0.053</td> <td>   -4.985</td> <td> 0.000</td> <td>   -0.376</td> <td>   -0.157</td>\n",
       "</tr>\n",
       "<tr>\n",
       "  <th>Launch date</th> <td>    0.1604</td> <td>    0.010</td> <td>   16.611</td> <td> 0.000</td> <td>    0.141</td> <td>    0.180</td>\n",
       "</tr>\n",
       "</table><br/><br/>Notes:<br/>[1] Standard Errors assume that the covariance matrix of the errors is correctly specified."
      ],
      "text/latex": [
       "\\begin{center}\n",
       "\\begin{tabular}{lclc}\n",
       "\\toprule\n",
       "\\textbf{Dep. Variable:}    & GB6 Single log2 & \\textbf{  R-squared:         } &     0.911   \\\\\n",
       "\\textbf{Model:}            &       OLS       & \\textbf{  Adj. R-squared:    } &     0.908   \\\\\n",
       "\\textbf{No. Observations:} &          29     & \\textbf{  F-statistic:       } &     275.9   \\\\\n",
       "\\textbf{Covariance Type:}  &    nonrobust    & \\textbf{  Prob (F-statistic):} &  1.06e-15   \\\\\n",
       "\\bottomrule\n",
       "\\end{tabular}\n",
       "\\begin{tabular}{lcccccc}\n",
       "                     & \\textbf{coef} & \\textbf{std err} & \\textbf{t} & \\textbf{P$> |$t$|$} & \\textbf{[0.025} & \\textbf{0.975]}  \\\\\n",
       "\\midrule\n",
       "\\textbf{const}       &      -0.2662  &        0.053     &    -4.985  &         0.000        &       -0.376    &       -0.157     \\\\\n",
       "\\textbf{Launch date} &       0.1604  &        0.010     &    16.611  &         0.000        &        0.141    &        0.180     \\\\\n",
       "\\bottomrule\n",
       "\\end{tabular}\n",
       "%\\caption{OLS Regression Results}\n",
       "\\end{center}\n",
       "\n",
       "Notes: \\newline\n",
       " [1] Standard Errors assume that the covariance matrix of the errors is correctly specified."
      ],
      "text/plain": [
       "<class 'statsmodels.iolib.summary.Summary'>\n",
       "\"\"\"\n",
       "                            OLS Regression Results                            \n",
       "==============================================================================\n",
       "Dep. Variable:        GB6 Single log2   R-squared:                       0.911\n",
       "Model:                            OLS   Adj. R-squared:                  0.908\n",
       "No. Observations:                  29   F-statistic:                     275.9\n",
       "Covariance Type:            nonrobust   Prob (F-statistic):           1.06e-15\n",
       "===============================================================================\n",
       "                  coef    std err          t      P>|t|      [0.025      0.975]\n",
       "-------------------------------------------------------------------------------\n",
       "const          -0.2662      0.053     -4.985      0.000      -0.376      -0.157\n",
       "Launch date     0.1604      0.010     16.611      0.000       0.141       0.180\n",
       "===============================================================================\n",
       "\n",
       "Notes:\n",
       "[1] Standard Errors assume that the covariance matrix of the errors is correctly specified.\n",
       "\"\"\""
      ]
     },
     "execution_count": 9,
     "metadata": {},
     "output_type": "execute_result"
    }
   ],
   "source": [
    "t0 = sm.add_constant(t)\n",
    "res_Single = sm.OLS(cpus['GB6 Single log2'], t0).fit()\n",
    "res_Single.summary(slim=True)"
   ]
  },
  {
   "cell_type": "code",
   "execution_count": 10,
   "id": "87187279-80a0-49bd-b203-51acc4014377",
   "metadata": {},
   "outputs": [
    {
     "data": {
      "text/html": [
       "<table class=\"simpletable\">\n",
       "<caption>OLS Regression Results</caption>\n",
       "<tr>\n",
       "  <th>Dep. Variable:</th>    <td>GB6 Multi log2</td> <th>  R-squared:         </th> <td>   0.956</td>\n",
       "</tr>\n",
       "<tr>\n",
       "  <th>Model:</th>                  <td>OLS</td>      <th>  Adj. R-squared:    </th> <td>   0.954</td>\n",
       "</tr>\n",
       "<tr>\n",
       "  <th>No. Observations:</th>     <td>    29</td>     <th>  F-statistic:       </th> <td>   581.3</td>\n",
       "</tr>\n",
       "<tr>\n",
       "  <th>Covariance Type:</th>     <td>nonrobust</td>   <th>  Prob (F-statistic):</th> <td>8.50e-20</td>\n",
       "</tr>\n",
       "</table>\n",
       "<table class=\"simpletable\">\n",
       "<tr>\n",
       "       <td></td>          <th>coef</th>     <th>std err</th>      <th>t</th>      <th>P>|t|</th>  <th>[0.025</th>    <th>0.975]</th>  \n",
       "</tr>\n",
       "<tr>\n",
       "  <th>const</th>       <td>    0.6764</td> <td>    0.061</td> <td>   11.077</td> <td> 0.000</td> <td>    0.551</td> <td>    0.802</td>\n",
       "</tr>\n",
       "<tr>\n",
       "  <th>Launch date</th> <td>    0.2661</td> <td>    0.011</td> <td>   24.109</td> <td> 0.000</td> <td>    0.243</td> <td>    0.289</td>\n",
       "</tr>\n",
       "</table><br/><br/>Notes:<br/>[1] Standard Errors assume that the covariance matrix of the errors is correctly specified."
      ],
      "text/latex": [
       "\\begin{center}\n",
       "\\begin{tabular}{lclc}\n",
       "\\toprule\n",
       "\\textbf{Dep. Variable:}    & GB6 Multi log2 & \\textbf{  R-squared:         } &     0.956   \\\\\n",
       "\\textbf{Model:}            &      OLS       & \\textbf{  Adj. R-squared:    } &     0.954   \\\\\n",
       "\\textbf{No. Observations:} &         29     & \\textbf{  F-statistic:       } &     581.3   \\\\\n",
       "\\textbf{Covariance Type:}  &   nonrobust    & \\textbf{  Prob (F-statistic):} &  8.50e-20   \\\\\n",
       "\\bottomrule\n",
       "\\end{tabular}\n",
       "\\begin{tabular}{lcccccc}\n",
       "                     & \\textbf{coef} & \\textbf{std err} & \\textbf{t} & \\textbf{P$> |$t$|$} & \\textbf{[0.025} & \\textbf{0.975]}  \\\\\n",
       "\\midrule\n",
       "\\textbf{const}       &       0.6764  &        0.061     &    11.077  &         0.000        &        0.551    &        0.802     \\\\\n",
       "\\textbf{Launch date} &       0.2661  &        0.011     &    24.109  &         0.000        &        0.243    &        0.289     \\\\\n",
       "\\bottomrule\n",
       "\\end{tabular}\n",
       "%\\caption{OLS Regression Results}\n",
       "\\end{center}\n",
       "\n",
       "Notes: \\newline\n",
       " [1] Standard Errors assume that the covariance matrix of the errors is correctly specified."
      ],
      "text/plain": [
       "<class 'statsmodels.iolib.summary.Summary'>\n",
       "\"\"\"\n",
       "                            OLS Regression Results                            \n",
       "==============================================================================\n",
       "Dep. Variable:         GB6 Multi log2   R-squared:                       0.956\n",
       "Model:                            OLS   Adj. R-squared:                  0.954\n",
       "No. Observations:                  29   F-statistic:                     581.3\n",
       "Covariance Type:            nonrobust   Prob (F-statistic):           8.50e-20\n",
       "===============================================================================\n",
       "                  coef    std err          t      P>|t|      [0.025      0.975]\n",
       "-------------------------------------------------------------------------------\n",
       "const           0.6764      0.061     11.077      0.000       0.551       0.802\n",
       "Launch date     0.2661      0.011     24.109      0.000       0.243       0.289\n",
       "===============================================================================\n",
       "\n",
       "Notes:\n",
       "[1] Standard Errors assume that the covariance matrix of the errors is correctly specified.\n",
       "\"\"\""
      ]
     },
     "execution_count": 10,
     "metadata": {},
     "output_type": "execute_result"
    }
   ],
   "source": [
    "res_Multi = sm.OLS(cpus['GB6 Multi log2'], t0).fit()\n",
    "res_Multi.summary(slim=True)"
   ]
  },
  {
   "cell_type": "markdown",
   "id": "067c8f58-d257-4336-b95b-3851c19065f3",
   "metadata": {},
   "source": [
    "Just keep date coefficients:"
   ]
  },
  {
   "cell_type": "code",
   "execution_count": 11,
   "id": "d87ad18c-4a73-4b88-9edd-6e36e239c5eb",
   "metadata": {},
   "outputs": [
    {
     "data": {
      "text/plain": [
       "(0.1603516004747482, 0.2661192081739736)"
      ]
     },
     "execution_count": 11,
     "metadata": {},
     "output_type": "execute_result"
    }
   ],
   "source": [
    "a_Single = float(res_Single.params['Launch date'])\n",
    "a_Multi = float(res_Multi.params['Launch date'])\n",
    "a_Single, a_Multi"
   ]
  },
  {
   "cell_type": "markdown",
   "id": "8ad2897d-c221-42c5-a933-085d795dc26d",
   "metadata": {},
   "source": [
    "Conversion to gain per year $2^a$:"
   ]
  },
  {
   "cell_type": "code",
   "execution_count": 12,
   "id": "7e09e4f6-109a-47c7-84e8-13fa79a08503",
   "metadata": {},
   "outputs": [
    {
     "data": {
      "text/plain": [
       "(1.1175594662846702, 1.1019051158766107, 1.1328838852957985)"
      ]
     },
     "execution_count": 12,
     "metadata": {},
     "output_type": "execute_result"
    }
   ],
   "source": [
    "g_Single = 2**a_Single\n",
    "g_Single, 2**0.14, 2**0.18"
   ]
  },
  {
   "cell_type": "code",
   "execution_count": 13,
   "id": "f5dceff5-8b65-47c0-a584-b6a95702dad1",
   "metadata": {},
   "outputs": [
    {
     "data": {
      "text/plain": [
       "(1.2025686116059568, 1.1809926614295303, 1.2226402776920684)"
      ]
     },
     "execution_count": 13,
     "metadata": {},
     "output_type": "execute_result"
    }
   ],
   "source": [
    "g_Multi = 2**a_Multi\n",
    "g_Multi, 2**0.24, 2**0.29"
   ]
  },
  {
   "cell_type": "markdown",
   "id": "e437ab9e-0edc-45e8-9f49-9d99b8a2b343",
   "metadata": {},
   "source": [
    "Conversion to $T$: time to double the performance"
   ]
  },
  {
   "cell_type": "code",
   "execution_count": 14,
   "id": "cd80321b-aef1-4a0d-a248-b600a1af81d5",
   "metadata": {},
   "outputs": [
    {
     "data": {
      "text/plain": [
       "(6.236295721647491, 7.142857142857142, 5.555555555555555)"
      ]
     },
     "execution_count": 14,
     "metadata": {},
     "output_type": "execute_result"
    }
   ],
   "source": [
    "T_Single = 1/a_Single\n",
    "T_Single, 1/0.14, 1/0.18"
   ]
  },
  {
   "cell_type": "code",
   "execution_count": 15,
   "id": "eac1a00c-bbf3-4a9b-9d85-5823528a8439",
   "metadata": {},
   "outputs": [
    {
     "data": {
      "text/plain": [
       "(3.757714472629337, 4.166666666666667, 3.4482758620689657)"
      ]
     },
     "execution_count": 15,
     "metadata": {},
     "output_type": "execute_result"
    }
   ],
   "source": [
    "T_Multi = 1/a_Multi\n",
    "T_Multi, 1/0.24, 1/0.29"
   ]
  },
  {
   "cell_type": "markdown",
   "id": "907aba94-4013-42d7-815b-9f315f7e4d87",
   "metadata": {},
   "source": [
    "## Plot Performance by launch date\n",
    "\n",
    "to \"check\" Moore's law"
   ]
  },
  {
   "cell_type": "markdown",
   "id": "efca96d5-c491-480b-96e4-f53f429bc6e7",
   "metadata": {},
   "source": [
    "### Performance on a linear scale"
   ]
  },
  {
   "cell_type": "markdown",
   "id": "a30e410b-73e9-44a2-bc9f-04c1576919b2",
   "metadata": {},
   "source": [
    "Highlight point on mouse over"
   ]
  },
  {
   "cell_type": "code",
   "execution_count": 16,
   "id": "325f6b6e-7ea8-48b2-8ab4-a4b47cc2b823",
   "metadata": {},
   "outputs": [],
   "source": [
    "highlight = alt.selection_point(name=\"highlight\", on=\"pointerover\", empty=False)"
   ]
  },
  {
   "cell_type": "markdown",
   "id": "8a0c4866-79cd-45d2-9123-b35b4ad519a1",
   "metadata": {},
   "source": [
    "Color reacts to selection"
   ]
  },
  {
   "cell_type": "code",
   "execution_count": 17,
   "id": "21b6088c-72d2-4b98-ab1c-c655a62b532e",
   "metadata": {},
   "outputs": [],
   "source": [
    "color_designer = alt.when(highlight, empty=True).then(\n",
    "        alt.Color('Designer:N').scale(scheme='set1') # nice scheme: Intel=blue, AMD=red\n",
    "    ).otherwise(\n",
    "        alt.value('lightgray')\n",
    "    )\n",
    "#color_w11 = alt.when(highlight, empty=True).then('Win11').otherwise(alt.value('lightgray'))\n",
    "order = alt.when(highlight).then(alt.value(1)).otherwise(alt.value(0)) # move upfront highlighted items"
   ]
  },
  {
   "cell_type": "markdown",
   "id": "43c5079e-9528-4ad6-b6ae-728c015bc4dd",
   "metadata": {},
   "source": [
    "Chart"
   ]
  },
  {
   "cell_type": "code",
   "execution_count": 18,
   "id": "450d3c2c-ce82-4ccc-ac6a-1383d2df9297",
   "metadata": {},
   "outputs": [
    {
     "data": {
      "text/html": [
       "\n",
       "<style>\n",
       "  #altair-viz-3d58d9cd6f88447eab22aaf30e03354a.vega-embed {\n",
       "    width: 100%;\n",
       "    display: flex;\n",
       "  }\n",
       "\n",
       "  #altair-viz-3d58d9cd6f88447eab22aaf30e03354a.vega-embed details,\n",
       "  #altair-viz-3d58d9cd6f88447eab22aaf30e03354a.vega-embed details summary {\n",
       "    position: relative;\n",
       "  }\n",
       "</style>\n",
       "<div id=\"altair-viz-3d58d9cd6f88447eab22aaf30e03354a\"></div>\n",
       "<script type=\"text/javascript\">\n",
       "  var VEGA_DEBUG = (typeof VEGA_DEBUG == \"undefined\") ? {} : VEGA_DEBUG;\n",
       "  (function(spec, embedOpt){\n",
       "    let outputDiv = document.currentScript.previousElementSibling;\n",
       "    if (outputDiv.id !== \"altair-viz-3d58d9cd6f88447eab22aaf30e03354a\") {\n",
       "      outputDiv = document.getElementById(\"altair-viz-3d58d9cd6f88447eab22aaf30e03354a\");\n",
       "    }\n",
       "\n",
       "    const paths = {\n",
       "      \"vega\": \"https://cdn.jsdelivr.net/npm/vega@5?noext\",\n",
       "      \"vega-lib\": \"https://cdn.jsdelivr.net/npm/vega-lib?noext\",\n",
       "      \"vega-lite\": \"https://cdn.jsdelivr.net/npm/vega-lite@5.20.1?noext\",\n",
       "      \"vega-embed\": \"https://cdn.jsdelivr.net/npm/vega-embed@6?noext\",\n",
       "    };\n",
       "\n",
       "    function maybeLoadScript(lib, version) {\n",
       "      var key = `${lib.replace(\"-\", \"\")}_version`;\n",
       "      return (VEGA_DEBUG[key] == version) ?\n",
       "        Promise.resolve(paths[lib]) :\n",
       "        new Promise(function(resolve, reject) {\n",
       "          var s = document.createElement('script');\n",
       "          document.getElementsByTagName(\"head\")[0].appendChild(s);\n",
       "          s.async = true;\n",
       "          s.onload = () => {\n",
       "            VEGA_DEBUG[key] = version;\n",
       "            return resolve(paths[lib]);\n",
       "          };\n",
       "          s.onerror = () => reject(`Error loading script: ${paths[lib]}`);\n",
       "          s.src = paths[lib];\n",
       "        });\n",
       "    }\n",
       "\n",
       "    function showError(err) {\n",
       "      outputDiv.innerHTML = `<div class=\"error\" style=\"color:red;\">${err}</div>`;\n",
       "      throw err;\n",
       "    }\n",
       "\n",
       "    function displayChart(vegaEmbed) {\n",
       "      vegaEmbed(outputDiv, spec, embedOpt)\n",
       "        .catch(err => showError(`Javascript Error: ${err.message}<br>This usually means there's a typo in your chart specification. See the javascript console for the full traceback.`));\n",
       "    }\n",
       "\n",
       "    if(typeof define === \"function\" && define.amd) {\n",
       "      requirejs.config({paths});\n",
       "      let deps = [\"vega-embed\"];\n",
       "      require(deps, displayChart, err => showError(`Error loading script: ${err.message}`));\n",
       "    } else {\n",
       "      maybeLoadScript(\"vega\", \"5\")\n",
       "        .then(() => maybeLoadScript(\"vega-lite\", \"5.20.1\"))\n",
       "        .then(() => maybeLoadScript(\"vega-embed\", \"6\"))\n",
       "        .catch(showError)\n",
       "        .then(() => displayChart(vegaEmbed));\n",
       "    }\n",
       "  })({\"config\": {\"view\": {\"continuousWidth\": 300, \"continuousHeight\": 300}}, \"hconcat\": [{\"mark\": {\"type\": \"point\", \"filled\": true, \"size\": 150, \"strokeWidth\": 5}, \"encoding\": {\"color\": {\"condition\": {\"param\": \"highlight\", \"empty\": true, \"field\": \"Designer\", \"scale\": {\"scheme\": \"set1\"}, \"type\": \"nominal\"}, \"value\": \"lightgray\"}, \"order\": {\"value\": 0, \"condition\": [{\"param\": \"highlight\", \"value\": 1, \"empty\": false}]}, \"shape\": {\"field\": \"Designer\", \"type\": \"nominal\"}, \"tooltip\": [{\"field\": \"Name\", \"type\": \"nominal\"}, {\"field\": \"Architecture\", \"type\": \"nominal\"}, {\"field\": \"Cores\", \"type\": \"quantitative\"}, {\"field\": \"Launch date\", \"type\": \"temporal\"}, {\"field\": \"Win11\", \"type\": \"nominal\"}, {\"field\": \"GB6 Single\", \"type\": \"quantitative\"}, {\"field\": \"GB6 Multi\", \"type\": \"quantitative\"}], \"x\": {\"field\": \"GB6 Single\", \"type\": \"quantitative\"}, \"y\": {\"field\": \"Launch date\", \"type\": \"temporal\"}}, \"name\": \"view_1\", \"title\": \"Single-Core Performance\"}, {\"mark\": {\"type\": \"point\", \"filled\": true, \"size\": 150, \"strokeWidth\": 5}, \"encoding\": {\"color\": {\"condition\": {\"param\": \"highlight\", \"empty\": true, \"field\": \"Designer\", \"scale\": {\"scheme\": \"set1\"}, \"type\": \"nominal\"}, \"value\": \"lightgray\"}, \"order\": {\"value\": 0, \"condition\": [{\"param\": \"highlight\", \"value\": 1, \"empty\": false}]}, \"shape\": {\"field\": \"Designer\", \"type\": \"nominal\"}, \"tooltip\": [{\"field\": \"Name\", \"type\": \"nominal\"}, {\"field\": \"Architecture\", \"type\": \"nominal\"}, {\"field\": \"Cores\", \"type\": \"quantitative\"}, {\"field\": \"Launch date\", \"type\": \"temporal\"}, {\"field\": \"Win11\", \"type\": \"nominal\"}, {\"field\": \"GB6 Single\", \"type\": \"quantitative\"}, {\"field\": \"GB6 Multi\", \"type\": \"quantitative\"}], \"x\": {\"field\": \"GB6 Multi\", \"type\": \"quantitative\"}, \"y\": {\"axis\": {\"labels\": false, \"title\": \"\"}, \"field\": \"Launch date\", \"type\": \"temporal\"}}, \"name\": \"view_2\", \"title\": \"Multi-Core Performance\"}], \"data\": {\"name\": \"data-6522b5600cd5109ace11baad65474461\"}, \"params\": [{\"name\": \"highlight\", \"select\": {\"type\": \"point\", \"on\": \"pointerover\"}, \"views\": [\"view_1\", \"view_2\"]}], \"$schema\": \"https://vega.github.io/schema/vega-lite/v5.20.1.json\", \"datasets\": {\"data-6522b5600cd5109ace11baad65474461\": [{\"Name\": \"Intel Core i5-5200U\", \"Designer\": \"Intel\", \"Launch date\": \"2015-01-01T00:00:00\", \"Cores\": 2, \"Age\": 10.3, \"Architecture\": \"Broadwell\", \"GB6 Single\": 854.0, \"GB6 Multi\": 1611.0, \"Win11\": \"No\", \"Product URL\": \"https://www.intel.com/content/www/us/en/products/sku/85212/intel-core-i55200u-processor-3m-cache-up-to-2-70-ghz/specifications.html\", \"GB6 Single log2\": -0.2276920250415967, \"GB6 Multi log2\": 0.6879564940444818}, {\"Name\": \"Intel Core i5-5300U\", \"Designer\": \"Intel\", \"Launch date\": \"2015-01-01T00:00:00\", \"Cores\": 2, \"Age\": 10.3, \"Architecture\": \"Broadwell\", \"GB6 Single\": 908.0, \"GB6 Multi\": 1692.0, \"Win11\": \"No\", \"Product URL\": \"https://www.intel.com/content/www/us/en/products/sku/85213/intel-core-i55300u-processor-3m-cache-up-to-2-90-ghz/specifications.html\", \"GB6 Single log2\": -0.139235797371172, \"GB6 Multi log2\": 0.7587295684578627}, {\"Name\": \"Intel Core i5-6200U\", \"Designer\": \"Intel\", \"Launch date\": \"2015-07-01T00:00:00\", \"Cores\": 2, \"Age\": 9.8, \"Architecture\": \"Skylake\", \"GB6 Single\": 916.0, \"GB6 Multi\": 1832.0, \"Win11\": \"No\", \"Product URL\": \"https://www.intel.com/content/www/us/en/products/sku/88193/intel-core-i56200u-processor-3m-cache-up-to-2-80-ghz/specifications.html\", \"GB6 Single log2\": -0.12658049656514306, \"GB6 Multi log2\": 0.873419503434857}, {\"Name\": \"Intel Core i5-6300U\", \"Designer\": \"Intel\", \"Launch date\": \"2015-07-01T00:00:00\", \"Cores\": 2, \"Age\": 9.8, \"Architecture\": \"Skylake\", \"GB6 Single\": 965.0, \"GB6 Multi\": 1910.0, \"Win11\": \"No\", \"Product URL\": \"https://www.intel.com/content/www/us/en/products/sku/88190/intel-core-i56300u-processor-3m-cache-up-to-3-00-ghz/specifications.html\", \"GB6 Single log2\": -0.05139915250664432, \"GB6 Multi log2\": 0.9335726382610239}, {\"Name\": \"Intel Core i5-7200U\", \"Designer\": \"Intel\", \"Launch date\": \"2016-10-01T00:00:00\", \"Cores\": 2, \"Age\": 8.6, \"Architecture\": \"Kaby Lake\", \"GB6 Single\": 1009.0, \"GB6 Multi\": 1987.0, \"Win11\": \"No\", \"Product URL\": \"https://www.intel.com/content/www/us/en/products/sku/95443/intel-core-i57200u-processor-3m-cache-up-to-3-10-ghz/specifications.html\", \"GB6 Single log2\": 0.012926174444270048, \"GB6 Multi log2\": 0.9905918725875832}, {\"Name\": \"Intel Core i5-7300U\", \"Designer\": \"Intel\", \"Launch date\": \"2017-01-01T00:00:00\", \"Cores\": 2, \"Age\": 8.3, \"Architecture\": \"Kaby Lake\", \"GB6 Single\": 1088.0, \"GB6 Multi\": 2030.0, \"Win11\": \"No\", \"Product URL\": \"https://www.intel.com/content/www/us/en/products/sku/97472/intel-core-i57300u-processor-3m-cache-up-to-3-50-ghz/specifications.html\", \"GB6 Single log2\": 0.12167855658825247, \"GB6 Multi log2\": 1.0214797274104515}, {\"Name\": \"Intel Core i5-8250U\", \"Designer\": \"Intel\", \"Launch date\": \"2017-07-01T00:00:00\", \"Cores\": 4, \"Age\": 7.8, \"Architecture\": \"Kaby Lake R\", \"GB6 Single\": 1145.0, \"GB6 Multi\": 3126.0, \"Win11\": \"Yes\", \"Product URL\": \"https://www.intel.com/content/www/us/en/products/sku/124967/intel-core-i58250u-processor-6m-cache-up-to-3-40-ghz/specifications.html\", \"GB6 Single log2\": 0.19534759832221926, \"GB6 Multi log2\": 1.6443177783375773}, {\"Name\": \"Intel Core i5-8350U\", \"Designer\": \"Intel\", \"Launch date\": \"2017-07-01T00:00:00\", \"Cores\": 4, \"Age\": 7.8, \"Architecture\": \"Kaby Lake R\", \"GB6 Single\": 1191.0, \"GB6 Multi\": 3237.0, \"Win11\": \"Yes\", \"Product URL\": \"https://www.intel.com/content/www/us/en/products/sku/124969/intel-core-i58350u-processor-6m-cache-up-to-3-60-ghz/specifications.html\", \"GB6 Single log2\": 0.252173413202027, \"GB6 Multi log2\": 1.694657365547086}, {\"Name\": \"Intel Core i5-8265U\", \"Designer\": \"Intel\", \"Launch date\": \"2018-10-01T00:00:00\", \"Cores\": 4, \"Age\": 6.6, \"Architecture\": \"Whiskey Lake\", \"GB6 Single\": 1204.0, \"GB6 Multi\": 2926.0, \"Win11\": \"Yes\", \"Product URL\": \"https://www.intel.com/content/www/us/en/products/sku/149088/intel-core-i58265u-processor-6m-cache-up-to-3-90-ghz/specifications.html\", \"GB6 Single log2\": 0.267835392097615, \"GB6 Multi log2\": 1.5489297694764}, {\"Name\": \"Intel Core i5-8365U\", \"Designer\": \"Intel\", \"Launch date\": \"2019-04-01T00:00:00\", \"Cores\": 4, \"Age\": 6.1, \"Architecture\": \"Whiskey Lake\", \"GB6 Single\": 1270.0, \"GB6 Multi\": 3167.0, \"Win11\": \"Yes\", \"Product URL\": \"https://www.intel.com/content/www/us/en/products/sku/193555/intel-core-i58365u-processor-6m-cache-up-to-4-10-ghz/specifications.html\", \"GB6 Single log2\": 0.34482849699744117, \"GB6 Multi log2\": 1.6631168673661028}, {\"Name\": \"Intel Core i5-10210U\", \"Designer\": \"Intel\", \"Launch date\": \"2019-07-01T00:00:00\", \"Cores\": 4, \"Age\": 5.8, \"Architecture\": \"Comet Lake\", \"GB6 Single\": 1229.0, \"GB6 Multi\": 3088.0, \"Win11\": \"Yes\", \"Product URL\": \"https://www.intel.com/content/www/us/en/products/sku/195436/intel-core-i510210u-processor-6m-cache-up-to-4-20-ghz/specifications.html\", \"GB6 Single log2\": 0.2974849157105747, \"GB6 Multi log2\": 1.6266727526059934}, {\"Name\": \"Intel Core i5-10310U\", \"Designer\": \"Intel\", \"Launch date\": \"2020-04-01T00:00:00\", \"Cores\": 4, \"Age\": 5.1, \"Architecture\": \"Comet Lake\", \"GB6 Single\": 1297.0, \"GB6 Multi\": 3450.0, \"Win11\": \"Yes\", \"Product URL\": \"https://www.intel.com/content/www/us/en/products/sku/201892/intel-core-i510310u-processor-6m-cache-up-to-4-40-ghz/specifications.html\", \"GB6 Single log2\": 0.3751784795896123, \"GB6 Multi log2\": 1.7865963618908067}, {\"Name\": \"Intel Core i5-1035G4\", \"Designer\": \"Intel\", \"Launch date\": \"2019-10-01T00:00:00\", \"Cores\": 4, \"Age\": 5.6, \"Architecture\": \"Ice Lake\", \"GB6 Single\": 1435.0, \"GB6 Multi\": 3742.0, \"Win11\": \"Yes\", \"Product URL\": \"https://www.intel.com/content/www/us/en/products/sku/196591/intel-core-i51035g4-processor-6m-cache-up-to-3-70-ghz/specifications.html\", \"GB6 Single log2\": 0.5210507369009632, \"GB6 Multi log2\": 1.903809558578697}, {\"Name\": \"Intel Core i5-1035G7\", \"Designer\": \"Intel\", \"Launch date\": \"2019-10-01T00:00:00\", \"Cores\": 4, \"Age\": 5.6, \"Architecture\": \"Ice Lake\", \"GB6 Single\": 1419.0, \"GB6 Multi\": 3791.0, \"Win11\": \"Yes\", \"Product URL\": \"https://www.intel.com/content/www/us/en/products/sku/196592/intel-core-i51035g7-processor-6m-cache-up-to-3-70-ghz/specifications.html\", \"GB6 Single log2\": 0.5048745893984644, \"GB6 Multi log2\": 1.922578456508557}, {\"Name\": \"Intel Core i5-1135G7\", \"Designer\": \"Intel\", \"Launch date\": \"2020-07-01T00:00:00\", \"Cores\": 4, \"Age\": 4.8, \"Architecture\": \"Tiger Lake\", \"GB6 Single\": 1702.0, \"GB6 Multi\": 4694.0, \"Win11\": \"Yes\", \"Product URL\": \"https://www.intel.com/content/www/us/en/products/sku/208922/intel-core-i51135g7-processor-8m-cache-up-to-4-20-ghz-with-ipu/specifications.html\", \"GB6 Single log2\": 0.7672310370238756, \"GB6 Multi log2\": 2.230817841861083}, {\"Name\": \"Intel Core i5-1145G7\", \"Designer\": \"Intel\", \"Launch date\": \"2021-01-01T00:00:00\", \"Cores\": 4, \"Age\": 4.3, \"Architecture\": \"Tiger Lake\", \"GB6 Single\": 1766.0, \"GB6 Multi\": 4873.0, \"Win11\": \"Yes\", \"Product URL\": \"https://www.intel.com/content/www/us/en/products/sku/208660/intel-core-i51145g7-processor-8m-cache-up-to-4-40-ghz-with-ipu/specifications.html\", \"GB6 Single log2\": 0.820485342986379, \"GB6 Multi log2\": 2.2848102225302287}, {\"Name\": \"Intel Core i5-1235U\", \"Designer\": \"Intel\", \"Launch date\": \"2022-01-01T00:00:00\", \"Cores\": 10, \"Age\": 3.3, \"Architecture\": \"Alder Lake\", \"GB6 Single\": 1950.0, \"GB6 Multi\": 5846.0, \"Win11\": \"Yes\", \"Product URL\": \"https://www.intel.com/content/www/us/en/products/sku/226261/intel-core-i51235u-processor-12m-cache-up-to-4-40-ghz/specifications.html?wapkw=intel%20core%20i5-1235u\", \"GB6 Single log2\": 0.963474123974886, \"GB6 Multi log2\": 2.547449829143966}, {\"Name\": \"Intel Core i5-1245U\", \"Designer\": \"Intel\", \"Launch date\": \"2022-01-01T00:00:00\", \"Cores\": 10, \"Age\": 3.3, \"Architecture\": \"Alder Lake\", \"GB6 Single\": 1964.0, \"GB6 Multi\": 6269.0, \"Win11\": \"Yes\", \"Product URL\": \"https://www.intel.com/content/www/us/en/products/sku/226260/intel-core-i51245u-processor-12m-cache-up-to-4-40-ghz/specifications.html\", \"GB6 Single log2\": 0.973794929652606, \"GB6 Multi log2\": 2.6482353297736343}, {\"Name\": \"Intel Core i5-1335U\", \"Designer\": \"Intel\", \"Launch date\": \"2023-01-01T00:00:00\", \"Cores\": 10, \"Age\": 2.3, \"Architecture\": \"Raptor Lake\", \"GB6 Single\": 2103.0, \"GB6 Multi\": 6786.0, \"Win11\": \"Yes\", \"Product URL\": \"https://www.intel.com/content/www/us/en/products/sku/232153/intel-core-i51335u-processor-12m-cache-up-to-4-60-ghz/specifications.html\", \"GB6 Single log2\": 1.0724488500696925, \"GB6 Multi log2\": 2.7625614300488897}, {\"Name\": \"Intel Core i5-1345U\", \"Designer\": \"Intel\", \"Launch date\": \"2023-01-01T00:00:00\", \"Cores\": 10, \"Age\": 2.3, \"Architecture\": \"Raptor Lake\", \"GB6 Single\": 2202.0, \"GB6 Multi\": 6967.0, \"Win11\": \"Yes\", \"Product URL\": \"https://www.intel.com/content/www/us/en/products/sku/232127/intel-core-i51345u-processor-12m-cache-up-to-4-70-ghz/specifications.html?wapkw=i5-1345U\", \"GB6 Single log2\": 1.1388144689022819, \"GB6 Multi log2\": 2.800537563291874}, {\"Name\": \"Intel Core Ultra 5 125U\", \"Designer\": \"Intel\", \"Launch date\": \"2023-10-01T00:00:00\", \"Cores\": 12, \"Age\": 1.6, \"Architecture\": \"Metor Lake\", \"GB6 Single\": 2072.0, \"GB6 Multi\": 8107.0, \"Win11\": \"Yes\", \"Product URL\": \"https://www.intel.com/content/www/us/en/products/sku/237330/intel-core-ultra-5-processor-125u-12m-cache-up-to-4-30-ghz/specifications.html?wapkw=Intel%20Core%20Ultra%205%20125U\", \"GB6 Single log2\": 1.0510240030244669, \"GB6 Multi log2\": 3.0191681430702797}, {\"Name\": \"Intel Core Ultra 5 135U\", \"Designer\": \"Intel\", \"Launch date\": \"2023-10-01T00:00:00\", \"Cores\": 12, \"Age\": 1.6, \"Architecture\": \"Metor Lake\", \"GB6 Single\": 2132.0, \"GB6 Multi\": 8667.0, \"Win11\": \"Yes\", \"Product URL\": \"https://www.intel.com/content/www/us/en/products/sku/237328/intel-core-ultra-5-processor-135u-12m-cache-up-to-4-40-ghz/specifications.html?wapkw=Intel%20Core%20Ultra%205%20135U\", \"GB6 Single log2\": 1.092207438097089, \"GB6 Multi log2\": 3.1155327046236847}, {\"Name\": \"AMD Ryzen 7 PRO 2700U\", \"Designer\": \"AMD\", \"Launch date\": \"2017-10-01T00:00:00\", \"Cores\": 4, \"Age\": 7.6, \"Architecture\": \"Raven Ridge\", \"GB6 Single\": 914.0, \"GB6 Multi\": 2545.0, \"Win11\": \"Yes\", \"Product URL\": \"https://www.amd.com/en/support/downloads/drivers.html/processors/ryzen/ryzen-2000-series/amd-ryzen-7-2700u.html\", \"GB6 Single log2\": -0.12973392960401728, \"GB6 Multi log2\": 1.3476656563009706}, {\"Name\": \"AMD Ryzen 5 PRO 3500U\", \"Designer\": \"AMD\", \"Launch date\": \"2019-01-01T00:00:00\", \"Cores\": 4, \"Age\": 6.3, \"Architecture\": \"Picasso\", \"GB6 Single\": 949.0, \"GB6 Multi\": 2620.0, \"Win11\": \"Yes\", \"Product URL\": \"https://www.amd.com/en/support/downloads/drivers.html/processors/ryzen/ryzen-3000-series/amd-ryzen-5-3500u.html\", \"GB6 Single log2\": -0.07552000764097772, \"GB6 Multi log2\": 1.3895668117627256}, {\"Name\": \"AMD Ryzen 5 PRO 4650U\", \"Designer\": \"AMD\", \"Launch date\": \"2020-07-01T00:00:00\", \"Cores\": 6, \"Age\": 4.8, \"Architecture\": \"Renoir\", \"GB6 Single\": 1421.0, \"GB6 Multi\": 4590.0, \"Win11\": \"Yes\", \"Product URL\": \"https://www.amd.com/en/support/downloads/drivers.html/processors/ryzen-pro/ryzen-pro-4000-series/amd-ryzen-5-pro-4650u.html\", \"GB6 Single log2\": 0.5069065545806933, \"GB6 Multi log2\": 2.1984941536390834}, {\"Name\": \"AMD Ryzen 5 PRO 5650U\", \"Designer\": \"AMD\", \"Launch date\": \"2021-03-01T00:00:00\", \"Cores\": 6, \"Age\": 4.2, \"Architecture\": \"Cezanne\", \"GB6 Single\": 1740.0, \"GB6 Multi\": 5479.0, \"Win11\": \"Yes\", \"Product URL\": \"https://www.amd.com/en/support/downloads/drivers.html/processors/ryzen-pro/ryzen-pro-5000-series/amd-ryzen-5-pro-5650u.html\", \"GB6 Single log2\": 0.7990873060740036, \"GB6 Multi log2\": 2.4539126036438925}, {\"Name\": \"AMD Ryzen 5 PRO 6650U\", \"Designer\": \"AMD\", \"Launch date\": \"2022-04-19T00:00:00\", \"Cores\": 6, \"Age\": 3.0, \"Architecture\": \"Rembrandt\", \"GB6 Single\": 1828.0, \"GB6 Multi\": 6717.0, \"Win11\": \"Yes\", \"Product URL\": \"https://www.amd.com/en/support/downloads/drivers.html/processors/ryzen-pro/ryzen-pro-6000-series/amd-ryzen-5-pro-6650u.html\", \"GB6 Single log2\": 0.8702660703959827, \"GB6 Multi log2\": 2.747817028911667}, {\"Name\": \"AMD Ryzen 5 PRO 7540U\", \"Designer\": \"AMD\", \"Launch date\": \"2023-03-05T00:00:00\", \"Cores\": 6, \"Age\": 2.1, \"Architecture\": \"Phoenix\", \"GB6 Single\": 2226.0, \"GB6 Multi\": 8076.0, \"Win11\": \"Yes\", \"Product URL\": \"https://www.amd.com/en/products/processors/laptop/ryzen/7000-series/amd-ryzen-5-7540u.html\", \"GB6 Single log2\": 1.1544535926798725, \"GB6 Multi log2\": 3.013640910669386}, {\"Name\": \"AMD Ryzen 5 PRO 8540U\", \"Designer\": \"AMD\", \"Launch date\": \"2024-04-01T00:00:00\", \"Cores\": 6, \"Age\": 1.1, \"Architecture\": \"Hawk Point\", \"GB6 Single\": 2345.0, \"GB6 Multi\": 8081.0, \"Win11\": \"Yes\", \"Product URL\": \"https://www.amd.com/en/products/processors/laptop/ryzen-pro/8000-series/amd-ryzen-5-pro-8540u.html\", \"GB6 Single log2\": 1.2295879227406519, \"GB6 Multi log2\": 3.0145338332954577}]}}, {\"mode\": \"vega-lite\"});\n",
       "</script>"
      ],
      "text/plain": [
       "alt.HConcatChart(...)"
      ]
     },
     "execution_count": 18,
     "metadata": {},
     "output_type": "execute_result"
    }
   ],
   "source": [
    "chart_date = alt.Chart(cpus).mark_point(size=150, filled=True, strokeWidth=5).encode(\n",
    "    y='Launch date',\n",
    "    color=color_designer,\n",
    "    shape='Designer', # reenforce color\n",
    "    #shape='Win11',\n",
    "    order=order,\n",
    "    tooltip=['Name', 'Architecture', 'Cores', 'Launch date', 'Win11', 'GB6 Single', 'GB6 Multi'],\n",
    ").add_params(\n",
    "    highlight\n",
    ")\n",
    "\n",
    "chart_dsingle = chart_date.encode(\n",
    "    x='GB6 Single',\n",
    ").properties(\n",
    "    title='Single-Core Performance'\n",
    ")\n",
    "chart_dmulti = chart_date.encode(\n",
    "    x='GB6 Multi',\n",
    "    y=alt.Y('Launch date', axis=alt.Axis(labels=False, title='')) # hide y tick labels\n",
    ").properties(\n",
    "    title='Multi-Core Performance'\n",
    ")\n",
    "\n",
    "(chart_dsingle | chart_dmulti)"
   ]
  },
  {
   "cell_type": "markdown",
   "id": "de2ffaad-dfa5-48e5-a4d8-2366cba78b40",
   "metadata": {},
   "source": [
    "### Variant with log scale\n",
    "\n",
    "- issue: compared to Matplotlib plots, I don't know how to display the orginal scores rather than the raw log values"
   ]
  },
  {
   "cell_type": "code",
   "execution_count": 19,
   "id": "61047007-865a-466b-98b2-107740865ff3",
   "metadata": {},
   "outputs": [
    {
     "data": {
      "text/html": [
       "\n",
       "<style>\n",
       "  #altair-viz-38fad40fc4f745e8ac3a4800b41837f7.vega-embed {\n",
       "    width: 100%;\n",
       "    display: flex;\n",
       "  }\n",
       "\n",
       "  #altair-viz-38fad40fc4f745e8ac3a4800b41837f7.vega-embed details,\n",
       "  #altair-viz-38fad40fc4f745e8ac3a4800b41837f7.vega-embed details summary {\n",
       "    position: relative;\n",
       "  }\n",
       "</style>\n",
       "<div id=\"altair-viz-38fad40fc4f745e8ac3a4800b41837f7\"></div>\n",
       "<script type=\"text/javascript\">\n",
       "  var VEGA_DEBUG = (typeof VEGA_DEBUG == \"undefined\") ? {} : VEGA_DEBUG;\n",
       "  (function(spec, embedOpt){\n",
       "    let outputDiv = document.currentScript.previousElementSibling;\n",
       "    if (outputDiv.id !== \"altair-viz-38fad40fc4f745e8ac3a4800b41837f7\") {\n",
       "      outputDiv = document.getElementById(\"altair-viz-38fad40fc4f745e8ac3a4800b41837f7\");\n",
       "    }\n",
       "\n",
       "    const paths = {\n",
       "      \"vega\": \"https://cdn.jsdelivr.net/npm/vega@5?noext\",\n",
       "      \"vega-lib\": \"https://cdn.jsdelivr.net/npm/vega-lib?noext\",\n",
       "      \"vega-lite\": \"https://cdn.jsdelivr.net/npm/vega-lite@5.20.1?noext\",\n",
       "      \"vega-embed\": \"https://cdn.jsdelivr.net/npm/vega-embed@6?noext\",\n",
       "    };\n",
       "\n",
       "    function maybeLoadScript(lib, version) {\n",
       "      var key = `${lib.replace(\"-\", \"\")}_version`;\n",
       "      return (VEGA_DEBUG[key] == version) ?\n",
       "        Promise.resolve(paths[lib]) :\n",
       "        new Promise(function(resolve, reject) {\n",
       "          var s = document.createElement('script');\n",
       "          document.getElementsByTagName(\"head\")[0].appendChild(s);\n",
       "          s.async = true;\n",
       "          s.onload = () => {\n",
       "            VEGA_DEBUG[key] = version;\n",
       "            return resolve(paths[lib]);\n",
       "          };\n",
       "          s.onerror = () => reject(`Error loading script: ${paths[lib]}`);\n",
       "          s.src = paths[lib];\n",
       "        });\n",
       "    }\n",
       "\n",
       "    function showError(err) {\n",
       "      outputDiv.innerHTML = `<div class=\"error\" style=\"color:red;\">${err}</div>`;\n",
       "      throw err;\n",
       "    }\n",
       "\n",
       "    function displayChart(vegaEmbed) {\n",
       "      vegaEmbed(outputDiv, spec, embedOpt)\n",
       "        .catch(err => showError(`Javascript Error: ${err.message}<br>This usually means there's a typo in your chart specification. See the javascript console for the full traceback.`));\n",
       "    }\n",
       "\n",
       "    if(typeof define === \"function\" && define.amd) {\n",
       "      requirejs.config({paths});\n",
       "      let deps = [\"vega-embed\"];\n",
       "      require(deps, displayChart, err => showError(`Error loading script: ${err.message}`));\n",
       "    } else {\n",
       "      maybeLoadScript(\"vega\", \"5\")\n",
       "        .then(() => maybeLoadScript(\"vega-lite\", \"5.20.1\"))\n",
       "        .then(() => maybeLoadScript(\"vega-embed\", \"6\"))\n",
       "        .catch(showError)\n",
       "        .then(() => displayChart(vegaEmbed));\n",
       "    }\n",
       "  })({\"config\": {\"view\": {\"continuousWidth\": 300, \"continuousHeight\": 300}}, \"hconcat\": [{\"mark\": {\"type\": \"point\", \"filled\": true, \"size\": 150, \"strokeWidth\": 5}, \"encoding\": {\"color\": {\"condition\": {\"param\": \"highlight\", \"empty\": true, \"field\": \"Designer\", \"scale\": {\"scheme\": \"set1\"}, \"type\": \"nominal\"}, \"value\": \"lightgray\"}, \"order\": {\"value\": 0, \"condition\": [{\"param\": \"highlight\", \"value\": 1, \"empty\": false}]}, \"shape\": {\"field\": \"Designer\", \"type\": \"nominal\"}, \"tooltip\": [{\"field\": \"Name\", \"type\": \"nominal\"}, {\"field\": \"Architecture\", \"type\": \"nominal\"}, {\"field\": \"Cores\", \"type\": \"quantitative\"}, {\"field\": \"Launch date\", \"type\": \"temporal\"}, {\"field\": \"Win11\", \"type\": \"nominal\"}, {\"field\": \"GB6 Single\", \"type\": \"quantitative\"}, {\"field\": \"GB6 Multi\", \"type\": \"quantitative\"}], \"x\": {\"field\": \"GB6 Single log2\", \"type\": \"quantitative\"}, \"y\": {\"field\": \"Launch date\", \"type\": \"temporal\"}}, \"name\": \"view_3\", \"title\": \"Single-Core Performance\"}, {\"mark\": {\"type\": \"point\", \"filled\": true, \"size\": 150, \"strokeWidth\": 5}, \"encoding\": {\"color\": {\"condition\": {\"param\": \"highlight\", \"empty\": true, \"field\": \"Designer\", \"scale\": {\"scheme\": \"set1\"}, \"type\": \"nominal\"}, \"value\": \"lightgray\"}, \"order\": {\"value\": 0, \"condition\": [{\"param\": \"highlight\", \"value\": 1, \"empty\": false}]}, \"shape\": {\"field\": \"Designer\", \"type\": \"nominal\"}, \"tooltip\": [{\"field\": \"Name\", \"type\": \"nominal\"}, {\"field\": \"Architecture\", \"type\": \"nominal\"}, {\"field\": \"Cores\", \"type\": \"quantitative\"}, {\"field\": \"Launch date\", \"type\": \"temporal\"}, {\"field\": \"Win11\", \"type\": \"nominal\"}, {\"field\": \"GB6 Single\", \"type\": \"quantitative\"}, {\"field\": \"GB6 Multi\", \"type\": \"quantitative\"}], \"x\": {\"field\": \"GB6 Multi log2\", \"type\": \"quantitative\"}, \"y\": {\"axis\": {\"labels\": false, \"title\": \"\"}, \"field\": \"Launch date\", \"type\": \"temporal\"}}, \"name\": \"view_4\", \"title\": \"Multi-Core Performance\"}], \"data\": {\"name\": \"data-6522b5600cd5109ace11baad65474461\"}, \"params\": [{\"name\": \"highlight\", \"select\": {\"type\": \"point\", \"on\": \"pointerover\"}, \"views\": [\"view_3\", \"view_4\"]}], \"$schema\": \"https://vega.github.io/schema/vega-lite/v5.20.1.json\", \"datasets\": {\"data-6522b5600cd5109ace11baad65474461\": [{\"Name\": \"Intel Core i5-5200U\", \"Designer\": \"Intel\", \"Launch date\": \"2015-01-01T00:00:00\", \"Cores\": 2, \"Age\": 10.3, \"Architecture\": \"Broadwell\", \"GB6 Single\": 854.0, \"GB6 Multi\": 1611.0, \"Win11\": \"No\", \"Product URL\": \"https://www.intel.com/content/www/us/en/products/sku/85212/intel-core-i55200u-processor-3m-cache-up-to-2-70-ghz/specifications.html\", \"GB6 Single log2\": -0.2276920250415967, \"GB6 Multi log2\": 0.6879564940444818}, {\"Name\": \"Intel Core i5-5300U\", \"Designer\": \"Intel\", \"Launch date\": \"2015-01-01T00:00:00\", \"Cores\": 2, \"Age\": 10.3, \"Architecture\": \"Broadwell\", \"GB6 Single\": 908.0, \"GB6 Multi\": 1692.0, \"Win11\": \"No\", \"Product URL\": \"https://www.intel.com/content/www/us/en/products/sku/85213/intel-core-i55300u-processor-3m-cache-up-to-2-90-ghz/specifications.html\", \"GB6 Single log2\": -0.139235797371172, \"GB6 Multi log2\": 0.7587295684578627}, {\"Name\": \"Intel Core i5-6200U\", \"Designer\": \"Intel\", \"Launch date\": \"2015-07-01T00:00:00\", \"Cores\": 2, \"Age\": 9.8, \"Architecture\": \"Skylake\", \"GB6 Single\": 916.0, \"GB6 Multi\": 1832.0, \"Win11\": \"No\", \"Product URL\": \"https://www.intel.com/content/www/us/en/products/sku/88193/intel-core-i56200u-processor-3m-cache-up-to-2-80-ghz/specifications.html\", \"GB6 Single log2\": -0.12658049656514306, \"GB6 Multi log2\": 0.873419503434857}, {\"Name\": \"Intel Core i5-6300U\", \"Designer\": \"Intel\", \"Launch date\": \"2015-07-01T00:00:00\", \"Cores\": 2, \"Age\": 9.8, \"Architecture\": \"Skylake\", \"GB6 Single\": 965.0, \"GB6 Multi\": 1910.0, \"Win11\": \"No\", \"Product URL\": \"https://www.intel.com/content/www/us/en/products/sku/88190/intel-core-i56300u-processor-3m-cache-up-to-3-00-ghz/specifications.html\", \"GB6 Single log2\": -0.05139915250664432, \"GB6 Multi log2\": 0.9335726382610239}, {\"Name\": \"Intel Core i5-7200U\", \"Designer\": \"Intel\", \"Launch date\": \"2016-10-01T00:00:00\", \"Cores\": 2, \"Age\": 8.6, \"Architecture\": \"Kaby Lake\", \"GB6 Single\": 1009.0, \"GB6 Multi\": 1987.0, \"Win11\": \"No\", \"Product URL\": \"https://www.intel.com/content/www/us/en/products/sku/95443/intel-core-i57200u-processor-3m-cache-up-to-3-10-ghz/specifications.html\", \"GB6 Single log2\": 0.012926174444270048, \"GB6 Multi log2\": 0.9905918725875832}, {\"Name\": \"Intel Core i5-7300U\", \"Designer\": \"Intel\", \"Launch date\": \"2017-01-01T00:00:00\", \"Cores\": 2, \"Age\": 8.3, \"Architecture\": \"Kaby Lake\", \"GB6 Single\": 1088.0, \"GB6 Multi\": 2030.0, \"Win11\": \"No\", \"Product URL\": \"https://www.intel.com/content/www/us/en/products/sku/97472/intel-core-i57300u-processor-3m-cache-up-to-3-50-ghz/specifications.html\", \"GB6 Single log2\": 0.12167855658825247, \"GB6 Multi log2\": 1.0214797274104515}, {\"Name\": \"Intel Core i5-8250U\", \"Designer\": \"Intel\", \"Launch date\": \"2017-07-01T00:00:00\", \"Cores\": 4, \"Age\": 7.8, \"Architecture\": \"Kaby Lake R\", \"GB6 Single\": 1145.0, \"GB6 Multi\": 3126.0, \"Win11\": \"Yes\", \"Product URL\": \"https://www.intel.com/content/www/us/en/products/sku/124967/intel-core-i58250u-processor-6m-cache-up-to-3-40-ghz/specifications.html\", \"GB6 Single log2\": 0.19534759832221926, \"GB6 Multi log2\": 1.6443177783375773}, {\"Name\": \"Intel Core i5-8350U\", \"Designer\": \"Intel\", \"Launch date\": \"2017-07-01T00:00:00\", \"Cores\": 4, \"Age\": 7.8, \"Architecture\": \"Kaby Lake R\", \"GB6 Single\": 1191.0, \"GB6 Multi\": 3237.0, \"Win11\": \"Yes\", \"Product URL\": \"https://www.intel.com/content/www/us/en/products/sku/124969/intel-core-i58350u-processor-6m-cache-up-to-3-60-ghz/specifications.html\", \"GB6 Single log2\": 0.252173413202027, \"GB6 Multi log2\": 1.694657365547086}, {\"Name\": \"Intel Core i5-8265U\", \"Designer\": \"Intel\", \"Launch date\": \"2018-10-01T00:00:00\", \"Cores\": 4, \"Age\": 6.6, \"Architecture\": \"Whiskey Lake\", \"GB6 Single\": 1204.0, \"GB6 Multi\": 2926.0, \"Win11\": \"Yes\", \"Product URL\": \"https://www.intel.com/content/www/us/en/products/sku/149088/intel-core-i58265u-processor-6m-cache-up-to-3-90-ghz/specifications.html\", \"GB6 Single log2\": 0.267835392097615, \"GB6 Multi log2\": 1.5489297694764}, {\"Name\": \"Intel Core i5-8365U\", \"Designer\": \"Intel\", \"Launch date\": \"2019-04-01T00:00:00\", \"Cores\": 4, \"Age\": 6.1, \"Architecture\": \"Whiskey Lake\", \"GB6 Single\": 1270.0, \"GB6 Multi\": 3167.0, \"Win11\": \"Yes\", \"Product URL\": \"https://www.intel.com/content/www/us/en/products/sku/193555/intel-core-i58365u-processor-6m-cache-up-to-4-10-ghz/specifications.html\", \"GB6 Single log2\": 0.34482849699744117, \"GB6 Multi log2\": 1.6631168673661028}, {\"Name\": \"Intel Core i5-10210U\", \"Designer\": \"Intel\", \"Launch date\": \"2019-07-01T00:00:00\", \"Cores\": 4, \"Age\": 5.8, \"Architecture\": \"Comet Lake\", \"GB6 Single\": 1229.0, \"GB6 Multi\": 3088.0, \"Win11\": \"Yes\", \"Product URL\": \"https://www.intel.com/content/www/us/en/products/sku/195436/intel-core-i510210u-processor-6m-cache-up-to-4-20-ghz/specifications.html\", \"GB6 Single log2\": 0.2974849157105747, \"GB6 Multi log2\": 1.6266727526059934}, {\"Name\": \"Intel Core i5-10310U\", \"Designer\": \"Intel\", \"Launch date\": \"2020-04-01T00:00:00\", \"Cores\": 4, \"Age\": 5.1, \"Architecture\": \"Comet Lake\", \"GB6 Single\": 1297.0, \"GB6 Multi\": 3450.0, \"Win11\": \"Yes\", \"Product URL\": \"https://www.intel.com/content/www/us/en/products/sku/201892/intel-core-i510310u-processor-6m-cache-up-to-4-40-ghz/specifications.html\", \"GB6 Single log2\": 0.3751784795896123, \"GB6 Multi log2\": 1.7865963618908067}, {\"Name\": \"Intel Core i5-1035G4\", \"Designer\": \"Intel\", \"Launch date\": \"2019-10-01T00:00:00\", \"Cores\": 4, \"Age\": 5.6, \"Architecture\": \"Ice Lake\", \"GB6 Single\": 1435.0, \"GB6 Multi\": 3742.0, \"Win11\": \"Yes\", \"Product URL\": \"https://www.intel.com/content/www/us/en/products/sku/196591/intel-core-i51035g4-processor-6m-cache-up-to-3-70-ghz/specifications.html\", \"GB6 Single log2\": 0.5210507369009632, \"GB6 Multi log2\": 1.903809558578697}, {\"Name\": \"Intel Core i5-1035G7\", \"Designer\": \"Intel\", \"Launch date\": \"2019-10-01T00:00:00\", \"Cores\": 4, \"Age\": 5.6, \"Architecture\": \"Ice Lake\", \"GB6 Single\": 1419.0, \"GB6 Multi\": 3791.0, \"Win11\": \"Yes\", \"Product URL\": \"https://www.intel.com/content/www/us/en/products/sku/196592/intel-core-i51035g7-processor-6m-cache-up-to-3-70-ghz/specifications.html\", \"GB6 Single log2\": 0.5048745893984644, \"GB6 Multi log2\": 1.922578456508557}, {\"Name\": \"Intel Core i5-1135G7\", \"Designer\": \"Intel\", \"Launch date\": \"2020-07-01T00:00:00\", \"Cores\": 4, \"Age\": 4.8, \"Architecture\": \"Tiger Lake\", \"GB6 Single\": 1702.0, \"GB6 Multi\": 4694.0, \"Win11\": \"Yes\", \"Product URL\": \"https://www.intel.com/content/www/us/en/products/sku/208922/intel-core-i51135g7-processor-8m-cache-up-to-4-20-ghz-with-ipu/specifications.html\", \"GB6 Single log2\": 0.7672310370238756, \"GB6 Multi log2\": 2.230817841861083}, {\"Name\": \"Intel Core i5-1145G7\", \"Designer\": \"Intel\", \"Launch date\": \"2021-01-01T00:00:00\", \"Cores\": 4, \"Age\": 4.3, \"Architecture\": \"Tiger Lake\", \"GB6 Single\": 1766.0, \"GB6 Multi\": 4873.0, \"Win11\": \"Yes\", \"Product URL\": \"https://www.intel.com/content/www/us/en/products/sku/208660/intel-core-i51145g7-processor-8m-cache-up-to-4-40-ghz-with-ipu/specifications.html\", \"GB6 Single log2\": 0.820485342986379, \"GB6 Multi log2\": 2.2848102225302287}, {\"Name\": \"Intel Core i5-1235U\", \"Designer\": \"Intel\", \"Launch date\": \"2022-01-01T00:00:00\", \"Cores\": 10, \"Age\": 3.3, \"Architecture\": \"Alder Lake\", \"GB6 Single\": 1950.0, \"GB6 Multi\": 5846.0, \"Win11\": \"Yes\", \"Product URL\": \"https://www.intel.com/content/www/us/en/products/sku/226261/intel-core-i51235u-processor-12m-cache-up-to-4-40-ghz/specifications.html?wapkw=intel%20core%20i5-1235u\", \"GB6 Single log2\": 0.963474123974886, \"GB6 Multi log2\": 2.547449829143966}, {\"Name\": \"Intel Core i5-1245U\", \"Designer\": \"Intel\", \"Launch date\": \"2022-01-01T00:00:00\", \"Cores\": 10, \"Age\": 3.3, \"Architecture\": \"Alder Lake\", \"GB6 Single\": 1964.0, \"GB6 Multi\": 6269.0, \"Win11\": \"Yes\", \"Product URL\": \"https://www.intel.com/content/www/us/en/products/sku/226260/intel-core-i51245u-processor-12m-cache-up-to-4-40-ghz/specifications.html\", \"GB6 Single log2\": 0.973794929652606, \"GB6 Multi log2\": 2.6482353297736343}, {\"Name\": \"Intel Core i5-1335U\", \"Designer\": \"Intel\", \"Launch date\": \"2023-01-01T00:00:00\", \"Cores\": 10, \"Age\": 2.3, \"Architecture\": \"Raptor Lake\", \"GB6 Single\": 2103.0, \"GB6 Multi\": 6786.0, \"Win11\": \"Yes\", \"Product URL\": \"https://www.intel.com/content/www/us/en/products/sku/232153/intel-core-i51335u-processor-12m-cache-up-to-4-60-ghz/specifications.html\", \"GB6 Single log2\": 1.0724488500696925, \"GB6 Multi log2\": 2.7625614300488897}, {\"Name\": \"Intel Core i5-1345U\", \"Designer\": \"Intel\", \"Launch date\": \"2023-01-01T00:00:00\", \"Cores\": 10, \"Age\": 2.3, \"Architecture\": \"Raptor Lake\", \"GB6 Single\": 2202.0, \"GB6 Multi\": 6967.0, \"Win11\": \"Yes\", \"Product URL\": \"https://www.intel.com/content/www/us/en/products/sku/232127/intel-core-i51345u-processor-12m-cache-up-to-4-70-ghz/specifications.html?wapkw=i5-1345U\", \"GB6 Single log2\": 1.1388144689022819, \"GB6 Multi log2\": 2.800537563291874}, {\"Name\": \"Intel Core Ultra 5 125U\", \"Designer\": \"Intel\", \"Launch date\": \"2023-10-01T00:00:00\", \"Cores\": 12, \"Age\": 1.6, \"Architecture\": \"Metor Lake\", \"GB6 Single\": 2072.0, \"GB6 Multi\": 8107.0, \"Win11\": \"Yes\", \"Product URL\": \"https://www.intel.com/content/www/us/en/products/sku/237330/intel-core-ultra-5-processor-125u-12m-cache-up-to-4-30-ghz/specifications.html?wapkw=Intel%20Core%20Ultra%205%20125U\", \"GB6 Single log2\": 1.0510240030244669, \"GB6 Multi log2\": 3.0191681430702797}, {\"Name\": \"Intel Core Ultra 5 135U\", \"Designer\": \"Intel\", \"Launch date\": \"2023-10-01T00:00:00\", \"Cores\": 12, \"Age\": 1.6, \"Architecture\": \"Metor Lake\", \"GB6 Single\": 2132.0, \"GB6 Multi\": 8667.0, \"Win11\": \"Yes\", \"Product URL\": \"https://www.intel.com/content/www/us/en/products/sku/237328/intel-core-ultra-5-processor-135u-12m-cache-up-to-4-40-ghz/specifications.html?wapkw=Intel%20Core%20Ultra%205%20135U\", \"GB6 Single log2\": 1.092207438097089, \"GB6 Multi log2\": 3.1155327046236847}, {\"Name\": \"AMD Ryzen 7 PRO 2700U\", \"Designer\": \"AMD\", \"Launch date\": \"2017-10-01T00:00:00\", \"Cores\": 4, \"Age\": 7.6, \"Architecture\": \"Raven Ridge\", \"GB6 Single\": 914.0, \"GB6 Multi\": 2545.0, \"Win11\": \"Yes\", \"Product URL\": \"https://www.amd.com/en/support/downloads/drivers.html/processors/ryzen/ryzen-2000-series/amd-ryzen-7-2700u.html\", \"GB6 Single log2\": -0.12973392960401728, \"GB6 Multi log2\": 1.3476656563009706}, {\"Name\": \"AMD Ryzen 5 PRO 3500U\", \"Designer\": \"AMD\", \"Launch date\": \"2019-01-01T00:00:00\", \"Cores\": 4, \"Age\": 6.3, \"Architecture\": \"Picasso\", \"GB6 Single\": 949.0, \"GB6 Multi\": 2620.0, \"Win11\": \"Yes\", \"Product URL\": \"https://www.amd.com/en/support/downloads/drivers.html/processors/ryzen/ryzen-3000-series/amd-ryzen-5-3500u.html\", \"GB6 Single log2\": -0.07552000764097772, \"GB6 Multi log2\": 1.3895668117627256}, {\"Name\": \"AMD Ryzen 5 PRO 4650U\", \"Designer\": \"AMD\", \"Launch date\": \"2020-07-01T00:00:00\", \"Cores\": 6, \"Age\": 4.8, \"Architecture\": \"Renoir\", \"GB6 Single\": 1421.0, \"GB6 Multi\": 4590.0, \"Win11\": \"Yes\", \"Product URL\": \"https://www.amd.com/en/support/downloads/drivers.html/processors/ryzen-pro/ryzen-pro-4000-series/amd-ryzen-5-pro-4650u.html\", \"GB6 Single log2\": 0.5069065545806933, \"GB6 Multi log2\": 2.1984941536390834}, {\"Name\": \"AMD Ryzen 5 PRO 5650U\", \"Designer\": \"AMD\", \"Launch date\": \"2021-03-01T00:00:00\", \"Cores\": 6, \"Age\": 4.2, \"Architecture\": \"Cezanne\", \"GB6 Single\": 1740.0, \"GB6 Multi\": 5479.0, \"Win11\": \"Yes\", \"Product URL\": \"https://www.amd.com/en/support/downloads/drivers.html/processors/ryzen-pro/ryzen-pro-5000-series/amd-ryzen-5-pro-5650u.html\", \"GB6 Single log2\": 0.7990873060740036, \"GB6 Multi log2\": 2.4539126036438925}, {\"Name\": \"AMD Ryzen 5 PRO 6650U\", \"Designer\": \"AMD\", \"Launch date\": \"2022-04-19T00:00:00\", \"Cores\": 6, \"Age\": 3.0, \"Architecture\": \"Rembrandt\", \"GB6 Single\": 1828.0, \"GB6 Multi\": 6717.0, \"Win11\": \"Yes\", \"Product URL\": \"https://www.amd.com/en/support/downloads/drivers.html/processors/ryzen-pro/ryzen-pro-6000-series/amd-ryzen-5-pro-6650u.html\", \"GB6 Single log2\": 0.8702660703959827, \"GB6 Multi log2\": 2.747817028911667}, {\"Name\": \"AMD Ryzen 5 PRO 7540U\", \"Designer\": \"AMD\", \"Launch date\": \"2023-03-05T00:00:00\", \"Cores\": 6, \"Age\": 2.1, \"Architecture\": \"Phoenix\", \"GB6 Single\": 2226.0, \"GB6 Multi\": 8076.0, \"Win11\": \"Yes\", \"Product URL\": \"https://www.amd.com/en/products/processors/laptop/ryzen/7000-series/amd-ryzen-5-7540u.html\", \"GB6 Single log2\": 1.1544535926798725, \"GB6 Multi log2\": 3.013640910669386}, {\"Name\": \"AMD Ryzen 5 PRO 8540U\", \"Designer\": \"AMD\", \"Launch date\": \"2024-04-01T00:00:00\", \"Cores\": 6, \"Age\": 1.1, \"Architecture\": \"Hawk Point\", \"GB6 Single\": 2345.0, \"GB6 Multi\": 8081.0, \"Win11\": \"Yes\", \"Product URL\": \"https://www.amd.com/en/products/processors/laptop/ryzen-pro/8000-series/amd-ryzen-5-pro-8540u.html\", \"GB6 Single log2\": 1.2295879227406519, \"GB6 Multi log2\": 3.0145338332954577}]}}, {\"mode\": \"vega-lite\"});\n",
       "</script>"
      ],
      "text/plain": [
       "alt.HConcatChart(...)"
      ]
     },
     "execution_count": 19,
     "metadata": {},
     "output_type": "execute_result"
    }
   ],
   "source": [
    "chart_dsingle_log = chart_dsingle.encode(x='GB6 Single log2')\n",
    "chart_dmulti_log = chart_dmulti.encode(x='GB6 Multi log2')\n",
    "(chart_dsingle_log | chart_dmulti_log)"
   ]
  },
  {
   "cell_type": "markdown",
   "id": "dc4a2d61-9ea1-44c4-a880-f6ef2aa4ad0b",
   "metadata": {},
   "source": [
    "Better variant: log scale, **superimposed** single+multi scores"
   ]
  },
  {
   "cell_type": "code",
   "execution_count": 20,
   "id": "a01e5549-04da-4829-ab59-b4a7b319f5a9",
   "metadata": {},
   "outputs": [
    {
     "data": {
      "text/html": [
       "\n",
       "<style>\n",
       "  #altair-viz-c941a62f2f904ab5a3dac26db1c7b3c7.vega-embed {\n",
       "    width: 100%;\n",
       "    display: flex;\n",
       "  }\n",
       "\n",
       "  #altair-viz-c941a62f2f904ab5a3dac26db1c7b3c7.vega-embed details,\n",
       "  #altair-viz-c941a62f2f904ab5a3dac26db1c7b3c7.vega-embed details summary {\n",
       "    position: relative;\n",
       "  }\n",
       "</style>\n",
       "<div id=\"altair-viz-c941a62f2f904ab5a3dac26db1c7b3c7\"></div>\n",
       "<script type=\"text/javascript\">\n",
       "  var VEGA_DEBUG = (typeof VEGA_DEBUG == \"undefined\") ? {} : VEGA_DEBUG;\n",
       "  (function(spec, embedOpt){\n",
       "    let outputDiv = document.currentScript.previousElementSibling;\n",
       "    if (outputDiv.id !== \"altair-viz-c941a62f2f904ab5a3dac26db1c7b3c7\") {\n",
       "      outputDiv = document.getElementById(\"altair-viz-c941a62f2f904ab5a3dac26db1c7b3c7\");\n",
       "    }\n",
       "\n",
       "    const paths = {\n",
       "      \"vega\": \"https://cdn.jsdelivr.net/npm/vega@5?noext\",\n",
       "      \"vega-lib\": \"https://cdn.jsdelivr.net/npm/vega-lib?noext\",\n",
       "      \"vega-lite\": \"https://cdn.jsdelivr.net/npm/vega-lite@5.20.1?noext\",\n",
       "      \"vega-embed\": \"https://cdn.jsdelivr.net/npm/vega-embed@6?noext\",\n",
       "    };\n",
       "\n",
       "    function maybeLoadScript(lib, version) {\n",
       "      var key = `${lib.replace(\"-\", \"\")}_version`;\n",
       "      return (VEGA_DEBUG[key] == version) ?\n",
       "        Promise.resolve(paths[lib]) :\n",
       "        new Promise(function(resolve, reject) {\n",
       "          var s = document.createElement('script');\n",
       "          document.getElementsByTagName(\"head\")[0].appendChild(s);\n",
       "          s.async = true;\n",
       "          s.onload = () => {\n",
       "            VEGA_DEBUG[key] = version;\n",
       "            return resolve(paths[lib]);\n",
       "          };\n",
       "          s.onerror = () => reject(`Error loading script: ${paths[lib]}`);\n",
       "          s.src = paths[lib];\n",
       "        });\n",
       "    }\n",
       "\n",
       "    function showError(err) {\n",
       "      outputDiv.innerHTML = `<div class=\"error\" style=\"color:red;\">${err}</div>`;\n",
       "      throw err;\n",
       "    }\n",
       "\n",
       "    function displayChart(vegaEmbed) {\n",
       "      vegaEmbed(outputDiv, spec, embedOpt)\n",
       "        .catch(err => showError(`Javascript Error: ${err.message}<br>This usually means there's a typo in your chart specification. See the javascript console for the full traceback.`));\n",
       "    }\n",
       "\n",
       "    if(typeof define === \"function\" && define.amd) {\n",
       "      requirejs.config({paths});\n",
       "      let deps = [\"vega-embed\"];\n",
       "      require(deps, displayChart, err => showError(`Error loading script: ${err.message}`));\n",
       "    } else {\n",
       "      maybeLoadScript(\"vega\", \"5\")\n",
       "        .then(() => maybeLoadScript(\"vega-lite\", \"5.20.1\"))\n",
       "        .then(() => maybeLoadScript(\"vega-embed\", \"6\"))\n",
       "        .catch(showError)\n",
       "        .then(() => displayChart(vegaEmbed));\n",
       "    }\n",
       "  })({\"config\": {\"view\": {\"continuousWidth\": 300, \"continuousHeight\": 300}}, \"layer\": [{\"mark\": {\"type\": \"point\", \"filled\": true, \"size\": 150, \"strokeWidth\": 5}, \"encoding\": {\"color\": {\"condition\": {\"param\": \"highlight\", \"empty\": true, \"field\": \"Designer\", \"scale\": {\"scheme\": \"set1\"}, \"type\": \"nominal\"}, \"value\": \"lightgray\"}, \"order\": {\"value\": 0, \"condition\": [{\"param\": \"highlight\", \"value\": 1, \"empty\": false}]}, \"shape\": {\"field\": \"Designer\", \"type\": \"nominal\"}, \"tooltip\": [{\"field\": \"Name\", \"type\": \"nominal\"}, {\"field\": \"Architecture\", \"type\": \"nominal\"}, {\"field\": \"Cores\", \"type\": \"quantitative\"}, {\"field\": \"Launch date\", \"type\": \"temporal\"}, {\"field\": \"Win11\", \"type\": \"nominal\"}, {\"field\": \"GB6 Single\", \"type\": \"quantitative\"}, {\"field\": \"GB6 Multi\", \"type\": \"quantitative\"}], \"x\": {\"field\": \"GB6 Single log2\", \"type\": \"quantitative\"}, \"y\": {\"field\": \"Launch date\", \"type\": \"temporal\"}}, \"name\": \"view_5\", \"title\": \"Single-Core Performance\"}, {\"mark\": {\"type\": \"point\", \"filled\": true, \"size\": 150, \"strokeWidth\": 5}, \"encoding\": {\"color\": {\"condition\": {\"param\": \"highlight\", \"empty\": true, \"field\": \"Designer\", \"scale\": {\"scheme\": \"set1\"}, \"type\": \"nominal\"}, \"value\": \"lightgray\"}, \"order\": {\"value\": 0, \"condition\": [{\"param\": \"highlight\", \"value\": 1, \"empty\": false}]}, \"shape\": {\"field\": \"Designer\", \"type\": \"nominal\"}, \"tooltip\": [{\"field\": \"Name\", \"type\": \"nominal\"}, {\"field\": \"Architecture\", \"type\": \"nominal\"}, {\"field\": \"Cores\", \"type\": \"quantitative\"}, {\"field\": \"Launch date\", \"type\": \"temporal\"}, {\"field\": \"Win11\", \"type\": \"nominal\"}, {\"field\": \"GB6 Single\", \"type\": \"quantitative\"}, {\"field\": \"GB6 Multi\", \"type\": \"quantitative\"}], \"x\": {\"field\": \"GB6 Multi log2\", \"type\": \"quantitative\"}, \"y\": {\"field\": \"Launch date\", \"type\": \"temporal\"}}}], \"data\": {\"name\": \"data-6522b5600cd5109ace11baad65474461\"}, \"params\": [{\"name\": \"highlight\", \"select\": {\"type\": \"point\", \"on\": \"pointerover\"}, \"views\": [\"view_5\"]}], \"title\": \"Single & Multi-Core Performance\", \"width\": 450, \"$schema\": \"https://vega.github.io/schema/vega-lite/v5.20.1.json\", \"datasets\": {\"data-6522b5600cd5109ace11baad65474461\": [{\"Name\": \"Intel Core i5-5200U\", \"Designer\": \"Intel\", \"Launch date\": \"2015-01-01T00:00:00\", \"Cores\": 2, \"Age\": 10.3, \"Architecture\": \"Broadwell\", \"GB6 Single\": 854.0, \"GB6 Multi\": 1611.0, \"Win11\": \"No\", \"Product URL\": \"https://www.intel.com/content/www/us/en/products/sku/85212/intel-core-i55200u-processor-3m-cache-up-to-2-70-ghz/specifications.html\", \"GB6 Single log2\": -0.2276920250415967, \"GB6 Multi log2\": 0.6879564940444818}, {\"Name\": \"Intel Core i5-5300U\", \"Designer\": \"Intel\", \"Launch date\": \"2015-01-01T00:00:00\", \"Cores\": 2, \"Age\": 10.3, \"Architecture\": \"Broadwell\", \"GB6 Single\": 908.0, \"GB6 Multi\": 1692.0, \"Win11\": \"No\", \"Product URL\": \"https://www.intel.com/content/www/us/en/products/sku/85213/intel-core-i55300u-processor-3m-cache-up-to-2-90-ghz/specifications.html\", \"GB6 Single log2\": -0.139235797371172, \"GB6 Multi log2\": 0.7587295684578627}, {\"Name\": \"Intel Core i5-6200U\", \"Designer\": \"Intel\", \"Launch date\": \"2015-07-01T00:00:00\", \"Cores\": 2, \"Age\": 9.8, \"Architecture\": \"Skylake\", \"GB6 Single\": 916.0, \"GB6 Multi\": 1832.0, \"Win11\": \"No\", \"Product URL\": \"https://www.intel.com/content/www/us/en/products/sku/88193/intel-core-i56200u-processor-3m-cache-up-to-2-80-ghz/specifications.html\", \"GB6 Single log2\": -0.12658049656514306, \"GB6 Multi log2\": 0.873419503434857}, {\"Name\": \"Intel Core i5-6300U\", \"Designer\": \"Intel\", \"Launch date\": \"2015-07-01T00:00:00\", \"Cores\": 2, \"Age\": 9.8, \"Architecture\": \"Skylake\", \"GB6 Single\": 965.0, \"GB6 Multi\": 1910.0, \"Win11\": \"No\", \"Product URL\": \"https://www.intel.com/content/www/us/en/products/sku/88190/intel-core-i56300u-processor-3m-cache-up-to-3-00-ghz/specifications.html\", \"GB6 Single log2\": -0.05139915250664432, \"GB6 Multi log2\": 0.9335726382610239}, {\"Name\": \"Intel Core i5-7200U\", \"Designer\": \"Intel\", \"Launch date\": \"2016-10-01T00:00:00\", \"Cores\": 2, \"Age\": 8.6, \"Architecture\": \"Kaby Lake\", \"GB6 Single\": 1009.0, \"GB6 Multi\": 1987.0, \"Win11\": \"No\", \"Product URL\": \"https://www.intel.com/content/www/us/en/products/sku/95443/intel-core-i57200u-processor-3m-cache-up-to-3-10-ghz/specifications.html\", \"GB6 Single log2\": 0.012926174444270048, \"GB6 Multi log2\": 0.9905918725875832}, {\"Name\": \"Intel Core i5-7300U\", \"Designer\": \"Intel\", \"Launch date\": \"2017-01-01T00:00:00\", \"Cores\": 2, \"Age\": 8.3, \"Architecture\": \"Kaby Lake\", \"GB6 Single\": 1088.0, \"GB6 Multi\": 2030.0, \"Win11\": \"No\", \"Product URL\": \"https://www.intel.com/content/www/us/en/products/sku/97472/intel-core-i57300u-processor-3m-cache-up-to-3-50-ghz/specifications.html\", \"GB6 Single log2\": 0.12167855658825247, \"GB6 Multi log2\": 1.0214797274104515}, {\"Name\": \"Intel Core i5-8250U\", \"Designer\": \"Intel\", \"Launch date\": \"2017-07-01T00:00:00\", \"Cores\": 4, \"Age\": 7.8, \"Architecture\": \"Kaby Lake R\", \"GB6 Single\": 1145.0, \"GB6 Multi\": 3126.0, \"Win11\": \"Yes\", \"Product URL\": \"https://www.intel.com/content/www/us/en/products/sku/124967/intel-core-i58250u-processor-6m-cache-up-to-3-40-ghz/specifications.html\", \"GB6 Single log2\": 0.19534759832221926, \"GB6 Multi log2\": 1.6443177783375773}, {\"Name\": \"Intel Core i5-8350U\", \"Designer\": \"Intel\", \"Launch date\": \"2017-07-01T00:00:00\", \"Cores\": 4, \"Age\": 7.8, \"Architecture\": \"Kaby Lake R\", \"GB6 Single\": 1191.0, \"GB6 Multi\": 3237.0, \"Win11\": \"Yes\", \"Product URL\": \"https://www.intel.com/content/www/us/en/products/sku/124969/intel-core-i58350u-processor-6m-cache-up-to-3-60-ghz/specifications.html\", \"GB6 Single log2\": 0.252173413202027, \"GB6 Multi log2\": 1.694657365547086}, {\"Name\": \"Intel Core i5-8265U\", \"Designer\": \"Intel\", \"Launch date\": \"2018-10-01T00:00:00\", \"Cores\": 4, \"Age\": 6.6, \"Architecture\": \"Whiskey Lake\", \"GB6 Single\": 1204.0, \"GB6 Multi\": 2926.0, \"Win11\": \"Yes\", \"Product URL\": \"https://www.intel.com/content/www/us/en/products/sku/149088/intel-core-i58265u-processor-6m-cache-up-to-3-90-ghz/specifications.html\", \"GB6 Single log2\": 0.267835392097615, \"GB6 Multi log2\": 1.5489297694764}, {\"Name\": \"Intel Core i5-8365U\", \"Designer\": \"Intel\", \"Launch date\": \"2019-04-01T00:00:00\", \"Cores\": 4, \"Age\": 6.1, \"Architecture\": \"Whiskey Lake\", \"GB6 Single\": 1270.0, \"GB6 Multi\": 3167.0, \"Win11\": \"Yes\", \"Product URL\": \"https://www.intel.com/content/www/us/en/products/sku/193555/intel-core-i58365u-processor-6m-cache-up-to-4-10-ghz/specifications.html\", \"GB6 Single log2\": 0.34482849699744117, \"GB6 Multi log2\": 1.6631168673661028}, {\"Name\": \"Intel Core i5-10210U\", \"Designer\": \"Intel\", \"Launch date\": \"2019-07-01T00:00:00\", \"Cores\": 4, \"Age\": 5.8, \"Architecture\": \"Comet Lake\", \"GB6 Single\": 1229.0, \"GB6 Multi\": 3088.0, \"Win11\": \"Yes\", \"Product URL\": \"https://www.intel.com/content/www/us/en/products/sku/195436/intel-core-i510210u-processor-6m-cache-up-to-4-20-ghz/specifications.html\", \"GB6 Single log2\": 0.2974849157105747, \"GB6 Multi log2\": 1.6266727526059934}, {\"Name\": \"Intel Core i5-10310U\", \"Designer\": \"Intel\", \"Launch date\": \"2020-04-01T00:00:00\", \"Cores\": 4, \"Age\": 5.1, \"Architecture\": \"Comet Lake\", \"GB6 Single\": 1297.0, \"GB6 Multi\": 3450.0, \"Win11\": \"Yes\", \"Product URL\": \"https://www.intel.com/content/www/us/en/products/sku/201892/intel-core-i510310u-processor-6m-cache-up-to-4-40-ghz/specifications.html\", \"GB6 Single log2\": 0.3751784795896123, \"GB6 Multi log2\": 1.7865963618908067}, {\"Name\": \"Intel Core i5-1035G4\", \"Designer\": \"Intel\", \"Launch date\": \"2019-10-01T00:00:00\", \"Cores\": 4, \"Age\": 5.6, \"Architecture\": \"Ice Lake\", \"GB6 Single\": 1435.0, \"GB6 Multi\": 3742.0, \"Win11\": \"Yes\", \"Product URL\": \"https://www.intel.com/content/www/us/en/products/sku/196591/intel-core-i51035g4-processor-6m-cache-up-to-3-70-ghz/specifications.html\", \"GB6 Single log2\": 0.5210507369009632, \"GB6 Multi log2\": 1.903809558578697}, {\"Name\": \"Intel Core i5-1035G7\", \"Designer\": \"Intel\", \"Launch date\": \"2019-10-01T00:00:00\", \"Cores\": 4, \"Age\": 5.6, \"Architecture\": \"Ice Lake\", \"GB6 Single\": 1419.0, \"GB6 Multi\": 3791.0, \"Win11\": \"Yes\", \"Product URL\": \"https://www.intel.com/content/www/us/en/products/sku/196592/intel-core-i51035g7-processor-6m-cache-up-to-3-70-ghz/specifications.html\", \"GB6 Single log2\": 0.5048745893984644, \"GB6 Multi log2\": 1.922578456508557}, {\"Name\": \"Intel Core i5-1135G7\", \"Designer\": \"Intel\", \"Launch date\": \"2020-07-01T00:00:00\", \"Cores\": 4, \"Age\": 4.8, \"Architecture\": \"Tiger Lake\", \"GB6 Single\": 1702.0, \"GB6 Multi\": 4694.0, \"Win11\": \"Yes\", \"Product URL\": \"https://www.intel.com/content/www/us/en/products/sku/208922/intel-core-i51135g7-processor-8m-cache-up-to-4-20-ghz-with-ipu/specifications.html\", \"GB6 Single log2\": 0.7672310370238756, \"GB6 Multi log2\": 2.230817841861083}, {\"Name\": \"Intel Core i5-1145G7\", \"Designer\": \"Intel\", \"Launch date\": \"2021-01-01T00:00:00\", \"Cores\": 4, \"Age\": 4.3, \"Architecture\": \"Tiger Lake\", \"GB6 Single\": 1766.0, \"GB6 Multi\": 4873.0, \"Win11\": \"Yes\", \"Product URL\": \"https://www.intel.com/content/www/us/en/products/sku/208660/intel-core-i51145g7-processor-8m-cache-up-to-4-40-ghz-with-ipu/specifications.html\", \"GB6 Single log2\": 0.820485342986379, \"GB6 Multi log2\": 2.2848102225302287}, {\"Name\": \"Intel Core i5-1235U\", \"Designer\": \"Intel\", \"Launch date\": \"2022-01-01T00:00:00\", \"Cores\": 10, \"Age\": 3.3, \"Architecture\": \"Alder Lake\", \"GB6 Single\": 1950.0, \"GB6 Multi\": 5846.0, \"Win11\": \"Yes\", \"Product URL\": \"https://www.intel.com/content/www/us/en/products/sku/226261/intel-core-i51235u-processor-12m-cache-up-to-4-40-ghz/specifications.html?wapkw=intel%20core%20i5-1235u\", \"GB6 Single log2\": 0.963474123974886, \"GB6 Multi log2\": 2.547449829143966}, {\"Name\": \"Intel Core i5-1245U\", \"Designer\": \"Intel\", \"Launch date\": \"2022-01-01T00:00:00\", \"Cores\": 10, \"Age\": 3.3, \"Architecture\": \"Alder Lake\", \"GB6 Single\": 1964.0, \"GB6 Multi\": 6269.0, \"Win11\": \"Yes\", \"Product URL\": \"https://www.intel.com/content/www/us/en/products/sku/226260/intel-core-i51245u-processor-12m-cache-up-to-4-40-ghz/specifications.html\", \"GB6 Single log2\": 0.973794929652606, \"GB6 Multi log2\": 2.6482353297736343}, {\"Name\": \"Intel Core i5-1335U\", \"Designer\": \"Intel\", \"Launch date\": \"2023-01-01T00:00:00\", \"Cores\": 10, \"Age\": 2.3, \"Architecture\": \"Raptor Lake\", \"GB6 Single\": 2103.0, \"GB6 Multi\": 6786.0, \"Win11\": \"Yes\", \"Product URL\": \"https://www.intel.com/content/www/us/en/products/sku/232153/intel-core-i51335u-processor-12m-cache-up-to-4-60-ghz/specifications.html\", \"GB6 Single log2\": 1.0724488500696925, \"GB6 Multi log2\": 2.7625614300488897}, {\"Name\": \"Intel Core i5-1345U\", \"Designer\": \"Intel\", \"Launch date\": \"2023-01-01T00:00:00\", \"Cores\": 10, \"Age\": 2.3, \"Architecture\": \"Raptor Lake\", \"GB6 Single\": 2202.0, \"GB6 Multi\": 6967.0, \"Win11\": \"Yes\", \"Product URL\": \"https://www.intel.com/content/www/us/en/products/sku/232127/intel-core-i51345u-processor-12m-cache-up-to-4-70-ghz/specifications.html?wapkw=i5-1345U\", \"GB6 Single log2\": 1.1388144689022819, \"GB6 Multi log2\": 2.800537563291874}, {\"Name\": \"Intel Core Ultra 5 125U\", \"Designer\": \"Intel\", \"Launch date\": \"2023-10-01T00:00:00\", \"Cores\": 12, \"Age\": 1.6, \"Architecture\": \"Metor Lake\", \"GB6 Single\": 2072.0, \"GB6 Multi\": 8107.0, \"Win11\": \"Yes\", \"Product URL\": \"https://www.intel.com/content/www/us/en/products/sku/237330/intel-core-ultra-5-processor-125u-12m-cache-up-to-4-30-ghz/specifications.html?wapkw=Intel%20Core%20Ultra%205%20125U\", \"GB6 Single log2\": 1.0510240030244669, \"GB6 Multi log2\": 3.0191681430702797}, {\"Name\": \"Intel Core Ultra 5 135U\", \"Designer\": \"Intel\", \"Launch date\": \"2023-10-01T00:00:00\", \"Cores\": 12, \"Age\": 1.6, \"Architecture\": \"Metor Lake\", \"GB6 Single\": 2132.0, \"GB6 Multi\": 8667.0, \"Win11\": \"Yes\", \"Product URL\": \"https://www.intel.com/content/www/us/en/products/sku/237328/intel-core-ultra-5-processor-135u-12m-cache-up-to-4-40-ghz/specifications.html?wapkw=Intel%20Core%20Ultra%205%20135U\", \"GB6 Single log2\": 1.092207438097089, \"GB6 Multi log2\": 3.1155327046236847}, {\"Name\": \"AMD Ryzen 7 PRO 2700U\", \"Designer\": \"AMD\", \"Launch date\": \"2017-10-01T00:00:00\", \"Cores\": 4, \"Age\": 7.6, \"Architecture\": \"Raven Ridge\", \"GB6 Single\": 914.0, \"GB6 Multi\": 2545.0, \"Win11\": \"Yes\", \"Product URL\": \"https://www.amd.com/en/support/downloads/drivers.html/processors/ryzen/ryzen-2000-series/amd-ryzen-7-2700u.html\", \"GB6 Single log2\": -0.12973392960401728, \"GB6 Multi log2\": 1.3476656563009706}, {\"Name\": \"AMD Ryzen 5 PRO 3500U\", \"Designer\": \"AMD\", \"Launch date\": \"2019-01-01T00:00:00\", \"Cores\": 4, \"Age\": 6.3, \"Architecture\": \"Picasso\", \"GB6 Single\": 949.0, \"GB6 Multi\": 2620.0, \"Win11\": \"Yes\", \"Product URL\": \"https://www.amd.com/en/support/downloads/drivers.html/processors/ryzen/ryzen-3000-series/amd-ryzen-5-3500u.html\", \"GB6 Single log2\": -0.07552000764097772, \"GB6 Multi log2\": 1.3895668117627256}, {\"Name\": \"AMD Ryzen 5 PRO 4650U\", \"Designer\": \"AMD\", \"Launch date\": \"2020-07-01T00:00:00\", \"Cores\": 6, \"Age\": 4.8, \"Architecture\": \"Renoir\", \"GB6 Single\": 1421.0, \"GB6 Multi\": 4590.0, \"Win11\": \"Yes\", \"Product URL\": \"https://www.amd.com/en/support/downloads/drivers.html/processors/ryzen-pro/ryzen-pro-4000-series/amd-ryzen-5-pro-4650u.html\", \"GB6 Single log2\": 0.5069065545806933, \"GB6 Multi log2\": 2.1984941536390834}, {\"Name\": \"AMD Ryzen 5 PRO 5650U\", \"Designer\": \"AMD\", \"Launch date\": \"2021-03-01T00:00:00\", \"Cores\": 6, \"Age\": 4.2, \"Architecture\": \"Cezanne\", \"GB6 Single\": 1740.0, \"GB6 Multi\": 5479.0, \"Win11\": \"Yes\", \"Product URL\": \"https://www.amd.com/en/support/downloads/drivers.html/processors/ryzen-pro/ryzen-pro-5000-series/amd-ryzen-5-pro-5650u.html\", \"GB6 Single log2\": 0.7990873060740036, \"GB6 Multi log2\": 2.4539126036438925}, {\"Name\": \"AMD Ryzen 5 PRO 6650U\", \"Designer\": \"AMD\", \"Launch date\": \"2022-04-19T00:00:00\", \"Cores\": 6, \"Age\": 3.0, \"Architecture\": \"Rembrandt\", \"GB6 Single\": 1828.0, \"GB6 Multi\": 6717.0, \"Win11\": \"Yes\", \"Product URL\": \"https://www.amd.com/en/support/downloads/drivers.html/processors/ryzen-pro/ryzen-pro-6000-series/amd-ryzen-5-pro-6650u.html\", \"GB6 Single log2\": 0.8702660703959827, \"GB6 Multi log2\": 2.747817028911667}, {\"Name\": \"AMD Ryzen 5 PRO 7540U\", \"Designer\": \"AMD\", \"Launch date\": \"2023-03-05T00:00:00\", \"Cores\": 6, \"Age\": 2.1, \"Architecture\": \"Phoenix\", \"GB6 Single\": 2226.0, \"GB6 Multi\": 8076.0, \"Win11\": \"Yes\", \"Product URL\": \"https://www.amd.com/en/products/processors/laptop/ryzen/7000-series/amd-ryzen-5-7540u.html\", \"GB6 Single log2\": 1.1544535926798725, \"GB6 Multi log2\": 3.013640910669386}, {\"Name\": \"AMD Ryzen 5 PRO 8540U\", \"Designer\": \"AMD\", \"Launch date\": \"2024-04-01T00:00:00\", \"Cores\": 6, \"Age\": 1.1, \"Architecture\": \"Hawk Point\", \"GB6 Single\": 2345.0, \"GB6 Multi\": 8081.0, \"Win11\": \"Yes\", \"Product URL\": \"https://www.amd.com/en/products/processors/laptop/ryzen-pro/8000-series/amd-ryzen-5-pro-8540u.html\", \"GB6 Single log2\": 1.2295879227406519, \"GB6 Multi log2\": 3.0145338332954577}]}}, {\"mode\": \"vega-lite\"});\n",
       "</script>"
      ],
      "text/plain": [
       "alt.LayerChart(...)"
      ]
     },
     "execution_count": 20,
     "metadata": {},
     "output_type": "execute_result"
    }
   ],
   "source": [
    "chart_dmulti_log2 = chart_date.encode(x='GB6 Multi log2')\n",
    "chart_single_multi_log2 = (chart_dsingle_log + chart_dmulti_log2).properties(\n",
    "    title='Single & Multi-Core Performance',\n",
    "    width=450\n",
    ")\n",
    "chart_single_multi_log2"
   ]
  },
  {
   "cell_type": "markdown",
   "id": "d925077c-f9ae-4193-9aa9-d2292cde27e7",
   "metadata": {},
   "source": [
    "### Adding regression lines\n",
    "\n",
    "- linear regression for log performance\n",
    "- exponetial law regression for linear performance\n",
    "\n",
    "Remark: the tooltip for the regression line only appears well in the linear plot (with exponential fit). In the log scale plot (linear fit), one needs to point the line end to get the tooltip... not nice"
   ]
  },
  {
   "cell_type": "markdown",
   "id": "94dc6cf8-48ca-4739-9f5e-c6cc12ce1bc8",
   "metadata": {},
   "source": [
    "Nice text for the regression lines"
   ]
  },
  {
   "cell_type": "code",
   "execution_count": 21,
   "id": "6cd72af0-a1f8-4be2-9108-d3b689762248",
   "metadata": {},
   "outputs": [
    {
     "data": {
      "text/plain": [
       "('+12%/y (doubling every 6.2y)', '+20%/y (doubling every 3.8y)')"
      ]
     },
     "execution_count": 21,
     "metadata": {},
     "output_type": "execute_result"
    }
   ],
   "source": [
    "tip_Single = alt.value(f'+{g_Single-1:.0%}/y (doubling every {T_Single:.1f}y)')\n",
    "tip_Multi = alt.value(f'+{g_Multi-1:.0%}/y (doubling every {T_Multi:.1f}y)')\n",
    "tip_Single['value'], tip_Multi['value']"
   ]
  },
  {
   "cell_type": "code",
   "execution_count": 22,
   "id": "ffe3bf8a-1106-40f9-b2a6-100c2284e034",
   "metadata": {},
   "outputs": [
    {
     "data": {
      "text/html": [
       "\n",
       "<style>\n",
       "  #altair-viz-1de04d4d80cc4a71be32b92cf50bdc10.vega-embed {\n",
       "    width: 100%;\n",
       "    display: flex;\n",
       "  }\n",
       "\n",
       "  #altair-viz-1de04d4d80cc4a71be32b92cf50bdc10.vega-embed details,\n",
       "  #altair-viz-1de04d4d80cc4a71be32b92cf50bdc10.vega-embed details summary {\n",
       "    position: relative;\n",
       "  }\n",
       "</style>\n",
       "<div id=\"altair-viz-1de04d4d80cc4a71be32b92cf50bdc10\"></div>\n",
       "<script type=\"text/javascript\">\n",
       "  var VEGA_DEBUG = (typeof VEGA_DEBUG == \"undefined\") ? {} : VEGA_DEBUG;\n",
       "  (function(spec, embedOpt){\n",
       "    let outputDiv = document.currentScript.previousElementSibling;\n",
       "    if (outputDiv.id !== \"altair-viz-1de04d4d80cc4a71be32b92cf50bdc10\") {\n",
       "      outputDiv = document.getElementById(\"altair-viz-1de04d4d80cc4a71be32b92cf50bdc10\");\n",
       "    }\n",
       "\n",
       "    const paths = {\n",
       "      \"vega\": \"https://cdn.jsdelivr.net/npm/vega@5?noext\",\n",
       "      \"vega-lib\": \"https://cdn.jsdelivr.net/npm/vega-lib?noext\",\n",
       "      \"vega-lite\": \"https://cdn.jsdelivr.net/npm/vega-lite@5.20.1?noext\",\n",
       "      \"vega-embed\": \"https://cdn.jsdelivr.net/npm/vega-embed@6?noext\",\n",
       "    };\n",
       "\n",
       "    function maybeLoadScript(lib, version) {\n",
       "      var key = `${lib.replace(\"-\", \"\")}_version`;\n",
       "      return (VEGA_DEBUG[key] == version) ?\n",
       "        Promise.resolve(paths[lib]) :\n",
       "        new Promise(function(resolve, reject) {\n",
       "          var s = document.createElement('script');\n",
       "          document.getElementsByTagName(\"head\")[0].appendChild(s);\n",
       "          s.async = true;\n",
       "          s.onload = () => {\n",
       "            VEGA_DEBUG[key] = version;\n",
       "            return resolve(paths[lib]);\n",
       "          };\n",
       "          s.onerror = () => reject(`Error loading script: ${paths[lib]}`);\n",
       "          s.src = paths[lib];\n",
       "        });\n",
       "    }\n",
       "\n",
       "    function showError(err) {\n",
       "      outputDiv.innerHTML = `<div class=\"error\" style=\"color:red;\">${err}</div>`;\n",
       "      throw err;\n",
       "    }\n",
       "\n",
       "    function displayChart(vegaEmbed) {\n",
       "      vegaEmbed(outputDiv, spec, embedOpt)\n",
       "        .catch(err => showError(`Javascript Error: ${err.message}<br>This usually means there's a typo in your chart specification. See the javascript console for the full traceback.`));\n",
       "    }\n",
       "\n",
       "    if(typeof define === \"function\" && define.amd) {\n",
       "      requirejs.config({paths});\n",
       "      let deps = [\"vega-embed\"];\n",
       "      require(deps, displayChart, err => showError(`Error loading script: ${err.message}`));\n",
       "    } else {\n",
       "      maybeLoadScript(\"vega\", \"5\")\n",
       "        .then(() => maybeLoadScript(\"vega-lite\", \"5.20.1\"))\n",
       "        .then(() => maybeLoadScript(\"vega-embed\", \"6\"))\n",
       "        .catch(showError)\n",
       "        .then(() => displayChart(vegaEmbed));\n",
       "    }\n",
       "  })({\"config\": {\"view\": {\"continuousWidth\": 300, \"continuousHeight\": 300}}, \"hconcat\": [{\"layer\": [{\"mark\": {\"type\": \"point\", \"filled\": true, \"size\": 150, \"strokeWidth\": 5}, \"encoding\": {\"color\": {\"condition\": {\"param\": \"highlight\", \"empty\": true, \"field\": \"Designer\", \"scale\": {\"scheme\": \"set1\"}, \"type\": \"nominal\"}, \"value\": \"lightgray\"}, \"order\": {\"value\": 0, \"condition\": [{\"param\": \"highlight\", \"value\": 1, \"empty\": false}]}, \"shape\": {\"field\": \"Designer\", \"type\": \"nominal\"}, \"tooltip\": [{\"field\": \"Name\", \"type\": \"nominal\"}, {\"field\": \"Architecture\", \"type\": \"nominal\"}, {\"field\": \"Cores\", \"type\": \"quantitative\"}, {\"field\": \"Launch date\", \"type\": \"temporal\"}, {\"field\": \"Win11\", \"type\": \"nominal\"}, {\"field\": \"GB6 Single\", \"type\": \"quantitative\"}, {\"field\": \"GB6 Multi\", \"type\": \"quantitative\"}], \"x\": {\"field\": \"GB6 Single log2\", \"type\": \"quantitative\"}, \"y\": {\"field\": \"Launch date\", \"type\": \"temporal\"}}, \"name\": \"view_6\", \"title\": \"Single-Core Performance\"}, {\"mark\": {\"type\": \"line\", \"color\": \"gray\", \"opacity\": 0.5, \"strokeCap\": \"round\", \"strokeDash\": [1, 8], \"strokeWidth\": 4}, \"encoding\": {\"tooltip\": {\"value\": \"+12%/y (doubling every 6.2y)\"}, \"x\": {\"field\": \"GB6 Single log2\", \"type\": \"quantitative\"}, \"y\": {\"field\": \"Launch date\", \"type\": \"temporal\"}}, \"transform\": [{\"on\": \"Launch date\", \"regression\": \"GB6 Single log2\"}]}]}, {\"layer\": [{\"mark\": {\"type\": \"point\", \"filled\": true, \"size\": 150, \"strokeWidth\": 5}, \"encoding\": {\"color\": {\"condition\": {\"param\": \"highlight\", \"empty\": true, \"field\": \"Designer\", \"scale\": {\"scheme\": \"set1\"}, \"type\": \"nominal\"}, \"value\": \"lightgray\"}, \"order\": {\"value\": 0, \"condition\": [{\"param\": \"highlight\", \"value\": 1, \"empty\": false}]}, \"shape\": {\"field\": \"Designer\", \"type\": \"nominal\"}, \"tooltip\": [{\"field\": \"Name\", \"type\": \"nominal\"}, {\"field\": \"Architecture\", \"type\": \"nominal\"}, {\"field\": \"Cores\", \"type\": \"quantitative\"}, {\"field\": \"Launch date\", \"type\": \"temporal\"}, {\"field\": \"Win11\", \"type\": \"nominal\"}, {\"field\": \"GB6 Single\", \"type\": \"quantitative\"}, {\"field\": \"GB6 Multi\", \"type\": \"quantitative\"}], \"x\": {\"field\": \"GB6 Multi log2\", \"type\": \"quantitative\"}, \"y\": {\"axis\": {\"labels\": false, \"title\": \"\"}, \"field\": \"Launch date\", \"type\": \"temporal\"}}, \"name\": \"view_7\", \"title\": \"Multi-Core Performance\"}, {\"mark\": {\"type\": \"line\", \"color\": \"gray\", \"opacity\": 0.5, \"strokeCap\": \"round\", \"strokeDash\": [1, 8], \"strokeWidth\": 4}, \"encoding\": {\"tooltip\": {\"value\": \"+20%/y (doubling every 3.8y)\"}, \"x\": {\"field\": \"GB6 Multi log2\", \"type\": \"quantitative\"}, \"y\": {\"field\": \"Launch date\", \"type\": \"temporal\"}}, \"transform\": [{\"on\": \"Launch date\", \"regression\": \"GB6 Multi log2\"}]}]}], \"data\": {\"name\": \"data-6522b5600cd5109ace11baad65474461\"}, \"params\": [{\"name\": \"highlight\", \"select\": {\"type\": \"point\", \"on\": \"pointerover\"}, \"views\": [\"view_6\", \"view_7\"]}], \"$schema\": \"https://vega.github.io/schema/vega-lite/v5.20.1.json\", \"datasets\": {\"data-6522b5600cd5109ace11baad65474461\": [{\"Name\": \"Intel Core i5-5200U\", \"Designer\": \"Intel\", \"Launch date\": \"2015-01-01T00:00:00\", \"Cores\": 2, \"Age\": 10.3, \"Architecture\": \"Broadwell\", \"GB6 Single\": 854.0, \"GB6 Multi\": 1611.0, \"Win11\": \"No\", \"Product URL\": \"https://www.intel.com/content/www/us/en/products/sku/85212/intel-core-i55200u-processor-3m-cache-up-to-2-70-ghz/specifications.html\", \"GB6 Single log2\": -0.2276920250415967, \"GB6 Multi log2\": 0.6879564940444818}, {\"Name\": \"Intel Core i5-5300U\", \"Designer\": \"Intel\", \"Launch date\": \"2015-01-01T00:00:00\", \"Cores\": 2, \"Age\": 10.3, \"Architecture\": \"Broadwell\", \"GB6 Single\": 908.0, \"GB6 Multi\": 1692.0, \"Win11\": \"No\", \"Product URL\": \"https://www.intel.com/content/www/us/en/products/sku/85213/intel-core-i55300u-processor-3m-cache-up-to-2-90-ghz/specifications.html\", \"GB6 Single log2\": -0.139235797371172, \"GB6 Multi log2\": 0.7587295684578627}, {\"Name\": \"Intel Core i5-6200U\", \"Designer\": \"Intel\", \"Launch date\": \"2015-07-01T00:00:00\", \"Cores\": 2, \"Age\": 9.8, \"Architecture\": \"Skylake\", \"GB6 Single\": 916.0, \"GB6 Multi\": 1832.0, \"Win11\": \"No\", \"Product URL\": \"https://www.intel.com/content/www/us/en/products/sku/88193/intel-core-i56200u-processor-3m-cache-up-to-2-80-ghz/specifications.html\", \"GB6 Single log2\": -0.12658049656514306, \"GB6 Multi log2\": 0.873419503434857}, {\"Name\": \"Intel Core i5-6300U\", \"Designer\": \"Intel\", \"Launch date\": \"2015-07-01T00:00:00\", \"Cores\": 2, \"Age\": 9.8, \"Architecture\": \"Skylake\", \"GB6 Single\": 965.0, \"GB6 Multi\": 1910.0, \"Win11\": \"No\", \"Product URL\": \"https://www.intel.com/content/www/us/en/products/sku/88190/intel-core-i56300u-processor-3m-cache-up-to-3-00-ghz/specifications.html\", \"GB6 Single log2\": -0.05139915250664432, \"GB6 Multi log2\": 0.9335726382610239}, {\"Name\": \"Intel Core i5-7200U\", \"Designer\": \"Intel\", \"Launch date\": \"2016-10-01T00:00:00\", \"Cores\": 2, \"Age\": 8.6, \"Architecture\": \"Kaby Lake\", \"GB6 Single\": 1009.0, \"GB6 Multi\": 1987.0, \"Win11\": \"No\", \"Product URL\": \"https://www.intel.com/content/www/us/en/products/sku/95443/intel-core-i57200u-processor-3m-cache-up-to-3-10-ghz/specifications.html\", \"GB6 Single log2\": 0.012926174444270048, \"GB6 Multi log2\": 0.9905918725875832}, {\"Name\": \"Intel Core i5-7300U\", \"Designer\": \"Intel\", \"Launch date\": \"2017-01-01T00:00:00\", \"Cores\": 2, \"Age\": 8.3, \"Architecture\": \"Kaby Lake\", \"GB6 Single\": 1088.0, \"GB6 Multi\": 2030.0, \"Win11\": \"No\", \"Product URL\": \"https://www.intel.com/content/www/us/en/products/sku/97472/intel-core-i57300u-processor-3m-cache-up-to-3-50-ghz/specifications.html\", \"GB6 Single log2\": 0.12167855658825247, \"GB6 Multi log2\": 1.0214797274104515}, {\"Name\": \"Intel Core i5-8250U\", \"Designer\": \"Intel\", \"Launch date\": \"2017-07-01T00:00:00\", \"Cores\": 4, \"Age\": 7.8, \"Architecture\": \"Kaby Lake R\", \"GB6 Single\": 1145.0, \"GB6 Multi\": 3126.0, \"Win11\": \"Yes\", \"Product URL\": \"https://www.intel.com/content/www/us/en/products/sku/124967/intel-core-i58250u-processor-6m-cache-up-to-3-40-ghz/specifications.html\", \"GB6 Single log2\": 0.19534759832221926, \"GB6 Multi log2\": 1.6443177783375773}, {\"Name\": \"Intel Core i5-8350U\", \"Designer\": \"Intel\", \"Launch date\": \"2017-07-01T00:00:00\", \"Cores\": 4, \"Age\": 7.8, \"Architecture\": \"Kaby Lake R\", \"GB6 Single\": 1191.0, \"GB6 Multi\": 3237.0, \"Win11\": \"Yes\", \"Product URL\": \"https://www.intel.com/content/www/us/en/products/sku/124969/intel-core-i58350u-processor-6m-cache-up-to-3-60-ghz/specifications.html\", \"GB6 Single log2\": 0.252173413202027, \"GB6 Multi log2\": 1.694657365547086}, {\"Name\": \"Intel Core i5-8265U\", \"Designer\": \"Intel\", \"Launch date\": \"2018-10-01T00:00:00\", \"Cores\": 4, \"Age\": 6.6, \"Architecture\": \"Whiskey Lake\", \"GB6 Single\": 1204.0, \"GB6 Multi\": 2926.0, \"Win11\": \"Yes\", \"Product URL\": \"https://www.intel.com/content/www/us/en/products/sku/149088/intel-core-i58265u-processor-6m-cache-up-to-3-90-ghz/specifications.html\", \"GB6 Single log2\": 0.267835392097615, \"GB6 Multi log2\": 1.5489297694764}, {\"Name\": \"Intel Core i5-8365U\", \"Designer\": \"Intel\", \"Launch date\": \"2019-04-01T00:00:00\", \"Cores\": 4, \"Age\": 6.1, \"Architecture\": \"Whiskey Lake\", \"GB6 Single\": 1270.0, \"GB6 Multi\": 3167.0, \"Win11\": \"Yes\", \"Product URL\": \"https://www.intel.com/content/www/us/en/products/sku/193555/intel-core-i58365u-processor-6m-cache-up-to-4-10-ghz/specifications.html\", \"GB6 Single log2\": 0.34482849699744117, \"GB6 Multi log2\": 1.6631168673661028}, {\"Name\": \"Intel Core i5-10210U\", \"Designer\": \"Intel\", \"Launch date\": \"2019-07-01T00:00:00\", \"Cores\": 4, \"Age\": 5.8, \"Architecture\": \"Comet Lake\", \"GB6 Single\": 1229.0, \"GB6 Multi\": 3088.0, \"Win11\": \"Yes\", \"Product URL\": \"https://www.intel.com/content/www/us/en/products/sku/195436/intel-core-i510210u-processor-6m-cache-up-to-4-20-ghz/specifications.html\", \"GB6 Single log2\": 0.2974849157105747, \"GB6 Multi log2\": 1.6266727526059934}, {\"Name\": \"Intel Core i5-10310U\", \"Designer\": \"Intel\", \"Launch date\": \"2020-04-01T00:00:00\", \"Cores\": 4, \"Age\": 5.1, \"Architecture\": \"Comet Lake\", \"GB6 Single\": 1297.0, \"GB6 Multi\": 3450.0, \"Win11\": \"Yes\", \"Product URL\": \"https://www.intel.com/content/www/us/en/products/sku/201892/intel-core-i510310u-processor-6m-cache-up-to-4-40-ghz/specifications.html\", \"GB6 Single log2\": 0.3751784795896123, \"GB6 Multi log2\": 1.7865963618908067}, {\"Name\": \"Intel Core i5-1035G4\", \"Designer\": \"Intel\", \"Launch date\": \"2019-10-01T00:00:00\", \"Cores\": 4, \"Age\": 5.6, \"Architecture\": \"Ice Lake\", \"GB6 Single\": 1435.0, \"GB6 Multi\": 3742.0, \"Win11\": \"Yes\", \"Product URL\": \"https://www.intel.com/content/www/us/en/products/sku/196591/intel-core-i51035g4-processor-6m-cache-up-to-3-70-ghz/specifications.html\", \"GB6 Single log2\": 0.5210507369009632, \"GB6 Multi log2\": 1.903809558578697}, {\"Name\": \"Intel Core i5-1035G7\", \"Designer\": \"Intel\", \"Launch date\": \"2019-10-01T00:00:00\", \"Cores\": 4, \"Age\": 5.6, \"Architecture\": \"Ice Lake\", \"GB6 Single\": 1419.0, \"GB6 Multi\": 3791.0, \"Win11\": \"Yes\", \"Product URL\": \"https://www.intel.com/content/www/us/en/products/sku/196592/intel-core-i51035g7-processor-6m-cache-up-to-3-70-ghz/specifications.html\", \"GB6 Single log2\": 0.5048745893984644, \"GB6 Multi log2\": 1.922578456508557}, {\"Name\": \"Intel Core i5-1135G7\", \"Designer\": \"Intel\", \"Launch date\": \"2020-07-01T00:00:00\", \"Cores\": 4, \"Age\": 4.8, \"Architecture\": \"Tiger Lake\", \"GB6 Single\": 1702.0, \"GB6 Multi\": 4694.0, \"Win11\": \"Yes\", \"Product URL\": \"https://www.intel.com/content/www/us/en/products/sku/208922/intel-core-i51135g7-processor-8m-cache-up-to-4-20-ghz-with-ipu/specifications.html\", \"GB6 Single log2\": 0.7672310370238756, \"GB6 Multi log2\": 2.230817841861083}, {\"Name\": \"Intel Core i5-1145G7\", \"Designer\": \"Intel\", \"Launch date\": \"2021-01-01T00:00:00\", \"Cores\": 4, \"Age\": 4.3, \"Architecture\": \"Tiger Lake\", \"GB6 Single\": 1766.0, \"GB6 Multi\": 4873.0, \"Win11\": \"Yes\", \"Product URL\": \"https://www.intel.com/content/www/us/en/products/sku/208660/intel-core-i51145g7-processor-8m-cache-up-to-4-40-ghz-with-ipu/specifications.html\", \"GB6 Single log2\": 0.820485342986379, \"GB6 Multi log2\": 2.2848102225302287}, {\"Name\": \"Intel Core i5-1235U\", \"Designer\": \"Intel\", \"Launch date\": \"2022-01-01T00:00:00\", \"Cores\": 10, \"Age\": 3.3, \"Architecture\": \"Alder Lake\", \"GB6 Single\": 1950.0, \"GB6 Multi\": 5846.0, \"Win11\": \"Yes\", \"Product URL\": \"https://www.intel.com/content/www/us/en/products/sku/226261/intel-core-i51235u-processor-12m-cache-up-to-4-40-ghz/specifications.html?wapkw=intel%20core%20i5-1235u\", \"GB6 Single log2\": 0.963474123974886, \"GB6 Multi log2\": 2.547449829143966}, {\"Name\": \"Intel Core i5-1245U\", \"Designer\": \"Intel\", \"Launch date\": \"2022-01-01T00:00:00\", \"Cores\": 10, \"Age\": 3.3, \"Architecture\": \"Alder Lake\", \"GB6 Single\": 1964.0, \"GB6 Multi\": 6269.0, \"Win11\": \"Yes\", \"Product URL\": \"https://www.intel.com/content/www/us/en/products/sku/226260/intel-core-i51245u-processor-12m-cache-up-to-4-40-ghz/specifications.html\", \"GB6 Single log2\": 0.973794929652606, \"GB6 Multi log2\": 2.6482353297736343}, {\"Name\": \"Intel Core i5-1335U\", \"Designer\": \"Intel\", \"Launch date\": \"2023-01-01T00:00:00\", \"Cores\": 10, \"Age\": 2.3, \"Architecture\": \"Raptor Lake\", \"GB6 Single\": 2103.0, \"GB6 Multi\": 6786.0, \"Win11\": \"Yes\", \"Product URL\": \"https://www.intel.com/content/www/us/en/products/sku/232153/intel-core-i51335u-processor-12m-cache-up-to-4-60-ghz/specifications.html\", \"GB6 Single log2\": 1.0724488500696925, \"GB6 Multi log2\": 2.7625614300488897}, {\"Name\": \"Intel Core i5-1345U\", \"Designer\": \"Intel\", \"Launch date\": \"2023-01-01T00:00:00\", \"Cores\": 10, \"Age\": 2.3, \"Architecture\": \"Raptor Lake\", \"GB6 Single\": 2202.0, \"GB6 Multi\": 6967.0, \"Win11\": \"Yes\", \"Product URL\": \"https://www.intel.com/content/www/us/en/products/sku/232127/intel-core-i51345u-processor-12m-cache-up-to-4-70-ghz/specifications.html?wapkw=i5-1345U\", \"GB6 Single log2\": 1.1388144689022819, \"GB6 Multi log2\": 2.800537563291874}, {\"Name\": \"Intel Core Ultra 5 125U\", \"Designer\": \"Intel\", \"Launch date\": \"2023-10-01T00:00:00\", \"Cores\": 12, \"Age\": 1.6, \"Architecture\": \"Metor Lake\", \"GB6 Single\": 2072.0, \"GB6 Multi\": 8107.0, \"Win11\": \"Yes\", \"Product URL\": \"https://www.intel.com/content/www/us/en/products/sku/237330/intel-core-ultra-5-processor-125u-12m-cache-up-to-4-30-ghz/specifications.html?wapkw=Intel%20Core%20Ultra%205%20125U\", \"GB6 Single log2\": 1.0510240030244669, \"GB6 Multi log2\": 3.0191681430702797}, {\"Name\": \"Intel Core Ultra 5 135U\", \"Designer\": \"Intel\", \"Launch date\": \"2023-10-01T00:00:00\", \"Cores\": 12, \"Age\": 1.6, \"Architecture\": \"Metor Lake\", \"GB6 Single\": 2132.0, \"GB6 Multi\": 8667.0, \"Win11\": \"Yes\", \"Product URL\": \"https://www.intel.com/content/www/us/en/products/sku/237328/intel-core-ultra-5-processor-135u-12m-cache-up-to-4-40-ghz/specifications.html?wapkw=Intel%20Core%20Ultra%205%20135U\", \"GB6 Single log2\": 1.092207438097089, \"GB6 Multi log2\": 3.1155327046236847}, {\"Name\": \"AMD Ryzen 7 PRO 2700U\", \"Designer\": \"AMD\", \"Launch date\": \"2017-10-01T00:00:00\", \"Cores\": 4, \"Age\": 7.6, \"Architecture\": \"Raven Ridge\", \"GB6 Single\": 914.0, \"GB6 Multi\": 2545.0, \"Win11\": \"Yes\", \"Product URL\": \"https://www.amd.com/en/support/downloads/drivers.html/processors/ryzen/ryzen-2000-series/amd-ryzen-7-2700u.html\", \"GB6 Single log2\": -0.12973392960401728, \"GB6 Multi log2\": 1.3476656563009706}, {\"Name\": \"AMD Ryzen 5 PRO 3500U\", \"Designer\": \"AMD\", \"Launch date\": \"2019-01-01T00:00:00\", \"Cores\": 4, \"Age\": 6.3, \"Architecture\": \"Picasso\", \"GB6 Single\": 949.0, \"GB6 Multi\": 2620.0, \"Win11\": \"Yes\", \"Product URL\": \"https://www.amd.com/en/support/downloads/drivers.html/processors/ryzen/ryzen-3000-series/amd-ryzen-5-3500u.html\", \"GB6 Single log2\": -0.07552000764097772, \"GB6 Multi log2\": 1.3895668117627256}, {\"Name\": \"AMD Ryzen 5 PRO 4650U\", \"Designer\": \"AMD\", \"Launch date\": \"2020-07-01T00:00:00\", \"Cores\": 6, \"Age\": 4.8, \"Architecture\": \"Renoir\", \"GB6 Single\": 1421.0, \"GB6 Multi\": 4590.0, \"Win11\": \"Yes\", \"Product URL\": \"https://www.amd.com/en/support/downloads/drivers.html/processors/ryzen-pro/ryzen-pro-4000-series/amd-ryzen-5-pro-4650u.html\", \"GB6 Single log2\": 0.5069065545806933, \"GB6 Multi log2\": 2.1984941536390834}, {\"Name\": \"AMD Ryzen 5 PRO 5650U\", \"Designer\": \"AMD\", \"Launch date\": \"2021-03-01T00:00:00\", \"Cores\": 6, \"Age\": 4.2, \"Architecture\": \"Cezanne\", \"GB6 Single\": 1740.0, \"GB6 Multi\": 5479.0, \"Win11\": \"Yes\", \"Product URL\": \"https://www.amd.com/en/support/downloads/drivers.html/processors/ryzen-pro/ryzen-pro-5000-series/amd-ryzen-5-pro-5650u.html\", \"GB6 Single log2\": 0.7990873060740036, \"GB6 Multi log2\": 2.4539126036438925}, {\"Name\": \"AMD Ryzen 5 PRO 6650U\", \"Designer\": \"AMD\", \"Launch date\": \"2022-04-19T00:00:00\", \"Cores\": 6, \"Age\": 3.0, \"Architecture\": \"Rembrandt\", \"GB6 Single\": 1828.0, \"GB6 Multi\": 6717.0, \"Win11\": \"Yes\", \"Product URL\": \"https://www.amd.com/en/support/downloads/drivers.html/processors/ryzen-pro/ryzen-pro-6000-series/amd-ryzen-5-pro-6650u.html\", \"GB6 Single log2\": 0.8702660703959827, \"GB6 Multi log2\": 2.747817028911667}, {\"Name\": \"AMD Ryzen 5 PRO 7540U\", \"Designer\": \"AMD\", \"Launch date\": \"2023-03-05T00:00:00\", \"Cores\": 6, \"Age\": 2.1, \"Architecture\": \"Phoenix\", \"GB6 Single\": 2226.0, \"GB6 Multi\": 8076.0, \"Win11\": \"Yes\", \"Product URL\": \"https://www.amd.com/en/products/processors/laptop/ryzen/7000-series/amd-ryzen-5-7540u.html\", \"GB6 Single log2\": 1.1544535926798725, \"GB6 Multi log2\": 3.013640910669386}, {\"Name\": \"AMD Ryzen 5 PRO 8540U\", \"Designer\": \"AMD\", \"Launch date\": \"2024-04-01T00:00:00\", \"Cores\": 6, \"Age\": 1.1, \"Architecture\": \"Hawk Point\", \"GB6 Single\": 2345.0, \"GB6 Multi\": 8081.0, \"Win11\": \"Yes\", \"Product URL\": \"https://www.amd.com/en/products/processors/laptop/ryzen-pro/8000-series/amd-ryzen-5-pro-8540u.html\", \"GB6 Single log2\": 1.2295879227406519, \"GB6 Multi log2\": 3.0145338332954577}]}}, {\"mode\": \"vega-lite\"});\n",
       "</script>"
      ],
      "text/plain": [
       "alt.HConcatChart(...)"
      ]
     },
     "execution_count": 22,
     "metadata": {},
     "output_type": "execute_result"
    }
   ],
   "source": [
    "chart_regline = alt.Chart(cpus).mark_line(color='gray', opacity=0.5, strokeWidth=4, strokeCap='round', strokeDash=(1,8))\n",
    "chart_dsingle_logreg = chart_regline.encode(\n",
    "    y='Launch date',\n",
    "    x='GB6 Single log2',\n",
    "    tooltip=tip_Single,\n",
    ").transform_regression('Launch date', 'GB6 Single log2')\n",
    "chart_dmulti_logreg = chart_regline.encode(\n",
    "    y='Launch date',\n",
    "    x='GB6 Multi log2',\n",
    "    tooltip=tip_Multi,\n",
    ").transform_regression('Launch date', 'GB6 Multi log2')\n",
    "\n",
    "(chart_dsingle_log + chart_dsingle_logreg) | (chart_dmulti_log + chart_dmulti_logreg)"
   ]
  },
  {
   "cell_type": "markdown",
   "id": "627a876b-cbc2-485a-bf14-b661620ef08d",
   "metadata": {},
   "source": [
    "Variant with the two plots superimposed"
   ]
  },
  {
   "cell_type": "code",
   "execution_count": 29,
   "id": "35a11f73-b875-4ffc-98b4-01f28787508e",
   "metadata": {},
   "outputs": [
    {
     "data": {
      "text/html": [
       "\n",
       "<style>\n",
       "  #altair-viz-1c45985d1a6d4c069feb8869a0e1dc3f.vega-embed {\n",
       "    width: 100%;\n",
       "    display: flex;\n",
       "  }\n",
       "\n",
       "  #altair-viz-1c45985d1a6d4c069feb8869a0e1dc3f.vega-embed details,\n",
       "  #altair-viz-1c45985d1a6d4c069feb8869a0e1dc3f.vega-embed details summary {\n",
       "    position: relative;\n",
       "  }\n",
       "</style>\n",
       "<div id=\"altair-viz-1c45985d1a6d4c069feb8869a0e1dc3f\"></div>\n",
       "<script type=\"text/javascript\">\n",
       "  var VEGA_DEBUG = (typeof VEGA_DEBUG == \"undefined\") ? {} : VEGA_DEBUG;\n",
       "  (function(spec, embedOpt){\n",
       "    let outputDiv = document.currentScript.previousElementSibling;\n",
       "    if (outputDiv.id !== \"altair-viz-1c45985d1a6d4c069feb8869a0e1dc3f\") {\n",
       "      outputDiv = document.getElementById(\"altair-viz-1c45985d1a6d4c069feb8869a0e1dc3f\");\n",
       "    }\n",
       "\n",
       "    const paths = {\n",
       "      \"vega\": \"https://cdn.jsdelivr.net/npm/vega@5?noext\",\n",
       "      \"vega-lib\": \"https://cdn.jsdelivr.net/npm/vega-lib?noext\",\n",
       "      \"vega-lite\": \"https://cdn.jsdelivr.net/npm/vega-lite@5.20.1?noext\",\n",
       "      \"vega-embed\": \"https://cdn.jsdelivr.net/npm/vega-embed@6?noext\",\n",
       "    };\n",
       "\n",
       "    function maybeLoadScript(lib, version) {\n",
       "      var key = `${lib.replace(\"-\", \"\")}_version`;\n",
       "      return (VEGA_DEBUG[key] == version) ?\n",
       "        Promise.resolve(paths[lib]) :\n",
       "        new Promise(function(resolve, reject) {\n",
       "          var s = document.createElement('script');\n",
       "          document.getElementsByTagName(\"head\")[0].appendChild(s);\n",
       "          s.async = true;\n",
       "          s.onload = () => {\n",
       "            VEGA_DEBUG[key] = version;\n",
       "            return resolve(paths[lib]);\n",
       "          };\n",
       "          s.onerror = () => reject(`Error loading script: ${paths[lib]}`);\n",
       "          s.src = paths[lib];\n",
       "        });\n",
       "    }\n",
       "\n",
       "    function showError(err) {\n",
       "      outputDiv.innerHTML = `<div class=\"error\" style=\"color:red;\">${err}</div>`;\n",
       "      throw err;\n",
       "    }\n",
       "\n",
       "    function displayChart(vegaEmbed) {\n",
       "      vegaEmbed(outputDiv, spec, embedOpt)\n",
       "        .catch(err => showError(`Javascript Error: ${err.message}<br>This usually means there's a typo in your chart specification. See the javascript console for the full traceback.`));\n",
       "    }\n",
       "\n",
       "    if(typeof define === \"function\" && define.amd) {\n",
       "      requirejs.config({paths});\n",
       "      let deps = [\"vega-embed\"];\n",
       "      require(deps, displayChart, err => showError(`Error loading script: ${err.message}`));\n",
       "    } else {\n",
       "      maybeLoadScript(\"vega\", \"5\")\n",
       "        .then(() => maybeLoadScript(\"vega-lite\", \"5.20.1\"))\n",
       "        .then(() => maybeLoadScript(\"vega-embed\", \"6\"))\n",
       "        .catch(showError)\n",
       "        .then(() => displayChart(vegaEmbed));\n",
       "    }\n",
       "  })({\"config\": {\"view\": {\"continuousWidth\": 300, \"continuousHeight\": 300}}, \"layer\": [{\"mark\": {\"type\": \"point\", \"filled\": true, \"size\": 150, \"strokeWidth\": 5}, \"encoding\": {\"color\": {\"condition\": {\"param\": \"highlight\", \"empty\": true, \"field\": \"Designer\", \"scale\": {\"scheme\": \"set1\"}, \"type\": \"nominal\"}, \"value\": \"lightgray\"}, \"order\": {\"value\": 0, \"condition\": [{\"param\": \"highlight\", \"value\": 1, \"empty\": false}]}, \"shape\": {\"field\": \"Designer\", \"type\": \"nominal\"}, \"tooltip\": [{\"field\": \"Name\", \"type\": \"nominal\"}, {\"field\": \"Architecture\", \"type\": \"nominal\"}, {\"field\": \"Cores\", \"type\": \"quantitative\"}, {\"field\": \"Launch date\", \"type\": \"temporal\"}, {\"field\": \"Win11\", \"type\": \"nominal\"}, {\"field\": \"GB6 Single\", \"type\": \"quantitative\"}, {\"field\": \"GB6 Multi\", \"type\": \"quantitative\"}], \"x\": {\"field\": \"GB6 Single log2\", \"type\": \"quantitative\"}, \"y\": {\"field\": \"Launch date\", \"type\": \"temporal\"}}, \"name\": \"view_5\", \"title\": \"Single-Core Performance\"}, {\"mark\": {\"type\": \"point\", \"filled\": true, \"size\": 150, \"strokeWidth\": 5}, \"encoding\": {\"color\": {\"condition\": {\"param\": \"highlight\", \"empty\": true, \"field\": \"Designer\", \"scale\": {\"scheme\": \"set1\"}, \"type\": \"nominal\"}, \"value\": \"lightgray\"}, \"order\": {\"value\": 0, \"condition\": [{\"param\": \"highlight\", \"value\": 1, \"empty\": false}]}, \"shape\": {\"field\": \"Designer\", \"type\": \"nominal\"}, \"tooltip\": [{\"field\": \"Name\", \"type\": \"nominal\"}, {\"field\": \"Architecture\", \"type\": \"nominal\"}, {\"field\": \"Cores\", \"type\": \"quantitative\"}, {\"field\": \"Launch date\", \"type\": \"temporal\"}, {\"field\": \"Win11\", \"type\": \"nominal\"}, {\"field\": \"GB6 Single\", \"type\": \"quantitative\"}, {\"field\": \"GB6 Multi\", \"type\": \"quantitative\"}], \"x\": {\"field\": \"GB6 Multi log2\", \"type\": \"quantitative\"}, \"y\": {\"field\": \"Launch date\", \"type\": \"temporal\"}}}, {\"mark\": {\"type\": \"line\", \"color\": \"gray\", \"opacity\": 0.5, \"strokeCap\": \"round\", \"strokeDash\": [1, 8], \"strokeWidth\": 4}, \"encoding\": {\"tooltip\": {\"value\": \"+12%/y (doubling every 6.2y)\"}, \"x\": {\"field\": \"GB6 Single log2\", \"type\": \"quantitative\"}, \"y\": {\"field\": \"Launch date\", \"type\": \"temporal\"}}, \"transform\": [{\"on\": \"Launch date\", \"regression\": \"GB6 Single log2\"}]}, {\"mark\": {\"type\": \"line\", \"color\": \"gray\", \"opacity\": 0.5, \"strokeCap\": \"round\", \"strokeDash\": [1, 8], \"strokeWidth\": 4}, \"encoding\": {\"tooltip\": {\"value\": \"+20%/y (doubling every 3.8y)\"}, \"x\": {\"field\": \"GB6 Multi log2\", \"type\": \"quantitative\"}, \"y\": {\"field\": \"Launch date\", \"type\": \"temporal\"}}, \"transform\": [{\"on\": \"Launch date\", \"regression\": \"GB6 Multi log2\"}]}], \"data\": {\"name\": \"data-6522b5600cd5109ace11baad65474461\"}, \"params\": [{\"name\": \"highlight\", \"select\": {\"type\": \"point\", \"on\": \"pointerover\"}, \"views\": [\"view_5\"]}], \"title\": \"Single & Multi-Core Performance\", \"width\": 450, \"$schema\": \"https://vega.github.io/schema/vega-lite/v5.20.1.json\", \"datasets\": {\"data-6522b5600cd5109ace11baad65474461\": [{\"Name\": \"Intel Core i5-5200U\", \"Designer\": \"Intel\", \"Launch date\": \"2015-01-01T00:00:00\", \"Cores\": 2, \"Age\": 10.3, \"Architecture\": \"Broadwell\", \"GB6 Single\": 854.0, \"GB6 Multi\": 1611.0, \"Win11\": \"No\", \"Product URL\": \"https://www.intel.com/content/www/us/en/products/sku/85212/intel-core-i55200u-processor-3m-cache-up-to-2-70-ghz/specifications.html\", \"GB6 Single log2\": -0.2276920250415967, \"GB6 Multi log2\": 0.6879564940444818}, {\"Name\": \"Intel Core i5-5300U\", \"Designer\": \"Intel\", \"Launch date\": \"2015-01-01T00:00:00\", \"Cores\": 2, \"Age\": 10.3, \"Architecture\": \"Broadwell\", \"GB6 Single\": 908.0, \"GB6 Multi\": 1692.0, \"Win11\": \"No\", \"Product URL\": \"https://www.intel.com/content/www/us/en/products/sku/85213/intel-core-i55300u-processor-3m-cache-up-to-2-90-ghz/specifications.html\", \"GB6 Single log2\": -0.139235797371172, \"GB6 Multi log2\": 0.7587295684578627}, {\"Name\": \"Intel Core i5-6200U\", \"Designer\": \"Intel\", \"Launch date\": \"2015-07-01T00:00:00\", \"Cores\": 2, \"Age\": 9.8, \"Architecture\": \"Skylake\", \"GB6 Single\": 916.0, \"GB6 Multi\": 1832.0, \"Win11\": \"No\", \"Product URL\": \"https://www.intel.com/content/www/us/en/products/sku/88193/intel-core-i56200u-processor-3m-cache-up-to-2-80-ghz/specifications.html\", \"GB6 Single log2\": -0.12658049656514306, \"GB6 Multi log2\": 0.873419503434857}, {\"Name\": \"Intel Core i5-6300U\", \"Designer\": \"Intel\", \"Launch date\": \"2015-07-01T00:00:00\", \"Cores\": 2, \"Age\": 9.8, \"Architecture\": \"Skylake\", \"GB6 Single\": 965.0, \"GB6 Multi\": 1910.0, \"Win11\": \"No\", \"Product URL\": \"https://www.intel.com/content/www/us/en/products/sku/88190/intel-core-i56300u-processor-3m-cache-up-to-3-00-ghz/specifications.html\", \"GB6 Single log2\": -0.05139915250664432, \"GB6 Multi log2\": 0.9335726382610239}, {\"Name\": \"Intel Core i5-7200U\", \"Designer\": \"Intel\", \"Launch date\": \"2016-10-01T00:00:00\", \"Cores\": 2, \"Age\": 8.6, \"Architecture\": \"Kaby Lake\", \"GB6 Single\": 1009.0, \"GB6 Multi\": 1987.0, \"Win11\": \"No\", \"Product URL\": \"https://www.intel.com/content/www/us/en/products/sku/95443/intel-core-i57200u-processor-3m-cache-up-to-3-10-ghz/specifications.html\", \"GB6 Single log2\": 0.012926174444270048, \"GB6 Multi log2\": 0.9905918725875832}, {\"Name\": \"Intel Core i5-7300U\", \"Designer\": \"Intel\", \"Launch date\": \"2017-01-01T00:00:00\", \"Cores\": 2, \"Age\": 8.3, \"Architecture\": \"Kaby Lake\", \"GB6 Single\": 1088.0, \"GB6 Multi\": 2030.0, \"Win11\": \"No\", \"Product URL\": \"https://www.intel.com/content/www/us/en/products/sku/97472/intel-core-i57300u-processor-3m-cache-up-to-3-50-ghz/specifications.html\", \"GB6 Single log2\": 0.12167855658825247, \"GB6 Multi log2\": 1.0214797274104515}, {\"Name\": \"Intel Core i5-8250U\", \"Designer\": \"Intel\", \"Launch date\": \"2017-07-01T00:00:00\", \"Cores\": 4, \"Age\": 7.8, \"Architecture\": \"Kaby Lake R\", \"GB6 Single\": 1145.0, \"GB6 Multi\": 3126.0, \"Win11\": \"Yes\", \"Product URL\": \"https://www.intel.com/content/www/us/en/products/sku/124967/intel-core-i58250u-processor-6m-cache-up-to-3-40-ghz/specifications.html\", \"GB6 Single log2\": 0.19534759832221926, \"GB6 Multi log2\": 1.6443177783375773}, {\"Name\": \"Intel Core i5-8350U\", \"Designer\": \"Intel\", \"Launch date\": \"2017-07-01T00:00:00\", \"Cores\": 4, \"Age\": 7.8, \"Architecture\": \"Kaby Lake R\", \"GB6 Single\": 1191.0, \"GB6 Multi\": 3237.0, \"Win11\": \"Yes\", \"Product URL\": \"https://www.intel.com/content/www/us/en/products/sku/124969/intel-core-i58350u-processor-6m-cache-up-to-3-60-ghz/specifications.html\", \"GB6 Single log2\": 0.252173413202027, \"GB6 Multi log2\": 1.694657365547086}, {\"Name\": \"Intel Core i5-8265U\", \"Designer\": \"Intel\", \"Launch date\": \"2018-10-01T00:00:00\", \"Cores\": 4, \"Age\": 6.6, \"Architecture\": \"Whiskey Lake\", \"GB6 Single\": 1204.0, \"GB6 Multi\": 2926.0, \"Win11\": \"Yes\", \"Product URL\": \"https://www.intel.com/content/www/us/en/products/sku/149088/intel-core-i58265u-processor-6m-cache-up-to-3-90-ghz/specifications.html\", \"GB6 Single log2\": 0.267835392097615, \"GB6 Multi log2\": 1.5489297694764}, {\"Name\": \"Intel Core i5-8365U\", \"Designer\": \"Intel\", \"Launch date\": \"2019-04-01T00:00:00\", \"Cores\": 4, \"Age\": 6.1, \"Architecture\": \"Whiskey Lake\", \"GB6 Single\": 1270.0, \"GB6 Multi\": 3167.0, \"Win11\": \"Yes\", \"Product URL\": \"https://www.intel.com/content/www/us/en/products/sku/193555/intel-core-i58365u-processor-6m-cache-up-to-4-10-ghz/specifications.html\", \"GB6 Single log2\": 0.34482849699744117, \"GB6 Multi log2\": 1.6631168673661028}, {\"Name\": \"Intel Core i5-10210U\", \"Designer\": \"Intel\", \"Launch date\": \"2019-07-01T00:00:00\", \"Cores\": 4, \"Age\": 5.8, \"Architecture\": \"Comet Lake\", \"GB6 Single\": 1229.0, \"GB6 Multi\": 3088.0, \"Win11\": \"Yes\", \"Product URL\": \"https://www.intel.com/content/www/us/en/products/sku/195436/intel-core-i510210u-processor-6m-cache-up-to-4-20-ghz/specifications.html\", \"GB6 Single log2\": 0.2974849157105747, \"GB6 Multi log2\": 1.6266727526059934}, {\"Name\": \"Intel Core i5-10310U\", \"Designer\": \"Intel\", \"Launch date\": \"2020-04-01T00:00:00\", \"Cores\": 4, \"Age\": 5.1, \"Architecture\": \"Comet Lake\", \"GB6 Single\": 1297.0, \"GB6 Multi\": 3450.0, \"Win11\": \"Yes\", \"Product URL\": \"https://www.intel.com/content/www/us/en/products/sku/201892/intel-core-i510310u-processor-6m-cache-up-to-4-40-ghz/specifications.html\", \"GB6 Single log2\": 0.3751784795896123, \"GB6 Multi log2\": 1.7865963618908067}, {\"Name\": \"Intel Core i5-1035G4\", \"Designer\": \"Intel\", \"Launch date\": \"2019-10-01T00:00:00\", \"Cores\": 4, \"Age\": 5.6, \"Architecture\": \"Ice Lake\", \"GB6 Single\": 1435.0, \"GB6 Multi\": 3742.0, \"Win11\": \"Yes\", \"Product URL\": \"https://www.intel.com/content/www/us/en/products/sku/196591/intel-core-i51035g4-processor-6m-cache-up-to-3-70-ghz/specifications.html\", \"GB6 Single log2\": 0.5210507369009632, \"GB6 Multi log2\": 1.903809558578697}, {\"Name\": \"Intel Core i5-1035G7\", \"Designer\": \"Intel\", \"Launch date\": \"2019-10-01T00:00:00\", \"Cores\": 4, \"Age\": 5.6, \"Architecture\": \"Ice Lake\", \"GB6 Single\": 1419.0, \"GB6 Multi\": 3791.0, \"Win11\": \"Yes\", \"Product URL\": \"https://www.intel.com/content/www/us/en/products/sku/196592/intel-core-i51035g7-processor-6m-cache-up-to-3-70-ghz/specifications.html\", \"GB6 Single log2\": 0.5048745893984644, \"GB6 Multi log2\": 1.922578456508557}, {\"Name\": \"Intel Core i5-1135G7\", \"Designer\": \"Intel\", \"Launch date\": \"2020-07-01T00:00:00\", \"Cores\": 4, \"Age\": 4.8, \"Architecture\": \"Tiger Lake\", \"GB6 Single\": 1702.0, \"GB6 Multi\": 4694.0, \"Win11\": \"Yes\", \"Product URL\": \"https://www.intel.com/content/www/us/en/products/sku/208922/intel-core-i51135g7-processor-8m-cache-up-to-4-20-ghz-with-ipu/specifications.html\", \"GB6 Single log2\": 0.7672310370238756, \"GB6 Multi log2\": 2.230817841861083}, {\"Name\": \"Intel Core i5-1145G7\", \"Designer\": \"Intel\", \"Launch date\": \"2021-01-01T00:00:00\", \"Cores\": 4, \"Age\": 4.3, \"Architecture\": \"Tiger Lake\", \"GB6 Single\": 1766.0, \"GB6 Multi\": 4873.0, \"Win11\": \"Yes\", \"Product URL\": \"https://www.intel.com/content/www/us/en/products/sku/208660/intel-core-i51145g7-processor-8m-cache-up-to-4-40-ghz-with-ipu/specifications.html\", \"GB6 Single log2\": 0.820485342986379, \"GB6 Multi log2\": 2.2848102225302287}, {\"Name\": \"Intel Core i5-1235U\", \"Designer\": \"Intel\", \"Launch date\": \"2022-01-01T00:00:00\", \"Cores\": 10, \"Age\": 3.3, \"Architecture\": \"Alder Lake\", \"GB6 Single\": 1950.0, \"GB6 Multi\": 5846.0, \"Win11\": \"Yes\", \"Product URL\": \"https://www.intel.com/content/www/us/en/products/sku/226261/intel-core-i51235u-processor-12m-cache-up-to-4-40-ghz/specifications.html?wapkw=intel%20core%20i5-1235u\", \"GB6 Single log2\": 0.963474123974886, \"GB6 Multi log2\": 2.547449829143966}, {\"Name\": \"Intel Core i5-1245U\", \"Designer\": \"Intel\", \"Launch date\": \"2022-01-01T00:00:00\", \"Cores\": 10, \"Age\": 3.3, \"Architecture\": \"Alder Lake\", \"GB6 Single\": 1964.0, \"GB6 Multi\": 6269.0, \"Win11\": \"Yes\", \"Product URL\": \"https://www.intel.com/content/www/us/en/products/sku/226260/intel-core-i51245u-processor-12m-cache-up-to-4-40-ghz/specifications.html\", \"GB6 Single log2\": 0.973794929652606, \"GB6 Multi log2\": 2.6482353297736343}, {\"Name\": \"Intel Core i5-1335U\", \"Designer\": \"Intel\", \"Launch date\": \"2023-01-01T00:00:00\", \"Cores\": 10, \"Age\": 2.3, \"Architecture\": \"Raptor Lake\", \"GB6 Single\": 2103.0, \"GB6 Multi\": 6786.0, \"Win11\": \"Yes\", \"Product URL\": \"https://www.intel.com/content/www/us/en/products/sku/232153/intel-core-i51335u-processor-12m-cache-up-to-4-60-ghz/specifications.html\", \"GB6 Single log2\": 1.0724488500696925, \"GB6 Multi log2\": 2.7625614300488897}, {\"Name\": \"Intel Core i5-1345U\", \"Designer\": \"Intel\", \"Launch date\": \"2023-01-01T00:00:00\", \"Cores\": 10, \"Age\": 2.3, \"Architecture\": \"Raptor Lake\", \"GB6 Single\": 2202.0, \"GB6 Multi\": 6967.0, \"Win11\": \"Yes\", \"Product URL\": \"https://www.intel.com/content/www/us/en/products/sku/232127/intel-core-i51345u-processor-12m-cache-up-to-4-70-ghz/specifications.html?wapkw=i5-1345U\", \"GB6 Single log2\": 1.1388144689022819, \"GB6 Multi log2\": 2.800537563291874}, {\"Name\": \"Intel Core Ultra 5 125U\", \"Designer\": \"Intel\", \"Launch date\": \"2023-10-01T00:00:00\", \"Cores\": 12, \"Age\": 1.6, \"Architecture\": \"Metor Lake\", \"GB6 Single\": 2072.0, \"GB6 Multi\": 8107.0, \"Win11\": \"Yes\", \"Product URL\": \"https://www.intel.com/content/www/us/en/products/sku/237330/intel-core-ultra-5-processor-125u-12m-cache-up-to-4-30-ghz/specifications.html?wapkw=Intel%20Core%20Ultra%205%20125U\", \"GB6 Single log2\": 1.0510240030244669, \"GB6 Multi log2\": 3.0191681430702797}, {\"Name\": \"Intel Core Ultra 5 135U\", \"Designer\": \"Intel\", \"Launch date\": \"2023-10-01T00:00:00\", \"Cores\": 12, \"Age\": 1.6, \"Architecture\": \"Metor Lake\", \"GB6 Single\": 2132.0, \"GB6 Multi\": 8667.0, \"Win11\": \"Yes\", \"Product URL\": \"https://www.intel.com/content/www/us/en/products/sku/237328/intel-core-ultra-5-processor-135u-12m-cache-up-to-4-40-ghz/specifications.html?wapkw=Intel%20Core%20Ultra%205%20135U\", \"GB6 Single log2\": 1.092207438097089, \"GB6 Multi log2\": 3.1155327046236847}, {\"Name\": \"AMD Ryzen 7 PRO 2700U\", \"Designer\": \"AMD\", \"Launch date\": \"2017-10-01T00:00:00\", \"Cores\": 4, \"Age\": 7.6, \"Architecture\": \"Raven Ridge\", \"GB6 Single\": 914.0, \"GB6 Multi\": 2545.0, \"Win11\": \"Yes\", \"Product URL\": \"https://www.amd.com/en/support/downloads/drivers.html/processors/ryzen/ryzen-2000-series/amd-ryzen-7-2700u.html\", \"GB6 Single log2\": -0.12973392960401728, \"GB6 Multi log2\": 1.3476656563009706}, {\"Name\": \"AMD Ryzen 5 PRO 3500U\", \"Designer\": \"AMD\", \"Launch date\": \"2019-01-01T00:00:00\", \"Cores\": 4, \"Age\": 6.3, \"Architecture\": \"Picasso\", \"GB6 Single\": 949.0, \"GB6 Multi\": 2620.0, \"Win11\": \"Yes\", \"Product URL\": \"https://www.amd.com/en/support/downloads/drivers.html/processors/ryzen/ryzen-3000-series/amd-ryzen-5-3500u.html\", \"GB6 Single log2\": -0.07552000764097772, \"GB6 Multi log2\": 1.3895668117627256}, {\"Name\": \"AMD Ryzen 5 PRO 4650U\", \"Designer\": \"AMD\", \"Launch date\": \"2020-07-01T00:00:00\", \"Cores\": 6, \"Age\": 4.8, \"Architecture\": \"Renoir\", \"GB6 Single\": 1421.0, \"GB6 Multi\": 4590.0, \"Win11\": \"Yes\", \"Product URL\": \"https://www.amd.com/en/support/downloads/drivers.html/processors/ryzen-pro/ryzen-pro-4000-series/amd-ryzen-5-pro-4650u.html\", \"GB6 Single log2\": 0.5069065545806933, \"GB6 Multi log2\": 2.1984941536390834}, {\"Name\": \"AMD Ryzen 5 PRO 5650U\", \"Designer\": \"AMD\", \"Launch date\": \"2021-03-01T00:00:00\", \"Cores\": 6, \"Age\": 4.2, \"Architecture\": \"Cezanne\", \"GB6 Single\": 1740.0, \"GB6 Multi\": 5479.0, \"Win11\": \"Yes\", \"Product URL\": \"https://www.amd.com/en/support/downloads/drivers.html/processors/ryzen-pro/ryzen-pro-5000-series/amd-ryzen-5-pro-5650u.html\", \"GB6 Single log2\": 0.7990873060740036, \"GB6 Multi log2\": 2.4539126036438925}, {\"Name\": \"AMD Ryzen 5 PRO 6650U\", \"Designer\": \"AMD\", \"Launch date\": \"2022-04-19T00:00:00\", \"Cores\": 6, \"Age\": 3.0, \"Architecture\": \"Rembrandt\", \"GB6 Single\": 1828.0, \"GB6 Multi\": 6717.0, \"Win11\": \"Yes\", \"Product URL\": \"https://www.amd.com/en/support/downloads/drivers.html/processors/ryzen-pro/ryzen-pro-6000-series/amd-ryzen-5-pro-6650u.html\", \"GB6 Single log2\": 0.8702660703959827, \"GB6 Multi log2\": 2.747817028911667}, {\"Name\": \"AMD Ryzen 5 PRO 7540U\", \"Designer\": \"AMD\", \"Launch date\": \"2023-03-05T00:00:00\", \"Cores\": 6, \"Age\": 2.1, \"Architecture\": \"Phoenix\", \"GB6 Single\": 2226.0, \"GB6 Multi\": 8076.0, \"Win11\": \"Yes\", \"Product URL\": \"https://www.amd.com/en/products/processors/laptop/ryzen/7000-series/amd-ryzen-5-7540u.html\", \"GB6 Single log2\": 1.1544535926798725, \"GB6 Multi log2\": 3.013640910669386}, {\"Name\": \"AMD Ryzen 5 PRO 8540U\", \"Designer\": \"AMD\", \"Launch date\": \"2024-04-01T00:00:00\", \"Cores\": 6, \"Age\": 1.1, \"Architecture\": \"Hawk Point\", \"GB6 Single\": 2345.0, \"GB6 Multi\": 8081.0, \"Win11\": \"Yes\", \"Product URL\": \"https://www.amd.com/en/products/processors/laptop/ryzen-pro/8000-series/amd-ryzen-5-pro-8540u.html\", \"GB6 Single log2\": 1.2295879227406519, \"GB6 Multi log2\": 3.0145338332954577}]}}, {\"mode\": \"vega-lite\"});\n",
       "</script>"
      ],
      "text/plain": [
       "alt.LayerChart(...)"
      ]
     },
     "execution_count": 29,
     "metadata": {},
     "output_type": "execute_result"
    }
   ],
   "source": [
    "chart = chart_single_multi_log2 + chart_dsingle_logreg +  chart_dmulti_logreg\n",
    "chart.save('Geekbench 6 plots/CPUs_bydate_log_withreg.json')\n",
    "#chart.save('Geekbench 6 plots/CPUs_bydate_log_withreg.png', ppi=200)\n",
    "chart"
   ]
  },
  {
   "cell_type": "markdown",
   "id": "119d8970-8c6f-45c6-8cdc-f222145b8000",
   "metadata": {},
   "source": [
    "Exponential law for lin performance"
   ]
  },
  {
   "cell_type": "code",
   "execution_count": 28,
   "id": "f6767d5c-e6e8-4e96-b3d3-4fd31d9335bb",
   "metadata": {},
   "outputs": [
    {
     "data": {
      "text/html": [
       "\n",
       "<style>\n",
       "  #altair-viz-f4c94689b0e94c60b83832e9aa4a60f0.vega-embed {\n",
       "    width: 100%;\n",
       "    display: flex;\n",
       "  }\n",
       "\n",
       "  #altair-viz-f4c94689b0e94c60b83832e9aa4a60f0.vega-embed details,\n",
       "  #altair-viz-f4c94689b0e94c60b83832e9aa4a60f0.vega-embed details summary {\n",
       "    position: relative;\n",
       "  }\n",
       "</style>\n",
       "<div id=\"altair-viz-f4c94689b0e94c60b83832e9aa4a60f0\"></div>\n",
       "<script type=\"text/javascript\">\n",
       "  var VEGA_DEBUG = (typeof VEGA_DEBUG == \"undefined\") ? {} : VEGA_DEBUG;\n",
       "  (function(spec, embedOpt){\n",
       "    let outputDiv = document.currentScript.previousElementSibling;\n",
       "    if (outputDiv.id !== \"altair-viz-f4c94689b0e94c60b83832e9aa4a60f0\") {\n",
       "      outputDiv = document.getElementById(\"altair-viz-f4c94689b0e94c60b83832e9aa4a60f0\");\n",
       "    }\n",
       "\n",
       "    const paths = {\n",
       "      \"vega\": \"https://cdn.jsdelivr.net/npm/vega@5?noext\",\n",
       "      \"vega-lib\": \"https://cdn.jsdelivr.net/npm/vega-lib?noext\",\n",
       "      \"vega-lite\": \"https://cdn.jsdelivr.net/npm/vega-lite@5.20.1?noext\",\n",
       "      \"vega-embed\": \"https://cdn.jsdelivr.net/npm/vega-embed@6?noext\",\n",
       "    };\n",
       "\n",
       "    function maybeLoadScript(lib, version) {\n",
       "      var key = `${lib.replace(\"-\", \"\")}_version`;\n",
       "      return (VEGA_DEBUG[key] == version) ?\n",
       "        Promise.resolve(paths[lib]) :\n",
       "        new Promise(function(resolve, reject) {\n",
       "          var s = document.createElement('script');\n",
       "          document.getElementsByTagName(\"head\")[0].appendChild(s);\n",
       "          s.async = true;\n",
       "          s.onload = () => {\n",
       "            VEGA_DEBUG[key] = version;\n",
       "            return resolve(paths[lib]);\n",
       "          };\n",
       "          s.onerror = () => reject(`Error loading script: ${paths[lib]}`);\n",
       "          s.src = paths[lib];\n",
       "        });\n",
       "    }\n",
       "\n",
       "    function showError(err) {\n",
       "      outputDiv.innerHTML = `<div class=\"error\" style=\"color:red;\">${err}</div>`;\n",
       "      throw err;\n",
       "    }\n",
       "\n",
       "    function displayChart(vegaEmbed) {\n",
       "      vegaEmbed(outputDiv, spec, embedOpt)\n",
       "        .catch(err => showError(`Javascript Error: ${err.message}<br>This usually means there's a typo in your chart specification. See the javascript console for the full traceback.`));\n",
       "    }\n",
       "\n",
       "    if(typeof define === \"function\" && define.amd) {\n",
       "      requirejs.config({paths});\n",
       "      let deps = [\"vega-embed\"];\n",
       "      require(deps, displayChart, err => showError(`Error loading script: ${err.message}`));\n",
       "    } else {\n",
       "      maybeLoadScript(\"vega\", \"5\")\n",
       "        .then(() => maybeLoadScript(\"vega-lite\", \"5.20.1\"))\n",
       "        .then(() => maybeLoadScript(\"vega-embed\", \"6\"))\n",
       "        .catch(showError)\n",
       "        .then(() => displayChart(vegaEmbed));\n",
       "    }\n",
       "  })({\"config\": {\"view\": {\"continuousWidth\": 300, \"continuousHeight\": 300}}, \"hconcat\": [{\"layer\": [{\"mark\": {\"type\": \"point\", \"filled\": true, \"size\": 150, \"strokeWidth\": 5}, \"encoding\": {\"color\": {\"condition\": {\"param\": \"highlight\", \"empty\": true, \"field\": \"Designer\", \"scale\": {\"scheme\": \"set1\"}, \"type\": \"nominal\"}, \"value\": \"lightgray\"}, \"order\": {\"value\": 0, \"condition\": [{\"param\": \"highlight\", \"value\": 1, \"empty\": false}]}, \"shape\": {\"field\": \"Designer\", \"type\": \"nominal\"}, \"tooltip\": [{\"field\": \"Name\", \"type\": \"nominal\"}, {\"field\": \"Architecture\", \"type\": \"nominal\"}, {\"field\": \"Cores\", \"type\": \"quantitative\"}, {\"field\": \"Launch date\", \"type\": \"temporal\"}, {\"field\": \"Win11\", \"type\": \"nominal\"}, {\"field\": \"GB6 Single\", \"type\": \"quantitative\"}, {\"field\": \"GB6 Multi\", \"type\": \"quantitative\"}], \"x\": {\"field\": \"GB6 Single\", \"type\": \"quantitative\"}, \"y\": {\"field\": \"Launch date\", \"type\": \"temporal\"}}, \"name\": \"view_15\", \"title\": \"Single-Core Performance\"}, {\"mark\": {\"type\": \"line\", \"color\": \"gray\", \"opacity\": 0.5, \"strokeCap\": \"round\", \"strokeDash\": [1, 8], \"strokeWidth\": 4}, \"encoding\": {\"tooltip\": {\"value\": \"+12%/y (doubling every 6.2y)\"}, \"x\": {\"field\": \"GB6 Single\", \"type\": \"quantitative\"}, \"y\": {\"field\": \"Launch date\", \"type\": \"temporal\"}}, \"transform\": [{\"on\": \"Launch date\", \"regression\": \"GB6 Single\", \"method\": \"exp\"}]}]}, {\"layer\": [{\"mark\": {\"type\": \"point\", \"filled\": true, \"size\": 150, \"strokeWidth\": 5}, \"encoding\": {\"color\": {\"condition\": {\"param\": \"highlight\", \"empty\": true, \"field\": \"Designer\", \"scale\": {\"scheme\": \"set1\"}, \"type\": \"nominal\"}, \"value\": \"lightgray\"}, \"order\": {\"value\": 0, \"condition\": [{\"param\": \"highlight\", \"value\": 1, \"empty\": false}]}, \"shape\": {\"field\": \"Designer\", \"type\": \"nominal\"}, \"tooltip\": [{\"field\": \"Name\", \"type\": \"nominal\"}, {\"field\": \"Architecture\", \"type\": \"nominal\"}, {\"field\": \"Cores\", \"type\": \"quantitative\"}, {\"field\": \"Launch date\", \"type\": \"temporal\"}, {\"field\": \"Win11\", \"type\": \"nominal\"}, {\"field\": \"GB6 Single\", \"type\": \"quantitative\"}, {\"field\": \"GB6 Multi\", \"type\": \"quantitative\"}], \"x\": {\"field\": \"GB6 Multi\", \"type\": \"quantitative\"}, \"y\": {\"axis\": {\"labels\": false, \"title\": \"\"}, \"field\": \"Launch date\", \"type\": \"temporal\"}}, \"name\": \"view_16\", \"title\": \"Multi-Core Performance\"}, {\"mark\": {\"type\": \"line\", \"color\": \"gray\", \"opacity\": 0.5, \"strokeCap\": \"round\", \"strokeDash\": [1, 8], \"strokeWidth\": 4}, \"encoding\": {\"tooltip\": {\"value\": \"+20%/y (doubling every 3.8y)\"}, \"x\": {\"field\": \"GB6 Multi\", \"type\": \"quantitative\"}, \"y\": {\"field\": \"Launch date\", \"type\": \"temporal\"}}, \"transform\": [{\"on\": \"Launch date\", \"regression\": \"GB6 Multi\", \"method\": \"exp\"}]}]}], \"data\": {\"name\": \"data-6522b5600cd5109ace11baad65474461\"}, \"params\": [{\"name\": \"highlight\", \"select\": {\"type\": \"point\", \"on\": \"pointerover\"}, \"views\": [\"view_15\", \"view_16\"]}], \"$schema\": \"https://vega.github.io/schema/vega-lite/v5.20.1.json\", \"datasets\": {\"data-6522b5600cd5109ace11baad65474461\": [{\"Name\": \"Intel Core i5-5200U\", \"Designer\": \"Intel\", \"Launch date\": \"2015-01-01T00:00:00\", \"Cores\": 2, \"Age\": 10.3, \"Architecture\": \"Broadwell\", \"GB6 Single\": 854.0, \"GB6 Multi\": 1611.0, \"Win11\": \"No\", \"Product URL\": \"https://www.intel.com/content/www/us/en/products/sku/85212/intel-core-i55200u-processor-3m-cache-up-to-2-70-ghz/specifications.html\", \"GB6 Single log2\": -0.2276920250415967, \"GB6 Multi log2\": 0.6879564940444818}, {\"Name\": \"Intel Core i5-5300U\", \"Designer\": \"Intel\", \"Launch date\": \"2015-01-01T00:00:00\", \"Cores\": 2, \"Age\": 10.3, \"Architecture\": \"Broadwell\", \"GB6 Single\": 908.0, \"GB6 Multi\": 1692.0, \"Win11\": \"No\", \"Product URL\": \"https://www.intel.com/content/www/us/en/products/sku/85213/intel-core-i55300u-processor-3m-cache-up-to-2-90-ghz/specifications.html\", \"GB6 Single log2\": -0.139235797371172, \"GB6 Multi log2\": 0.7587295684578627}, {\"Name\": \"Intel Core i5-6200U\", \"Designer\": \"Intel\", \"Launch date\": \"2015-07-01T00:00:00\", \"Cores\": 2, \"Age\": 9.8, \"Architecture\": \"Skylake\", \"GB6 Single\": 916.0, \"GB6 Multi\": 1832.0, \"Win11\": \"No\", \"Product URL\": \"https://www.intel.com/content/www/us/en/products/sku/88193/intel-core-i56200u-processor-3m-cache-up-to-2-80-ghz/specifications.html\", \"GB6 Single log2\": -0.12658049656514306, \"GB6 Multi log2\": 0.873419503434857}, {\"Name\": \"Intel Core i5-6300U\", \"Designer\": \"Intel\", \"Launch date\": \"2015-07-01T00:00:00\", \"Cores\": 2, \"Age\": 9.8, \"Architecture\": \"Skylake\", \"GB6 Single\": 965.0, \"GB6 Multi\": 1910.0, \"Win11\": \"No\", \"Product URL\": \"https://www.intel.com/content/www/us/en/products/sku/88190/intel-core-i56300u-processor-3m-cache-up-to-3-00-ghz/specifications.html\", \"GB6 Single log2\": -0.05139915250664432, \"GB6 Multi log2\": 0.9335726382610239}, {\"Name\": \"Intel Core i5-7200U\", \"Designer\": \"Intel\", \"Launch date\": \"2016-10-01T00:00:00\", \"Cores\": 2, \"Age\": 8.6, \"Architecture\": \"Kaby Lake\", \"GB6 Single\": 1009.0, \"GB6 Multi\": 1987.0, \"Win11\": \"No\", \"Product URL\": \"https://www.intel.com/content/www/us/en/products/sku/95443/intel-core-i57200u-processor-3m-cache-up-to-3-10-ghz/specifications.html\", \"GB6 Single log2\": 0.012926174444270048, \"GB6 Multi log2\": 0.9905918725875832}, {\"Name\": \"Intel Core i5-7300U\", \"Designer\": \"Intel\", \"Launch date\": \"2017-01-01T00:00:00\", \"Cores\": 2, \"Age\": 8.3, \"Architecture\": \"Kaby Lake\", \"GB6 Single\": 1088.0, \"GB6 Multi\": 2030.0, \"Win11\": \"No\", \"Product URL\": \"https://www.intel.com/content/www/us/en/products/sku/97472/intel-core-i57300u-processor-3m-cache-up-to-3-50-ghz/specifications.html\", \"GB6 Single log2\": 0.12167855658825247, \"GB6 Multi log2\": 1.0214797274104515}, {\"Name\": \"Intel Core i5-8250U\", \"Designer\": \"Intel\", \"Launch date\": \"2017-07-01T00:00:00\", \"Cores\": 4, \"Age\": 7.8, \"Architecture\": \"Kaby Lake R\", \"GB6 Single\": 1145.0, \"GB6 Multi\": 3126.0, \"Win11\": \"Yes\", \"Product URL\": \"https://www.intel.com/content/www/us/en/products/sku/124967/intel-core-i58250u-processor-6m-cache-up-to-3-40-ghz/specifications.html\", \"GB6 Single log2\": 0.19534759832221926, \"GB6 Multi log2\": 1.6443177783375773}, {\"Name\": \"Intel Core i5-8350U\", \"Designer\": \"Intel\", \"Launch date\": \"2017-07-01T00:00:00\", \"Cores\": 4, \"Age\": 7.8, \"Architecture\": \"Kaby Lake R\", \"GB6 Single\": 1191.0, \"GB6 Multi\": 3237.0, \"Win11\": \"Yes\", \"Product URL\": \"https://www.intel.com/content/www/us/en/products/sku/124969/intel-core-i58350u-processor-6m-cache-up-to-3-60-ghz/specifications.html\", \"GB6 Single log2\": 0.252173413202027, \"GB6 Multi log2\": 1.694657365547086}, {\"Name\": \"Intel Core i5-8265U\", \"Designer\": \"Intel\", \"Launch date\": \"2018-10-01T00:00:00\", \"Cores\": 4, \"Age\": 6.6, \"Architecture\": \"Whiskey Lake\", \"GB6 Single\": 1204.0, \"GB6 Multi\": 2926.0, \"Win11\": \"Yes\", \"Product URL\": \"https://www.intel.com/content/www/us/en/products/sku/149088/intel-core-i58265u-processor-6m-cache-up-to-3-90-ghz/specifications.html\", \"GB6 Single log2\": 0.267835392097615, \"GB6 Multi log2\": 1.5489297694764}, {\"Name\": \"Intel Core i5-8365U\", \"Designer\": \"Intel\", \"Launch date\": \"2019-04-01T00:00:00\", \"Cores\": 4, \"Age\": 6.1, \"Architecture\": \"Whiskey Lake\", \"GB6 Single\": 1270.0, \"GB6 Multi\": 3167.0, \"Win11\": \"Yes\", \"Product URL\": \"https://www.intel.com/content/www/us/en/products/sku/193555/intel-core-i58365u-processor-6m-cache-up-to-4-10-ghz/specifications.html\", \"GB6 Single log2\": 0.34482849699744117, \"GB6 Multi log2\": 1.6631168673661028}, {\"Name\": \"Intel Core i5-10210U\", \"Designer\": \"Intel\", \"Launch date\": \"2019-07-01T00:00:00\", \"Cores\": 4, \"Age\": 5.8, \"Architecture\": \"Comet Lake\", \"GB6 Single\": 1229.0, \"GB6 Multi\": 3088.0, \"Win11\": \"Yes\", \"Product URL\": \"https://www.intel.com/content/www/us/en/products/sku/195436/intel-core-i510210u-processor-6m-cache-up-to-4-20-ghz/specifications.html\", \"GB6 Single log2\": 0.2974849157105747, \"GB6 Multi log2\": 1.6266727526059934}, {\"Name\": \"Intel Core i5-10310U\", \"Designer\": \"Intel\", \"Launch date\": \"2020-04-01T00:00:00\", \"Cores\": 4, \"Age\": 5.1, \"Architecture\": \"Comet Lake\", \"GB6 Single\": 1297.0, \"GB6 Multi\": 3450.0, \"Win11\": \"Yes\", \"Product URL\": \"https://www.intel.com/content/www/us/en/products/sku/201892/intel-core-i510310u-processor-6m-cache-up-to-4-40-ghz/specifications.html\", \"GB6 Single log2\": 0.3751784795896123, \"GB6 Multi log2\": 1.7865963618908067}, {\"Name\": \"Intel Core i5-1035G4\", \"Designer\": \"Intel\", \"Launch date\": \"2019-10-01T00:00:00\", \"Cores\": 4, \"Age\": 5.6, \"Architecture\": \"Ice Lake\", \"GB6 Single\": 1435.0, \"GB6 Multi\": 3742.0, \"Win11\": \"Yes\", \"Product URL\": \"https://www.intel.com/content/www/us/en/products/sku/196591/intel-core-i51035g4-processor-6m-cache-up-to-3-70-ghz/specifications.html\", \"GB6 Single log2\": 0.5210507369009632, \"GB6 Multi log2\": 1.903809558578697}, {\"Name\": \"Intel Core i5-1035G7\", \"Designer\": \"Intel\", \"Launch date\": \"2019-10-01T00:00:00\", \"Cores\": 4, \"Age\": 5.6, \"Architecture\": \"Ice Lake\", \"GB6 Single\": 1419.0, \"GB6 Multi\": 3791.0, \"Win11\": \"Yes\", \"Product URL\": \"https://www.intel.com/content/www/us/en/products/sku/196592/intel-core-i51035g7-processor-6m-cache-up-to-3-70-ghz/specifications.html\", \"GB6 Single log2\": 0.5048745893984644, \"GB6 Multi log2\": 1.922578456508557}, {\"Name\": \"Intel Core i5-1135G7\", \"Designer\": \"Intel\", \"Launch date\": \"2020-07-01T00:00:00\", \"Cores\": 4, \"Age\": 4.8, \"Architecture\": \"Tiger Lake\", \"GB6 Single\": 1702.0, \"GB6 Multi\": 4694.0, \"Win11\": \"Yes\", \"Product URL\": \"https://www.intel.com/content/www/us/en/products/sku/208922/intel-core-i51135g7-processor-8m-cache-up-to-4-20-ghz-with-ipu/specifications.html\", \"GB6 Single log2\": 0.7672310370238756, \"GB6 Multi log2\": 2.230817841861083}, {\"Name\": \"Intel Core i5-1145G7\", \"Designer\": \"Intel\", \"Launch date\": \"2021-01-01T00:00:00\", \"Cores\": 4, \"Age\": 4.3, \"Architecture\": \"Tiger Lake\", \"GB6 Single\": 1766.0, \"GB6 Multi\": 4873.0, \"Win11\": \"Yes\", \"Product URL\": \"https://www.intel.com/content/www/us/en/products/sku/208660/intel-core-i51145g7-processor-8m-cache-up-to-4-40-ghz-with-ipu/specifications.html\", \"GB6 Single log2\": 0.820485342986379, \"GB6 Multi log2\": 2.2848102225302287}, {\"Name\": \"Intel Core i5-1235U\", \"Designer\": \"Intel\", \"Launch date\": \"2022-01-01T00:00:00\", \"Cores\": 10, \"Age\": 3.3, \"Architecture\": \"Alder Lake\", \"GB6 Single\": 1950.0, \"GB6 Multi\": 5846.0, \"Win11\": \"Yes\", \"Product URL\": \"https://www.intel.com/content/www/us/en/products/sku/226261/intel-core-i51235u-processor-12m-cache-up-to-4-40-ghz/specifications.html?wapkw=intel%20core%20i5-1235u\", \"GB6 Single log2\": 0.963474123974886, \"GB6 Multi log2\": 2.547449829143966}, {\"Name\": \"Intel Core i5-1245U\", \"Designer\": \"Intel\", \"Launch date\": \"2022-01-01T00:00:00\", \"Cores\": 10, \"Age\": 3.3, \"Architecture\": \"Alder Lake\", \"GB6 Single\": 1964.0, \"GB6 Multi\": 6269.0, \"Win11\": \"Yes\", \"Product URL\": \"https://www.intel.com/content/www/us/en/products/sku/226260/intel-core-i51245u-processor-12m-cache-up-to-4-40-ghz/specifications.html\", \"GB6 Single log2\": 0.973794929652606, \"GB6 Multi log2\": 2.6482353297736343}, {\"Name\": \"Intel Core i5-1335U\", \"Designer\": \"Intel\", \"Launch date\": \"2023-01-01T00:00:00\", \"Cores\": 10, \"Age\": 2.3, \"Architecture\": \"Raptor Lake\", \"GB6 Single\": 2103.0, \"GB6 Multi\": 6786.0, \"Win11\": \"Yes\", \"Product URL\": \"https://www.intel.com/content/www/us/en/products/sku/232153/intel-core-i51335u-processor-12m-cache-up-to-4-60-ghz/specifications.html\", \"GB6 Single log2\": 1.0724488500696925, \"GB6 Multi log2\": 2.7625614300488897}, {\"Name\": \"Intel Core i5-1345U\", \"Designer\": \"Intel\", \"Launch date\": \"2023-01-01T00:00:00\", \"Cores\": 10, \"Age\": 2.3, \"Architecture\": \"Raptor Lake\", \"GB6 Single\": 2202.0, \"GB6 Multi\": 6967.0, \"Win11\": \"Yes\", \"Product URL\": \"https://www.intel.com/content/www/us/en/products/sku/232127/intel-core-i51345u-processor-12m-cache-up-to-4-70-ghz/specifications.html?wapkw=i5-1345U\", \"GB6 Single log2\": 1.1388144689022819, \"GB6 Multi log2\": 2.800537563291874}, {\"Name\": \"Intel Core Ultra 5 125U\", \"Designer\": \"Intel\", \"Launch date\": \"2023-10-01T00:00:00\", \"Cores\": 12, \"Age\": 1.6, \"Architecture\": \"Metor Lake\", \"GB6 Single\": 2072.0, \"GB6 Multi\": 8107.0, \"Win11\": \"Yes\", \"Product URL\": \"https://www.intel.com/content/www/us/en/products/sku/237330/intel-core-ultra-5-processor-125u-12m-cache-up-to-4-30-ghz/specifications.html?wapkw=Intel%20Core%20Ultra%205%20125U\", \"GB6 Single log2\": 1.0510240030244669, \"GB6 Multi log2\": 3.0191681430702797}, {\"Name\": \"Intel Core Ultra 5 135U\", \"Designer\": \"Intel\", \"Launch date\": \"2023-10-01T00:00:00\", \"Cores\": 12, \"Age\": 1.6, \"Architecture\": \"Metor Lake\", \"GB6 Single\": 2132.0, \"GB6 Multi\": 8667.0, \"Win11\": \"Yes\", \"Product URL\": \"https://www.intel.com/content/www/us/en/products/sku/237328/intel-core-ultra-5-processor-135u-12m-cache-up-to-4-40-ghz/specifications.html?wapkw=Intel%20Core%20Ultra%205%20135U\", \"GB6 Single log2\": 1.092207438097089, \"GB6 Multi log2\": 3.1155327046236847}, {\"Name\": \"AMD Ryzen 7 PRO 2700U\", \"Designer\": \"AMD\", \"Launch date\": \"2017-10-01T00:00:00\", \"Cores\": 4, \"Age\": 7.6, \"Architecture\": \"Raven Ridge\", \"GB6 Single\": 914.0, \"GB6 Multi\": 2545.0, \"Win11\": \"Yes\", \"Product URL\": \"https://www.amd.com/en/support/downloads/drivers.html/processors/ryzen/ryzen-2000-series/amd-ryzen-7-2700u.html\", \"GB6 Single log2\": -0.12973392960401728, \"GB6 Multi log2\": 1.3476656563009706}, {\"Name\": \"AMD Ryzen 5 PRO 3500U\", \"Designer\": \"AMD\", \"Launch date\": \"2019-01-01T00:00:00\", \"Cores\": 4, \"Age\": 6.3, \"Architecture\": \"Picasso\", \"GB6 Single\": 949.0, \"GB6 Multi\": 2620.0, \"Win11\": \"Yes\", \"Product URL\": \"https://www.amd.com/en/support/downloads/drivers.html/processors/ryzen/ryzen-3000-series/amd-ryzen-5-3500u.html\", \"GB6 Single log2\": -0.07552000764097772, \"GB6 Multi log2\": 1.3895668117627256}, {\"Name\": \"AMD Ryzen 5 PRO 4650U\", \"Designer\": \"AMD\", \"Launch date\": \"2020-07-01T00:00:00\", \"Cores\": 6, \"Age\": 4.8, \"Architecture\": \"Renoir\", \"GB6 Single\": 1421.0, \"GB6 Multi\": 4590.0, \"Win11\": \"Yes\", \"Product URL\": \"https://www.amd.com/en/support/downloads/drivers.html/processors/ryzen-pro/ryzen-pro-4000-series/amd-ryzen-5-pro-4650u.html\", \"GB6 Single log2\": 0.5069065545806933, \"GB6 Multi log2\": 2.1984941536390834}, {\"Name\": \"AMD Ryzen 5 PRO 5650U\", \"Designer\": \"AMD\", \"Launch date\": \"2021-03-01T00:00:00\", \"Cores\": 6, \"Age\": 4.2, \"Architecture\": \"Cezanne\", \"GB6 Single\": 1740.0, \"GB6 Multi\": 5479.0, \"Win11\": \"Yes\", \"Product URL\": \"https://www.amd.com/en/support/downloads/drivers.html/processors/ryzen-pro/ryzen-pro-5000-series/amd-ryzen-5-pro-5650u.html\", \"GB6 Single log2\": 0.7990873060740036, \"GB6 Multi log2\": 2.4539126036438925}, {\"Name\": \"AMD Ryzen 5 PRO 6650U\", \"Designer\": \"AMD\", \"Launch date\": \"2022-04-19T00:00:00\", \"Cores\": 6, \"Age\": 3.0, \"Architecture\": \"Rembrandt\", \"GB6 Single\": 1828.0, \"GB6 Multi\": 6717.0, \"Win11\": \"Yes\", \"Product URL\": \"https://www.amd.com/en/support/downloads/drivers.html/processors/ryzen-pro/ryzen-pro-6000-series/amd-ryzen-5-pro-6650u.html\", \"GB6 Single log2\": 0.8702660703959827, \"GB6 Multi log2\": 2.747817028911667}, {\"Name\": \"AMD Ryzen 5 PRO 7540U\", \"Designer\": \"AMD\", \"Launch date\": \"2023-03-05T00:00:00\", \"Cores\": 6, \"Age\": 2.1, \"Architecture\": \"Phoenix\", \"GB6 Single\": 2226.0, \"GB6 Multi\": 8076.0, \"Win11\": \"Yes\", \"Product URL\": \"https://www.amd.com/en/products/processors/laptop/ryzen/7000-series/amd-ryzen-5-7540u.html\", \"GB6 Single log2\": 1.1544535926798725, \"GB6 Multi log2\": 3.013640910669386}, {\"Name\": \"AMD Ryzen 5 PRO 8540U\", \"Designer\": \"AMD\", \"Launch date\": \"2024-04-01T00:00:00\", \"Cores\": 6, \"Age\": 1.1, \"Architecture\": \"Hawk Point\", \"GB6 Single\": 2345.0, \"GB6 Multi\": 8081.0, \"Win11\": \"Yes\", \"Product URL\": \"https://www.amd.com/en/products/processors/laptop/ryzen-pro/8000-series/amd-ryzen-5-pro-8540u.html\", \"GB6 Single log2\": 1.2295879227406519, \"GB6 Multi log2\": 3.0145338332954577}]}}, {\"mode\": \"vega-lite\"});\n",
       "</script>"
      ],
      "text/plain": [
       "alt.HConcatChart(...)"
      ]
     },
     "execution_count": 28,
     "metadata": {},
     "output_type": "execute_result"
    }
   ],
   "source": [
    "chart_dsingle_linreg = chart_regline.encode(\n",
    "    y='Launch date',\n",
    "    x='GB6 Single',\n",
    "    tooltip=tip_Single,\n",
    ").transform_regression('Launch date', 'GB6 Single', method='exp')\n",
    "chart_dmulti_linreg =chart_regline.encode(\n",
    "    y='Launch date',\n",
    "    x='GB6 Multi',\n",
    "    tooltip=tip_Multi\n",
    ").transform_regression('Launch date', 'GB6 Multi', method='exp')\n",
    "\n",
    "chart = (chart_dsingle + chart_dsingle_linreg) | (chart_dmulti + chart_dmulti_linreg)\n",
    "chart.save('Geekbench 6 plots/CPUs_bydate_linear_withreg.json')\n",
    "#chart.save('Geekbench 6 plots/CPUs_bydate_linear_withreg.png', ppi=200)\n",
    "chart"
   ]
  },
  {
   "cell_type": "markdown",
   "id": "213e0296-fc48-4243-9bef-911943e20822",
   "metadata": {},
   "source": [
    "Attempt to retrieve regression parameters (coefficient for Moores law): *hard to do* and not available from Python → easier to do the regression in Python separately (as done above)"
   ]
  },
  {
   "cell_type": "code",
   "execution_count": 25,
   "id": "ab186afd-5872-432d-9a21-5e58b7fc10f1",
   "metadata": {},
   "outputs": [
    {
     "data": {
      "text/html": [
       "\n",
       "<style>\n",
       "  #altair-viz-b26f7881d92845979b1fc0a474271607.vega-embed {\n",
       "    width: 100%;\n",
       "    display: flex;\n",
       "  }\n",
       "\n",
       "  #altair-viz-b26f7881d92845979b1fc0a474271607.vega-embed details,\n",
       "  #altair-viz-b26f7881d92845979b1fc0a474271607.vega-embed details summary {\n",
       "    position: relative;\n",
       "  }\n",
       "</style>\n",
       "<div id=\"altair-viz-b26f7881d92845979b1fc0a474271607\"></div>\n",
       "<script type=\"text/javascript\">\n",
       "  var VEGA_DEBUG = (typeof VEGA_DEBUG == \"undefined\") ? {} : VEGA_DEBUG;\n",
       "  (function(spec, embedOpt){\n",
       "    let outputDiv = document.currentScript.previousElementSibling;\n",
       "    if (outputDiv.id !== \"altair-viz-b26f7881d92845979b1fc0a474271607\") {\n",
       "      outputDiv = document.getElementById(\"altair-viz-b26f7881d92845979b1fc0a474271607\");\n",
       "    }\n",
       "\n",
       "    const paths = {\n",
       "      \"vega\": \"https://cdn.jsdelivr.net/npm/vega@5?noext\",\n",
       "      \"vega-lib\": \"https://cdn.jsdelivr.net/npm/vega-lib?noext\",\n",
       "      \"vega-lite\": \"https://cdn.jsdelivr.net/npm/vega-lite@5.20.1?noext\",\n",
       "      \"vega-embed\": \"https://cdn.jsdelivr.net/npm/vega-embed@6?noext\",\n",
       "    };\n",
       "\n",
       "    function maybeLoadScript(lib, version) {\n",
       "      var key = `${lib.replace(\"-\", \"\")}_version`;\n",
       "      return (VEGA_DEBUG[key] == version) ?\n",
       "        Promise.resolve(paths[lib]) :\n",
       "        new Promise(function(resolve, reject) {\n",
       "          var s = document.createElement('script');\n",
       "          document.getElementsByTagName(\"head\")[0].appendChild(s);\n",
       "          s.async = true;\n",
       "          s.onload = () => {\n",
       "            VEGA_DEBUG[key] = version;\n",
       "            return resolve(paths[lib]);\n",
       "          };\n",
       "          s.onerror = () => reject(`Error loading script: ${paths[lib]}`);\n",
       "          s.src = paths[lib];\n",
       "        });\n",
       "    }\n",
       "\n",
       "    function showError(err) {\n",
       "      outputDiv.innerHTML = `<div class=\"error\" style=\"color:red;\">${err}</div>`;\n",
       "      throw err;\n",
       "    }\n",
       "\n",
       "    function displayChart(vegaEmbed) {\n",
       "      vegaEmbed(outputDiv, spec, embedOpt)\n",
       "        .catch(err => showError(`Javascript Error: ${err.message}<br>This usually means there's a typo in your chart specification. See the javascript console for the full traceback.`));\n",
       "    }\n",
       "\n",
       "    if(typeof define === \"function\" && define.amd) {\n",
       "      requirejs.config({paths});\n",
       "      let deps = [\"vega-embed\"];\n",
       "      require(deps, displayChart, err => showError(`Error loading script: ${err.message}`));\n",
       "    } else {\n",
       "      maybeLoadScript(\"vega\", \"5\")\n",
       "        .then(() => maybeLoadScript(\"vega-lite\", \"5.20.1\"))\n",
       "        .then(() => maybeLoadScript(\"vega-embed\", \"6\"))\n",
       "        .catch(showError)\n",
       "        .then(() => displayChart(vegaEmbed));\n",
       "    }\n",
       "  })({\"config\": {\"view\": {\"continuousWidth\": 300, \"continuousHeight\": 300}}, \"layer\": [{\"mark\": {\"type\": \"point\", \"filled\": true, \"size\": 150, \"strokeWidth\": 5}, \"encoding\": {\"color\": {\"condition\": {\"param\": \"highlight\", \"empty\": true, \"field\": \"Designer\", \"scale\": {\"scheme\": \"set1\"}, \"type\": \"nominal\"}, \"value\": \"lightgray\"}, \"order\": {\"value\": 0, \"condition\": [{\"param\": \"highlight\", \"value\": 1, \"empty\": false}]}, \"shape\": {\"field\": \"Designer\", \"type\": \"nominal\"}, \"tooltip\": [{\"field\": \"Name\", \"type\": \"nominal\"}, {\"field\": \"Architecture\", \"type\": \"nominal\"}, {\"field\": \"Cores\", \"type\": \"quantitative\"}, {\"field\": \"Launch date\", \"type\": \"temporal\"}, {\"field\": \"Win11\", \"type\": \"nominal\"}, {\"field\": \"GB6 Single\", \"type\": \"quantitative\"}, {\"field\": \"GB6 Multi\", \"type\": \"quantitative\"}], \"x\": {\"field\": \"GB6 Single log2\", \"type\": \"quantitative\"}, \"y\": {\"field\": \"Launch date\", \"type\": \"temporal\"}}, \"name\": \"view_10\", \"title\": \"Single-Core Performance\"}, {\"mark\": {\"type\": \"line\", \"color\": \"gray\", \"opacity\": 0.5, \"strokeCap\": \"round\", \"strokeDash\": [1, 8], \"strokeWidth\": 4}, \"encoding\": {\"tooltip\": {\"value\": \"+12%/y (doubling every 6.2y)\"}, \"x\": {\"field\": \"GB6 Single log2\", \"type\": \"quantitative\"}, \"y\": {\"field\": \"Launch date\", \"type\": \"temporal\"}}, \"transform\": [{\"on\": \"Launch date\", \"regression\": \"GB6 Single log2\"}]}, {\"mark\": {\"type\": \"text\"}, \"encoding\": {\"text\": {\"field\": \"coef\", \"type\": \"nominal\"}, \"x\": {\"value\": 0.0}, \"y\": {\"value\": 0}}, \"transform\": [{\"on\": \"Launch date\", \"regression\": \"GB6 Single log2\", \"params\": true}]}], \"data\": {\"name\": \"data-6522b5600cd5109ace11baad65474461\"}, \"params\": [{\"name\": \"highlight\", \"select\": {\"type\": \"point\", \"on\": \"pointerover\"}, \"views\": [\"view_10\"]}], \"$schema\": \"https://vega.github.io/schema/vega-lite/v5.20.1.json\", \"datasets\": {\"data-6522b5600cd5109ace11baad65474461\": [{\"Name\": \"Intel Core i5-5200U\", \"Designer\": \"Intel\", \"Launch date\": \"2015-01-01T00:00:00\", \"Cores\": 2, \"Age\": 10.3, \"Architecture\": \"Broadwell\", \"GB6 Single\": 854.0, \"GB6 Multi\": 1611.0, \"Win11\": \"No\", \"Product URL\": \"https://www.intel.com/content/www/us/en/products/sku/85212/intel-core-i55200u-processor-3m-cache-up-to-2-70-ghz/specifications.html\", \"GB6 Single log2\": -0.2276920250415967, \"GB6 Multi log2\": 0.6879564940444818}, {\"Name\": \"Intel Core i5-5300U\", \"Designer\": \"Intel\", \"Launch date\": \"2015-01-01T00:00:00\", \"Cores\": 2, \"Age\": 10.3, \"Architecture\": \"Broadwell\", \"GB6 Single\": 908.0, \"GB6 Multi\": 1692.0, \"Win11\": \"No\", \"Product URL\": \"https://www.intel.com/content/www/us/en/products/sku/85213/intel-core-i55300u-processor-3m-cache-up-to-2-90-ghz/specifications.html\", \"GB6 Single log2\": -0.139235797371172, \"GB6 Multi log2\": 0.7587295684578627}, {\"Name\": \"Intel Core i5-6200U\", \"Designer\": \"Intel\", \"Launch date\": \"2015-07-01T00:00:00\", \"Cores\": 2, \"Age\": 9.8, \"Architecture\": \"Skylake\", \"GB6 Single\": 916.0, \"GB6 Multi\": 1832.0, \"Win11\": \"No\", \"Product URL\": \"https://www.intel.com/content/www/us/en/products/sku/88193/intel-core-i56200u-processor-3m-cache-up-to-2-80-ghz/specifications.html\", \"GB6 Single log2\": -0.12658049656514306, \"GB6 Multi log2\": 0.873419503434857}, {\"Name\": \"Intel Core i5-6300U\", \"Designer\": \"Intel\", \"Launch date\": \"2015-07-01T00:00:00\", \"Cores\": 2, \"Age\": 9.8, \"Architecture\": \"Skylake\", \"GB6 Single\": 965.0, \"GB6 Multi\": 1910.0, \"Win11\": \"No\", \"Product URL\": \"https://www.intel.com/content/www/us/en/products/sku/88190/intel-core-i56300u-processor-3m-cache-up-to-3-00-ghz/specifications.html\", \"GB6 Single log2\": -0.05139915250664432, \"GB6 Multi log2\": 0.9335726382610239}, {\"Name\": \"Intel Core i5-7200U\", \"Designer\": \"Intel\", \"Launch date\": \"2016-10-01T00:00:00\", \"Cores\": 2, \"Age\": 8.6, \"Architecture\": \"Kaby Lake\", \"GB6 Single\": 1009.0, \"GB6 Multi\": 1987.0, \"Win11\": \"No\", \"Product URL\": \"https://www.intel.com/content/www/us/en/products/sku/95443/intel-core-i57200u-processor-3m-cache-up-to-3-10-ghz/specifications.html\", \"GB6 Single log2\": 0.012926174444270048, \"GB6 Multi log2\": 0.9905918725875832}, {\"Name\": \"Intel Core i5-7300U\", \"Designer\": \"Intel\", \"Launch date\": \"2017-01-01T00:00:00\", \"Cores\": 2, \"Age\": 8.3, \"Architecture\": \"Kaby Lake\", \"GB6 Single\": 1088.0, \"GB6 Multi\": 2030.0, \"Win11\": \"No\", \"Product URL\": \"https://www.intel.com/content/www/us/en/products/sku/97472/intel-core-i57300u-processor-3m-cache-up-to-3-50-ghz/specifications.html\", \"GB6 Single log2\": 0.12167855658825247, \"GB6 Multi log2\": 1.0214797274104515}, {\"Name\": \"Intel Core i5-8250U\", \"Designer\": \"Intel\", \"Launch date\": \"2017-07-01T00:00:00\", \"Cores\": 4, \"Age\": 7.8, \"Architecture\": \"Kaby Lake R\", \"GB6 Single\": 1145.0, \"GB6 Multi\": 3126.0, \"Win11\": \"Yes\", \"Product URL\": \"https://www.intel.com/content/www/us/en/products/sku/124967/intel-core-i58250u-processor-6m-cache-up-to-3-40-ghz/specifications.html\", \"GB6 Single log2\": 0.19534759832221926, \"GB6 Multi log2\": 1.6443177783375773}, {\"Name\": \"Intel Core i5-8350U\", \"Designer\": \"Intel\", \"Launch date\": \"2017-07-01T00:00:00\", \"Cores\": 4, \"Age\": 7.8, \"Architecture\": \"Kaby Lake R\", \"GB6 Single\": 1191.0, \"GB6 Multi\": 3237.0, \"Win11\": \"Yes\", \"Product URL\": \"https://www.intel.com/content/www/us/en/products/sku/124969/intel-core-i58350u-processor-6m-cache-up-to-3-60-ghz/specifications.html\", \"GB6 Single log2\": 0.252173413202027, \"GB6 Multi log2\": 1.694657365547086}, {\"Name\": \"Intel Core i5-8265U\", \"Designer\": \"Intel\", \"Launch date\": \"2018-10-01T00:00:00\", \"Cores\": 4, \"Age\": 6.6, \"Architecture\": \"Whiskey Lake\", \"GB6 Single\": 1204.0, \"GB6 Multi\": 2926.0, \"Win11\": \"Yes\", \"Product URL\": \"https://www.intel.com/content/www/us/en/products/sku/149088/intel-core-i58265u-processor-6m-cache-up-to-3-90-ghz/specifications.html\", \"GB6 Single log2\": 0.267835392097615, \"GB6 Multi log2\": 1.5489297694764}, {\"Name\": \"Intel Core i5-8365U\", \"Designer\": \"Intel\", \"Launch date\": \"2019-04-01T00:00:00\", \"Cores\": 4, \"Age\": 6.1, \"Architecture\": \"Whiskey Lake\", \"GB6 Single\": 1270.0, \"GB6 Multi\": 3167.0, \"Win11\": \"Yes\", \"Product URL\": \"https://www.intel.com/content/www/us/en/products/sku/193555/intel-core-i58365u-processor-6m-cache-up-to-4-10-ghz/specifications.html\", \"GB6 Single log2\": 0.34482849699744117, \"GB6 Multi log2\": 1.6631168673661028}, {\"Name\": \"Intel Core i5-10210U\", \"Designer\": \"Intel\", \"Launch date\": \"2019-07-01T00:00:00\", \"Cores\": 4, \"Age\": 5.8, \"Architecture\": \"Comet Lake\", \"GB6 Single\": 1229.0, \"GB6 Multi\": 3088.0, \"Win11\": \"Yes\", \"Product URL\": \"https://www.intel.com/content/www/us/en/products/sku/195436/intel-core-i510210u-processor-6m-cache-up-to-4-20-ghz/specifications.html\", \"GB6 Single log2\": 0.2974849157105747, \"GB6 Multi log2\": 1.6266727526059934}, {\"Name\": \"Intel Core i5-10310U\", \"Designer\": \"Intel\", \"Launch date\": \"2020-04-01T00:00:00\", \"Cores\": 4, \"Age\": 5.1, \"Architecture\": \"Comet Lake\", \"GB6 Single\": 1297.0, \"GB6 Multi\": 3450.0, \"Win11\": \"Yes\", \"Product URL\": \"https://www.intel.com/content/www/us/en/products/sku/201892/intel-core-i510310u-processor-6m-cache-up-to-4-40-ghz/specifications.html\", \"GB6 Single log2\": 0.3751784795896123, \"GB6 Multi log2\": 1.7865963618908067}, {\"Name\": \"Intel Core i5-1035G4\", \"Designer\": \"Intel\", \"Launch date\": \"2019-10-01T00:00:00\", \"Cores\": 4, \"Age\": 5.6, \"Architecture\": \"Ice Lake\", \"GB6 Single\": 1435.0, \"GB6 Multi\": 3742.0, \"Win11\": \"Yes\", \"Product URL\": \"https://www.intel.com/content/www/us/en/products/sku/196591/intel-core-i51035g4-processor-6m-cache-up-to-3-70-ghz/specifications.html\", \"GB6 Single log2\": 0.5210507369009632, \"GB6 Multi log2\": 1.903809558578697}, {\"Name\": \"Intel Core i5-1035G7\", \"Designer\": \"Intel\", \"Launch date\": \"2019-10-01T00:00:00\", \"Cores\": 4, \"Age\": 5.6, \"Architecture\": \"Ice Lake\", \"GB6 Single\": 1419.0, \"GB6 Multi\": 3791.0, \"Win11\": \"Yes\", \"Product URL\": \"https://www.intel.com/content/www/us/en/products/sku/196592/intel-core-i51035g7-processor-6m-cache-up-to-3-70-ghz/specifications.html\", \"GB6 Single log2\": 0.5048745893984644, \"GB6 Multi log2\": 1.922578456508557}, {\"Name\": \"Intel Core i5-1135G7\", \"Designer\": \"Intel\", \"Launch date\": \"2020-07-01T00:00:00\", \"Cores\": 4, \"Age\": 4.8, \"Architecture\": \"Tiger Lake\", \"GB6 Single\": 1702.0, \"GB6 Multi\": 4694.0, \"Win11\": \"Yes\", \"Product URL\": \"https://www.intel.com/content/www/us/en/products/sku/208922/intel-core-i51135g7-processor-8m-cache-up-to-4-20-ghz-with-ipu/specifications.html\", \"GB6 Single log2\": 0.7672310370238756, \"GB6 Multi log2\": 2.230817841861083}, {\"Name\": \"Intel Core i5-1145G7\", \"Designer\": \"Intel\", \"Launch date\": \"2021-01-01T00:00:00\", \"Cores\": 4, \"Age\": 4.3, \"Architecture\": \"Tiger Lake\", \"GB6 Single\": 1766.0, \"GB6 Multi\": 4873.0, \"Win11\": \"Yes\", \"Product URL\": \"https://www.intel.com/content/www/us/en/products/sku/208660/intel-core-i51145g7-processor-8m-cache-up-to-4-40-ghz-with-ipu/specifications.html\", \"GB6 Single log2\": 0.820485342986379, \"GB6 Multi log2\": 2.2848102225302287}, {\"Name\": \"Intel Core i5-1235U\", \"Designer\": \"Intel\", \"Launch date\": \"2022-01-01T00:00:00\", \"Cores\": 10, \"Age\": 3.3, \"Architecture\": \"Alder Lake\", \"GB6 Single\": 1950.0, \"GB6 Multi\": 5846.0, \"Win11\": \"Yes\", \"Product URL\": \"https://www.intel.com/content/www/us/en/products/sku/226261/intel-core-i51235u-processor-12m-cache-up-to-4-40-ghz/specifications.html?wapkw=intel%20core%20i5-1235u\", \"GB6 Single log2\": 0.963474123974886, \"GB6 Multi log2\": 2.547449829143966}, {\"Name\": \"Intel Core i5-1245U\", \"Designer\": \"Intel\", \"Launch date\": \"2022-01-01T00:00:00\", \"Cores\": 10, \"Age\": 3.3, \"Architecture\": \"Alder Lake\", \"GB6 Single\": 1964.0, \"GB6 Multi\": 6269.0, \"Win11\": \"Yes\", \"Product URL\": \"https://www.intel.com/content/www/us/en/products/sku/226260/intel-core-i51245u-processor-12m-cache-up-to-4-40-ghz/specifications.html\", \"GB6 Single log2\": 0.973794929652606, \"GB6 Multi log2\": 2.6482353297736343}, {\"Name\": \"Intel Core i5-1335U\", \"Designer\": \"Intel\", \"Launch date\": \"2023-01-01T00:00:00\", \"Cores\": 10, \"Age\": 2.3, \"Architecture\": \"Raptor Lake\", \"GB6 Single\": 2103.0, \"GB6 Multi\": 6786.0, \"Win11\": \"Yes\", \"Product URL\": \"https://www.intel.com/content/www/us/en/products/sku/232153/intel-core-i51335u-processor-12m-cache-up-to-4-60-ghz/specifications.html\", \"GB6 Single log2\": 1.0724488500696925, \"GB6 Multi log2\": 2.7625614300488897}, {\"Name\": \"Intel Core i5-1345U\", \"Designer\": \"Intel\", \"Launch date\": \"2023-01-01T00:00:00\", \"Cores\": 10, \"Age\": 2.3, \"Architecture\": \"Raptor Lake\", \"GB6 Single\": 2202.0, \"GB6 Multi\": 6967.0, \"Win11\": \"Yes\", \"Product URL\": \"https://www.intel.com/content/www/us/en/products/sku/232127/intel-core-i51345u-processor-12m-cache-up-to-4-70-ghz/specifications.html?wapkw=i5-1345U\", \"GB6 Single log2\": 1.1388144689022819, \"GB6 Multi log2\": 2.800537563291874}, {\"Name\": \"Intel Core Ultra 5 125U\", \"Designer\": \"Intel\", \"Launch date\": \"2023-10-01T00:00:00\", \"Cores\": 12, \"Age\": 1.6, \"Architecture\": \"Metor Lake\", \"GB6 Single\": 2072.0, \"GB6 Multi\": 8107.0, \"Win11\": \"Yes\", \"Product URL\": \"https://www.intel.com/content/www/us/en/products/sku/237330/intel-core-ultra-5-processor-125u-12m-cache-up-to-4-30-ghz/specifications.html?wapkw=Intel%20Core%20Ultra%205%20125U\", \"GB6 Single log2\": 1.0510240030244669, \"GB6 Multi log2\": 3.0191681430702797}, {\"Name\": \"Intel Core Ultra 5 135U\", \"Designer\": \"Intel\", \"Launch date\": \"2023-10-01T00:00:00\", \"Cores\": 12, \"Age\": 1.6, \"Architecture\": \"Metor Lake\", \"GB6 Single\": 2132.0, \"GB6 Multi\": 8667.0, \"Win11\": \"Yes\", \"Product URL\": \"https://www.intel.com/content/www/us/en/products/sku/237328/intel-core-ultra-5-processor-135u-12m-cache-up-to-4-40-ghz/specifications.html?wapkw=Intel%20Core%20Ultra%205%20135U\", \"GB6 Single log2\": 1.092207438097089, \"GB6 Multi log2\": 3.1155327046236847}, {\"Name\": \"AMD Ryzen 7 PRO 2700U\", \"Designer\": \"AMD\", \"Launch date\": \"2017-10-01T00:00:00\", \"Cores\": 4, \"Age\": 7.6, \"Architecture\": \"Raven Ridge\", \"GB6 Single\": 914.0, \"GB6 Multi\": 2545.0, \"Win11\": \"Yes\", \"Product URL\": \"https://www.amd.com/en/support/downloads/drivers.html/processors/ryzen/ryzen-2000-series/amd-ryzen-7-2700u.html\", \"GB6 Single log2\": -0.12973392960401728, \"GB6 Multi log2\": 1.3476656563009706}, {\"Name\": \"AMD Ryzen 5 PRO 3500U\", \"Designer\": \"AMD\", \"Launch date\": \"2019-01-01T00:00:00\", \"Cores\": 4, \"Age\": 6.3, \"Architecture\": \"Picasso\", \"GB6 Single\": 949.0, \"GB6 Multi\": 2620.0, \"Win11\": \"Yes\", \"Product URL\": \"https://www.amd.com/en/support/downloads/drivers.html/processors/ryzen/ryzen-3000-series/amd-ryzen-5-3500u.html\", \"GB6 Single log2\": -0.07552000764097772, \"GB6 Multi log2\": 1.3895668117627256}, {\"Name\": \"AMD Ryzen 5 PRO 4650U\", \"Designer\": \"AMD\", \"Launch date\": \"2020-07-01T00:00:00\", \"Cores\": 6, \"Age\": 4.8, \"Architecture\": \"Renoir\", \"GB6 Single\": 1421.0, \"GB6 Multi\": 4590.0, \"Win11\": \"Yes\", \"Product URL\": \"https://www.amd.com/en/support/downloads/drivers.html/processors/ryzen-pro/ryzen-pro-4000-series/amd-ryzen-5-pro-4650u.html\", \"GB6 Single log2\": 0.5069065545806933, \"GB6 Multi log2\": 2.1984941536390834}, {\"Name\": \"AMD Ryzen 5 PRO 5650U\", \"Designer\": \"AMD\", \"Launch date\": \"2021-03-01T00:00:00\", \"Cores\": 6, \"Age\": 4.2, \"Architecture\": \"Cezanne\", \"GB6 Single\": 1740.0, \"GB6 Multi\": 5479.0, \"Win11\": \"Yes\", \"Product URL\": \"https://www.amd.com/en/support/downloads/drivers.html/processors/ryzen-pro/ryzen-pro-5000-series/amd-ryzen-5-pro-5650u.html\", \"GB6 Single log2\": 0.7990873060740036, \"GB6 Multi log2\": 2.4539126036438925}, {\"Name\": \"AMD Ryzen 5 PRO 6650U\", \"Designer\": \"AMD\", \"Launch date\": \"2022-04-19T00:00:00\", \"Cores\": 6, \"Age\": 3.0, \"Architecture\": \"Rembrandt\", \"GB6 Single\": 1828.0, \"GB6 Multi\": 6717.0, \"Win11\": \"Yes\", \"Product URL\": \"https://www.amd.com/en/support/downloads/drivers.html/processors/ryzen-pro/ryzen-pro-6000-series/amd-ryzen-5-pro-6650u.html\", \"GB6 Single log2\": 0.8702660703959827, \"GB6 Multi log2\": 2.747817028911667}, {\"Name\": \"AMD Ryzen 5 PRO 7540U\", \"Designer\": \"AMD\", \"Launch date\": \"2023-03-05T00:00:00\", \"Cores\": 6, \"Age\": 2.1, \"Architecture\": \"Phoenix\", \"GB6 Single\": 2226.0, \"GB6 Multi\": 8076.0, \"Win11\": \"Yes\", \"Product URL\": \"https://www.amd.com/en/products/processors/laptop/ryzen/7000-series/amd-ryzen-5-7540u.html\", \"GB6 Single log2\": 1.1544535926798725, \"GB6 Multi log2\": 3.013640910669386}, {\"Name\": \"AMD Ryzen 5 PRO 8540U\", \"Designer\": \"AMD\", \"Launch date\": \"2024-04-01T00:00:00\", \"Cores\": 6, \"Age\": 1.1, \"Architecture\": \"Hawk Point\", \"GB6 Single\": 2345.0, \"GB6 Multi\": 8081.0, \"Win11\": \"Yes\", \"Product URL\": \"https://www.amd.com/en/products/processors/laptop/ryzen-pro/8000-series/amd-ryzen-5-pro-8540u.html\", \"GB6 Single log2\": 1.2295879227406519, \"GB6 Multi log2\": 3.0145338332954577}]}}, {\"mode\": \"vega-lite\"});\n",
       "</script>"
      ],
      "text/plain": [
       "alt.LayerChart(...)"
      ]
     },
     "execution_count": 25,
     "metadata": {},
     "output_type": "execute_result"
    }
   ],
   "source": [
    "params_dsingle_logreg = chart_regline.transform_regression('Launch date', 'GB6 Single log2', params=True).mark_text().encode(\n",
    "    x=alt.value(0.0),\n",
    "    y=alt.value(0),\n",
    "    text='coef:N'\n",
    ")\n",
    "\n",
    "chart_dsingle_log+chart_dsingle_logreg + params_dsingle_logreg"
   ]
  },
  {
   "cell_type": "markdown",
   "id": "e4b75b51-b240-4672-8055-ba8eb54a5a55",
   "metadata": {},
   "source": [
    "## Plot CPUs sorted by perf\n",
    "\n",
    "works, but would be more readable with a shorter CPU list"
   ]
  },
  {
   "cell_type": "code",
   "execution_count": 26,
   "id": "50a2222d-fd35-4d86-a718-ceef527acbec",
   "metadata": {},
   "outputs": [],
   "source": [
    "color_age = alt.when(highlight).then(\n",
    "        alt.value('red')\n",
    "    ).otherwise(\n",
    "        alt.Color('Age:Q').scale(scheme='plasma', reverse=True, zero=True)\n",
    "    )\n",
    "size_highlight = alt.when(highlight).then(alt.value(200))"
   ]
  },
  {
   "cell_type": "code",
   "execution_count": 27,
   "id": "70e4c744-70c9-4f83-85e0-03490af61b81",
   "metadata": {},
   "outputs": [
    {
     "data": {
      "text/html": [
       "\n",
       "<style>\n",
       "  #altair-viz-cbc73f5fb513455da01ffa45d61b5f89.vega-embed {\n",
       "    width: 100%;\n",
       "    display: flex;\n",
       "  }\n",
       "\n",
       "  #altair-viz-cbc73f5fb513455da01ffa45d61b5f89.vega-embed details,\n",
       "  #altair-viz-cbc73f5fb513455da01ffa45d61b5f89.vega-embed details summary {\n",
       "    position: relative;\n",
       "  }\n",
       "</style>\n",
       "<div id=\"altair-viz-cbc73f5fb513455da01ffa45d61b5f89\"></div>\n",
       "<script type=\"text/javascript\">\n",
       "  var VEGA_DEBUG = (typeof VEGA_DEBUG == \"undefined\") ? {} : VEGA_DEBUG;\n",
       "  (function(spec, embedOpt){\n",
       "    let outputDiv = document.currentScript.previousElementSibling;\n",
       "    if (outputDiv.id !== \"altair-viz-cbc73f5fb513455da01ffa45d61b5f89\") {\n",
       "      outputDiv = document.getElementById(\"altair-viz-cbc73f5fb513455da01ffa45d61b5f89\");\n",
       "    }\n",
       "    const paths = {\n",
       "      \"vega\": \"https://cdn.jsdelivr.net/npm/vega@5?noext\",\n",
       "      \"vega-lib\": \"https://cdn.jsdelivr.net/npm/vega-lib?noext\",\n",
       "      \"vega-lite\": \"https://cdn.jsdelivr.net/npm/vega-lite@5.20.1?noext\",\n",
       "      \"vega-embed\": \"https://cdn.jsdelivr.net/npm/vega-embed@6?noext\",\n",
       "    };\n",
       "\n",
       "    function maybeLoadScript(lib, version) {\n",
       "      var key = `${lib.replace(\"-\", \"\")}_version`;\n",
       "      return (VEGA_DEBUG[key] == version) ?\n",
       "        Promise.resolve(paths[lib]) :\n",
       "        new Promise(function(resolve, reject) {\n",
       "          var s = document.createElement('script');\n",
       "          document.getElementsByTagName(\"head\")[0].appendChild(s);\n",
       "          s.async = true;\n",
       "          s.onload = () => {\n",
       "            VEGA_DEBUG[key] = version;\n",
       "            return resolve(paths[lib]);\n",
       "          };\n",
       "          s.onerror = () => reject(`Error loading script: ${paths[lib]}`);\n",
       "          s.src = paths[lib];\n",
       "        });\n",
       "    }\n",
       "\n",
       "    function showError(err) {\n",
       "      outputDiv.innerHTML = `<div class=\"error\" style=\"color:red;\">${err}</div>`;\n",
       "      throw err;\n",
       "    }\n",
       "\n",
       "    function displayChart(vegaEmbed) {\n",
       "      vegaEmbed(outputDiv, spec, embedOpt)\n",
       "        .catch(err => showError(`Javascript Error: ${err.message}<br>This usually means there's a typo in your chart specification. See the javascript console for the full traceback.`));\n",
       "    }\n",
       "\n",
       "    if(typeof define === \"function\" && define.amd) {\n",
       "      requirejs.config({paths});\n",
       "      require([\"vega-embed\"], displayChart, err => showError(`Error loading script: ${err.message}`));\n",
       "    } else {\n",
       "      maybeLoadScript(\"vega\", \"5\")\n",
       "        .then(() => maybeLoadScript(\"vega-lite\", \"5.20.1\"))\n",
       "        .then(() => maybeLoadScript(\"vega-embed\", \"6\"))\n",
       "        .catch(showError)\n",
       "        .then(() => displayChart(vegaEmbed));\n",
       "    }\n",
       "  })({\"config\": {\"view\": {\"continuousWidth\": 300, \"continuousHeight\": 300}}, \"hconcat\": [{\"mark\": {\"type\": \"point\", \"filled\": true, \"size\": 100}, \"encoding\": {\"color\": {\"condition\": {\"param\": \"highlight\", \"empty\": false, \"value\": \"red\"}, \"field\": \"Age\", \"scale\": {\"scheme\": \"plasma\", \"reverse\": true, \"zero\": true}, \"type\": \"quantitative\"}, \"shape\": {\"field\": \"Designer\", \"type\": \"nominal\"}, \"size\": {\"condition\": [{\"param\": \"highlight\", \"empty\": false, \"value\": 200}]}, \"tooltip\": [{\"field\": \"Name\", \"type\": \"nominal\"}, {\"field\": \"Architecture\", \"type\": \"nominal\"}, {\"field\": \"Cores\", \"type\": \"quantitative\"}, {\"field\": \"Launch date\", \"type\": \"temporal\"}, {\"field\": \"Win11\", \"type\": \"nominal\"}], \"x\": {\"field\": \"GB6 Single\", \"type\": \"quantitative\"}, \"y\": {\"field\": \"Name\", \"sort\": {\"field\": \"GB6 Single\", \"order\": \"descending\"}, \"type\": \"nominal\"}}, \"name\": \"view_11\", \"title\": \"Single-Core Performance\"}, {\"mark\": {\"type\": \"point\", \"filled\": true, \"size\": 100}, \"encoding\": {\"color\": {\"condition\": {\"param\": \"highlight\", \"empty\": false, \"value\": \"red\"}, \"field\": \"Age\", \"scale\": {\"scheme\": \"plasma\", \"reverse\": true, \"zero\": true}, \"type\": \"quantitative\"}, \"shape\": {\"field\": \"Designer\", \"type\": \"nominal\"}, \"size\": {\"condition\": [{\"param\": \"highlight\", \"empty\": false, \"value\": 200}]}, \"tooltip\": [{\"field\": \"Name\", \"type\": \"nominal\"}, {\"field\": \"Architecture\", \"type\": \"nominal\"}, {\"field\": \"Cores\", \"type\": \"quantitative\"}, {\"field\": \"Launch date\", \"type\": \"temporal\"}, {\"field\": \"Win11\", \"type\": \"nominal\"}], \"x\": {\"field\": \"GB6 Multi\", \"type\": \"quantitative\"}, \"y\": {\"axis\": {\"labels\": false, \"title\": \"\"}, \"field\": \"Name\", \"sort\": {\"field\": \"GB6 Single\", \"order\": \"descending\"}, \"type\": \"nominal\"}}, \"name\": \"view_12\", \"title\": \"Multi-Core Performance\"}], \"data\": {\"name\": \"data-b467ff55ed5fad43ab2df86f3f3ea312\"}, \"params\": [{\"name\": \"highlight\", \"select\": {\"type\": \"point\", \"on\": \"pointerover\"}, \"views\": [\"view_11\", \"view_12\"]}], \"$schema\": \"https://vega.github.io/schema/vega-lite/v5.20.1.json\", \"datasets\": {\"data-b467ff55ed5fad43ab2df86f3f3ea312\": [{\"Name\": \"Intel Core i5-5200U\", \"Designer\": \"Intel\", \"Launch date\": \"2015-01-01T00:00:00\", \"Cores\": 2, \"Age\": 10.2, \"Architecture\": \"Broadwell\", \"GB6 Single\": 854.0, \"GB6 Multi\": 1611.0, \"Win11\": \"No\", \"Product URL\": \"https://www.intel.com/content/www/us/en/products/sku/85212/intel-core-i55200u-processor-3m-cache-up-to-2-70-ghz/specifications.html\", \"GB6 Single log2\": -0.2276920250415967, \"GB6 Multi log2\": 0.6879564940444818}, {\"Name\": \"Intel Core i5-5300U\", \"Designer\": \"Intel\", \"Launch date\": \"2015-01-01T00:00:00\", \"Cores\": 2, \"Age\": 10.2, \"Architecture\": \"Broadwell\", \"GB6 Single\": 908.0, \"GB6 Multi\": 1692.0, \"Win11\": \"No\", \"Product URL\": \"https://www.intel.com/content/www/us/en/products/sku/85213/intel-core-i55300u-processor-3m-cache-up-to-2-90-ghz/specifications.html\", \"GB6 Single log2\": -0.139235797371172, \"GB6 Multi log2\": 0.7587295684578627}, {\"Name\": \"Intel Core i5-6200U\", \"Designer\": \"Intel\", \"Launch date\": \"2015-07-01T00:00:00\", \"Cores\": 2, \"Age\": 9.7, \"Architecture\": \"Skylake\", \"GB6 Single\": 916.0, \"GB6 Multi\": 1832.0, \"Win11\": \"No\", \"Product URL\": \"https://www.intel.com/content/www/us/en/products/sku/88193/intel-core-i56200u-processor-3m-cache-up-to-2-80-ghz/specifications.html\", \"GB6 Single log2\": -0.12658049656514306, \"GB6 Multi log2\": 0.873419503434857}, {\"Name\": \"Intel Core i5-6300U\", \"Designer\": \"Intel\", \"Launch date\": \"2015-07-01T00:00:00\", \"Cores\": 2, \"Age\": 9.7, \"Architecture\": \"Skylake\", \"GB6 Single\": 965.0, \"GB6 Multi\": 1910.0, \"Win11\": \"No\", \"Product URL\": \"https://www.intel.com/content/www/us/en/products/sku/88190/intel-core-i56300u-processor-3m-cache-up-to-3-00-ghz/specifications.html\", \"GB6 Single log2\": -0.05139915250664432, \"GB6 Multi log2\": 0.9335726382610239}, {\"Name\": \"Intel Core i5-7200U\", \"Designer\": \"Intel\", \"Launch date\": \"2016-10-01T00:00:00\", \"Cores\": 2, \"Age\": 8.5, \"Architecture\": \"Kaby Lake\", \"GB6 Single\": 1009.0, \"GB6 Multi\": 1987.0, \"Win11\": \"No\", \"Product URL\": \"https://www.intel.com/content/www/us/en/products/sku/95443/intel-core-i57200u-processor-3m-cache-up-to-3-10-ghz/specifications.html\", \"GB6 Single log2\": 0.012926174444270048, \"GB6 Multi log2\": 0.9905918725875832}, {\"Name\": \"Intel Core i5-7300U\", \"Designer\": \"Intel\", \"Launch date\": \"2017-01-01T00:00:00\", \"Cores\": 2, \"Age\": 8.2, \"Architecture\": \"Kaby Lake\", \"GB6 Single\": 1088.0, \"GB6 Multi\": 2030.0, \"Win11\": \"No\", \"Product URL\": \"https://www.intel.com/content/www/us/en/products/sku/97472/intel-core-i57300u-processor-3m-cache-up-to-3-50-ghz/specifications.html\", \"GB6 Single log2\": 0.12167855658825247, \"GB6 Multi log2\": 1.0214797274104515}, {\"Name\": \"Intel Core i5-8250U\", \"Designer\": \"Intel\", \"Launch date\": \"2017-07-01T00:00:00\", \"Cores\": 4, \"Age\": 7.7, \"Architecture\": \"Kaby Lake R\", \"GB6 Single\": 1145.0, \"GB6 Multi\": 3126.0, \"Win11\": \"Yes\", \"Product URL\": \"https://www.intel.com/content/www/us/en/products/sku/124967/intel-core-i58250u-processor-6m-cache-up-to-3-40-ghz/specifications.html\", \"GB6 Single log2\": 0.19534759832221926, \"GB6 Multi log2\": 1.6443177783375773}, {\"Name\": \"Intel Core i5-8350U\", \"Designer\": \"Intel\", \"Launch date\": \"2017-07-01T00:00:00\", \"Cores\": 4, \"Age\": 7.7, \"Architecture\": \"Kaby Lake R\", \"GB6 Single\": 1191.0, \"GB6 Multi\": 3237.0, \"Win11\": \"Yes\", \"Product URL\": \"https://www.intel.com/content/www/us/en/products/sku/124969/intel-core-i58350u-processor-6m-cache-up-to-3-60-ghz/specifications.html\", \"GB6 Single log2\": 0.252173413202027, \"GB6 Multi log2\": 1.694657365547086}, {\"Name\": \"Intel Core i5-8365U\", \"Designer\": \"Intel\", \"Launch date\": \"2019-04-01T00:00:00\", \"Cores\": 4, \"Age\": 6.0, \"Architecture\": \"Whiskey Lake\", \"GB6 Single\": 1270.0, \"GB6 Multi\": 3167.0, \"Win11\": \"Yes\", \"Product URL\": \"https://www.intel.com/content/www/us/en/products/sku/193555/intel-core-i58365u-processor-6m-cache-up-to-4-10-ghz/specifications.html\", \"GB6 Single log2\": 0.34482849699744117, \"GB6 Multi log2\": 1.6631168673661028}, {\"Name\": \"Intel Core i5-10210U\", \"Designer\": \"Intel\", \"Launch date\": \"2019-07-01T00:00:00\", \"Cores\": 4, \"Age\": 5.7, \"Architecture\": \"Comet Lake\", \"GB6 Single\": 1229.0, \"GB6 Multi\": 3088.0, \"Win11\": \"Yes\", \"Product URL\": \"https://www.intel.com/content/www/us/en/products/sku/195436/intel-core-i510210u-processor-6m-cache-up-to-4-20-ghz/specifications.html\", \"GB6 Single log2\": 0.2974849157105747, \"GB6 Multi log2\": 1.6266727526059934}, {\"Name\": \"Intel Core i5-10310U\", \"Designer\": \"Intel\", \"Launch date\": \"2020-04-01T00:00:00\", \"Cores\": 4, \"Age\": 5.0, \"Architecture\": \"Comet Lake\", \"GB6 Single\": 1297.0, \"GB6 Multi\": 3450.0, \"Win11\": \"Yes\", \"Product URL\": \"https://www.intel.com/content/www/us/en/products/sku/201892/intel-core-i510310u-processor-6m-cache-up-to-4-40-ghz/specifications.html\", \"GB6 Single log2\": 0.3751784795896123, \"GB6 Multi log2\": 1.7865963618908067}, {\"Name\": \"Intel Core i5-1035G4\", \"Designer\": \"Intel\", \"Launch date\": \"2019-10-01T00:00:00\", \"Cores\": 4, \"Age\": 5.5, \"Architecture\": \"Ice Lake\", \"GB6 Single\": 1435.0, \"GB6 Multi\": 3742.0, \"Win11\": \"Yes\", \"Product URL\": \"https://www.intel.com/content/www/us/en/products/sku/196591/intel-core-i51035g4-processor-6m-cache-up-to-3-70-ghz/specifications.html\", \"GB6 Single log2\": 0.5210507369009632, \"GB6 Multi log2\": 1.903809558578697}, {\"Name\": \"Intel Core i5-1035G7\", \"Designer\": \"Intel\", \"Launch date\": \"2019-10-01T00:00:00\", \"Cores\": 4, \"Age\": 5.5, \"Architecture\": \"Ice Lake\", \"GB6 Single\": 1419.0, \"GB6 Multi\": 3791.0, \"Win11\": \"Yes\", \"Product URL\": \"https://www.intel.com/content/www/us/en/products/sku/196592/intel-core-i51035g7-processor-6m-cache-up-to-3-70-ghz/specifications.html\", \"GB6 Single log2\": 0.5048745893984644, \"GB6 Multi log2\": 1.922578456508557}, {\"Name\": \"Intel Core i5-1135G7\", \"Designer\": \"Intel\", \"Launch date\": \"2020-07-01T00:00:00\", \"Cores\": 4, \"Age\": 4.7, \"Architecture\": \"Tiger Lake\", \"GB6 Single\": 1702.0, \"GB6 Multi\": 4694.0, \"Win11\": \"Yes\", \"Product URL\": \"https://www.intel.com/content/www/us/en/products/sku/208922/intel-core-i51135g7-processor-8m-cache-up-to-4-20-ghz-with-ipu/specifications.html\", \"GB6 Single log2\": 0.7672310370238756, \"GB6 Multi log2\": 2.230817841861083}, {\"Name\": \"Intel Core i5-1145G7\", \"Designer\": \"Intel\", \"Launch date\": \"2021-01-01T00:00:00\", \"Cores\": 4, \"Age\": 4.2, \"Architecture\": \"Tiger Lake\", \"GB6 Single\": 1766.0, \"GB6 Multi\": 4873.0, \"Win11\": \"Yes\", \"Product URL\": \"https://www.intel.com/content/www/us/en/products/sku/208660/intel-core-i51145g7-processor-8m-cache-up-to-4-40-ghz-with-ipu/specifications.html\", \"GB6 Single log2\": 0.820485342986379, \"GB6 Multi log2\": 2.2848102225302287}, {\"Name\": \"Intel Core i5-1235U\", \"Designer\": \"Intel\", \"Launch date\": \"2022-01-01T00:00:00\", \"Cores\": 10, \"Age\": 3.2, \"Architecture\": \"Alder Lake\", \"GB6 Single\": 1950.0, \"GB6 Multi\": 5846.0, \"Win11\": \"Yes\", \"Product URL\": \"https://www.intel.com/content/www/us/en/products/sku/226261/intel-core-i51235u-processor-12m-cache-up-to-4-40-ghz/specifications.html?wapkw=intel%20core%20i5-1235u\", \"GB6 Single log2\": 0.963474123974886, \"GB6 Multi log2\": 2.547449829143966}, {\"Name\": \"Intel Core i5-1245U\", \"Designer\": \"Intel\", \"Launch date\": \"2022-01-01T00:00:00\", \"Cores\": 10, \"Age\": 3.2, \"Architecture\": \"Alder Lake\", \"GB6 Single\": 1964.0, \"GB6 Multi\": 6269.0, \"Win11\": \"Yes\", \"Product URL\": \"https://www.intel.com/content/www/us/en/products/sku/226260/intel-core-i51245u-processor-12m-cache-up-to-4-40-ghz/specifications.html\", \"GB6 Single log2\": 0.973794929652606, \"GB6 Multi log2\": 2.6482353297736343}, {\"Name\": \"Intel Core i5-1335U\", \"Designer\": \"Intel\", \"Launch date\": \"2023-01-01T00:00:00\", \"Cores\": 10, \"Age\": 2.2, \"Architecture\": \"Raptor Lake\", \"GB6 Single\": 2103.0, \"GB6 Multi\": 6786.0, \"Win11\": \"Yes\", \"Product URL\": \"https://www.intel.com/content/www/us/en/products/sku/232153/intel-core-i51335u-processor-12m-cache-up-to-4-60-ghz/specifications.html\", \"GB6 Single log2\": 1.0724488500696925, \"GB6 Multi log2\": 2.7625614300488897}, {\"Name\": \"Intel Core i5-1345U\", \"Designer\": \"Intel\", \"Launch date\": \"2023-01-01T00:00:00\", \"Cores\": 10, \"Age\": 2.2, \"Architecture\": \"Raptor Lake\", \"GB6 Single\": 2202.0, \"GB6 Multi\": 6967.0, \"Win11\": \"Yes\", \"Product URL\": \"https://www.intel.com/content/www/us/en/products/sku/232127/intel-core-i51345u-processor-12m-cache-up-to-4-70-ghz/specifications.html?wapkw=i5-1345U\", \"GB6 Single log2\": 1.1388144689022819, \"GB6 Multi log2\": 2.800537563291874}, {\"Name\": \"Intel Core Ultra 5 125U\", \"Designer\": \"Intel\", \"Launch date\": \"2023-10-01T00:00:00\", \"Cores\": 12, \"Age\": 1.5, \"Architecture\": \"Metor Lake\", \"GB6 Single\": 2072.0, \"GB6 Multi\": 8107.0, \"Win11\": \"Yes\", \"Product URL\": \"https://www.intel.com/content/www/us/en/products/sku/237330/intel-core-ultra-5-processor-125u-12m-cache-up-to-4-30-ghz/specifications.html?wapkw=Intel%20Core%20Ultra%205%20125U\", \"GB6 Single log2\": 1.0510240030244669, \"GB6 Multi log2\": 3.0191681430702797}, {\"Name\": \"Intel Core Ultra 5 135U\", \"Designer\": \"Intel\", \"Launch date\": \"2023-10-01T00:00:00\", \"Cores\": 12, \"Age\": 1.5, \"Architecture\": \"Metor Lake\", \"GB6 Single\": 2132.0, \"GB6 Multi\": 8667.0, \"Win11\": \"Yes\", \"Product URL\": \"https://www.intel.com/content/www/us/en/products/sku/237328/intel-core-ultra-5-processor-135u-12m-cache-up-to-4-40-ghz/specifications.html?wapkw=Intel%20Core%20Ultra%205%20135U\", \"GB6 Single log2\": 1.092207438097089, \"GB6 Multi log2\": 3.1155327046236847}, {\"Name\": \"AMD Ryzen 7 PRO 2700U\", \"Designer\": \"AMD\", \"Launch date\": \"2017-10-01T00:00:00\", \"Cores\": 4, \"Age\": 7.5, \"Architecture\": \"Raven Ridge\", \"GB6 Single\": 914.0, \"GB6 Multi\": 2545.0, \"Win11\": \"Yes\", \"Product URL\": \"https://www.amd.com/en/support/downloads/drivers.html/processors/ryzen/ryzen-2000-series/amd-ryzen-7-2700u.html\", \"GB6 Single log2\": -0.12973392960401728, \"GB6 Multi log2\": 1.3476656563009706}, {\"Name\": \"AMD Ryzen 5 PRO 3500U\", \"Designer\": \"AMD\", \"Launch date\": \"2019-01-01T00:00:00\", \"Cores\": 4, \"Age\": 6.2, \"Architecture\": \"Picasso\", \"GB6 Single\": 949.0, \"GB6 Multi\": 2620.0, \"Win11\": \"Yes\", \"Product URL\": \"https://www.amd.com/en/support/downloads/drivers.html/processors/ryzen/ryzen-3000-series/amd-ryzen-5-3500u.html\", \"GB6 Single log2\": -0.07552000764097772, \"GB6 Multi log2\": 1.3895668117627256}, {\"Name\": \"AMD Ryzen 5 PRO 4650U\", \"Designer\": \"AMD\", \"Launch date\": \"2020-07-01T00:00:00\", \"Cores\": 6, \"Age\": 4.7, \"Architecture\": \"Renoir\", \"GB6 Single\": 1421.0, \"GB6 Multi\": 4590.0, \"Win11\": \"Yes\", \"Product URL\": \"https://www.amd.com/en/support/downloads/drivers.html/processors/ryzen-pro/ryzen-pro-4000-series/amd-ryzen-5-pro-4650u.html\", \"GB6 Single log2\": 0.5069065545806933, \"GB6 Multi log2\": 2.1984941536390834}, {\"Name\": \"AMD Ryzen 5 PRO 5650U\", \"Designer\": \"AMD\", \"Launch date\": \"2021-03-01T00:00:00\", \"Cores\": 6, \"Age\": 4.1, \"Architecture\": \"Cezanne\", \"GB6 Single\": 1740.0, \"GB6 Multi\": 5479.0, \"Win11\": \"Yes\", \"Product URL\": \"https://www.amd.com/en/support/downloads/drivers.html/processors/ryzen-pro/ryzen-pro-5000-series/amd-ryzen-5-pro-5650u.html\", \"GB6 Single log2\": 0.7990873060740036, \"GB6 Multi log2\": 2.4539126036438925}, {\"Name\": \"AMD Ryzen 5 PRO 6650U\", \"Designer\": \"AMD\", \"Launch date\": \"2022-04-19T00:00:00\", \"Cores\": 6, \"Age\": 2.9, \"Architecture\": \"Rembrandt\", \"GB6 Single\": 1828.0, \"GB6 Multi\": 6717.0, \"Win11\": \"Yes\", \"Product URL\": \"https://www.amd.com/en/support/downloads/drivers.html/processors/ryzen-pro/ryzen-pro-6000-series/amd-ryzen-5-pro-6650u.html\", \"GB6 Single log2\": 0.8702660703959827, \"GB6 Multi log2\": 2.747817028911667}, {\"Name\": \"AMD Ryzen 5 PRO 7540U\", \"Designer\": \"AMD\", \"Launch date\": \"2023-03-05T00:00:00\", \"Cores\": 6, \"Age\": 2.1, \"Architecture\": \"Phoenix\", \"GB6 Single\": 2226.0, \"GB6 Multi\": 8076.0, \"Win11\": \"Yes\", \"Product URL\": \"https://www.amd.com/en/products/processors/laptop/ryzen/7000-series/amd-ryzen-5-7540u.html\", \"GB6 Single log2\": 1.1544535926798725, \"GB6 Multi log2\": 3.013640910669386}, {\"Name\": \"AMD Ryzen 5 PRO 8540U\", \"Designer\": \"AMD\", \"Launch date\": \"2024-04-01T00:00:00\", \"Cores\": 6, \"Age\": 1.0, \"Architecture\": \"Hawk Point\", \"GB6 Single\": 2345.0, \"GB6 Multi\": 8081.0, \"Win11\": \"Yes\", \"Product URL\": \"https://www.amd.com/en/products/processors/laptop/ryzen-pro/8000-series/amd-ryzen-5-pro-8540u.html\", \"GB6 Single log2\": 1.2295879227406519, \"GB6 Multi log2\": 3.0145338332954577}]}}, {\"mode\": \"vega-lite\"});\n",
       "</script>"
      ],
      "text/plain": [
       "alt.HConcatChart(...)"
      ]
     },
     "execution_count": 27,
     "metadata": {},
     "output_type": "execute_result"
    }
   ],
   "source": [
    "chart_name = alt.Chart(cpus).mark_point(size=100, filled=True).encode(\n",
    "    alt.Y('Name').sort(field='GB6 Single', order='descending'),\n",
    "    tooltip=['Name', 'Architecture', 'Cores', 'Launch date', 'Win11'],\n",
    "    color=color_age,#'Age',\n",
    "    shape='Designer',\n",
    "    size=size_highlight\n",
    ").add_params(\n",
    "    highlight\n",
    ")\n",
    "\n",
    "chart_nsingle = chart_name.encode(\n",
    "    x='GB6 Single',\n",
    ").properties(\n",
    "    title='Single-Core Performance'\n",
    ")\n",
    "\n",
    "chart_nmulti = chart_name.encode(\n",
    "    x='GB6 Multi',\n",
    "    y=alt.Y('Name', axis=alt.Axis(labels=False, title='')).sort(field='GB6 Single', order='descending') # hide y tick labels\n",
    ").properties(\n",
    "    title='Multi-Core Performance'\n",
    ")\n",
    "chart_nsingle | chart_nmulti"
   ]
  },
  {
   "cell_type": "markdown",
   "id": "fbdd7f09-833b-494b-8263-9eb827f2b377",
   "metadata": {},
   "source": [
    "### Both charts, with synced highlight\n",
    "\n",
    "works, but is too big! Need to use the short list only"
   ]
  },
  {
   "cell_type": "code",
   "execution_count": 28,
   "id": "9d3e7e52-6aa3-4a92-a043-a742cf637f7c",
   "metadata": {},
   "outputs": [
    {
     "data": {
      "text/html": [
       "\n",
       "<style>\n",
       "  #altair-viz-37a37f66144d476682e959c5effcd4b5.vega-embed {\n",
       "    width: 100%;\n",
       "    display: flex;\n",
       "  }\n",
       "\n",
       "  #altair-viz-37a37f66144d476682e959c5effcd4b5.vega-embed details,\n",
       "  #altair-viz-37a37f66144d476682e959c5effcd4b5.vega-embed details summary {\n",
       "    position: relative;\n",
       "  }\n",
       "</style>\n",
       "<div id=\"altair-viz-37a37f66144d476682e959c5effcd4b5\"></div>\n",
       "<script type=\"text/javascript\">\n",
       "  var VEGA_DEBUG = (typeof VEGA_DEBUG == \"undefined\") ? {} : VEGA_DEBUG;\n",
       "  (function(spec, embedOpt){\n",
       "    let outputDiv = document.currentScript.previousElementSibling;\n",
       "    if (outputDiv.id !== \"altair-viz-37a37f66144d476682e959c5effcd4b5\") {\n",
       "      outputDiv = document.getElementById(\"altair-viz-37a37f66144d476682e959c5effcd4b5\");\n",
       "    }\n",
       "    const paths = {\n",
       "      \"vega\": \"https://cdn.jsdelivr.net/npm/vega@5?noext\",\n",
       "      \"vega-lib\": \"https://cdn.jsdelivr.net/npm/vega-lib?noext\",\n",
       "      \"vega-lite\": \"https://cdn.jsdelivr.net/npm/vega-lite@5.20.1?noext\",\n",
       "      \"vega-embed\": \"https://cdn.jsdelivr.net/npm/vega-embed@6?noext\",\n",
       "    };\n",
       "\n",
       "    function maybeLoadScript(lib, version) {\n",
       "      var key = `${lib.replace(\"-\", \"\")}_version`;\n",
       "      return (VEGA_DEBUG[key] == version) ?\n",
       "        Promise.resolve(paths[lib]) :\n",
       "        new Promise(function(resolve, reject) {\n",
       "          var s = document.createElement('script');\n",
       "          document.getElementsByTagName(\"head\")[0].appendChild(s);\n",
       "          s.async = true;\n",
       "          s.onload = () => {\n",
       "            VEGA_DEBUG[key] = version;\n",
       "            return resolve(paths[lib]);\n",
       "          };\n",
       "          s.onerror = () => reject(`Error loading script: ${paths[lib]}`);\n",
       "          s.src = paths[lib];\n",
       "        });\n",
       "    }\n",
       "\n",
       "    function showError(err) {\n",
       "      outputDiv.innerHTML = `<div class=\"error\" style=\"color:red;\">${err}</div>`;\n",
       "      throw err;\n",
       "    }\n",
       "\n",
       "    function displayChart(vegaEmbed) {\n",
       "      vegaEmbed(outputDiv, spec, embedOpt)\n",
       "        .catch(err => showError(`Javascript Error: ${err.message}<br>This usually means there's a typo in your chart specification. See the javascript console for the full traceback.`));\n",
       "    }\n",
       "\n",
       "    if(typeof define === \"function\" && define.amd) {\n",
       "      requirejs.config({paths});\n",
       "      require([\"vega-embed\"], displayChart, err => showError(`Error loading script: ${err.message}`));\n",
       "    } else {\n",
       "      maybeLoadScript(\"vega\", \"5\")\n",
       "        .then(() => maybeLoadScript(\"vega-lite\", \"5.20.1\"))\n",
       "        .then(() => maybeLoadScript(\"vega-embed\", \"6\"))\n",
       "        .catch(showError)\n",
       "        .then(() => displayChart(vegaEmbed));\n",
       "    }\n",
       "  })({\"config\": {\"view\": {\"continuousWidth\": 300, \"continuousHeight\": 300}}, \"vconcat\": [{\"hconcat\": [{\"mark\": {\"type\": \"point\", \"filled\": true, \"size\": 100}, \"encoding\": {\"color\": {\"condition\": {\"param\": \"highlight\", \"empty\": false, \"value\": \"red\"}, \"field\": \"Age\", \"scale\": {\"scheme\": \"plasma\", \"reverse\": true, \"zero\": true}, \"type\": \"quantitative\"}, \"shape\": {\"field\": \"Designer\", \"type\": \"nominal\"}, \"size\": {\"condition\": [{\"param\": \"highlight\", \"empty\": false, \"value\": 200}]}, \"tooltip\": [{\"field\": \"Name\", \"type\": \"nominal\"}, {\"field\": \"Architecture\", \"type\": \"nominal\"}, {\"field\": \"Cores\", \"type\": \"quantitative\"}, {\"field\": \"Launch date\", \"type\": \"temporal\"}, {\"field\": \"Win11\", \"type\": \"nominal\"}], \"x\": {\"field\": \"GB6 Single\", \"type\": \"quantitative\"}, \"y\": {\"field\": \"Name\", \"sort\": {\"field\": \"GB6 Single\", \"order\": \"descending\"}, \"type\": \"nominal\"}}, \"name\": \"view_13\", \"title\": \"Single-Core Performance\"}, {\"mark\": {\"type\": \"point\", \"filled\": true, \"size\": 100}, \"encoding\": {\"color\": {\"condition\": {\"param\": \"highlight\", \"empty\": false, \"value\": \"red\"}, \"field\": \"Age\", \"scale\": {\"scheme\": \"plasma\", \"reverse\": true, \"zero\": true}, \"type\": \"quantitative\"}, \"shape\": {\"field\": \"Designer\", \"type\": \"nominal\"}, \"size\": {\"condition\": [{\"param\": \"highlight\", \"empty\": false, \"value\": 200}]}, \"tooltip\": [{\"field\": \"Name\", \"type\": \"nominal\"}, {\"field\": \"Architecture\", \"type\": \"nominal\"}, {\"field\": \"Cores\", \"type\": \"quantitative\"}, {\"field\": \"Launch date\", \"type\": \"temporal\"}, {\"field\": \"Win11\", \"type\": \"nominal\"}], \"x\": {\"field\": \"GB6 Multi\", \"type\": \"quantitative\"}, \"y\": {\"axis\": {\"labels\": false, \"title\": \"\"}, \"field\": \"Name\", \"sort\": {\"field\": \"GB6 Single\", \"order\": \"descending\"}, \"type\": \"nominal\"}}, \"name\": \"view_14\", \"title\": \"Multi-Core Performance\"}]}, {\"hconcat\": [{\"mark\": {\"type\": \"point\", \"filled\": true, \"size\": 150, \"strokeWidth\": 5}, \"encoding\": {\"color\": {\"condition\": {\"param\": \"highlight\", \"empty\": true, \"field\": \"Designer\", \"scale\": {\"scheme\": \"set1\"}, \"type\": \"nominal\"}, \"value\": \"lightgray\"}, \"order\": {\"value\": 0, \"condition\": [{\"param\": \"highlight\", \"value\": 1, \"empty\": false}]}, \"shape\": {\"field\": \"Designer\", \"type\": \"nominal\"}, \"tooltip\": [{\"field\": \"Name\", \"type\": \"nominal\"}, {\"field\": \"Architecture\", \"type\": \"nominal\"}, {\"field\": \"Cores\", \"type\": \"quantitative\"}, {\"field\": \"Launch date\", \"type\": \"temporal\"}, {\"field\": \"Win11\", \"type\": \"nominal\"}, {\"field\": \"GB6 Single\", \"type\": \"quantitative\"}, {\"field\": \"GB6 Multi\", \"type\": \"quantitative\"}], \"x\": {\"field\": \"GB6 Single\", \"type\": \"quantitative\"}, \"y\": {\"field\": \"Launch date\", \"type\": \"temporal\"}}, \"name\": \"view_15\", \"title\": \"Single-Core Performance\"}, {\"mark\": {\"type\": \"point\", \"filled\": true, \"size\": 150, \"strokeWidth\": 5}, \"encoding\": {\"color\": {\"condition\": {\"param\": \"highlight\", \"empty\": true, \"field\": \"Designer\", \"scale\": {\"scheme\": \"set1\"}, \"type\": \"nominal\"}, \"value\": \"lightgray\"}, \"order\": {\"value\": 0, \"condition\": [{\"param\": \"highlight\", \"value\": 1, \"empty\": false}]}, \"shape\": {\"field\": \"Designer\", \"type\": \"nominal\"}, \"tooltip\": [{\"field\": \"Name\", \"type\": \"nominal\"}, {\"field\": \"Architecture\", \"type\": \"nominal\"}, {\"field\": \"Cores\", \"type\": \"quantitative\"}, {\"field\": \"Launch date\", \"type\": \"temporal\"}, {\"field\": \"Win11\", \"type\": \"nominal\"}, {\"field\": \"GB6 Single\", \"type\": \"quantitative\"}, {\"field\": \"GB6 Multi\", \"type\": \"quantitative\"}], \"x\": {\"field\": \"GB6 Multi\", \"type\": \"quantitative\"}, \"y\": {\"axis\": {\"labels\": false, \"title\": \"\"}, \"field\": \"Launch date\", \"type\": \"temporal\"}}, \"name\": \"view_16\", \"title\": \"Multi-Core Performance\"}]}], \"data\": {\"name\": \"data-b467ff55ed5fad43ab2df86f3f3ea312\"}, \"params\": [{\"name\": \"highlight\", \"select\": {\"type\": \"point\", \"on\": \"pointerover\"}, \"views\": [\"view_13\", \"view_14\", \"view_15\", \"view_16\"]}], \"$schema\": \"https://vega.github.io/schema/vega-lite/v5.20.1.json\", \"datasets\": {\"data-b467ff55ed5fad43ab2df86f3f3ea312\": [{\"Name\": \"Intel Core i5-5200U\", \"Designer\": \"Intel\", \"Launch date\": \"2015-01-01T00:00:00\", \"Cores\": 2, \"Age\": 10.2, \"Architecture\": \"Broadwell\", \"GB6 Single\": 854.0, \"GB6 Multi\": 1611.0, \"Win11\": \"No\", \"Product URL\": \"https://www.intel.com/content/www/us/en/products/sku/85212/intel-core-i55200u-processor-3m-cache-up-to-2-70-ghz/specifications.html\", \"GB6 Single log2\": -0.2276920250415967, \"GB6 Multi log2\": 0.6879564940444818}, {\"Name\": \"Intel Core i5-5300U\", \"Designer\": \"Intel\", \"Launch date\": \"2015-01-01T00:00:00\", \"Cores\": 2, \"Age\": 10.2, \"Architecture\": \"Broadwell\", \"GB6 Single\": 908.0, \"GB6 Multi\": 1692.0, \"Win11\": \"No\", \"Product URL\": \"https://www.intel.com/content/www/us/en/products/sku/85213/intel-core-i55300u-processor-3m-cache-up-to-2-90-ghz/specifications.html\", \"GB6 Single log2\": -0.139235797371172, \"GB6 Multi log2\": 0.7587295684578627}, {\"Name\": \"Intel Core i5-6200U\", \"Designer\": \"Intel\", \"Launch date\": \"2015-07-01T00:00:00\", \"Cores\": 2, \"Age\": 9.7, \"Architecture\": \"Skylake\", \"GB6 Single\": 916.0, \"GB6 Multi\": 1832.0, \"Win11\": \"No\", \"Product URL\": \"https://www.intel.com/content/www/us/en/products/sku/88193/intel-core-i56200u-processor-3m-cache-up-to-2-80-ghz/specifications.html\", \"GB6 Single log2\": -0.12658049656514306, \"GB6 Multi log2\": 0.873419503434857}, {\"Name\": \"Intel Core i5-6300U\", \"Designer\": \"Intel\", \"Launch date\": \"2015-07-01T00:00:00\", \"Cores\": 2, \"Age\": 9.7, \"Architecture\": \"Skylake\", \"GB6 Single\": 965.0, \"GB6 Multi\": 1910.0, \"Win11\": \"No\", \"Product URL\": \"https://www.intel.com/content/www/us/en/products/sku/88190/intel-core-i56300u-processor-3m-cache-up-to-3-00-ghz/specifications.html\", \"GB6 Single log2\": -0.05139915250664432, \"GB6 Multi log2\": 0.9335726382610239}, {\"Name\": \"Intel Core i5-7200U\", \"Designer\": \"Intel\", \"Launch date\": \"2016-10-01T00:00:00\", \"Cores\": 2, \"Age\": 8.5, \"Architecture\": \"Kaby Lake\", \"GB6 Single\": 1009.0, \"GB6 Multi\": 1987.0, \"Win11\": \"No\", \"Product URL\": \"https://www.intel.com/content/www/us/en/products/sku/95443/intel-core-i57200u-processor-3m-cache-up-to-3-10-ghz/specifications.html\", \"GB6 Single log2\": 0.012926174444270048, \"GB6 Multi log2\": 0.9905918725875832}, {\"Name\": \"Intel Core i5-7300U\", \"Designer\": \"Intel\", \"Launch date\": \"2017-01-01T00:00:00\", \"Cores\": 2, \"Age\": 8.2, \"Architecture\": \"Kaby Lake\", \"GB6 Single\": 1088.0, \"GB6 Multi\": 2030.0, \"Win11\": \"No\", \"Product URL\": \"https://www.intel.com/content/www/us/en/products/sku/97472/intel-core-i57300u-processor-3m-cache-up-to-3-50-ghz/specifications.html\", \"GB6 Single log2\": 0.12167855658825247, \"GB6 Multi log2\": 1.0214797274104515}, {\"Name\": \"Intel Core i5-8250U\", \"Designer\": \"Intel\", \"Launch date\": \"2017-07-01T00:00:00\", \"Cores\": 4, \"Age\": 7.7, \"Architecture\": \"Kaby Lake R\", \"GB6 Single\": 1145.0, \"GB6 Multi\": 3126.0, \"Win11\": \"Yes\", \"Product URL\": \"https://www.intel.com/content/www/us/en/products/sku/124967/intel-core-i58250u-processor-6m-cache-up-to-3-40-ghz/specifications.html\", \"GB6 Single log2\": 0.19534759832221926, \"GB6 Multi log2\": 1.6443177783375773}, {\"Name\": \"Intel Core i5-8350U\", \"Designer\": \"Intel\", \"Launch date\": \"2017-07-01T00:00:00\", \"Cores\": 4, \"Age\": 7.7, \"Architecture\": \"Kaby Lake R\", \"GB6 Single\": 1191.0, \"GB6 Multi\": 3237.0, \"Win11\": \"Yes\", \"Product URL\": \"https://www.intel.com/content/www/us/en/products/sku/124969/intel-core-i58350u-processor-6m-cache-up-to-3-60-ghz/specifications.html\", \"GB6 Single log2\": 0.252173413202027, \"GB6 Multi log2\": 1.694657365547086}, {\"Name\": \"Intel Core i5-8365U\", \"Designer\": \"Intel\", \"Launch date\": \"2019-04-01T00:00:00\", \"Cores\": 4, \"Age\": 6.0, \"Architecture\": \"Whiskey Lake\", \"GB6 Single\": 1270.0, \"GB6 Multi\": 3167.0, \"Win11\": \"Yes\", \"Product URL\": \"https://www.intel.com/content/www/us/en/products/sku/193555/intel-core-i58365u-processor-6m-cache-up-to-4-10-ghz/specifications.html\", \"GB6 Single log2\": 0.34482849699744117, \"GB6 Multi log2\": 1.6631168673661028}, {\"Name\": \"Intel Core i5-10210U\", \"Designer\": \"Intel\", \"Launch date\": \"2019-07-01T00:00:00\", \"Cores\": 4, \"Age\": 5.7, \"Architecture\": \"Comet Lake\", \"GB6 Single\": 1229.0, \"GB6 Multi\": 3088.0, \"Win11\": \"Yes\", \"Product URL\": \"https://www.intel.com/content/www/us/en/products/sku/195436/intel-core-i510210u-processor-6m-cache-up-to-4-20-ghz/specifications.html\", \"GB6 Single log2\": 0.2974849157105747, \"GB6 Multi log2\": 1.6266727526059934}, {\"Name\": \"Intel Core i5-10310U\", \"Designer\": \"Intel\", \"Launch date\": \"2020-04-01T00:00:00\", \"Cores\": 4, \"Age\": 5.0, \"Architecture\": \"Comet Lake\", \"GB6 Single\": 1297.0, \"GB6 Multi\": 3450.0, \"Win11\": \"Yes\", \"Product URL\": \"https://www.intel.com/content/www/us/en/products/sku/201892/intel-core-i510310u-processor-6m-cache-up-to-4-40-ghz/specifications.html\", \"GB6 Single log2\": 0.3751784795896123, \"GB6 Multi log2\": 1.7865963618908067}, {\"Name\": \"Intel Core i5-1035G4\", \"Designer\": \"Intel\", \"Launch date\": \"2019-10-01T00:00:00\", \"Cores\": 4, \"Age\": 5.5, \"Architecture\": \"Ice Lake\", \"GB6 Single\": 1435.0, \"GB6 Multi\": 3742.0, \"Win11\": \"Yes\", \"Product URL\": \"https://www.intel.com/content/www/us/en/products/sku/196591/intel-core-i51035g4-processor-6m-cache-up-to-3-70-ghz/specifications.html\", \"GB6 Single log2\": 0.5210507369009632, \"GB6 Multi log2\": 1.903809558578697}, {\"Name\": \"Intel Core i5-1035G7\", \"Designer\": \"Intel\", \"Launch date\": \"2019-10-01T00:00:00\", \"Cores\": 4, \"Age\": 5.5, \"Architecture\": \"Ice Lake\", \"GB6 Single\": 1419.0, \"GB6 Multi\": 3791.0, \"Win11\": \"Yes\", \"Product URL\": \"https://www.intel.com/content/www/us/en/products/sku/196592/intel-core-i51035g7-processor-6m-cache-up-to-3-70-ghz/specifications.html\", \"GB6 Single log2\": 0.5048745893984644, \"GB6 Multi log2\": 1.922578456508557}, {\"Name\": \"Intel Core i5-1135G7\", \"Designer\": \"Intel\", \"Launch date\": \"2020-07-01T00:00:00\", \"Cores\": 4, \"Age\": 4.7, \"Architecture\": \"Tiger Lake\", \"GB6 Single\": 1702.0, \"GB6 Multi\": 4694.0, \"Win11\": \"Yes\", \"Product URL\": \"https://www.intel.com/content/www/us/en/products/sku/208922/intel-core-i51135g7-processor-8m-cache-up-to-4-20-ghz-with-ipu/specifications.html\", \"GB6 Single log2\": 0.7672310370238756, \"GB6 Multi log2\": 2.230817841861083}, {\"Name\": \"Intel Core i5-1145G7\", \"Designer\": \"Intel\", \"Launch date\": \"2021-01-01T00:00:00\", \"Cores\": 4, \"Age\": 4.2, \"Architecture\": \"Tiger Lake\", \"GB6 Single\": 1766.0, \"GB6 Multi\": 4873.0, \"Win11\": \"Yes\", \"Product URL\": \"https://www.intel.com/content/www/us/en/products/sku/208660/intel-core-i51145g7-processor-8m-cache-up-to-4-40-ghz-with-ipu/specifications.html\", \"GB6 Single log2\": 0.820485342986379, \"GB6 Multi log2\": 2.2848102225302287}, {\"Name\": \"Intel Core i5-1235U\", \"Designer\": \"Intel\", \"Launch date\": \"2022-01-01T00:00:00\", \"Cores\": 10, \"Age\": 3.2, \"Architecture\": \"Alder Lake\", \"GB6 Single\": 1950.0, \"GB6 Multi\": 5846.0, \"Win11\": \"Yes\", \"Product URL\": \"https://www.intel.com/content/www/us/en/products/sku/226261/intel-core-i51235u-processor-12m-cache-up-to-4-40-ghz/specifications.html?wapkw=intel%20core%20i5-1235u\", \"GB6 Single log2\": 0.963474123974886, \"GB6 Multi log2\": 2.547449829143966}, {\"Name\": \"Intel Core i5-1245U\", \"Designer\": \"Intel\", \"Launch date\": \"2022-01-01T00:00:00\", \"Cores\": 10, \"Age\": 3.2, \"Architecture\": \"Alder Lake\", \"GB6 Single\": 1964.0, \"GB6 Multi\": 6269.0, \"Win11\": \"Yes\", \"Product URL\": \"https://www.intel.com/content/www/us/en/products/sku/226260/intel-core-i51245u-processor-12m-cache-up-to-4-40-ghz/specifications.html\", \"GB6 Single log2\": 0.973794929652606, \"GB6 Multi log2\": 2.6482353297736343}, {\"Name\": \"Intel Core i5-1335U\", \"Designer\": \"Intel\", \"Launch date\": \"2023-01-01T00:00:00\", \"Cores\": 10, \"Age\": 2.2, \"Architecture\": \"Raptor Lake\", \"GB6 Single\": 2103.0, \"GB6 Multi\": 6786.0, \"Win11\": \"Yes\", \"Product URL\": \"https://www.intel.com/content/www/us/en/products/sku/232153/intel-core-i51335u-processor-12m-cache-up-to-4-60-ghz/specifications.html\", \"GB6 Single log2\": 1.0724488500696925, \"GB6 Multi log2\": 2.7625614300488897}, {\"Name\": \"Intel Core i5-1345U\", \"Designer\": \"Intel\", \"Launch date\": \"2023-01-01T00:00:00\", \"Cores\": 10, \"Age\": 2.2, \"Architecture\": \"Raptor Lake\", \"GB6 Single\": 2202.0, \"GB6 Multi\": 6967.0, \"Win11\": \"Yes\", \"Product URL\": \"https://www.intel.com/content/www/us/en/products/sku/232127/intel-core-i51345u-processor-12m-cache-up-to-4-70-ghz/specifications.html?wapkw=i5-1345U\", \"GB6 Single log2\": 1.1388144689022819, \"GB6 Multi log2\": 2.800537563291874}, {\"Name\": \"Intel Core Ultra 5 125U\", \"Designer\": \"Intel\", \"Launch date\": \"2023-10-01T00:00:00\", \"Cores\": 12, \"Age\": 1.5, \"Architecture\": \"Metor Lake\", \"GB6 Single\": 2072.0, \"GB6 Multi\": 8107.0, \"Win11\": \"Yes\", \"Product URL\": \"https://www.intel.com/content/www/us/en/products/sku/237330/intel-core-ultra-5-processor-125u-12m-cache-up-to-4-30-ghz/specifications.html?wapkw=Intel%20Core%20Ultra%205%20125U\", \"GB6 Single log2\": 1.0510240030244669, \"GB6 Multi log2\": 3.0191681430702797}, {\"Name\": \"Intel Core Ultra 5 135U\", \"Designer\": \"Intel\", \"Launch date\": \"2023-10-01T00:00:00\", \"Cores\": 12, \"Age\": 1.5, \"Architecture\": \"Metor Lake\", \"GB6 Single\": 2132.0, \"GB6 Multi\": 8667.0, \"Win11\": \"Yes\", \"Product URL\": \"https://www.intel.com/content/www/us/en/products/sku/237328/intel-core-ultra-5-processor-135u-12m-cache-up-to-4-40-ghz/specifications.html?wapkw=Intel%20Core%20Ultra%205%20135U\", \"GB6 Single log2\": 1.092207438097089, \"GB6 Multi log2\": 3.1155327046236847}, {\"Name\": \"AMD Ryzen 7 PRO 2700U\", \"Designer\": \"AMD\", \"Launch date\": \"2017-10-01T00:00:00\", \"Cores\": 4, \"Age\": 7.5, \"Architecture\": \"Raven Ridge\", \"GB6 Single\": 914.0, \"GB6 Multi\": 2545.0, \"Win11\": \"Yes\", \"Product URL\": \"https://www.amd.com/en/support/downloads/drivers.html/processors/ryzen/ryzen-2000-series/amd-ryzen-7-2700u.html\", \"GB6 Single log2\": -0.12973392960401728, \"GB6 Multi log2\": 1.3476656563009706}, {\"Name\": \"AMD Ryzen 5 PRO 3500U\", \"Designer\": \"AMD\", \"Launch date\": \"2019-01-01T00:00:00\", \"Cores\": 4, \"Age\": 6.2, \"Architecture\": \"Picasso\", \"GB6 Single\": 949.0, \"GB6 Multi\": 2620.0, \"Win11\": \"Yes\", \"Product URL\": \"https://www.amd.com/en/support/downloads/drivers.html/processors/ryzen/ryzen-3000-series/amd-ryzen-5-3500u.html\", \"GB6 Single log2\": -0.07552000764097772, \"GB6 Multi log2\": 1.3895668117627256}, {\"Name\": \"AMD Ryzen 5 PRO 4650U\", \"Designer\": \"AMD\", \"Launch date\": \"2020-07-01T00:00:00\", \"Cores\": 6, \"Age\": 4.7, \"Architecture\": \"Renoir\", \"GB6 Single\": 1421.0, \"GB6 Multi\": 4590.0, \"Win11\": \"Yes\", \"Product URL\": \"https://www.amd.com/en/support/downloads/drivers.html/processors/ryzen-pro/ryzen-pro-4000-series/amd-ryzen-5-pro-4650u.html\", \"GB6 Single log2\": 0.5069065545806933, \"GB6 Multi log2\": 2.1984941536390834}, {\"Name\": \"AMD Ryzen 5 PRO 5650U\", \"Designer\": \"AMD\", \"Launch date\": \"2021-03-01T00:00:00\", \"Cores\": 6, \"Age\": 4.1, \"Architecture\": \"Cezanne\", \"GB6 Single\": 1740.0, \"GB6 Multi\": 5479.0, \"Win11\": \"Yes\", \"Product URL\": \"https://www.amd.com/en/support/downloads/drivers.html/processors/ryzen-pro/ryzen-pro-5000-series/amd-ryzen-5-pro-5650u.html\", \"GB6 Single log2\": 0.7990873060740036, \"GB6 Multi log2\": 2.4539126036438925}, {\"Name\": \"AMD Ryzen 5 PRO 6650U\", \"Designer\": \"AMD\", \"Launch date\": \"2022-04-19T00:00:00\", \"Cores\": 6, \"Age\": 2.9, \"Architecture\": \"Rembrandt\", \"GB6 Single\": 1828.0, \"GB6 Multi\": 6717.0, \"Win11\": \"Yes\", \"Product URL\": \"https://www.amd.com/en/support/downloads/drivers.html/processors/ryzen-pro/ryzen-pro-6000-series/amd-ryzen-5-pro-6650u.html\", \"GB6 Single log2\": 0.8702660703959827, \"GB6 Multi log2\": 2.747817028911667}, {\"Name\": \"AMD Ryzen 5 PRO 7540U\", \"Designer\": \"AMD\", \"Launch date\": \"2023-03-05T00:00:00\", \"Cores\": 6, \"Age\": 2.1, \"Architecture\": \"Phoenix\", \"GB6 Single\": 2226.0, \"GB6 Multi\": 8076.0, \"Win11\": \"Yes\", \"Product URL\": \"https://www.amd.com/en/products/processors/laptop/ryzen/7000-series/amd-ryzen-5-7540u.html\", \"GB6 Single log2\": 1.1544535926798725, \"GB6 Multi log2\": 3.013640910669386}, {\"Name\": \"AMD Ryzen 5 PRO 8540U\", \"Designer\": \"AMD\", \"Launch date\": \"2024-04-01T00:00:00\", \"Cores\": 6, \"Age\": 1.0, \"Architecture\": \"Hawk Point\", \"GB6 Single\": 2345.0, \"GB6 Multi\": 8081.0, \"Win11\": \"Yes\", \"Product URL\": \"https://www.amd.com/en/products/processors/laptop/ryzen-pro/8000-series/amd-ryzen-5-pro-8540u.html\", \"GB6 Single log2\": 1.2295879227406519, \"GB6 Multi log2\": 3.0145338332954577}]}}, {\"mode\": \"vega-lite\"});\n",
       "</script>"
      ],
      "text/plain": [
       "alt.VConcatChart(...)"
      ]
     },
     "execution_count": 28,
     "metadata": {},
     "output_type": "execute_result"
    }
   ],
   "source": [
    "(chart_nsingle | chart_nmulti) & \\\n",
    "(chart_dsingle | chart_dmulti)"
   ]
  },
  {
   "cell_type": "markdown",
   "id": "2a8b080f-2385-43b6-8a61-56862ba48939",
   "metadata": {},
   "source": [
    "---\n",
    "Attempt to make the ordering changebable (failed)"
   ]
  },
  {
   "cell_type": "code",
   "execution_count": 29,
   "id": "69b5f68c-60d3-4b7d-b643-4804a6ec93c9",
   "metadata": {},
   "outputs": [
    {
     "data": {
      "text/plain": [
       "Parameter('param_1', VariableParameter({\n",
       "  bind: BindRadioSelect({\n",
       "    input: 'select',\n",
       "    name: 'sort field:',\n",
       "    options: ['GB6 Single', 'GB6 Multi']\n",
       "  }),\n",
       "  name: 'param_1'\n",
       "}))"
      ]
     },
     "execution_count": 29,
     "metadata": {},
     "output_type": "execute_result"
    }
   ],
   "source": [
    "index_select = alt.binding_select(options=['GB6 Single', 'GB6 Multi'], name='sort field:')\n",
    "index_param = alt.param(bind=index_select)\n",
    "index_param"
   ]
  },
  {
   "cell_type": "markdown",
   "id": "bf1ea211-2641-4393-8ad7-4bb6e68fcfd2",
   "metadata": {},
   "source": [
    "Note: adding the param as sort field doesn't work. Read example more carefully? https://altair-viz.github.io/gallery/multiple_interactions.html#gallery-multiple-interactions"
   ]
  },
  {
   "cell_type": "code",
   "execution_count": 30,
   "id": "1352db30-f17a-4fc6-93dc-f830667eafa3",
   "metadata": {},
   "outputs": [
    {
     "data": {
      "text/html": [
       "\n",
       "<style>\n",
       "  #altair-viz-bb834de7bf9f44018d366711c07eeba7.vega-embed {\n",
       "    width: 100%;\n",
       "    display: flex;\n",
       "  }\n",
       "\n",
       "  #altair-viz-bb834de7bf9f44018d366711c07eeba7.vega-embed details,\n",
       "  #altair-viz-bb834de7bf9f44018d366711c07eeba7.vega-embed details summary {\n",
       "    position: relative;\n",
       "  }\n",
       "</style>\n",
       "<div id=\"altair-viz-bb834de7bf9f44018d366711c07eeba7\"></div>\n",
       "<script type=\"text/javascript\">\n",
       "  var VEGA_DEBUG = (typeof VEGA_DEBUG == \"undefined\") ? {} : VEGA_DEBUG;\n",
       "  (function(spec, embedOpt){\n",
       "    let outputDiv = document.currentScript.previousElementSibling;\n",
       "    if (outputDiv.id !== \"altair-viz-bb834de7bf9f44018d366711c07eeba7\") {\n",
       "      outputDiv = document.getElementById(\"altair-viz-bb834de7bf9f44018d366711c07eeba7\");\n",
       "    }\n",
       "    const paths = {\n",
       "      \"vega\": \"https://cdn.jsdelivr.net/npm/vega@5?noext\",\n",
       "      \"vega-lib\": \"https://cdn.jsdelivr.net/npm/vega-lib?noext\",\n",
       "      \"vega-lite\": \"https://cdn.jsdelivr.net/npm/vega-lite@5.20.1?noext\",\n",
       "      \"vega-embed\": \"https://cdn.jsdelivr.net/npm/vega-embed@6?noext\",\n",
       "    };\n",
       "\n",
       "    function maybeLoadScript(lib, version) {\n",
       "      var key = `${lib.replace(\"-\", \"\")}_version`;\n",
       "      return (VEGA_DEBUG[key] == version) ?\n",
       "        Promise.resolve(paths[lib]) :\n",
       "        new Promise(function(resolve, reject) {\n",
       "          var s = document.createElement('script');\n",
       "          document.getElementsByTagName(\"head\")[0].appendChild(s);\n",
       "          s.async = true;\n",
       "          s.onload = () => {\n",
       "            VEGA_DEBUG[key] = version;\n",
       "            return resolve(paths[lib]);\n",
       "          };\n",
       "          s.onerror = () => reject(`Error loading script: ${paths[lib]}`);\n",
       "          s.src = paths[lib];\n",
       "        });\n",
       "    }\n",
       "\n",
       "    function showError(err) {\n",
       "      outputDiv.innerHTML = `<div class=\"error\" style=\"color:red;\">${err}</div>`;\n",
       "      throw err;\n",
       "    }\n",
       "\n",
       "    function displayChart(vegaEmbed) {\n",
       "      vegaEmbed(outputDiv, spec, embedOpt)\n",
       "        .catch(err => showError(`Javascript Error: ${err.message}<br>This usually means there's a typo in your chart specification. See the javascript console for the full traceback.`));\n",
       "    }\n",
       "\n",
       "    if(typeof define === \"function\" && define.amd) {\n",
       "      requirejs.config({paths});\n",
       "      require([\"vega-embed\"], displayChart, err => showError(`Error loading script: ${err.message}`));\n",
       "    } else {\n",
       "      maybeLoadScript(\"vega\", \"5\")\n",
       "        .then(() => maybeLoadScript(\"vega-lite\", \"5.20.1\"))\n",
       "        .then(() => maybeLoadScript(\"vega-embed\", \"6\"))\n",
       "        .catch(showError)\n",
       "        .then(() => displayChart(vegaEmbed));\n",
       "    }\n",
       "  })({\"config\": {\"view\": {\"continuousWidth\": 300, \"continuousHeight\": 300}}, \"data\": {\"name\": \"data-b467ff55ed5fad43ab2df86f3f3ea312\"}, \"mark\": {\"type\": \"point\", \"filled\": true, \"size\": 100}, \"encoding\": {\"color\": {\"field\": \"Age\", \"type\": \"quantitative\"}, \"shape\": {\"field\": \"Designer\", \"type\": \"nominal\"}, \"tooltip\": {\"field\": \"Name\", \"type\": \"nominal\"}, \"x\": {\"field\": \"GB6 Single\", \"type\": \"quantitative\"}, \"y\": {\"field\": \"Name\", \"sort\": {\"field\": \"perf_sorted\", \"order\": \"descending\"}, \"type\": \"nominal\"}}, \"params\": [{\"name\": \"param_1\", \"bind\": {\"input\": \"select\", \"options\": [\"GB6 Single\", \"GB6 Multi\"], \"name\": \"sort field:\"}}], \"title\": \"Single-Core Performance\", \"transform\": [{\"window\": [{\"op\": \"rank\", \"field\": \"*\", \"as\": \"perf_sorted\"}], \"frame\": [null, 0], \"sort\": [{\"field\": \"param_2\"}]}], \"$schema\": \"https://vega.github.io/schema/vega-lite/v5.20.1.json\", \"datasets\": {\"data-b467ff55ed5fad43ab2df86f3f3ea312\": [{\"Name\": \"Intel Core i5-5200U\", \"Designer\": \"Intel\", \"Launch date\": \"2015-01-01T00:00:00\", \"Cores\": 2, \"Age\": 10.2, \"Architecture\": \"Broadwell\", \"GB6 Single\": 854.0, \"GB6 Multi\": 1611.0, \"Win11\": \"No\", \"Product URL\": \"https://www.intel.com/content/www/us/en/products/sku/85212/intel-core-i55200u-processor-3m-cache-up-to-2-70-ghz/specifications.html\", \"GB6 Single log2\": -0.2276920250415967, \"GB6 Multi log2\": 0.6879564940444818}, {\"Name\": \"Intel Core i5-5300U\", \"Designer\": \"Intel\", \"Launch date\": \"2015-01-01T00:00:00\", \"Cores\": 2, \"Age\": 10.2, \"Architecture\": \"Broadwell\", \"GB6 Single\": 908.0, \"GB6 Multi\": 1692.0, \"Win11\": \"No\", \"Product URL\": \"https://www.intel.com/content/www/us/en/products/sku/85213/intel-core-i55300u-processor-3m-cache-up-to-2-90-ghz/specifications.html\", \"GB6 Single log2\": -0.139235797371172, \"GB6 Multi log2\": 0.7587295684578627}, {\"Name\": \"Intel Core i5-6200U\", \"Designer\": \"Intel\", \"Launch date\": \"2015-07-01T00:00:00\", \"Cores\": 2, \"Age\": 9.7, \"Architecture\": \"Skylake\", \"GB6 Single\": 916.0, \"GB6 Multi\": 1832.0, \"Win11\": \"No\", \"Product URL\": \"https://www.intel.com/content/www/us/en/products/sku/88193/intel-core-i56200u-processor-3m-cache-up-to-2-80-ghz/specifications.html\", \"GB6 Single log2\": -0.12658049656514306, \"GB6 Multi log2\": 0.873419503434857}, {\"Name\": \"Intel Core i5-6300U\", \"Designer\": \"Intel\", \"Launch date\": \"2015-07-01T00:00:00\", \"Cores\": 2, \"Age\": 9.7, \"Architecture\": \"Skylake\", \"GB6 Single\": 965.0, \"GB6 Multi\": 1910.0, \"Win11\": \"No\", \"Product URL\": \"https://www.intel.com/content/www/us/en/products/sku/88190/intel-core-i56300u-processor-3m-cache-up-to-3-00-ghz/specifications.html\", \"GB6 Single log2\": -0.05139915250664432, \"GB6 Multi log2\": 0.9335726382610239}, {\"Name\": \"Intel Core i5-7200U\", \"Designer\": \"Intel\", \"Launch date\": \"2016-10-01T00:00:00\", \"Cores\": 2, \"Age\": 8.5, \"Architecture\": \"Kaby Lake\", \"GB6 Single\": 1009.0, \"GB6 Multi\": 1987.0, \"Win11\": \"No\", \"Product URL\": \"https://www.intel.com/content/www/us/en/products/sku/95443/intel-core-i57200u-processor-3m-cache-up-to-3-10-ghz/specifications.html\", \"GB6 Single log2\": 0.012926174444270048, \"GB6 Multi log2\": 0.9905918725875832}, {\"Name\": \"Intel Core i5-7300U\", \"Designer\": \"Intel\", \"Launch date\": \"2017-01-01T00:00:00\", \"Cores\": 2, \"Age\": 8.2, \"Architecture\": \"Kaby Lake\", \"GB6 Single\": 1088.0, \"GB6 Multi\": 2030.0, \"Win11\": \"No\", \"Product URL\": \"https://www.intel.com/content/www/us/en/products/sku/97472/intel-core-i57300u-processor-3m-cache-up-to-3-50-ghz/specifications.html\", \"GB6 Single log2\": 0.12167855658825247, \"GB6 Multi log2\": 1.0214797274104515}, {\"Name\": \"Intel Core i5-8250U\", \"Designer\": \"Intel\", \"Launch date\": \"2017-07-01T00:00:00\", \"Cores\": 4, \"Age\": 7.7, \"Architecture\": \"Kaby Lake R\", \"GB6 Single\": 1145.0, \"GB6 Multi\": 3126.0, \"Win11\": \"Yes\", \"Product URL\": \"https://www.intel.com/content/www/us/en/products/sku/124967/intel-core-i58250u-processor-6m-cache-up-to-3-40-ghz/specifications.html\", \"GB6 Single log2\": 0.19534759832221926, \"GB6 Multi log2\": 1.6443177783375773}, {\"Name\": \"Intel Core i5-8350U\", \"Designer\": \"Intel\", \"Launch date\": \"2017-07-01T00:00:00\", \"Cores\": 4, \"Age\": 7.7, \"Architecture\": \"Kaby Lake R\", \"GB6 Single\": 1191.0, \"GB6 Multi\": 3237.0, \"Win11\": \"Yes\", \"Product URL\": \"https://www.intel.com/content/www/us/en/products/sku/124969/intel-core-i58350u-processor-6m-cache-up-to-3-60-ghz/specifications.html\", \"GB6 Single log2\": 0.252173413202027, \"GB6 Multi log2\": 1.694657365547086}, {\"Name\": \"Intel Core i5-8365U\", \"Designer\": \"Intel\", \"Launch date\": \"2019-04-01T00:00:00\", \"Cores\": 4, \"Age\": 6.0, \"Architecture\": \"Whiskey Lake\", \"GB6 Single\": 1270.0, \"GB6 Multi\": 3167.0, \"Win11\": \"Yes\", \"Product URL\": \"https://www.intel.com/content/www/us/en/products/sku/193555/intel-core-i58365u-processor-6m-cache-up-to-4-10-ghz/specifications.html\", \"GB6 Single log2\": 0.34482849699744117, \"GB6 Multi log2\": 1.6631168673661028}, {\"Name\": \"Intel Core i5-10210U\", \"Designer\": \"Intel\", \"Launch date\": \"2019-07-01T00:00:00\", \"Cores\": 4, \"Age\": 5.7, \"Architecture\": \"Comet Lake\", \"GB6 Single\": 1229.0, \"GB6 Multi\": 3088.0, \"Win11\": \"Yes\", \"Product URL\": \"https://www.intel.com/content/www/us/en/products/sku/195436/intel-core-i510210u-processor-6m-cache-up-to-4-20-ghz/specifications.html\", \"GB6 Single log2\": 0.2974849157105747, \"GB6 Multi log2\": 1.6266727526059934}, {\"Name\": \"Intel Core i5-10310U\", \"Designer\": \"Intel\", \"Launch date\": \"2020-04-01T00:00:00\", \"Cores\": 4, \"Age\": 5.0, \"Architecture\": \"Comet Lake\", \"GB6 Single\": 1297.0, \"GB6 Multi\": 3450.0, \"Win11\": \"Yes\", \"Product URL\": \"https://www.intel.com/content/www/us/en/products/sku/201892/intel-core-i510310u-processor-6m-cache-up-to-4-40-ghz/specifications.html\", \"GB6 Single log2\": 0.3751784795896123, \"GB6 Multi log2\": 1.7865963618908067}, {\"Name\": \"Intel Core i5-1035G4\", \"Designer\": \"Intel\", \"Launch date\": \"2019-10-01T00:00:00\", \"Cores\": 4, \"Age\": 5.5, \"Architecture\": \"Ice Lake\", \"GB6 Single\": 1435.0, \"GB6 Multi\": 3742.0, \"Win11\": \"Yes\", \"Product URL\": \"https://www.intel.com/content/www/us/en/products/sku/196591/intel-core-i51035g4-processor-6m-cache-up-to-3-70-ghz/specifications.html\", \"GB6 Single log2\": 0.5210507369009632, \"GB6 Multi log2\": 1.903809558578697}, {\"Name\": \"Intel Core i5-1035G7\", \"Designer\": \"Intel\", \"Launch date\": \"2019-10-01T00:00:00\", \"Cores\": 4, \"Age\": 5.5, \"Architecture\": \"Ice Lake\", \"GB6 Single\": 1419.0, \"GB6 Multi\": 3791.0, \"Win11\": \"Yes\", \"Product URL\": \"https://www.intel.com/content/www/us/en/products/sku/196592/intel-core-i51035g7-processor-6m-cache-up-to-3-70-ghz/specifications.html\", \"GB6 Single log2\": 0.5048745893984644, \"GB6 Multi log2\": 1.922578456508557}, {\"Name\": \"Intel Core i5-1135G7\", \"Designer\": \"Intel\", \"Launch date\": \"2020-07-01T00:00:00\", \"Cores\": 4, \"Age\": 4.7, \"Architecture\": \"Tiger Lake\", \"GB6 Single\": 1702.0, \"GB6 Multi\": 4694.0, \"Win11\": \"Yes\", \"Product URL\": \"https://www.intel.com/content/www/us/en/products/sku/208922/intel-core-i51135g7-processor-8m-cache-up-to-4-20-ghz-with-ipu/specifications.html\", \"GB6 Single log2\": 0.7672310370238756, \"GB6 Multi log2\": 2.230817841861083}, {\"Name\": \"Intel Core i5-1145G7\", \"Designer\": \"Intel\", \"Launch date\": \"2021-01-01T00:00:00\", \"Cores\": 4, \"Age\": 4.2, \"Architecture\": \"Tiger Lake\", \"GB6 Single\": 1766.0, \"GB6 Multi\": 4873.0, \"Win11\": \"Yes\", \"Product URL\": \"https://www.intel.com/content/www/us/en/products/sku/208660/intel-core-i51145g7-processor-8m-cache-up-to-4-40-ghz-with-ipu/specifications.html\", \"GB6 Single log2\": 0.820485342986379, \"GB6 Multi log2\": 2.2848102225302287}, {\"Name\": \"Intel Core i5-1235U\", \"Designer\": \"Intel\", \"Launch date\": \"2022-01-01T00:00:00\", \"Cores\": 10, \"Age\": 3.2, \"Architecture\": \"Alder Lake\", \"GB6 Single\": 1950.0, \"GB6 Multi\": 5846.0, \"Win11\": \"Yes\", \"Product URL\": \"https://www.intel.com/content/www/us/en/products/sku/226261/intel-core-i51235u-processor-12m-cache-up-to-4-40-ghz/specifications.html?wapkw=intel%20core%20i5-1235u\", \"GB6 Single log2\": 0.963474123974886, \"GB6 Multi log2\": 2.547449829143966}, {\"Name\": \"Intel Core i5-1245U\", \"Designer\": \"Intel\", \"Launch date\": \"2022-01-01T00:00:00\", \"Cores\": 10, \"Age\": 3.2, \"Architecture\": \"Alder Lake\", \"GB6 Single\": 1964.0, \"GB6 Multi\": 6269.0, \"Win11\": \"Yes\", \"Product URL\": \"https://www.intel.com/content/www/us/en/products/sku/226260/intel-core-i51245u-processor-12m-cache-up-to-4-40-ghz/specifications.html\", \"GB6 Single log2\": 0.973794929652606, \"GB6 Multi log2\": 2.6482353297736343}, {\"Name\": \"Intel Core i5-1335U\", \"Designer\": \"Intel\", \"Launch date\": \"2023-01-01T00:00:00\", \"Cores\": 10, \"Age\": 2.2, \"Architecture\": \"Raptor Lake\", \"GB6 Single\": 2103.0, \"GB6 Multi\": 6786.0, \"Win11\": \"Yes\", \"Product URL\": \"https://www.intel.com/content/www/us/en/products/sku/232153/intel-core-i51335u-processor-12m-cache-up-to-4-60-ghz/specifications.html\", \"GB6 Single log2\": 1.0724488500696925, \"GB6 Multi log2\": 2.7625614300488897}, {\"Name\": \"Intel Core i5-1345U\", \"Designer\": \"Intel\", \"Launch date\": \"2023-01-01T00:00:00\", \"Cores\": 10, \"Age\": 2.2, \"Architecture\": \"Raptor Lake\", \"GB6 Single\": 2202.0, \"GB6 Multi\": 6967.0, \"Win11\": \"Yes\", \"Product URL\": \"https://www.intel.com/content/www/us/en/products/sku/232127/intel-core-i51345u-processor-12m-cache-up-to-4-70-ghz/specifications.html?wapkw=i5-1345U\", \"GB6 Single log2\": 1.1388144689022819, \"GB6 Multi log2\": 2.800537563291874}, {\"Name\": \"Intel Core Ultra 5 125U\", \"Designer\": \"Intel\", \"Launch date\": \"2023-10-01T00:00:00\", \"Cores\": 12, \"Age\": 1.5, \"Architecture\": \"Metor Lake\", \"GB6 Single\": 2072.0, \"GB6 Multi\": 8107.0, \"Win11\": \"Yes\", \"Product URL\": \"https://www.intel.com/content/www/us/en/products/sku/237330/intel-core-ultra-5-processor-125u-12m-cache-up-to-4-30-ghz/specifications.html?wapkw=Intel%20Core%20Ultra%205%20125U\", \"GB6 Single log2\": 1.0510240030244669, \"GB6 Multi log2\": 3.0191681430702797}, {\"Name\": \"Intel Core Ultra 5 135U\", \"Designer\": \"Intel\", \"Launch date\": \"2023-10-01T00:00:00\", \"Cores\": 12, \"Age\": 1.5, \"Architecture\": \"Metor Lake\", \"GB6 Single\": 2132.0, \"GB6 Multi\": 8667.0, \"Win11\": \"Yes\", \"Product URL\": \"https://www.intel.com/content/www/us/en/products/sku/237328/intel-core-ultra-5-processor-135u-12m-cache-up-to-4-40-ghz/specifications.html?wapkw=Intel%20Core%20Ultra%205%20135U\", \"GB6 Single log2\": 1.092207438097089, \"GB6 Multi log2\": 3.1155327046236847}, {\"Name\": \"AMD Ryzen 7 PRO 2700U\", \"Designer\": \"AMD\", \"Launch date\": \"2017-10-01T00:00:00\", \"Cores\": 4, \"Age\": 7.5, \"Architecture\": \"Raven Ridge\", \"GB6 Single\": 914.0, \"GB6 Multi\": 2545.0, \"Win11\": \"Yes\", \"Product URL\": \"https://www.amd.com/en/support/downloads/drivers.html/processors/ryzen/ryzen-2000-series/amd-ryzen-7-2700u.html\", \"GB6 Single log2\": -0.12973392960401728, \"GB6 Multi log2\": 1.3476656563009706}, {\"Name\": \"AMD Ryzen 5 PRO 3500U\", \"Designer\": \"AMD\", \"Launch date\": \"2019-01-01T00:00:00\", \"Cores\": 4, \"Age\": 6.2, \"Architecture\": \"Picasso\", \"GB6 Single\": 949.0, \"GB6 Multi\": 2620.0, \"Win11\": \"Yes\", \"Product URL\": \"https://www.amd.com/en/support/downloads/drivers.html/processors/ryzen/ryzen-3000-series/amd-ryzen-5-3500u.html\", \"GB6 Single log2\": -0.07552000764097772, \"GB6 Multi log2\": 1.3895668117627256}, {\"Name\": \"AMD Ryzen 5 PRO 4650U\", \"Designer\": \"AMD\", \"Launch date\": \"2020-07-01T00:00:00\", \"Cores\": 6, \"Age\": 4.7, \"Architecture\": \"Renoir\", \"GB6 Single\": 1421.0, \"GB6 Multi\": 4590.0, \"Win11\": \"Yes\", \"Product URL\": \"https://www.amd.com/en/support/downloads/drivers.html/processors/ryzen-pro/ryzen-pro-4000-series/amd-ryzen-5-pro-4650u.html\", \"GB6 Single log2\": 0.5069065545806933, \"GB6 Multi log2\": 2.1984941536390834}, {\"Name\": \"AMD Ryzen 5 PRO 5650U\", \"Designer\": \"AMD\", \"Launch date\": \"2021-03-01T00:00:00\", \"Cores\": 6, \"Age\": 4.1, \"Architecture\": \"Cezanne\", \"GB6 Single\": 1740.0, \"GB6 Multi\": 5479.0, \"Win11\": \"Yes\", \"Product URL\": \"https://www.amd.com/en/support/downloads/drivers.html/processors/ryzen-pro/ryzen-pro-5000-series/amd-ryzen-5-pro-5650u.html\", \"GB6 Single log2\": 0.7990873060740036, \"GB6 Multi log2\": 2.4539126036438925}, {\"Name\": \"AMD Ryzen 5 PRO 6650U\", \"Designer\": \"AMD\", \"Launch date\": \"2022-04-19T00:00:00\", \"Cores\": 6, \"Age\": 2.9, \"Architecture\": \"Rembrandt\", \"GB6 Single\": 1828.0, \"GB6 Multi\": 6717.0, \"Win11\": \"Yes\", \"Product URL\": \"https://www.amd.com/en/support/downloads/drivers.html/processors/ryzen-pro/ryzen-pro-6000-series/amd-ryzen-5-pro-6650u.html\", \"GB6 Single log2\": 0.8702660703959827, \"GB6 Multi log2\": 2.747817028911667}, {\"Name\": \"AMD Ryzen 5 PRO 7540U\", \"Designer\": \"AMD\", \"Launch date\": \"2023-03-05T00:00:00\", \"Cores\": 6, \"Age\": 2.1, \"Architecture\": \"Phoenix\", \"GB6 Single\": 2226.0, \"GB6 Multi\": 8076.0, \"Win11\": \"Yes\", \"Product URL\": \"https://www.amd.com/en/products/processors/laptop/ryzen/7000-series/amd-ryzen-5-7540u.html\", \"GB6 Single log2\": 1.1544535926798725, \"GB6 Multi log2\": 3.013640910669386}, {\"Name\": \"AMD Ryzen 5 PRO 8540U\", \"Designer\": \"AMD\", \"Launch date\": \"2024-04-01T00:00:00\", \"Cores\": 6, \"Age\": 1.0, \"Architecture\": \"Hawk Point\", \"GB6 Single\": 2345.0, \"GB6 Multi\": 8081.0, \"Win11\": \"Yes\", \"Product URL\": \"https://www.amd.com/en/products/processors/laptop/ryzen-pro/8000-series/amd-ryzen-5-pro-8540u.html\", \"GB6 Single log2\": 1.2295879227406519, \"GB6 Multi log2\": 3.0145338332954577}]}}, {\"mode\": \"vega-lite\"});\n",
       "</script>"
      ],
      "text/plain": [
       "alt.Chart(...)"
      ]
     },
     "execution_count": 30,
     "metadata": {},
     "output_type": "execute_result"
    }
   ],
   "source": [
    "chart_name = alt.Chart(cpus).transform_window(\n",
    "    sort=[{'field': 'param_2'}],\n",
    "    frame=[None, 0],\n",
    "    perf_sorted='rank(*)'\n",
    ").mark_point(size=100, filled=True).encode(\n",
    "    alt.Y('Name').sort(field='perf_sorted', order='descending'),#.sort(field='GB6 Single', order='descending'),\n",
    "    tooltip='Name',\n",
    "    #color='Win11',\n",
    "    color='Age',\n",
    "    shape='Designer'\n",
    ").add_params(index_param)\n",
    "\n",
    "chart_nsingle = chart_name.encode(\n",
    "    x='GB6 Single',\n",
    ").properties(\n",
    "    title='Single-Core Performance'\n",
    ")\n",
    "chart_nsingle"
   ]
  }
 ],
 "metadata": {
  "kernelspec": {
   "display_name": "Python 3 (ipykernel)",
   "language": "python",
   "name": "python3"
  },
  "language_info": {
   "codemirror_mode": {
    "name": "ipython",
    "version": 3
   },
   "file_extension": ".py",
   "mimetype": "text/x-python",
   "name": "python",
   "nbconvert_exporter": "python",
   "pygments_lexer": "ipython3",
   "version": "3.12.8"
  }
 },
 "nbformat": 4,
 "nbformat_minor": 5
}
