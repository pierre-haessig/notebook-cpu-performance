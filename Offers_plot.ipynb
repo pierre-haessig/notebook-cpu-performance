{
 "cells": [
  {
   "cell_type": "markdown",
   "id": "2b359091-13da-487e-97a2-d96ca535a024",
   "metadata": {},
   "source": [
    "# Plot refurbished notebook offers\n",
    "\n",
    "e.g. Pareto plot of Price vs performance, with coding of SSD size and condition\n",
    "\n",
    "TODO: add side-by side multi-core perf\n",
    "\n",
    "PH, March 2025"
   ]
  },
  {
   "cell_type": "code",
   "execution_count": 50,
   "id": "842fa5cd-1827-4678-ac9d-245ac2c767b2",
   "metadata": {},
   "outputs": [],
   "source": [
    "import numpy as np\n",
    "import pandas as pd\n",
    "import altair as alt"
   ]
  },
  {
   "cell_type": "markdown",
   "id": "f23f6afb-921c-4c62-8529-b7e68c32f475",
   "metadata": {},
   "source": [
    "## Load notebook offers dataset"
   ]
  },
  {
   "cell_type": "code",
   "execution_count": 59,
   "id": "a0a52b4e-d6c9-48ac-a388-7d1ca159aa1c",
   "metadata": {},
   "outputs": [
    {
     "name": "stdout",
     "output_type": "stream",
     "text": [
      "30 offers read\n"
     ]
    },
    {
     "data": {
      "text/html": [
       "<div>\n",
       "<style scoped>\n",
       "    .dataframe tbody tr th:only-of-type {\n",
       "        vertical-align: middle;\n",
       "    }\n",
       "\n",
       "    .dataframe tbody tr th {\n",
       "        vertical-align: top;\n",
       "    }\n",
       "\n",
       "    .dataframe thead th {\n",
       "        text-align: right;\n",
       "    }\n",
       "</style>\n",
       "<table border=\"1\" class=\"dataframe\">\n",
       "  <thead>\n",
       "    <tr style=\"text-align: right;\">\n",
       "      <th></th>\n",
       "      <th>Offer</th>\n",
       "      <th>Price</th>\n",
       "      <th>Designer</th>\n",
       "      <th>Series</th>\n",
       "      <th>CPU</th>\n",
       "      <th>CPU Age</th>\n",
       "      <th>RAM</th>\n",
       "      <th>SSD</th>\n",
       "      <th>Screen resolution</th>\n",
       "      <th>Condition</th>\n",
       "      <th>Active</th>\n",
       "      <th>GB6 Single</th>\n",
       "      <th>GB6 Multi</th>\n",
       "      <th>GB6 Single/€</th>\n",
       "      <th>GB6 Multi/€</th>\n",
       "      <th>ITJustGood</th>\n",
       "    </tr>\n",
       "  </thead>\n",
       "  <tbody>\n",
       "    <tr>\n",
       "      <th>27</th>\n",
       "      <td>T495 500GB Good</td>\n",
       "      <td>380.0</td>\n",
       "      <td>Lenovo</td>\n",
       "      <td>ThinkPad T495</td>\n",
       "      <td>AMD Ryzen 5 PRO 3500U</td>\n",
       "      <td>6.2</td>\n",
       "      <td>16.0</td>\n",
       "      <td>500.0</td>\n",
       "      <td>1920x1080</td>\n",
       "      <td>Good</td>\n",
       "      <td>False</td>\n",
       "      <td>949.0</td>\n",
       "      <td>2620.0</td>\n",
       "      <td>2.5</td>\n",
       "      <td>6.9</td>\n",
       "      <td>https://www.itjustgood.com/ultrabook-lenovo-th...</td>\n",
       "    </tr>\n",
       "    <tr>\n",
       "      <th>28</th>\n",
       "      <td>EliteBook 640 G9 500GB VGood</td>\n",
       "      <td>560.0</td>\n",
       "      <td>HP</td>\n",
       "      <td>EliteBook 640 G9</td>\n",
       "      <td>Intel Core i5-1245U</td>\n",
       "      <td>3.2</td>\n",
       "      <td>16.0</td>\n",
       "      <td>512.0</td>\n",
       "      <td>1920x1080</td>\n",
       "      <td>Very Good</td>\n",
       "      <td>False</td>\n",
       "      <td>1964.0</td>\n",
       "      <td>6269.0</td>\n",
       "      <td>3.5</td>\n",
       "      <td>11.2</td>\n",
       "      <td>https://www.itjustgood.com/ultrabook-reconditi...</td>\n",
       "    </tr>\n",
       "    <tr>\n",
       "      <th>29</th>\n",
       "      <td>Latitude 5420 500GB Good</td>\n",
       "      <td>400.0</td>\n",
       "      <td>Dell</td>\n",
       "      <td>Latitude 5420</td>\n",
       "      <td>Intel Core i5-1145G7</td>\n",
       "      <td>4.2</td>\n",
       "      <td>16.0</td>\n",
       "      <td>500.0</td>\n",
       "      <td>1920x1080</td>\n",
       "      <td>Good</td>\n",
       "      <td>True</td>\n",
       "      <td>1766.0</td>\n",
       "      <td>4873.0</td>\n",
       "      <td>4.4</td>\n",
       "      <td>12.2</td>\n",
       "      <td>https://www.itjustgood.com/ordinateur-portable...</td>\n",
       "    </tr>\n",
       "  </tbody>\n",
       "</table>\n",
       "</div>"
      ],
      "text/plain": [
       "                           Offer  Price Designer            Series  \\\n",
       "27               T495 500GB Good  380.0   Lenovo     ThinkPad T495   \n",
       "28  EliteBook 640 G9 500GB VGood  560.0       HP  EliteBook 640 G9   \n",
       "29      Latitude 5420 500GB Good  400.0     Dell     Latitude 5420   \n",
       "\n",
       "                      CPU  CPU Age   RAM    SSD Screen resolution  Condition  \\\n",
       "27  AMD Ryzen 5 PRO 3500U      6.2  16.0  500.0         1920x1080       Good   \n",
       "28    Intel Core i5-1245U      3.2  16.0  512.0         1920x1080  Very Good   \n",
       "29   Intel Core i5-1145G7      4.2  16.0  500.0         1920x1080       Good   \n",
       "\n",
       "    Active  GB6 Single  GB6 Multi  GB6 Single/€  GB6 Multi/€  \\\n",
       "27   False       949.0     2620.0           2.5          6.9   \n",
       "28   False      1964.0     6269.0           3.5         11.2   \n",
       "29    True      1766.0     4873.0           4.4         12.2   \n",
       "\n",
       "                                           ITJustGood  \n",
       "27  https://www.itjustgood.com/ultrabook-lenovo-th...  \n",
       "28  https://www.itjustgood.com/ultrabook-reconditi...  \n",
       "29  https://www.itjustgood.com/ordinateur-portable...  "
      ]
     },
     "execution_count": 59,
     "metadata": {},
     "output_type": "execute_result"
    }
   ],
   "source": [
    "offers = pd.read_csv('Offers.csv')\n",
    "print(f'{len(offers)} offers read')\n",
    "offers.tail(3)"
   ]
  },
  {
   "cell_type": "markdown",
   "id": "0ff6b6d5-ccb3-4b61-a899-002e40bf4810",
   "metadata": {},
   "source": [
    "Round SSD values"
   ]
  },
  {
   "cell_type": "code",
   "execution_count": 60,
   "id": "03d12dec-d964-474c-b049-762e065c96dc",
   "metadata": {},
   "outputs": [
    {
     "data": {
      "text/plain": [
       "np.float64(500.0)"
      ]
     },
     "execution_count": 60,
     "metadata": {},
     "output_type": "execute_result"
    }
   ],
   "source": [
    "def round_250(size):\n",
    "    \"\"\"round size to closed 250 multiple\"\"\"\n",
    "    return np.round(size/250)*250\n",
    "round_250(512)"
   ]
  },
  {
   "cell_type": "code",
   "execution_count": 61,
   "id": "afbe3060-efb5-4f4a-9d27-9b914172adc1",
   "metadata": {},
   "outputs": [],
   "source": [
    "offers.SSD = offers.SSD.apply(round_250)"
   ]
  },
  {
   "cell_type": "markdown",
   "id": "52a33981-bbed-4239-939c-250388a7c8b6",
   "metadata": {},
   "source": [
    "Filter out non FHD screen and RAM=16 GB"
   ]
  },
  {
   "cell_type": "code",
   "execution_count": 62,
   "id": "2388e2ed-0bb2-41d5-84cd-9c6ec8d3a759",
   "metadata": {},
   "outputs": [
    {
     "name": "stdout",
     "output_type": "stream",
     "text": [
      "27 FHD screen & 16 GB RAM offers kept\n"
     ]
    }
   ],
   "source": [
    "offers = offers[offers['Screen resolution'] == '1920x1080']\n",
    "offers = offers[offers['RAM'] == 16]\n",
    "\n",
    "print(f'{len(offers)} FHD screen & 16 GB RAM offers kept')"
   ]
  },
  {
   "cell_type": "code",
   "execution_count": 63,
   "id": "987b611b-39f6-4afe-a025-f8b977c09616",
   "metadata": {},
   "outputs": [
    {
     "data": {
      "text/html": [
       "<div>\n",
       "<style scoped>\n",
       "    .dataframe tbody tr th:only-of-type {\n",
       "        vertical-align: middle;\n",
       "    }\n",
       "\n",
       "    .dataframe tbody tr th {\n",
       "        vertical-align: top;\n",
       "    }\n",
       "\n",
       "    .dataframe thead th {\n",
       "        text-align: right;\n",
       "    }\n",
       "</style>\n",
       "<table border=\"1\" class=\"dataframe\">\n",
       "  <thead>\n",
       "    <tr style=\"text-align: right;\">\n",
       "      <th></th>\n",
       "      <th>Offer</th>\n",
       "      <th>Price</th>\n",
       "      <th>Designer</th>\n",
       "      <th>Series</th>\n",
       "      <th>CPU</th>\n",
       "      <th>CPU Age</th>\n",
       "      <th>RAM</th>\n",
       "      <th>SSD</th>\n",
       "      <th>Screen resolution</th>\n",
       "      <th>Condition</th>\n",
       "      <th>Active</th>\n",
       "      <th>GB6 Single</th>\n",
       "      <th>GB6 Multi</th>\n",
       "      <th>GB6 Single/€</th>\n",
       "      <th>GB6 Multi/€</th>\n",
       "      <th>ITJustGood</th>\n",
       "    </tr>\n",
       "  </thead>\n",
       "  <tbody>\n",
       "    <tr>\n",
       "      <th>27</th>\n",
       "      <td>T495 500GB Good</td>\n",
       "      <td>380.0</td>\n",
       "      <td>Lenovo</td>\n",
       "      <td>ThinkPad T495</td>\n",
       "      <td>AMD Ryzen 5 PRO 3500U</td>\n",
       "      <td>6.2</td>\n",
       "      <td>16.0</td>\n",
       "      <td>500.0</td>\n",
       "      <td>1920x1080</td>\n",
       "      <td>Good</td>\n",
       "      <td>False</td>\n",
       "      <td>949.0</td>\n",
       "      <td>2620.0</td>\n",
       "      <td>2.5</td>\n",
       "      <td>6.9</td>\n",
       "      <td>https://www.itjustgood.com/ultrabook-lenovo-th...</td>\n",
       "    </tr>\n",
       "    <tr>\n",
       "      <th>28</th>\n",
       "      <td>EliteBook 640 G9 500GB VGood</td>\n",
       "      <td>560.0</td>\n",
       "      <td>HP</td>\n",
       "      <td>EliteBook 640 G9</td>\n",
       "      <td>Intel Core i5-1245U</td>\n",
       "      <td>3.2</td>\n",
       "      <td>16.0</td>\n",
       "      <td>500.0</td>\n",
       "      <td>1920x1080</td>\n",
       "      <td>Very Good</td>\n",
       "      <td>False</td>\n",
       "      <td>1964.0</td>\n",
       "      <td>6269.0</td>\n",
       "      <td>3.5</td>\n",
       "      <td>11.2</td>\n",
       "      <td>https://www.itjustgood.com/ultrabook-reconditi...</td>\n",
       "    </tr>\n",
       "    <tr>\n",
       "      <th>29</th>\n",
       "      <td>Latitude 5420 500GB Good</td>\n",
       "      <td>400.0</td>\n",
       "      <td>Dell</td>\n",
       "      <td>Latitude 5420</td>\n",
       "      <td>Intel Core i5-1145G7</td>\n",
       "      <td>4.2</td>\n",
       "      <td>16.0</td>\n",
       "      <td>500.0</td>\n",
       "      <td>1920x1080</td>\n",
       "      <td>Good</td>\n",
       "      <td>True</td>\n",
       "      <td>1766.0</td>\n",
       "      <td>4873.0</td>\n",
       "      <td>4.4</td>\n",
       "      <td>12.2</td>\n",
       "      <td>https://www.itjustgood.com/ordinateur-portable...</td>\n",
       "    </tr>\n",
       "  </tbody>\n",
       "</table>\n",
       "</div>"
      ],
      "text/plain": [
       "                           Offer  Price Designer            Series  \\\n",
       "27               T495 500GB Good  380.0   Lenovo     ThinkPad T495   \n",
       "28  EliteBook 640 G9 500GB VGood  560.0       HP  EliteBook 640 G9   \n",
       "29      Latitude 5420 500GB Good  400.0     Dell     Latitude 5420   \n",
       "\n",
       "                      CPU  CPU Age   RAM    SSD Screen resolution  Condition  \\\n",
       "27  AMD Ryzen 5 PRO 3500U      6.2  16.0  500.0         1920x1080       Good   \n",
       "28    Intel Core i5-1245U      3.2  16.0  500.0         1920x1080  Very Good   \n",
       "29   Intel Core i5-1145G7      4.2  16.0  500.0         1920x1080       Good   \n",
       "\n",
       "    Active  GB6 Single  GB6 Multi  GB6 Single/€  GB6 Multi/€  \\\n",
       "27   False       949.0     2620.0           2.5          6.9   \n",
       "28   False      1964.0     6269.0           3.5         11.2   \n",
       "29    True      1766.0     4873.0           4.4         12.2   \n",
       "\n",
       "                                           ITJustGood  \n",
       "27  https://www.itjustgood.com/ultrabook-lenovo-th...  \n",
       "28  https://www.itjustgood.com/ultrabook-reconditi...  \n",
       "29  https://www.itjustgood.com/ordinateur-portable...  "
      ]
     },
     "execution_count": 63,
     "metadata": {},
     "output_type": "execute_result"
    }
   ],
   "source": [
    "offers.tail(3)"
   ]
  },
  {
   "cell_type": "markdown",
   "id": "26be71ec-0442-450d-aec4-8ef0e3fe3c2c",
   "metadata": {},
   "source": [
    "## Plot"
   ]
  },
  {
   "cell_type": "code",
   "execution_count": 71,
   "id": "801235b8-d5a1-4de1-b4d6-f06477a1564c",
   "metadata": {},
   "outputs": [
    {
     "data": {
      "text/html": [
       "\n",
       "<style>\n",
       "  #altair-viz-fd755b7bedbd494388090de3dda698b0.vega-embed {\n",
       "    width: 100%;\n",
       "    display: flex;\n",
       "  }\n",
       "\n",
       "  #altair-viz-fd755b7bedbd494388090de3dda698b0.vega-embed details,\n",
       "  #altair-viz-fd755b7bedbd494388090de3dda698b0.vega-embed details summary {\n",
       "    position: relative;\n",
       "  }\n",
       "</style>\n",
       "<div id=\"altair-viz-fd755b7bedbd494388090de3dda698b0\"></div>\n",
       "<script type=\"text/javascript\">\n",
       "  var VEGA_DEBUG = (typeof VEGA_DEBUG == \"undefined\") ? {} : VEGA_DEBUG;\n",
       "  (function(spec, embedOpt){\n",
       "    let outputDiv = document.currentScript.previousElementSibling;\n",
       "    if (outputDiv.id !== \"altair-viz-fd755b7bedbd494388090de3dda698b0\") {\n",
       "      outputDiv = document.getElementById(\"altair-viz-fd755b7bedbd494388090de3dda698b0\");\n",
       "    }\n",
       "\n",
       "    const paths = {\n",
       "      \"vega\": \"https://cdn.jsdelivr.net/npm/vega@5?noext\",\n",
       "      \"vega-lib\": \"https://cdn.jsdelivr.net/npm/vega-lib?noext\",\n",
       "      \"vega-lite\": \"https://cdn.jsdelivr.net/npm/vega-lite@5.20.1?noext\",\n",
       "      \"vega-embed\": \"https://cdn.jsdelivr.net/npm/vega-embed@6?noext\",\n",
       "    };\n",
       "\n",
       "    function maybeLoadScript(lib, version) {\n",
       "      var key = `${lib.replace(\"-\", \"\")}_version`;\n",
       "      return (VEGA_DEBUG[key] == version) ?\n",
       "        Promise.resolve(paths[lib]) :\n",
       "        new Promise(function(resolve, reject) {\n",
       "          var s = document.createElement('script');\n",
       "          document.getElementsByTagName(\"head\")[0].appendChild(s);\n",
       "          s.async = true;\n",
       "          s.onload = () => {\n",
       "            VEGA_DEBUG[key] = version;\n",
       "            return resolve(paths[lib]);\n",
       "          };\n",
       "          s.onerror = () => reject(`Error loading script: ${paths[lib]}`);\n",
       "          s.src = paths[lib];\n",
       "        });\n",
       "    }\n",
       "\n",
       "    function showError(err) {\n",
       "      outputDiv.innerHTML = `<div class=\"error\" style=\"color:red;\">${err}</div>`;\n",
       "      throw err;\n",
       "    }\n",
       "\n",
       "    function displayChart(vegaEmbed) {\n",
       "      vegaEmbed(outputDiv, spec, embedOpt)\n",
       "        .catch(err => showError(`Javascript Error: ${err.message}<br>This usually means there's a typo in your chart specification. See the javascript console for the full traceback.`));\n",
       "    }\n",
       "\n",
       "    if(typeof define === \"function\" && define.amd) {\n",
       "      requirejs.config({paths});\n",
       "      let deps = [\"vega-embed\"];\n",
       "      require(deps, displayChart, err => showError(`Error loading script: ${err.message}`));\n",
       "    } else {\n",
       "      maybeLoadScript(\"vega\", \"5\")\n",
       "        .then(() => maybeLoadScript(\"vega-lite\", \"5.20.1\"))\n",
       "        .then(() => maybeLoadScript(\"vega-embed\", \"6\"))\n",
       "        .catch(showError)\n",
       "        .then(() => displayChart(vegaEmbed));\n",
       "    }\n",
       "  })({\"config\": {\"view\": {\"continuousWidth\": 300, \"continuousHeight\": 300}}, \"hconcat\": [{\"mark\": {\"type\": \"point\", \"filled\": true}, \"encoding\": {\"color\": {\"field\": \"Condition\", \"type\": \"nominal\"}, \"href\": {\"field\": \"ITJustGood\", \"type\": \"nominal\"}, \"size\": {\"field\": \"SSD\", \"legend\": {\"tickCount\": 3}, \"type\": \"quantitative\"}, \"tooltip\": [{\"field\": \"Designer\", \"type\": \"nominal\"}, {\"field\": \"Series\", \"type\": \"nominal\"}, {\"field\": \"CPU\", \"type\": \"nominal\"}, {\"field\": \"CPU Age\", \"type\": \"quantitative\"}, {\"field\": \"SSD\", \"type\": \"quantitative\"}], \"x\": {\"axis\": {\"title\": \"Single-Core performance\"}, \"field\": \"GB6 Single\", \"scale\": {\"zero\": false}, \"type\": \"quantitative\"}, \"y\": {\"axis\": {\"title\": \"Price (\\u20ac)\"}, \"field\": \"Price\", \"type\": \"quantitative\"}}, \"title\": \"Price vs CPU performance\"}, {\"mark\": {\"type\": \"point\", \"filled\": true}, \"encoding\": {\"color\": {\"field\": \"Condition\", \"type\": \"nominal\"}, \"href\": {\"field\": \"ITJustGood\", \"type\": \"nominal\"}, \"size\": {\"field\": \"SSD\", \"legend\": {\"tickCount\": 3}, \"type\": \"quantitative\"}, \"tooltip\": [{\"field\": \"Designer\", \"type\": \"nominal\"}, {\"field\": \"Series\", \"type\": \"nominal\"}, {\"field\": \"CPU\", \"type\": \"nominal\"}, {\"field\": \"CPU Age\", \"type\": \"quantitative\"}, {\"field\": \"SSD\", \"type\": \"quantitative\"}], \"x\": {\"axis\": {\"title\": \"Multi-Core performance\"}, \"field\": \"GB6 Multi\", \"scale\": {\"zero\": false}, \"type\": \"quantitative\"}, \"y\": {\"axis\": {\"title\": \"Price (\\u20ac)\"}, \"field\": \"Price\", \"type\": \"quantitative\"}}, \"title\": \"Price vs CPU performance\"}], \"data\": {\"name\": \"data-b5f12da095d1d4f2a0a8dff87a9465af\"}, \"$schema\": \"https://vega.github.io/schema/vega-lite/v5.20.1.json\", \"datasets\": {\"data-b5f12da095d1d4f2a0a8dff87a9465af\": [{\"Offer\": \"T470S 256GB Good\", \"Price\": 190.0, \"Designer\": \"Lenovo\", \"Series\": \"ThinkPad T470S\", \"CPU\": \"Intel Core i5-7300U\", \"CPU Age\": 8.2, \"RAM\": 16.0, \"SSD\": 250.0, \"Screen resolution\": \"1920x1080\", \"Condition\": \"Good\", \"Active\": true, \"GB6 Single\": 1088.0, \"GB6 Multi\": 2030.0, \"GB6 Single/\\u20ac\": 5.7, \"GB6 Multi/\\u20ac\": 10.7, \"ITJustGood\": \"https://www.itjustgood.com/ultrabook-lenovo-thinkpad-t470s-reconditionne-intel-core-i5-7200u-16go-ddr4-256go-ssd-nvme-thunderbolt-3-windows-10-14-full-hd-tactile-0btd8993.html\"}, {\"Offer\": \"Latitude 5480 240 GB Good\", \"Price\": 210.0, \"Designer\": \"Dell\", \"Series\": \"Latitude 5480\", \"CPU\": \"Intel Core i5-6200U\", \"CPU Age\": 9.7, \"RAM\": 16.0, \"SSD\": 250.0, \"Screen resolution\": \"1920x1080\", \"Condition\": \"Good\", \"Active\": true, \"GB6 Single\": 916.0, \"GB6 Multi\": 1832.0, \"GB6 Single/\\u20ac\": 4.4, \"GB6 Multi/\\u20ac\": 8.7, \"ITJustGood\": \"https://www.itjustgood.com/ordinateur-portable-reconditionne-dell-latitude-5480-intel-core-i5-6200u-16go-ssd-240go-ssd-14-pouces-windows-10-etat-correct-0btd9323.html\"}, {\"Offer\": \"Dell Latitude 5400\", \"Price\": 250.0, \"Designer\": \"Dell\", \"Series\": \"Latitude 5400\", \"CPU\": \"Intel Core i5-8365U\", \"CPU Age\": 6.0, \"RAM\": 16.0, \"SSD\": 250.0, \"Screen resolution\": \"1920x1080\", \"Condition\": \"Good\", \"Active\": true, \"GB6 Single\": 1270.0, \"GB6 Multi\": 3167.0, \"GB6 Single/\\u20ac\": 5.1, \"GB6 Multi/\\u20ac\": 12.7, \"ITJustGood\": \"https://www.itjustgood.com/ordinateur-portable-reconditionne-declasse-dell-latitude-5490-intel-core-i5-8350u-16go-ssd-240go-ssd-14-pouces-windows11-0btd9330.html\"}, {\"Offer\": \"Dell Latitude 3400\", \"Price\": 280.0, \"Designer\": \"Dell\", \"Series\": \"Latitude 3400\", \"CPU\": \"Intel Core i5-8365U\", \"CPU Age\": 6.0, \"RAM\": 16.0, \"SSD\": 250.0, \"Screen resolution\": \"1920x1080\", \"Condition\": \"Very Good\", \"Active\": true, \"GB6 Single\": 1270.0, \"GB6 Multi\": 3167.0, \"GB6 Single/\\u20ac\": 4.5, \"GB6 Multi/\\u20ac\": 11.3, \"ITJustGood\": \"https://www.itjustgood.com/ultrabook-reconditionne-dell-latitude-3400-i5-8365u-16go-ssd-240go-14pouces-fhd-windows11-03td6279.html\"}, {\"Offer\": \"Latitude 5410 240GB VGood\", \"Price\": 400.0, \"Designer\": \"Dell\", \"Series\": \"Latitude 5410\", \"CPU\": \"Intel Core i5-10310U\", \"CPU Age\": 5.0, \"RAM\": 16.0, \"SSD\": 250.0, \"Screen resolution\": \"1920x1080\", \"Condition\": \"Very Good\", \"Active\": true, \"GB6 Single\": 1297.0, \"GB6 Multi\": 3450.0, \"GB6 Single/\\u20ac\": 3.2, \"GB6 Multi/\\u20ac\": 8.6, \"ITJustGood\": \"https://www.itjustgood.com/ordinateur-portable-reconditionne-dell-latitude-5410-intel-core-i5-10310u-16go-ddr4-240go-ssd-14-pouces-fhd-windows-11-03td7023.html\"}, {\"Offer\": \"Lenovo ThinkPad T490S\", \"Price\": 310.0, \"Designer\": \"Lenovo\", \"Series\": \"ThinkPad T490S\", \"CPU\": \"Intel Core i5-8365U\", \"CPU Age\": 6.0, \"RAM\": 16.0, \"SSD\": 500.0, \"Screen resolution\": \"1920x1080\", \"Condition\": \"Good\", \"Active\": true, \"GB6 Single\": 1270.0, \"GB6 Multi\": 3167.0, \"GB6 Single/\\u20ac\": 4.1, \"GB6 Multi/\\u20ac\": 10.2, \"ITJustGood\": \"https://www.itjustgood.com/ultrabook-lenovo-thinkpad-t490s-reconditionne-intel-core-i5-8365u-16go-ddr4-500go-ssd-thunderbolt-3-windows-11-14-full-hd-0btd9611.html\"}, {\"Offer\": \"T495S 500GB VGood\", \"Price\": 350.0, \"Designer\": \"Lenovo\", \"Series\": \"ThinkPad T495S\", \"CPU\": \"AMD Ryzen 5 PRO 3500U\", \"CPU Age\": 6.2, \"RAM\": 16.0, \"SSD\": 500.0, \"Screen resolution\": \"1920x1080\", \"Condition\": \"Very Good\", \"Active\": true, \"GB6 Single\": 949.0, \"GB6 Multi\": 2620.0, \"GB6 Single/\\u20ac\": 2.7, \"GB6 Multi/\\u20ac\": 7.5, \"ITJustGood\": \"https://www.itjustgood.com/ultrabook-reconditionne-lenovo-thinkpad-t495s-amd-ryzen-5-pro-3500u-16go-ddr4-500go-ssd-14-fullhd-windows11-03td6844.html\"}, {\"Offer\": \"Latitude 5410 240GB Good\", \"Price\": 300.0, \"Designer\": \"Dell\", \"Series\": \"Latitude 5410\", \"CPU\": \"Intel Core i5-10310U\", \"CPU Age\": 5.0, \"RAM\": 16.0, \"SSD\": 250.0, \"Screen resolution\": \"1920x1080\", \"Condition\": \"Good\", \"Active\": true, \"GB6 Single\": 1297.0, \"GB6 Multi\": 3450.0, \"GB6 Single/\\u20ac\": 4.3, \"GB6 Multi/\\u20ac\": 11.5, \"ITJustGood\": \"https://www.itjustgood.com/ordinateur-portable-reconditionne-dell-latitude-5410-intel-core-i5-10310u-16go-ddr4-240go-ssd-14-pouces-fhd-windows-11-etat-correct-0btd9232.html\"}, {\"Offer\": \"Lenovo ThinkPad T490S\", \"Price\": 360.0, \"Designer\": \"Lenovo\", \"Series\": \"ThinkPad T490S\", \"CPU\": \"Intel Core i5-8365U\", \"CPU Age\": 6.0, \"RAM\": 16.0, \"SSD\": 500.0, \"Screen resolution\": \"1920x1080\", \"Condition\": \"Very Good\", \"Active\": true, \"GB6 Single\": 1270.0, \"GB6 Multi\": 3167.0, \"GB6 Single/\\u20ac\": 3.5, \"GB6 Multi/\\u20ac\": 8.8, \"ITJustGood\": \"https://www.itjustgood.com/ultrabook-lenovo-thinkpad-t490s-reconditionne-intel-core-i5-8365u-16go-ddr4-500go-ssd-thunderbolt-3-windows-11-14-full-hd-03td5354.html\"}, {\"Offer\": \"Latitude 5420 10th-gen 500GB Good\", \"Price\": 360.0, \"Designer\": \"Dell\", \"Series\": \"Latitude 5420\", \"CPU\": \"Intel Core i5-10310U\", \"CPU Age\": 5.0, \"RAM\": 16.0, \"SSD\": 500.0, \"Screen resolution\": \"1920x1080\", \"Condition\": \"Good\", \"Active\": true, \"GB6 Single\": 1297.0, \"GB6 Multi\": 3450.0, \"GB6 Single/\\u20ac\": 3.6, \"GB6 Multi/\\u20ac\": 9.6, \"ITJustGood\": \"https://www.itjustgood.com/ordinateur-portable-reconditionne-dell-latitude-5420-intel-core-i5-10310u-16go-ddr4-ssd-500go-ssd-14-pouces-windows-11-0btd9343.html\"}, {\"Offer\": \"EliteBook 640 G9 512GB VGood\", \"Price\": 650.0, \"Designer\": \"HP\", \"Series\": \"EliteBook 640 G9\", \"CPU\": \"Intel Core i5-1245U\", \"CPU Age\": 3.2, \"RAM\": 16.0, \"SSD\": 500.0, \"Screen resolution\": \"1920x1080\", \"Condition\": \"Very Good\", \"Active\": false, \"GB6 Single\": 1964.0, \"GB6 Multi\": 6269.0, \"GB6 Single/\\u20ac\": 3.0, \"GB6 Multi/\\u20ac\": 9.6, \"ITJustGood\": \"https://www.itjustgood.com/ultrabook-reconditionne-hp-elitebook-640-g9-intel-core-i5-1245u-16go-ddr4-500go-ssd-14pouces-fhd-windows-11-03td6974.html\"}, {\"Offer\": \"T14 G3 1TB VGood\", \"Price\": 730.0, \"Designer\": \"Lenovo\", \"Series\": \"ThinkPad T14S Gen 3\", \"CPU\": \"Intel Core i5-1245U\", \"CPU Age\": 3.2, \"RAM\": 16.0, \"SSD\": 1000.0, \"Screen resolution\": \"1920x1080\", \"Condition\": \"Very Good\", \"Active\": false, \"GB6 Single\": 1964.0, \"GB6 Multi\": 6269.0, \"GB6 Single/\\u20ac\": 2.7, \"GB6 Multi/\\u20ac\": 8.6, \"ITJustGood\": \"https://www.itjustgood.com/ultrabook-reconditionne-lenovo-thinkpad-t14s-gen2-intel-core-i5-1245u-16go-ddr5-1to-ssd-thunderbolt4-14pouces-fhd-windows11-03td7127.html\"}, {\"Offer\": \"Latitude 5420 240GB VGood\", \"Price\": 470.0, \"Designer\": \"Dell\", \"Series\": \"Latitude 5420\", \"CPU\": \"Intel Core i5-1145G7\", \"CPU Age\": 4.2, \"RAM\": 16.0, \"SSD\": 250.0, \"Screen resolution\": \"1920x1080\", \"Condition\": \"Very Good\", \"Active\": true, \"GB6 Single\": 1766.0, \"GB6 Multi\": 4873.0, \"GB6 Single/\\u20ac\": 3.8, \"GB6 Multi/\\u20ac\": 10.4, \"ITJustGood\": \"https://www.itjustgood.com/ordinateur-portable-reconditionne-dell-latitude-5420-intel-core-i5-1145g7-16-go-ddr4-240go-ssd-14-pouces-fhd-windows-11-03td6957.html\"}, {\"Offer\": \"T14 G1 512 Good\", \"Price\": 410.0, \"Designer\": \"Lenovo\", \"Series\": \"ThinkPad T14S Gen 1\", \"CPU\": \"Intel Core i5-10210U\", \"CPU Age\": 5.7, \"RAM\": 16.0, \"SSD\": 500.0, \"Screen resolution\": \"1920x1080\", \"Condition\": \"Good\", \"Active\": true, \"GB6 Single\": 1229.0, \"GB6 Multi\": 3088.0, \"GB6 Single/\\u20ac\": 3.0, \"GB6 Multi/\\u20ac\": 7.5, \"ITJustGood\": \"https://www.itjustgood.com/ultrabook-reconditionne-lenovo-thinkpad-t14-gen-1-intel-core-i5-10210u-16go-ddr4-512go-ssd-thunderbolt3-windows11-14-fhd-etat-correct-0btd9029.html\"}, {\"Offer\": \"T14 G1 256 VGood\", \"Price\": 430.0, \"Designer\": \"Lenovo\", \"Series\": \"ThinkPad T14S Gen 1\", \"CPU\": \"Intel Core i5-10210U\", \"CPU Age\": 5.7, \"RAM\": 16.0, \"SSD\": 250.0, \"Screen resolution\": \"1920x1080\", \"Condition\": \"Very Good\", \"Active\": true, \"GB6 Single\": 1229.0, \"GB6 Multi\": 3088.0, \"GB6 Single/\\u20ac\": 2.9, \"GB6 Multi/\\u20ac\": 7.2, \"ITJustGood\": \"https://www.itjustgood.com/ultrabook-reconditionne-lenovo-thinkpad-t14-gen-1-intel-core-i5-10210u-16go-ddr4-256go-ssd-thunderbolt3-windows11-14-full-hd-03td7128.html\"}, {\"Offer\": \"Latitude 5420 500GB VGood\", \"Price\": 600.0, \"Designer\": \"Dell\", \"Series\": \"Latitude 5420\", \"CPU\": \"Intel Core i5-1145G7\", \"CPU Age\": 4.2, \"RAM\": 16.0, \"SSD\": 500.0, \"Screen resolution\": \"1920x1080\", \"Condition\": \"Very Good\", \"Active\": true, \"GB6 Single\": 1766.0, \"GB6 Multi\": 4873.0, \"GB6 Single/\\u20ac\": 2.9, \"GB6 Multi/\\u20ac\": 8.1, \"ITJustGood\": \"https://www.itjustgood.com/ordinateur-portable-reconditionne-dell-latitude-5420-intel-core-i5-1145g7-16go-ddr4-500go-ssd-14-pouces-fhd-windows-11-03td6694.html\"}, {\"Offer\": \"T14 G1 512 VGood\", \"Price\": 470.0, \"Designer\": \"Lenovo\", \"Series\": \"ThinkPad T14S Gen 1\", \"CPU\": \"Intel Core i5-10210U\", \"CPU Age\": 5.7, \"RAM\": 16.0, \"SSD\": 500.0, \"Screen resolution\": \"1920x1080\", \"Condition\": \"Very Good\", \"Active\": true, \"GB6 Single\": 1229.0, \"GB6 Multi\": 3088.0, \"GB6 Single/\\u20ac\": 2.6, \"GB6 Multi/\\u20ac\": 6.6, \"ITJustGood\": \"https://www.itjustgood.com/ultrabook-reconditionne-lenovo-thinkpad-t14-gen-1-intel-core-i5-10210u-16go-ddr4-500go-ssd-thunderbolt3-windows11-14-full-hd-03td6728.html\"}, {\"Offer\": \"T14 G1 AMD 240G Good\", \"Price\": 510.0, \"Designer\": \"Lenovo\", \"Series\": \"ThinkPad T14S Gen 1\", \"CPU\": \"AMD Ryzen 5 PRO 4650U\", \"CPU Age\": 4.7, \"RAM\": 16.0, \"SSD\": 250.0, \"Screen resolution\": \"1920x1080\", \"Condition\": \"Good\", \"Active\": false, \"GB6 Single\": 1421.0, \"GB6 Multi\": 4591.0, \"GB6 Single/\\u20ac\": 2.8, \"GB6 Multi/\\u20ac\": 9.0, \"ITJustGood\": \"https://www.itjustgood.com/ultrabook-reconditionne-lenovo-thinkpad-t14-gen-1-amd-ryzen-5-pro-4650u-16go-ddr4-240go-ssd-thunderbolt4-14-full-hd-wifi6-webcam-windows11-etat-correct-0btd9098.html\"}, {\"Offer\": \"T14 G1 AMD 512GB Good\", \"Price\": 380.0, \"Designer\": \"Lenovo\", \"Series\": \"ThinkPad T14S Gen 1\", \"CPU\": \"AMD Ryzen 5 PRO 4650U\", \"CPU Age\": 4.7, \"RAM\": 16.0, \"SSD\": 500.0, \"Screen resolution\": \"1920x1080\", \"Condition\": \"Good\", \"Active\": true, \"GB6 Single\": 1421.0, \"GB6 Multi\": 4591.0, \"GB6 Single/\\u20ac\": 3.7, \"GB6 Multi/\\u20ac\": 12.1, \"ITJustGood\": \"https://www.itjustgood.com/ultrabook-reconditionne-lenovo-thinkpad-t14-gen-1-amd-ryzen-5-pro-4650u-16go-ddr4-512go-ssd-thunderbolt4-14-full-hd-wifi6-webcam-windows11-etat-correct-0btd8977.html\"}, {\"Offer\": \"EliteBook 845 G8 512GB Good\", \"Price\": 470.0, \"Designer\": \"HP\", \"Series\": \"EliteBook 845 G8\", \"CPU\": \"AMD Ryzen 5 PRO 5650U\", \"CPU Age\": 4.0, \"RAM\": 16.0, \"SSD\": 500.0, \"Screen resolution\": \"1920x1080\", \"Condition\": \"Good\", \"Active\": true, \"GB6 Single\": 1740.0, \"GB6 Multi\": 5479.0, \"GB6 Single/\\u20ac\": 3.7, \"GB6 Multi/\\u20ac\": 11.7, \"ITJustGood\": \"https://www.itjustgood.com/ultrabook-reconditionne-hp-elitebook-845-g8-amd-ryzen-5-pro-5650u-16go-512go-ssd-14-pouces-windows-11-etat-correct-03td7141.html\"}, {\"Offer\": \"ProBook 640 G8 500GB VGood\", \"Price\": 550.0, \"Designer\": \"HP\", \"Series\": \"ProBook 640 G8\", \"CPU\": \"Intel Core i5-1145G7\", \"CPU Age\": 4.2, \"RAM\": 16.0, \"SSD\": 500.0, \"Screen resolution\": \"1920x1080\", \"Condition\": \"Very Good\", \"Active\": true, \"GB6 Single\": 1766.0, \"GB6 Multi\": 4873.0, \"GB6 Single/\\u20ac\": 3.2, \"GB6 Multi/\\u20ac\": 8.9, \"ITJustGood\": \"https://www.itjustgood.com/ultrabook-reconditionne-hp-probook-640-g8-intel-core-i5-1145g7-16go-ddr4-500go-ssd-14pouces-fhd-windows-11-03td6731.html\"}, {\"Offer\": \"EliteBook 745 G5 AMD 256GB VGood\", \"Price\": 230.0, \"Designer\": \"HP\", \"Series\": \"EliteBook 745 G5\", \"CPU\": \"AMD Ryzen 7 PRO 2700U\", \"CPU Age\": 7.5, \"RAM\": 16.0, \"SSD\": 250.0, \"Screen resolution\": \"1920x1080\", \"Condition\": \"Very Good\", \"Active\": true, \"GB6 Single\": 914.0, \"GB6 Multi\": 2545.0, \"GB6 Single/\\u20ac\": 4.0, \"GB6 Multi/\\u20ac\": 11.1, \"ITJustGood\": \"https://www.itjustgood.com/pc-portable-reconditionne-hp-elitebook-745-g5-amd-ryzen-7-pro-2700u-16go-256go-ssd-nvme-14pouces-fhd-windows-10-03td7106.html\"}, {\"Offer\": \"T495S 500GB Good\", \"Price\": 310.0, \"Designer\": \"Lenovo\", \"Series\": \"ThinkPad T495S\", \"CPU\": \"AMD Ryzen 5 PRO 3500U\", \"CPU Age\": 6.2, \"RAM\": 16.0, \"SSD\": 500.0, \"Screen resolution\": \"1920x1080\", \"Condition\": \"Good\", \"Active\": true, \"GB6 Single\": 949.0, \"GB6 Multi\": 2620.0, \"GB6 Single/\\u20ac\": 3.1, \"GB6 Multi/\\u20ac\": 8.5, \"ITJustGood\": \"https://www.itjustgood.com/ultrabook-reconditionne-lenovo-thinkpad-t495s-amd-ryzen-5-pro-3500u-16go-ddr4-512go-ssd-14-full-hd-windows11-etat-correct-0btd8967.html\"}, {\"Offer\": \"T14 G1 AMD 512GB VGood\", \"Price\": 400.0, \"Designer\": \"Lenovo\", \"Series\": \"ThinkPad T14S Gen 1\", \"CPU\": \"AMD Ryzen 5 PRO 4650U\", \"CPU Age\": 4.7, \"RAM\": 16.0, \"SSD\": 500.0, \"Screen resolution\": \"1920x1080\", \"Condition\": \"Very Good\", \"Active\": true, \"GB6 Single\": 1421.0, \"GB6 Multi\": 4591.0, \"GB6 Single/\\u20ac\": 3.6, \"GB6 Multi/\\u20ac\": 11.5, \"ITJustGood\": \"https://www.itjustgood.com/ultrabook-reconditionne-lenovo-thinkpad-t14-gen-1-amd-ryzen-5-pro-4650u-16go-ddr4-512go-ssd-thunderbolt4-14-full-hd-wifi6-webcam-windows11-03td7136.html\"}, {\"Offer\": \"T495 500GB Good\", \"Price\": 380.0, \"Designer\": \"Lenovo\", \"Series\": \"ThinkPad T495\", \"CPU\": \"AMD Ryzen 5 PRO 3500U\", \"CPU Age\": 6.2, \"RAM\": 16.0, \"SSD\": 500.0, \"Screen resolution\": \"1920x1080\", \"Condition\": \"Good\", \"Active\": false, \"GB6 Single\": 949.0, \"GB6 Multi\": 2620.0, \"GB6 Single/\\u20ac\": 2.5, \"GB6 Multi/\\u20ac\": 6.9, \"ITJustGood\": \"https://www.itjustgood.com/ultrabook-lenovo-thinkpad-t495-reconditionne-amd-ryzen-5-pro-3500u-16go-ddr4-500go-ssd-windows11-14-full-hd-etat-correct-0btd9168.html\"}, {\"Offer\": \"EliteBook 640 G9 500GB VGood\", \"Price\": 560.0, \"Designer\": \"HP\", \"Series\": \"EliteBook 640 G9\", \"CPU\": \"Intel Core i5-1245U\", \"CPU Age\": 3.2, \"RAM\": 16.0, \"SSD\": 500.0, \"Screen resolution\": \"1920x1080\", \"Condition\": \"Very Good\", \"Active\": false, \"GB6 Single\": 1964.0, \"GB6 Multi\": 6269.0, \"GB6 Single/\\u20ac\": 3.5, \"GB6 Multi/\\u20ac\": 11.2, \"ITJustGood\": \"https://www.itjustgood.com/ultrabook-reconditionne-hp-elitebook-640-g9-intel-core-i5-1245u-16go-ddr4-512go-ssd-14pouces-fhd-windows-11-etat-correct-0btd8961.html\"}, {\"Offer\": \"Latitude 5420 500GB Good\", \"Price\": 400.0, \"Designer\": \"Dell\", \"Series\": \"Latitude 5420\", \"CPU\": \"Intel Core i5-1145G7\", \"CPU Age\": 4.2, \"RAM\": 16.0, \"SSD\": 500.0, \"Screen resolution\": \"1920x1080\", \"Condition\": \"Good\", \"Active\": true, \"GB6 Single\": 1766.0, \"GB6 Multi\": 4873.0, \"GB6 Single/\\u20ac\": 4.4, \"GB6 Multi/\\u20ac\": 12.2, \"ITJustGood\": \"https://www.itjustgood.com/ordinateur-portable-reconditionne-dell-latitude-5420-intel-core-i5-1145g7-16go-ddr4-500go-ssd-14-pouces-fhd-windows-11-0btd9171.html\"}]}}, {\"mode\": \"vega-lite\"});\n",
       "</script>"
      ],
      "text/plain": [
       "alt.HConcatChart(...)"
      ]
     },
     "execution_count": 71,
     "metadata": {},
     "output_type": "execute_result"
    }
   ],
   "source": [
    "chart_single = alt.Chart(offers, title='Price vs CPU performance').mark_point(filled=True).encode(\n",
    "    x=alt.X('GB6 Single').axis(title='Single-Core performance').scale(zero=False),\n",
    "    y=alt.Y('Price').axis(title='Price (€)'),\n",
    "    size = alt.Size('SSD').legend(tickCount=3),\n",
    "    color = 'Condition',\n",
    "    tooltip=['Designer','Series', 'CPU', 'CPU Age', 'SSD'],\n",
    "    href='ITJustGood',\n",
    ")\n",
    "chart_multi = chart_single.encode(\n",
    "    x=alt.X('GB6 Multi').axis(title='Multi-Core performance').scale(zero=False),\n",
    ")\n",
    "chart_single | chart_multi"
   ]
  },
  {
   "cell_type": "code",
   "execution_count": null,
   "id": "390d51f7-9f80-4c20-b092-682412d2832a",
   "metadata": {},
   "outputs": [],
   "source": []
  }
 ],
 "metadata": {
  "kernelspec": {
   "display_name": "Python 3 (ipykernel)",
   "language": "python",
   "name": "python3"
  },
  "language_info": {
   "codemirror_mode": {
    "name": "ipython",
    "version": 3
   },
   "file_extension": ".py",
   "mimetype": "text/x-python",
   "name": "python",
   "nbconvert_exporter": "python",
   "pygments_lexer": "ipython3",
   "version": "3.12.8"
  }
 },
 "nbformat": 4,
 "nbformat_minor": 5
}
