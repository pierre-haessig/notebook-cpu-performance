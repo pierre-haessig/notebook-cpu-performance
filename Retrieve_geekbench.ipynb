{
 "cells": [
  {
   "cell_type": "markdown",
   "id": "ac56bc74-936b-44fa-98eb-7d90550b7b5c",
   "metadata": {},
   "source": [
    "# Scrape+Stats Geekbench\n",
    "\n",
    "PH Feb 2025"
   ]
  },
  {
   "cell_type": "code",
   "execution_count": 156,
   "id": "693071ab-db17-4b51-bdd2-1ecc68b5f785",
   "metadata": {},
   "outputs": [],
   "source": [
    "import requests\n",
    "import glob\n",
    "from bs4 import BeautifulSoup\n",
    "import numpy as np\n",
    "import pandas as pd\n",
    "import matplotlib.pyplot as plt\n",
    "import re\n",
    "import time"
   ]
  },
  {
   "cell_type": "markdown",
   "id": "bde58b76-e18e-4b3a-a604-b6844a223cc9",
   "metadata": {},
   "source": [
    "## Scrape"
   ]
  },
  {
   "cell_type": "markdown",
   "id": "a12f75b1-7509-4ef7-bba9-695603e8b498",
   "metadata": {},
   "source": [
    "### Scrape functions"
   ]
  },
  {
   "cell_type": "code",
   "execution_count": 52,
   "id": "9b2aed8e-fa54-4d5f-bc9a-da7376073e4f",
   "metadata": {},
   "outputs": [],
   "source": [
    "def retrieve_geekbench(search, page=1):\n",
    "    \"\"\"returns the html code of Geekbench (v6) browser search\n",
    "    \"\"\"\n",
    "    url = \"https://browser.geekbench.com/search\"\n",
    "    \n",
    "    # Effectuer la requête HTTP\n",
    "    headers = {'User-Agent': 'Mozilla/5.0'}\n",
    "    params = {\n",
    "        'q': search.replace(' ', '+'),\n",
    "        'page': page\n",
    "    }\n",
    "    response = requests.get(url, headers=headers, params=params)\n",
    "    response.raise_for_status()\n",
    "    html = response.text\n",
    "    return html"
   ]
  },
  {
   "cell_type": "code",
   "execution_count": 50,
   "id": "34300afb-954c-423f-a66b-8da3a0184ccc",
   "metadata": {},
   "outputs": [],
   "source": [
    "def parse_geekbench_df(gb_html):\n",
    "    \"\"\"parse html code of Geekbench (v6) browser search\n",
    "    into pandas DataFrame\n",
    "    \"\"\"\n",
    "    # Parse HTML\n",
    "    soup = BeautifulSoup(gb_html, 'html.parser')\n",
    "    # Search results\n",
    "    devices = []\n",
    "    rows = soup.find_all(\"div\", class_=\"list-col-inner\")\n",
    "    re_ncore = re.compile(r'\\((\\d+) cores\\)') # matches '(12 cores)'\n",
    "    \n",
    "    for row in rows:\n",
    "        # System description\n",
    "        system_link = row.find(\"a\")\n",
    "        system_name = system_link.text.strip()\n",
    "        system_url = \"https://browser.geekbench.com\" + system_link[\"href\"]\n",
    "        model_info = row.find(\"span\", class_=\"list-col-model\").text.strip()\n",
    "        # detail model info:\n",
    "        cpu_name, cpu_freq, cpu_cores = model_info.split(\"\\n\")\n",
    "        cpu_freq = int(cpu_freq.replace(' MHz', ''))\n",
    "        cpu_cores = int(re_ncore.match(cpu_cores).group(1))\n",
    "        \n",
    "        uploaded = row.find_all(\"span\", class_=\"list-col-text\")[0].text.strip()\n",
    "        uploaded = uploaded.split('\\n')[0] # remove the username which is sometimes here\n",
    "        \n",
    "        platform = row.find_all(\"span\", class_=\"list-col-text\")[1].text.strip()\n",
    "        \n",
    "        single_core = float(row.find(\"span\", class_=\"list-col-text-score\").text.strip())\n",
    "        multi_core = float(row.find_all(\"span\", class_=\"list-col-text-score\")[1].text.strip())\n",
    "        \n",
    "        devices.append([system_name, cpu_name, cpu_freq, cpu_cores, uploaded, platform, single_core, multi_core, system_url])\n",
    "    \n",
    "    # Convert to Pandas DataFrame\n",
    "    df = pd.DataFrame(devices, columns=[\"System\", \"CPU Name\", \"CPU Freq\", \"CPU Cores\", \"Uploaded\", \"Platform\", \"Single-Core Score\", \"Multi-Core Score\", \"URL\"])\n",
    "    return df"
   ]
  },
  {
   "cell_type": "markdown",
   "id": "939a88ac-7469-4355-962d-d3ab77cf39ac",
   "metadata": {},
   "source": [
    "### Scrape all CPUs of a list\n",
    "\n",
    "*run on Feb 16, 2025*"
   ]
  },
  {
   "cell_type": "code",
   "execution_count": 66,
   "id": "02a074da-79df-4d31-837e-bf03c787f575",
   "metadata": {},
   "outputs": [],
   "source": [
    "cpu_list = [\n",
    "'Intel Core i5-6200U',\n",
    "'Intel Core i5-6300U',\n",
    "'Intel Core i5-7300U',\n",
    "'Intel Core i5-8250U',\n",
    "'Intel Core i5-8350U',\n",
    "'Intel Core i5-8365U',\n",
    "'Intel Core i5-9400H',\n",
    "'Intel Core i5-10210U',\n",
    "'Intel Core i5-10310U',\n",
    "'Intel Core i5-1135G7',\n",
    "'Intel Core i5-1145G7',\n",
    "'Intel Core i5-1245U',\n",
    "'Intel Core i5-1335U',\n",
    "'AMD Ryzen 7 PRO 2700U',\n",
    "'AMD Ryzen 5 PRO 3500U',\n",
    "'AMD Ryzen 5 PRO 4650U',\n",
    "]"
   ]
  },
  {
   "cell_type": "code",
   "execution_count": 68,
   "id": "9244f002-67ff-466b-891e-f5da4ae00ad2",
   "metadata": {
    "scrolled": true
   },
   "outputs": [
    {
     "name": "stdout",
     "output_type": "stream",
     "text": [
      "Scraping Intel Core i5-6200U...\n",
      "- Scraping page 2...\n",
      "- Scraping page 3...\n",
      "- Scraping page 4...\n",
      "- Scraping page 5...\n",
      "- Scraping page 6...\n",
      "- Scraping page 7...\n",
      "- Scraping page 8...\n",
      "- Scraping page 9...\n",
      "- Scraping page 10...\n",
      "- Scraping page 11...\n",
      "- Scraping page 12...\n",
      "- Scraping page 13...\n",
      "- Scraping page 14...\n",
      "- Scraping page 15...\n",
      "- Scraping page 16...\n",
      "- Scraping page 17...\n",
      "- Scraping page 18...\n",
      "- Scraping page 19...\n",
      "- Scraping page 20...\n",
      "- Scraping page 21...\n",
      "- Scraping page 22...\n",
      "- Scraping page 23...\n",
      "- Scraping page 24...\n",
      "- Scraping page 25...\n",
      "- Scraping page 26...\n",
      "- Scraping page 27...\n",
      "- Scraping page 28...\n",
      "- Scraping page 29...\n",
      "- Scraping page 30...\n",
      "- Scraping page 31...\n",
      "- Scraping page 32...\n",
      "- Scraping page 33...\n",
      "- Scraping page 34...\n",
      "- Scraping page 35...\n",
      "- Scraping page 36...\n",
      "- Scraping page 37...\n",
      "- Scraping page 38...\n",
      "- Scraping page 39...\n",
      "- Scraping page 40...\n",
      "Scraping Intel Core i5-6300U...\n",
      "- Scraping page 2...\n",
      "- Scraping page 3...\n",
      "- Scraping page 4...\n",
      "- Scraping page 5...\n",
      "- Scraping page 6...\n",
      "- Scraping page 7...\n",
      "- Scraping page 8...\n",
      "- Scraping page 9...\n",
      "- Scraping page 10...\n",
      "- Scraping page 11...\n",
      "- Scraping page 12...\n",
      "- Scraping page 13...\n",
      "- Scraping page 14...\n",
      "- Scraping page 15...\n",
      "- Scraping page 16...\n",
      "- Scraping page 17...\n",
      "- Scraping page 18...\n",
      "- Scraping page 19...\n",
      "- Scraping page 20...\n",
      "- Scraping page 21...\n",
      "- Scraping page 22...\n",
      "- Scraping page 23...\n",
      "- Scraping page 24...\n",
      "- Scraping page 25...\n",
      "- Scraping page 26...\n",
      "- Scraping page 27...\n",
      "- Scraping page 28...\n",
      "- Scraping page 29...\n",
      "- Scraping page 30...\n",
      "- Scraping page 31...\n",
      "- Scraping page 32...\n",
      "- Scraping page 33...\n",
      "- Scraping page 34...\n",
      "- Scraping page 35...\n",
      "- Scraping page 36...\n",
      "- Scraping page 37...\n",
      "- Scraping page 38...\n",
      "- Scraping page 39...\n",
      "- Scraping page 40...\n",
      "Scraping Intel Core i5-7300U...\n",
      "- Scraping page 2...\n",
      "- Scraping page 3...\n",
      "- Scraping page 4...\n",
      "- Scraping page 5...\n",
      "- Scraping page 6...\n",
      "- Scraping page 7...\n",
      "- Scraping page 8...\n",
      "- Scraping page 9...\n",
      "- Scraping page 10...\n",
      "- Scraping page 11...\n",
      "- Scraping page 12...\n",
      "- Scraping page 13...\n",
      "- Scraping page 14...\n",
      "- Scraping page 15...\n",
      "- Scraping page 16...\n",
      "- Scraping page 17...\n",
      "- Scraping page 18...\n",
      "- Scraping page 19...\n",
      "- Scraping page 20...\n",
      "- Scraping page 21...\n",
      "- Scraping page 22...\n",
      "- Scraping page 23...\n",
      "- Scraping page 24...\n",
      "- Scraping page 25...\n",
      "- Scraping page 26...\n",
      "- Scraping page 27...\n",
      "- Scraping page 28...\n",
      "- Scraping page 29...\n",
      "- Scraping page 30...\n",
      "- Scraping page 31...\n",
      "- Scraping page 32...\n",
      "- Scraping page 33...\n",
      "- Scraping page 34...\n",
      "- Scraping page 35...\n",
      "- Scraping page 36...\n",
      "- Scraping page 37...\n",
      "- Scraping page 38...\n",
      "- Scraping page 39...\n",
      "- Scraping page 40...\n",
      "Scraping Intel Core i5-8250U...\n",
      "- Scraping page 2...\n",
      "- Scraping page 3...\n",
      "- Scraping page 4...\n",
      "- Scraping page 5...\n",
      "- Scraping page 6...\n",
      "- Scraping page 7...\n",
      "- Scraping page 8...\n",
      "- Scraping page 9...\n",
      "- Scraping page 10...\n",
      "- Scraping page 11...\n",
      "- Scraping page 12...\n",
      "- Scraping page 13...\n",
      "- Scraping page 14...\n",
      "- Scraping page 15...\n",
      "- Scraping page 16...\n",
      "- Scraping page 17...\n",
      "- Scraping page 18...\n",
      "- Scraping page 19...\n",
      "- Scraping page 20...\n",
      "- Scraping page 21...\n",
      "- Scraping page 22...\n",
      "- Scraping page 23...\n",
      "- Scraping page 24...\n",
      "- Scraping page 25...\n",
      "- Scraping page 26...\n",
      "- Scraping page 27...\n",
      "- Scraping page 28...\n",
      "- Scraping page 29...\n",
      "- Scraping page 30...\n",
      "- Scraping page 31...\n",
      "- Scraping page 32...\n",
      "- Scraping page 33...\n",
      "- Scraping page 34...\n",
      "- Scraping page 35...\n",
      "- Scraping page 36...\n",
      "- Scraping page 37...\n",
      "- Scraping page 38...\n",
      "- Scraping page 39...\n",
      "- Scraping page 40...\n",
      "Scraping Intel Core i5-8350U...\n",
      "- Scraping page 2...\n",
      "- Scraping page 3...\n",
      "- Scraping page 4...\n",
      "- Scraping page 5...\n",
      "- Scraping page 6...\n",
      "- Scraping page 7...\n",
      "- Scraping page 8...\n",
      "- Scraping page 9...\n",
      "- Scraping page 10...\n",
      "- Scraping page 11...\n",
      "- Scraping page 12...\n",
      "- Scraping page 13...\n",
      "- Scraping page 14...\n",
      "- Scraping page 15...\n",
      "- Scraping page 16...\n",
      "- Scraping page 17...\n",
      "- Scraping page 18...\n",
      "- Scraping page 19...\n",
      "- Scraping page 20...\n",
      "- Scraping page 21...\n",
      "- Scraping page 22...\n",
      "- Scraping page 23...\n",
      "- Scraping page 24...\n",
      "- Scraping page 25...\n",
      "- Scraping page 26...\n",
      "- Scraping page 27...\n",
      "- Scraping page 28...\n",
      "- Scraping page 29...\n",
      "- Scraping page 30...\n",
      "- Scraping page 31...\n",
      "- Scraping page 32...\n",
      "- Scraping page 33...\n",
      "- Scraping page 34...\n",
      "- Scraping page 35...\n",
      "- Scraping page 36...\n",
      "- Scraping page 37...\n",
      "- Scraping page 38...\n",
      "- Scraping page 39...\n",
      "- Scraping page 40...\n",
      "Scraping Intel Core i5-8365U...\n",
      "- Scraping page 2...\n",
      "- Scraping page 3...\n",
      "- Scraping page 4...\n",
      "- Scraping page 5...\n",
      "- Scraping page 6...\n",
      "- Scraping page 7...\n",
      "- Scraping page 8...\n",
      "- Scraping page 9...\n",
      "- Scraping page 10...\n",
      "- Scraping page 11...\n",
      "- Scraping page 12...\n",
      "- Scraping page 13...\n",
      "- Scraping page 14...\n",
      "- Scraping page 15...\n",
      "- Scraping page 16...\n",
      "- Scraping page 17...\n",
      "- Scraping page 18...\n",
      "- Scraping page 19...\n",
      "- Scraping page 20...\n",
      "- Scraping page 21...\n",
      "- Scraping page 22...\n",
      "- Scraping page 23...\n",
      "- Scraping page 24...\n",
      "- Scraping page 25...\n",
      "- Scraping page 26...\n",
      "- Scraping page 27...\n",
      "- Scraping page 28...\n",
      "- Scraping page 29...\n",
      "- Scraping page 30...\n",
      "- Scraping page 31...\n",
      "- Scraping page 32...\n",
      "- Scraping page 33...\n",
      "- Scraping page 34...\n",
      "- Scraping page 35...\n",
      "- Scraping page 36...\n",
      "- Scraping page 37...\n",
      "- Scraping page 38...\n",
      "- Scraping page 39...\n",
      "- Scraping page 40...\n",
      "Scraping Intel Core i5-9400H...\n",
      "- Scraping page 2...\n",
      "- Scraping page 3...\n",
      "- Scraping page 4...\n",
      "- Scraping page 5...\n",
      "- Scraping page 6...\n",
      "- Scraping page 7...\n",
      "- Scraping page 8...\n",
      "- Scraping page 9...\n",
      "- Scraping page 10...\n",
      "- Scraping page 11...\n",
      "- Scraping page 12...\n",
      "- Scraping page 13...\n",
      "- Scraping page 14...\n",
      "- Scraping page 15...\n",
      "- Scraping page 16...\n",
      "- Scraping page 17...\n"
     ]
    },
    {
     "name": "stderr",
     "output_type": "stream",
     "text": [
      "/tmp/ipykernel_23568/4058616572.py:23: FutureWarning: The behavior of DataFrame concatenation with empty or all-NA entries is deprecated. In a future version, this will no longer exclude empty or all-NA columns when determining the result dtypes. To retain the old behavior, exclude the relevant entries before the concat operation.\n",
      "  df_cpu = pd.concat((df_cpu, df_page), ignore_index=True)\n"
     ]
    },
    {
     "name": "stdout",
     "output_type": "stream",
     "text": [
      "- Scraping page 18...\n"
     ]
    },
    {
     "name": "stderr",
     "output_type": "stream",
     "text": [
      "/tmp/ipykernel_23568/4058616572.py:23: FutureWarning: The behavior of DataFrame concatenation with empty or all-NA entries is deprecated. In a future version, this will no longer exclude empty or all-NA columns when determining the result dtypes. To retain the old behavior, exclude the relevant entries before the concat operation.\n",
      "  df_cpu = pd.concat((df_cpu, df_page), ignore_index=True)\n"
     ]
    },
    {
     "name": "stdout",
     "output_type": "stream",
     "text": [
      "- Scraping page 19...\n"
     ]
    },
    {
     "name": "stderr",
     "output_type": "stream",
     "text": [
      "/tmp/ipykernel_23568/4058616572.py:23: FutureWarning: The behavior of DataFrame concatenation with empty or all-NA entries is deprecated. In a future version, this will no longer exclude empty or all-NA columns when determining the result dtypes. To retain the old behavior, exclude the relevant entries before the concat operation.\n",
      "  df_cpu = pd.concat((df_cpu, df_page), ignore_index=True)\n"
     ]
    },
    {
     "name": "stdout",
     "output_type": "stream",
     "text": [
      "- Scraping page 20...\n"
     ]
    },
    {
     "name": "stderr",
     "output_type": "stream",
     "text": [
      "/tmp/ipykernel_23568/4058616572.py:23: FutureWarning: The behavior of DataFrame concatenation with empty or all-NA entries is deprecated. In a future version, this will no longer exclude empty or all-NA columns when determining the result dtypes. To retain the old behavior, exclude the relevant entries before the concat operation.\n",
      "  df_cpu = pd.concat((df_cpu, df_page), ignore_index=True)\n"
     ]
    },
    {
     "name": "stdout",
     "output_type": "stream",
     "text": [
      "- Scraping page 21...\n"
     ]
    },
    {
     "name": "stderr",
     "output_type": "stream",
     "text": [
      "/tmp/ipykernel_23568/4058616572.py:23: FutureWarning: The behavior of DataFrame concatenation with empty or all-NA entries is deprecated. In a future version, this will no longer exclude empty or all-NA columns when determining the result dtypes. To retain the old behavior, exclude the relevant entries before the concat operation.\n",
      "  df_cpu = pd.concat((df_cpu, df_page), ignore_index=True)\n"
     ]
    },
    {
     "name": "stdout",
     "output_type": "stream",
     "text": [
      "- Scraping page 22...\n"
     ]
    },
    {
     "name": "stderr",
     "output_type": "stream",
     "text": [
      "/tmp/ipykernel_23568/4058616572.py:23: FutureWarning: The behavior of DataFrame concatenation with empty or all-NA entries is deprecated. In a future version, this will no longer exclude empty or all-NA columns when determining the result dtypes. To retain the old behavior, exclude the relevant entries before the concat operation.\n",
      "  df_cpu = pd.concat((df_cpu, df_page), ignore_index=True)\n"
     ]
    },
    {
     "name": "stdout",
     "output_type": "stream",
     "text": [
      "- Scraping page 23...\n"
     ]
    },
    {
     "name": "stderr",
     "output_type": "stream",
     "text": [
      "/tmp/ipykernel_23568/4058616572.py:23: FutureWarning: The behavior of DataFrame concatenation with empty or all-NA entries is deprecated. In a future version, this will no longer exclude empty or all-NA columns when determining the result dtypes. To retain the old behavior, exclude the relevant entries before the concat operation.\n",
      "  df_cpu = pd.concat((df_cpu, df_page), ignore_index=True)\n"
     ]
    },
    {
     "name": "stdout",
     "output_type": "stream",
     "text": [
      "- Scraping page 24...\n"
     ]
    },
    {
     "name": "stderr",
     "output_type": "stream",
     "text": [
      "/tmp/ipykernel_23568/4058616572.py:23: FutureWarning: The behavior of DataFrame concatenation with empty or all-NA entries is deprecated. In a future version, this will no longer exclude empty or all-NA columns when determining the result dtypes. To retain the old behavior, exclude the relevant entries before the concat operation.\n",
      "  df_cpu = pd.concat((df_cpu, df_page), ignore_index=True)\n"
     ]
    },
    {
     "name": "stdout",
     "output_type": "stream",
     "text": [
      "- Scraping page 25...\n"
     ]
    },
    {
     "name": "stderr",
     "output_type": "stream",
     "text": [
      "/tmp/ipykernel_23568/4058616572.py:23: FutureWarning: The behavior of DataFrame concatenation with empty or all-NA entries is deprecated. In a future version, this will no longer exclude empty or all-NA columns when determining the result dtypes. To retain the old behavior, exclude the relevant entries before the concat operation.\n",
      "  df_cpu = pd.concat((df_cpu, df_page), ignore_index=True)\n"
     ]
    },
    {
     "name": "stdout",
     "output_type": "stream",
     "text": [
      "- Scraping page 26...\n"
     ]
    },
    {
     "name": "stderr",
     "output_type": "stream",
     "text": [
      "/tmp/ipykernel_23568/4058616572.py:23: FutureWarning: The behavior of DataFrame concatenation with empty or all-NA entries is deprecated. In a future version, this will no longer exclude empty or all-NA columns when determining the result dtypes. To retain the old behavior, exclude the relevant entries before the concat operation.\n",
      "  df_cpu = pd.concat((df_cpu, df_page), ignore_index=True)\n"
     ]
    },
    {
     "name": "stdout",
     "output_type": "stream",
     "text": [
      "- Scraping page 27...\n"
     ]
    },
    {
     "name": "stderr",
     "output_type": "stream",
     "text": [
      "/tmp/ipykernel_23568/4058616572.py:23: FutureWarning: The behavior of DataFrame concatenation with empty or all-NA entries is deprecated. In a future version, this will no longer exclude empty or all-NA columns when determining the result dtypes. To retain the old behavior, exclude the relevant entries before the concat operation.\n",
      "  df_cpu = pd.concat((df_cpu, df_page), ignore_index=True)\n"
     ]
    },
    {
     "name": "stdout",
     "output_type": "stream",
     "text": [
      "- Scraping page 28...\n"
     ]
    },
    {
     "name": "stderr",
     "output_type": "stream",
     "text": [
      "/tmp/ipykernel_23568/4058616572.py:23: FutureWarning: The behavior of DataFrame concatenation with empty or all-NA entries is deprecated. In a future version, this will no longer exclude empty or all-NA columns when determining the result dtypes. To retain the old behavior, exclude the relevant entries before the concat operation.\n",
      "  df_cpu = pd.concat((df_cpu, df_page), ignore_index=True)\n"
     ]
    },
    {
     "name": "stdout",
     "output_type": "stream",
     "text": [
      "- Scraping page 29...\n"
     ]
    },
    {
     "name": "stderr",
     "output_type": "stream",
     "text": [
      "/tmp/ipykernel_23568/4058616572.py:23: FutureWarning: The behavior of DataFrame concatenation with empty or all-NA entries is deprecated. In a future version, this will no longer exclude empty or all-NA columns when determining the result dtypes. To retain the old behavior, exclude the relevant entries before the concat operation.\n",
      "  df_cpu = pd.concat((df_cpu, df_page), ignore_index=True)\n"
     ]
    },
    {
     "name": "stdout",
     "output_type": "stream",
     "text": [
      "- Scraping page 30...\n"
     ]
    },
    {
     "name": "stderr",
     "output_type": "stream",
     "text": [
      "/tmp/ipykernel_23568/4058616572.py:23: FutureWarning: The behavior of DataFrame concatenation with empty or all-NA entries is deprecated. In a future version, this will no longer exclude empty or all-NA columns when determining the result dtypes. To retain the old behavior, exclude the relevant entries before the concat operation.\n",
      "  df_cpu = pd.concat((df_cpu, df_page), ignore_index=True)\n"
     ]
    },
    {
     "name": "stdout",
     "output_type": "stream",
     "text": [
      "- Scraping page 31...\n"
     ]
    },
    {
     "name": "stderr",
     "output_type": "stream",
     "text": [
      "/tmp/ipykernel_23568/4058616572.py:23: FutureWarning: The behavior of DataFrame concatenation with empty or all-NA entries is deprecated. In a future version, this will no longer exclude empty or all-NA columns when determining the result dtypes. To retain the old behavior, exclude the relevant entries before the concat operation.\n",
      "  df_cpu = pd.concat((df_cpu, df_page), ignore_index=True)\n"
     ]
    },
    {
     "name": "stdout",
     "output_type": "stream",
     "text": [
      "- Scraping page 32...\n"
     ]
    },
    {
     "name": "stderr",
     "output_type": "stream",
     "text": [
      "/tmp/ipykernel_23568/4058616572.py:23: FutureWarning: The behavior of DataFrame concatenation with empty or all-NA entries is deprecated. In a future version, this will no longer exclude empty or all-NA columns when determining the result dtypes. To retain the old behavior, exclude the relevant entries before the concat operation.\n",
      "  df_cpu = pd.concat((df_cpu, df_page), ignore_index=True)\n"
     ]
    },
    {
     "name": "stdout",
     "output_type": "stream",
     "text": [
      "- Scraping page 33...\n"
     ]
    },
    {
     "name": "stderr",
     "output_type": "stream",
     "text": [
      "/tmp/ipykernel_23568/4058616572.py:23: FutureWarning: The behavior of DataFrame concatenation with empty or all-NA entries is deprecated. In a future version, this will no longer exclude empty or all-NA columns when determining the result dtypes. To retain the old behavior, exclude the relevant entries before the concat operation.\n",
      "  df_cpu = pd.concat((df_cpu, df_page), ignore_index=True)\n"
     ]
    },
    {
     "name": "stdout",
     "output_type": "stream",
     "text": [
      "- Scraping page 34...\n"
     ]
    },
    {
     "name": "stderr",
     "output_type": "stream",
     "text": [
      "/tmp/ipykernel_23568/4058616572.py:23: FutureWarning: The behavior of DataFrame concatenation with empty or all-NA entries is deprecated. In a future version, this will no longer exclude empty or all-NA columns when determining the result dtypes. To retain the old behavior, exclude the relevant entries before the concat operation.\n",
      "  df_cpu = pd.concat((df_cpu, df_page), ignore_index=True)\n"
     ]
    },
    {
     "name": "stdout",
     "output_type": "stream",
     "text": [
      "- Scraping page 35...\n"
     ]
    },
    {
     "name": "stderr",
     "output_type": "stream",
     "text": [
      "/tmp/ipykernel_23568/4058616572.py:23: FutureWarning: The behavior of DataFrame concatenation with empty or all-NA entries is deprecated. In a future version, this will no longer exclude empty or all-NA columns when determining the result dtypes. To retain the old behavior, exclude the relevant entries before the concat operation.\n",
      "  df_cpu = pd.concat((df_cpu, df_page), ignore_index=True)\n"
     ]
    },
    {
     "name": "stdout",
     "output_type": "stream",
     "text": [
      "- Scraping page 36...\n"
     ]
    },
    {
     "name": "stderr",
     "output_type": "stream",
     "text": [
      "/tmp/ipykernel_23568/4058616572.py:23: FutureWarning: The behavior of DataFrame concatenation with empty or all-NA entries is deprecated. In a future version, this will no longer exclude empty or all-NA columns when determining the result dtypes. To retain the old behavior, exclude the relevant entries before the concat operation.\n",
      "  df_cpu = pd.concat((df_cpu, df_page), ignore_index=True)\n"
     ]
    },
    {
     "name": "stdout",
     "output_type": "stream",
     "text": [
      "- Scraping page 37...\n"
     ]
    },
    {
     "name": "stderr",
     "output_type": "stream",
     "text": [
      "/tmp/ipykernel_23568/4058616572.py:23: FutureWarning: The behavior of DataFrame concatenation with empty or all-NA entries is deprecated. In a future version, this will no longer exclude empty or all-NA columns when determining the result dtypes. To retain the old behavior, exclude the relevant entries before the concat operation.\n",
      "  df_cpu = pd.concat((df_cpu, df_page), ignore_index=True)\n"
     ]
    },
    {
     "name": "stdout",
     "output_type": "stream",
     "text": [
      "- Scraping page 38...\n"
     ]
    },
    {
     "name": "stderr",
     "output_type": "stream",
     "text": [
      "/tmp/ipykernel_23568/4058616572.py:23: FutureWarning: The behavior of DataFrame concatenation with empty or all-NA entries is deprecated. In a future version, this will no longer exclude empty or all-NA columns when determining the result dtypes. To retain the old behavior, exclude the relevant entries before the concat operation.\n",
      "  df_cpu = pd.concat((df_cpu, df_page), ignore_index=True)\n"
     ]
    },
    {
     "name": "stdout",
     "output_type": "stream",
     "text": [
      "- Scraping page 39...\n"
     ]
    },
    {
     "name": "stderr",
     "output_type": "stream",
     "text": [
      "/tmp/ipykernel_23568/4058616572.py:23: FutureWarning: The behavior of DataFrame concatenation with empty or all-NA entries is deprecated. In a future version, this will no longer exclude empty or all-NA columns when determining the result dtypes. To retain the old behavior, exclude the relevant entries before the concat operation.\n",
      "  df_cpu = pd.concat((df_cpu, df_page), ignore_index=True)\n"
     ]
    },
    {
     "name": "stdout",
     "output_type": "stream",
     "text": [
      "- Scraping page 40...\n"
     ]
    },
    {
     "name": "stderr",
     "output_type": "stream",
     "text": [
      "/tmp/ipykernel_23568/4058616572.py:23: FutureWarning: The behavior of DataFrame concatenation with empty or all-NA entries is deprecated. In a future version, this will no longer exclude empty or all-NA columns when determining the result dtypes. To retain the old behavior, exclude the relevant entries before the concat operation.\n",
      "  df_cpu = pd.concat((df_cpu, df_page), ignore_index=True)\n"
     ]
    },
    {
     "name": "stdout",
     "output_type": "stream",
     "text": [
      "Scraping Intel Core i5-10210U...\n",
      "- Scraping page 2...\n",
      "- Scraping page 3...\n",
      "- Scraping page 4...\n",
      "- Scraping page 5...\n",
      "- Scraping page 6...\n",
      "- Scraping page 7...\n",
      "- Scraping page 8...\n",
      "- Scraping page 9...\n",
      "- Scraping page 10...\n",
      "- Scraping page 11...\n",
      "- Scraping page 12...\n",
      "- Scraping page 13...\n",
      "- Scraping page 14...\n",
      "- Scraping page 15...\n",
      "- Scraping page 16...\n",
      "- Scraping page 17...\n",
      "- Scraping page 18...\n",
      "- Scraping page 19...\n",
      "- Scraping page 20...\n",
      "- Scraping page 21...\n",
      "- Scraping page 22...\n",
      "- Scraping page 23...\n",
      "- Scraping page 24...\n",
      "- Scraping page 25...\n",
      "- Scraping page 26...\n",
      "- Scraping page 27...\n",
      "- Scraping page 28...\n",
      "- Scraping page 29...\n",
      "- Scraping page 30...\n",
      "- Scraping page 31...\n",
      "- Scraping page 32...\n",
      "- Scraping page 33...\n",
      "- Scraping page 34...\n",
      "- Scraping page 35...\n",
      "- Scraping page 36...\n",
      "- Scraping page 37...\n",
      "- Scraping page 38...\n",
      "- Scraping page 39...\n",
      "- Scraping page 40...\n",
      "Scraping Intel Core i5-10310U...\n",
      "- Scraping page 2...\n",
      "- Scraping page 3...\n",
      "- Scraping page 4...\n",
      "- Scraping page 5...\n",
      "- Scraping page 6...\n",
      "- Scraping page 7...\n",
      "- Scraping page 8...\n",
      "- Scraping page 9...\n",
      "- Scraping page 10...\n",
      "- Scraping page 11...\n",
      "- Scraping page 12...\n",
      "- Scraping page 13...\n",
      "- Scraping page 14...\n",
      "- Scraping page 15...\n",
      "- Scraping page 16...\n",
      "- Scraping page 17...\n",
      "- Scraping page 18...\n",
      "- Scraping page 19...\n",
      "- Scraping page 20...\n",
      "- Scraping page 21...\n",
      "- Scraping page 22...\n",
      "- Scraping page 23...\n",
      "- Scraping page 24...\n",
      "- Scraping page 25...\n",
      "- Scraping page 26...\n",
      "- Scraping page 27...\n",
      "- Scraping page 28...\n",
      "- Scraping page 29...\n",
      "- Scraping page 30...\n",
      "- Scraping page 31...\n",
      "- Scraping page 32...\n",
      "- Scraping page 33...\n",
      "- Scraping page 34...\n",
      "- Scraping page 35...\n",
      "- Scraping page 36...\n",
      "- Scraping page 37...\n",
      "- Scraping page 38...\n",
      "- Scraping page 39...\n",
      "- Scraping page 40...\n",
      "Scraping Intel Core i5-1135G7...\n",
      "- Scraping page 2...\n",
      "- Scraping page 3...\n",
      "- Scraping page 4...\n",
      "- Scraping page 5...\n",
      "- Scraping page 6...\n",
      "- Scraping page 7...\n",
      "- Scraping page 8...\n",
      "- Scraping page 9...\n",
      "- Scraping page 10...\n",
      "- Scraping page 11...\n",
      "- Scraping page 12...\n",
      "- Scraping page 13...\n",
      "- Scraping page 14...\n",
      "- Scraping page 15...\n",
      "- Scraping page 16...\n",
      "- Scraping page 17...\n",
      "- Scraping page 18...\n",
      "- Scraping page 19...\n",
      "- Scraping page 20...\n",
      "- Scraping page 21...\n",
      "- Scraping page 22...\n",
      "- Scraping page 23...\n",
      "- Scraping page 24...\n",
      "- Scraping page 25...\n",
      "- Scraping page 26...\n",
      "- Scraping page 27...\n",
      "- Scraping page 28...\n",
      "- Scraping page 29...\n",
      "- Scraping page 30...\n",
      "- Scraping page 31...\n",
      "- Scraping page 32...\n",
      "- Scraping page 33...\n",
      "- Scraping page 34...\n",
      "- Scraping page 35...\n",
      "- Scraping page 36...\n",
      "- Scraping page 37...\n",
      "- Scraping page 38...\n",
      "- Scraping page 39...\n",
      "- Scraping page 40...\n",
      "Scraping Intel Core i5-1145G7...\n",
      "- Scraping page 2...\n",
      "- Scraping page 3...\n",
      "- Scraping page 4...\n",
      "- Scraping page 5...\n",
      "- Scraping page 6...\n",
      "- Scraping page 7...\n",
      "- Scraping page 8...\n",
      "- Scraping page 9...\n",
      "- Scraping page 10...\n",
      "- Scraping page 11...\n",
      "- Scraping page 12...\n",
      "- Scraping page 13...\n",
      "- Scraping page 14...\n",
      "- Scraping page 15...\n",
      "- Scraping page 16...\n",
      "- Scraping page 17...\n",
      "- Scraping page 18...\n",
      "- Scraping page 19...\n",
      "- Scraping page 20...\n",
      "- Scraping page 21...\n",
      "- Scraping page 22...\n",
      "- Scraping page 23...\n",
      "- Scraping page 24...\n",
      "- Scraping page 25...\n",
      "- Scraping page 26...\n",
      "- Scraping page 27...\n",
      "- Scraping page 28...\n",
      "- Scraping page 29...\n",
      "- Scraping page 30...\n",
      "- Scraping page 31...\n",
      "- Scraping page 32...\n",
      "- Scraping page 33...\n",
      "- Scraping page 34...\n",
      "- Scraping page 35...\n",
      "- Scraping page 36...\n",
      "- Scraping page 37...\n",
      "- Scraping page 38...\n",
      "- Scraping page 39...\n",
      "- Scraping page 40...\n",
      "Scraping Intel Core i5-1245U...\n",
      "- Scraping page 2...\n",
      "- Scraping page 3...\n",
      "- Scraping page 4...\n",
      "- Scraping page 5...\n",
      "- Scraping page 6...\n",
      "- Scraping page 7...\n",
      "- Scraping page 8...\n",
      "- Scraping page 9...\n",
      "- Scraping page 10...\n",
      "- Scraping page 11...\n",
      "- Scraping page 12...\n",
      "- Scraping page 13...\n",
      "- Scraping page 14...\n",
      "- Scraping page 15...\n",
      "- Scraping page 16...\n",
      "- Scraping page 17...\n",
      "- Scraping page 18...\n",
      "- Scraping page 19...\n",
      "- Scraping page 20...\n",
      "- Scraping page 21...\n",
      "- Scraping page 22...\n",
      "- Scraping page 23...\n",
      "- Scraping page 24...\n",
      "- Scraping page 25...\n",
      "- Scraping page 26...\n",
      "- Scraping page 27...\n",
      "- Scraping page 28...\n",
      "- Scraping page 29...\n",
      "- Scraping page 30...\n",
      "- Scraping page 31...\n",
      "- Scraping page 32...\n",
      "- Scraping page 33...\n",
      "- Scraping page 34...\n",
      "- Scraping page 35...\n",
      "- Scraping page 36...\n",
      "- Scraping page 37...\n",
      "- Scraping page 38...\n",
      "- Scraping page 39...\n",
      "- Scraping page 40...\n",
      "Scraping Intel Core i5-1335U...\n",
      "- Scraping page 2...\n",
      "- Scraping page 3...\n",
      "- Scraping page 4...\n",
      "- Scraping page 5...\n",
      "- Scraping page 6...\n",
      "- Scraping page 7...\n",
      "- Scraping page 8...\n",
      "- Scraping page 9...\n",
      "- Scraping page 10...\n",
      "- Scraping page 11...\n",
      "- Scraping page 12...\n",
      "- Scraping page 13...\n",
      "- Scraping page 14...\n",
      "- Scraping page 15...\n",
      "- Scraping page 16...\n",
      "- Scraping page 17...\n",
      "- Scraping page 18...\n",
      "- Scraping page 19...\n",
      "- Scraping page 20...\n",
      "- Scraping page 21...\n",
      "- Scraping page 22...\n",
      "- Scraping page 23...\n",
      "- Scraping page 24...\n",
      "- Scraping page 25...\n",
      "- Scraping page 26...\n",
      "- Scraping page 27...\n",
      "- Scraping page 28...\n",
      "- Scraping page 29...\n",
      "- Scraping page 30...\n",
      "- Scraping page 31...\n",
      "- Scraping page 32...\n",
      "- Scraping page 33...\n",
      "- Scraping page 34...\n",
      "- Scraping page 35...\n",
      "- Scraping page 36...\n",
      "- Scraping page 37...\n",
      "- Scraping page 38...\n",
      "- Scraping page 39...\n",
      "- Scraping page 40...\n",
      "Scraping AMD Ryzen 7 PRO 2700U...\n",
      "- Scraping page 2...\n",
      "- Scraping page 3...\n",
      "- Scraping page 4...\n",
      "- Scraping page 5...\n",
      "- Scraping page 6...\n",
      "- Scraping page 7...\n",
      "- Scraping page 8...\n",
      "- Scraping page 9...\n",
      "- Scraping page 10...\n",
      "- Scraping page 11...\n"
     ]
    },
    {
     "name": "stderr",
     "output_type": "stream",
     "text": [
      "/tmp/ipykernel_23568/4058616572.py:23: FutureWarning: The behavior of DataFrame concatenation with empty or all-NA entries is deprecated. In a future version, this will no longer exclude empty or all-NA columns when determining the result dtypes. To retain the old behavior, exclude the relevant entries before the concat operation.\n",
      "  df_cpu = pd.concat((df_cpu, df_page), ignore_index=True)\n"
     ]
    },
    {
     "name": "stdout",
     "output_type": "stream",
     "text": [
      "- Scraping page 12...\n"
     ]
    },
    {
     "name": "stderr",
     "output_type": "stream",
     "text": [
      "/tmp/ipykernel_23568/4058616572.py:23: FutureWarning: The behavior of DataFrame concatenation with empty or all-NA entries is deprecated. In a future version, this will no longer exclude empty or all-NA columns when determining the result dtypes. To retain the old behavior, exclude the relevant entries before the concat operation.\n",
      "  df_cpu = pd.concat((df_cpu, df_page), ignore_index=True)\n"
     ]
    },
    {
     "name": "stdout",
     "output_type": "stream",
     "text": [
      "- Scraping page 13...\n"
     ]
    },
    {
     "name": "stderr",
     "output_type": "stream",
     "text": [
      "/tmp/ipykernel_23568/4058616572.py:23: FutureWarning: The behavior of DataFrame concatenation with empty or all-NA entries is deprecated. In a future version, this will no longer exclude empty or all-NA columns when determining the result dtypes. To retain the old behavior, exclude the relevant entries before the concat operation.\n",
      "  df_cpu = pd.concat((df_cpu, df_page), ignore_index=True)\n"
     ]
    },
    {
     "name": "stdout",
     "output_type": "stream",
     "text": [
      "- Scraping page 14...\n"
     ]
    },
    {
     "name": "stderr",
     "output_type": "stream",
     "text": [
      "/tmp/ipykernel_23568/4058616572.py:23: FutureWarning: The behavior of DataFrame concatenation with empty or all-NA entries is deprecated. In a future version, this will no longer exclude empty or all-NA columns when determining the result dtypes. To retain the old behavior, exclude the relevant entries before the concat operation.\n",
      "  df_cpu = pd.concat((df_cpu, df_page), ignore_index=True)\n"
     ]
    },
    {
     "name": "stdout",
     "output_type": "stream",
     "text": [
      "- Scraping page 15...\n"
     ]
    },
    {
     "name": "stderr",
     "output_type": "stream",
     "text": [
      "/tmp/ipykernel_23568/4058616572.py:23: FutureWarning: The behavior of DataFrame concatenation with empty or all-NA entries is deprecated. In a future version, this will no longer exclude empty or all-NA columns when determining the result dtypes. To retain the old behavior, exclude the relevant entries before the concat operation.\n",
      "  df_cpu = pd.concat((df_cpu, df_page), ignore_index=True)\n"
     ]
    },
    {
     "name": "stdout",
     "output_type": "stream",
     "text": [
      "- Scraping page 16...\n"
     ]
    },
    {
     "name": "stderr",
     "output_type": "stream",
     "text": [
      "/tmp/ipykernel_23568/4058616572.py:23: FutureWarning: The behavior of DataFrame concatenation with empty or all-NA entries is deprecated. In a future version, this will no longer exclude empty or all-NA columns when determining the result dtypes. To retain the old behavior, exclude the relevant entries before the concat operation.\n",
      "  df_cpu = pd.concat((df_cpu, df_page), ignore_index=True)\n"
     ]
    },
    {
     "name": "stdout",
     "output_type": "stream",
     "text": [
      "- Scraping page 17...\n"
     ]
    },
    {
     "name": "stderr",
     "output_type": "stream",
     "text": [
      "/tmp/ipykernel_23568/4058616572.py:23: FutureWarning: The behavior of DataFrame concatenation with empty or all-NA entries is deprecated. In a future version, this will no longer exclude empty or all-NA columns when determining the result dtypes. To retain the old behavior, exclude the relevant entries before the concat operation.\n",
      "  df_cpu = pd.concat((df_cpu, df_page), ignore_index=True)\n"
     ]
    },
    {
     "name": "stdout",
     "output_type": "stream",
     "text": [
      "- Scraping page 18...\n"
     ]
    },
    {
     "name": "stderr",
     "output_type": "stream",
     "text": [
      "/tmp/ipykernel_23568/4058616572.py:23: FutureWarning: The behavior of DataFrame concatenation with empty or all-NA entries is deprecated. In a future version, this will no longer exclude empty or all-NA columns when determining the result dtypes. To retain the old behavior, exclude the relevant entries before the concat operation.\n",
      "  df_cpu = pd.concat((df_cpu, df_page), ignore_index=True)\n"
     ]
    },
    {
     "name": "stdout",
     "output_type": "stream",
     "text": [
      "- Scraping page 19...\n"
     ]
    },
    {
     "name": "stderr",
     "output_type": "stream",
     "text": [
      "/tmp/ipykernel_23568/4058616572.py:23: FutureWarning: The behavior of DataFrame concatenation with empty or all-NA entries is deprecated. In a future version, this will no longer exclude empty or all-NA columns when determining the result dtypes. To retain the old behavior, exclude the relevant entries before the concat operation.\n",
      "  df_cpu = pd.concat((df_cpu, df_page), ignore_index=True)\n"
     ]
    },
    {
     "name": "stdout",
     "output_type": "stream",
     "text": [
      "- Scraping page 20...\n"
     ]
    },
    {
     "name": "stderr",
     "output_type": "stream",
     "text": [
      "/tmp/ipykernel_23568/4058616572.py:23: FutureWarning: The behavior of DataFrame concatenation with empty or all-NA entries is deprecated. In a future version, this will no longer exclude empty or all-NA columns when determining the result dtypes. To retain the old behavior, exclude the relevant entries before the concat operation.\n",
      "  df_cpu = pd.concat((df_cpu, df_page), ignore_index=True)\n"
     ]
    },
    {
     "name": "stdout",
     "output_type": "stream",
     "text": [
      "- Scraping page 21...\n"
     ]
    },
    {
     "name": "stderr",
     "output_type": "stream",
     "text": [
      "/tmp/ipykernel_23568/4058616572.py:23: FutureWarning: The behavior of DataFrame concatenation with empty or all-NA entries is deprecated. In a future version, this will no longer exclude empty or all-NA columns when determining the result dtypes. To retain the old behavior, exclude the relevant entries before the concat operation.\n",
      "  df_cpu = pd.concat((df_cpu, df_page), ignore_index=True)\n"
     ]
    },
    {
     "name": "stdout",
     "output_type": "stream",
     "text": [
      "- Scraping page 22...\n"
     ]
    },
    {
     "name": "stderr",
     "output_type": "stream",
     "text": [
      "/tmp/ipykernel_23568/4058616572.py:23: FutureWarning: The behavior of DataFrame concatenation with empty or all-NA entries is deprecated. In a future version, this will no longer exclude empty or all-NA columns when determining the result dtypes. To retain the old behavior, exclude the relevant entries before the concat operation.\n",
      "  df_cpu = pd.concat((df_cpu, df_page), ignore_index=True)\n"
     ]
    },
    {
     "name": "stdout",
     "output_type": "stream",
     "text": [
      "- Scraping page 23...\n"
     ]
    },
    {
     "name": "stderr",
     "output_type": "stream",
     "text": [
      "/tmp/ipykernel_23568/4058616572.py:23: FutureWarning: The behavior of DataFrame concatenation with empty or all-NA entries is deprecated. In a future version, this will no longer exclude empty or all-NA columns when determining the result dtypes. To retain the old behavior, exclude the relevant entries before the concat operation.\n",
      "  df_cpu = pd.concat((df_cpu, df_page), ignore_index=True)\n"
     ]
    },
    {
     "name": "stdout",
     "output_type": "stream",
     "text": [
      "- Scraping page 24...\n"
     ]
    },
    {
     "name": "stderr",
     "output_type": "stream",
     "text": [
      "/tmp/ipykernel_23568/4058616572.py:23: FutureWarning: The behavior of DataFrame concatenation with empty or all-NA entries is deprecated. In a future version, this will no longer exclude empty or all-NA columns when determining the result dtypes. To retain the old behavior, exclude the relevant entries before the concat operation.\n",
      "  df_cpu = pd.concat((df_cpu, df_page), ignore_index=True)\n"
     ]
    },
    {
     "name": "stdout",
     "output_type": "stream",
     "text": [
      "- Scraping page 25...\n"
     ]
    },
    {
     "name": "stderr",
     "output_type": "stream",
     "text": [
      "/tmp/ipykernel_23568/4058616572.py:23: FutureWarning: The behavior of DataFrame concatenation with empty or all-NA entries is deprecated. In a future version, this will no longer exclude empty or all-NA columns when determining the result dtypes. To retain the old behavior, exclude the relevant entries before the concat operation.\n",
      "  df_cpu = pd.concat((df_cpu, df_page), ignore_index=True)\n"
     ]
    },
    {
     "name": "stdout",
     "output_type": "stream",
     "text": [
      "- Scraping page 26...\n"
     ]
    },
    {
     "name": "stderr",
     "output_type": "stream",
     "text": [
      "/tmp/ipykernel_23568/4058616572.py:23: FutureWarning: The behavior of DataFrame concatenation with empty or all-NA entries is deprecated. In a future version, this will no longer exclude empty or all-NA columns when determining the result dtypes. To retain the old behavior, exclude the relevant entries before the concat operation.\n",
      "  df_cpu = pd.concat((df_cpu, df_page), ignore_index=True)\n"
     ]
    },
    {
     "name": "stdout",
     "output_type": "stream",
     "text": [
      "- Scraping page 27...\n"
     ]
    },
    {
     "name": "stderr",
     "output_type": "stream",
     "text": [
      "/tmp/ipykernel_23568/4058616572.py:23: FutureWarning: The behavior of DataFrame concatenation with empty or all-NA entries is deprecated. In a future version, this will no longer exclude empty or all-NA columns when determining the result dtypes. To retain the old behavior, exclude the relevant entries before the concat operation.\n",
      "  df_cpu = pd.concat((df_cpu, df_page), ignore_index=True)\n"
     ]
    },
    {
     "name": "stdout",
     "output_type": "stream",
     "text": [
      "- Scraping page 28...\n"
     ]
    },
    {
     "name": "stderr",
     "output_type": "stream",
     "text": [
      "/tmp/ipykernel_23568/4058616572.py:23: FutureWarning: The behavior of DataFrame concatenation with empty or all-NA entries is deprecated. In a future version, this will no longer exclude empty or all-NA columns when determining the result dtypes. To retain the old behavior, exclude the relevant entries before the concat operation.\n",
      "  df_cpu = pd.concat((df_cpu, df_page), ignore_index=True)\n"
     ]
    },
    {
     "name": "stdout",
     "output_type": "stream",
     "text": [
      "- Scraping page 29...\n"
     ]
    },
    {
     "name": "stderr",
     "output_type": "stream",
     "text": [
      "/tmp/ipykernel_23568/4058616572.py:23: FutureWarning: The behavior of DataFrame concatenation with empty or all-NA entries is deprecated. In a future version, this will no longer exclude empty or all-NA columns when determining the result dtypes. To retain the old behavior, exclude the relevant entries before the concat operation.\n",
      "  df_cpu = pd.concat((df_cpu, df_page), ignore_index=True)\n"
     ]
    },
    {
     "name": "stdout",
     "output_type": "stream",
     "text": [
      "- Scraping page 30...\n"
     ]
    },
    {
     "name": "stderr",
     "output_type": "stream",
     "text": [
      "/tmp/ipykernel_23568/4058616572.py:23: FutureWarning: The behavior of DataFrame concatenation with empty or all-NA entries is deprecated. In a future version, this will no longer exclude empty or all-NA columns when determining the result dtypes. To retain the old behavior, exclude the relevant entries before the concat operation.\n",
      "  df_cpu = pd.concat((df_cpu, df_page), ignore_index=True)\n"
     ]
    },
    {
     "name": "stdout",
     "output_type": "stream",
     "text": [
      "- Scraping page 31...\n"
     ]
    },
    {
     "name": "stderr",
     "output_type": "stream",
     "text": [
      "/tmp/ipykernel_23568/4058616572.py:23: FutureWarning: The behavior of DataFrame concatenation with empty or all-NA entries is deprecated. In a future version, this will no longer exclude empty or all-NA columns when determining the result dtypes. To retain the old behavior, exclude the relevant entries before the concat operation.\n",
      "  df_cpu = pd.concat((df_cpu, df_page), ignore_index=True)\n"
     ]
    },
    {
     "name": "stdout",
     "output_type": "stream",
     "text": [
      "- Scraping page 32...\n"
     ]
    },
    {
     "name": "stderr",
     "output_type": "stream",
     "text": [
      "/tmp/ipykernel_23568/4058616572.py:23: FutureWarning: The behavior of DataFrame concatenation with empty or all-NA entries is deprecated. In a future version, this will no longer exclude empty or all-NA columns when determining the result dtypes. To retain the old behavior, exclude the relevant entries before the concat operation.\n",
      "  df_cpu = pd.concat((df_cpu, df_page), ignore_index=True)\n"
     ]
    },
    {
     "name": "stdout",
     "output_type": "stream",
     "text": [
      "- Scraping page 33...\n"
     ]
    },
    {
     "name": "stderr",
     "output_type": "stream",
     "text": [
      "/tmp/ipykernel_23568/4058616572.py:23: FutureWarning: The behavior of DataFrame concatenation with empty or all-NA entries is deprecated. In a future version, this will no longer exclude empty or all-NA columns when determining the result dtypes. To retain the old behavior, exclude the relevant entries before the concat operation.\n",
      "  df_cpu = pd.concat((df_cpu, df_page), ignore_index=True)\n"
     ]
    },
    {
     "name": "stdout",
     "output_type": "stream",
     "text": [
      "- Scraping page 34...\n"
     ]
    },
    {
     "name": "stderr",
     "output_type": "stream",
     "text": [
      "/tmp/ipykernel_23568/4058616572.py:23: FutureWarning: The behavior of DataFrame concatenation with empty or all-NA entries is deprecated. In a future version, this will no longer exclude empty or all-NA columns when determining the result dtypes. To retain the old behavior, exclude the relevant entries before the concat operation.\n",
      "  df_cpu = pd.concat((df_cpu, df_page), ignore_index=True)\n"
     ]
    },
    {
     "name": "stdout",
     "output_type": "stream",
     "text": [
      "- Scraping page 35...\n"
     ]
    },
    {
     "name": "stderr",
     "output_type": "stream",
     "text": [
      "/tmp/ipykernel_23568/4058616572.py:23: FutureWarning: The behavior of DataFrame concatenation with empty or all-NA entries is deprecated. In a future version, this will no longer exclude empty or all-NA columns when determining the result dtypes. To retain the old behavior, exclude the relevant entries before the concat operation.\n",
      "  df_cpu = pd.concat((df_cpu, df_page), ignore_index=True)\n"
     ]
    },
    {
     "name": "stdout",
     "output_type": "stream",
     "text": [
      "- Scraping page 36...\n"
     ]
    },
    {
     "name": "stderr",
     "output_type": "stream",
     "text": [
      "/tmp/ipykernel_23568/4058616572.py:23: FutureWarning: The behavior of DataFrame concatenation with empty or all-NA entries is deprecated. In a future version, this will no longer exclude empty or all-NA columns when determining the result dtypes. To retain the old behavior, exclude the relevant entries before the concat operation.\n",
      "  df_cpu = pd.concat((df_cpu, df_page), ignore_index=True)\n"
     ]
    },
    {
     "name": "stdout",
     "output_type": "stream",
     "text": [
      "- Scraping page 37...\n"
     ]
    },
    {
     "name": "stderr",
     "output_type": "stream",
     "text": [
      "/tmp/ipykernel_23568/4058616572.py:23: FutureWarning: The behavior of DataFrame concatenation with empty or all-NA entries is deprecated. In a future version, this will no longer exclude empty or all-NA columns when determining the result dtypes. To retain the old behavior, exclude the relevant entries before the concat operation.\n",
      "  df_cpu = pd.concat((df_cpu, df_page), ignore_index=True)\n"
     ]
    },
    {
     "name": "stdout",
     "output_type": "stream",
     "text": [
      "- Scraping page 38...\n"
     ]
    },
    {
     "name": "stderr",
     "output_type": "stream",
     "text": [
      "/tmp/ipykernel_23568/4058616572.py:23: FutureWarning: The behavior of DataFrame concatenation with empty or all-NA entries is deprecated. In a future version, this will no longer exclude empty or all-NA columns when determining the result dtypes. To retain the old behavior, exclude the relevant entries before the concat operation.\n",
      "  df_cpu = pd.concat((df_cpu, df_page), ignore_index=True)\n"
     ]
    },
    {
     "name": "stdout",
     "output_type": "stream",
     "text": [
      "- Scraping page 39...\n"
     ]
    },
    {
     "name": "stderr",
     "output_type": "stream",
     "text": [
      "/tmp/ipykernel_23568/4058616572.py:23: FutureWarning: The behavior of DataFrame concatenation with empty or all-NA entries is deprecated. In a future version, this will no longer exclude empty or all-NA columns when determining the result dtypes. To retain the old behavior, exclude the relevant entries before the concat operation.\n",
      "  df_cpu = pd.concat((df_cpu, df_page), ignore_index=True)\n"
     ]
    },
    {
     "name": "stdout",
     "output_type": "stream",
     "text": [
      "- Scraping page 40...\n"
     ]
    },
    {
     "name": "stderr",
     "output_type": "stream",
     "text": [
      "/tmp/ipykernel_23568/4058616572.py:23: FutureWarning: The behavior of DataFrame concatenation with empty or all-NA entries is deprecated. In a future version, this will no longer exclude empty or all-NA columns when determining the result dtypes. To retain the old behavior, exclude the relevant entries before the concat operation.\n",
      "  df_cpu = pd.concat((df_cpu, df_page), ignore_index=True)\n"
     ]
    },
    {
     "name": "stdout",
     "output_type": "stream",
     "text": [
      "Scraping AMD Ryzen 5 PRO 3500U...\n",
      "- Scraping page 2...\n",
      "- Scraping page 3...\n",
      "- Scraping page 4...\n",
      "- Scraping page 5...\n",
      "- Scraping page 6...\n",
      "- Scraping page 7...\n",
      "- Scraping page 8...\n",
      "- Scraping page 9...\n",
      "- Scraping page 10...\n",
      "- Scraping page 11...\n",
      "- Scraping page 12...\n",
      "- Scraping page 13...\n",
      "- Scraping page 14...\n",
      "- Scraping page 15...\n",
      "- Scraping page 16...\n",
      "- Scraping page 17...\n",
      "- Scraping page 18...\n",
      "- Scraping page 19...\n",
      "- Scraping page 20...\n",
      "- Scraping page 21...\n",
      "- Scraping page 22...\n",
      "- Scraping page 23...\n",
      "- Scraping page 24...\n",
      "- Scraping page 25...\n",
      "- Scraping page 26...\n",
      "- Scraping page 27...\n",
      "- Scraping page 28...\n",
      "- Scraping page 29...\n",
      "- Scraping page 30...\n",
      "- Scraping page 31...\n",
      "- Scraping page 32...\n",
      "- Scraping page 33...\n",
      "- Scraping page 34...\n",
      "- Scraping page 35...\n",
      "- Scraping page 36...\n",
      "- Scraping page 37...\n",
      "- Scraping page 38...\n",
      "- Scraping page 39...\n",
      "- Scraping page 40...\n",
      "Scraping AMD Ryzen 5 PRO 4650U...\n",
      "- Scraping page 2...\n",
      "- Scraping page 3...\n",
      "- Scraping page 4...\n",
      "- Scraping page 5...\n",
      "- Scraping page 6...\n",
      "- Scraping page 7...\n",
      "- Scraping page 8...\n",
      "- Scraping page 9...\n",
      "- Scraping page 10...\n",
      "- Scraping page 11...\n",
      "- Scraping page 12...\n",
      "- Scraping page 13...\n",
      "- Scraping page 14...\n",
      "- Scraping page 15...\n",
      "- Scraping page 16...\n",
      "- Scraping page 17...\n",
      "- Scraping page 18...\n",
      "- Scraping page 19...\n",
      "- Scraping page 20...\n",
      "- Scraping page 21...\n",
      "- Scraping page 22...\n",
      "- Scraping page 23...\n",
      "- Scraping page 24...\n",
      "- Scraping page 25...\n",
      "- Scraping page 26...\n",
      "- Scraping page 27...\n",
      "- Scraping page 28...\n",
      "- Scraping page 29...\n",
      "- Scraping page 30...\n",
      "- Scraping page 31...\n",
      "- Scraping page 32...\n",
      "- Scraping page 33...\n",
      "- Scraping page 34...\n",
      "- Scraping page 35...\n",
      "- Scraping page 36...\n",
      "- Scraping page 37...\n",
      "- Scraping page 38...\n",
      "- Scraping page 39...\n",
      "- Scraping page 40...\n"
     ]
    }
   ],
   "source": [
    "n_pages = 40\n",
    "timeout = 2 # s\n",
    "\n",
    "#df_all = []\n",
    "for cpu in cpu_list:\n",
    "    print(f'Scraping {cpu}...')\n",
    "    try:\n",
    "        gb_html = retrieve_geekbench(cpu, page=1)\n",
    "        df_cpu = parse_geekbench_df(gb_html)\n",
    "    except:\n",
    "        print(f'Error at first page with {cpu}')\n",
    "        continue\n",
    "    \n",
    "    for page in range(2, n_pages+1):\n",
    "        time.sleep(timeout)\n",
    "        print(f'- Scraping page {page}...')\n",
    "        try:\n",
    "            gb_html = retrieve_geekbench(cpu, page)\n",
    "            df_page = parse_geekbench_df(gb_html)\n",
    "        except:\n",
    "            print(f'Error at page {page} with {cpu}')\n",
    "            break\n",
    "        if len(df_page) == 0: ## UNTESTED SECTION\n",
    "            print(f'Empty results returned at page {page} with {cpu}')\n",
    "            break\n",
    "        else:\n",
    "            df_cpu = pd.concat((df_cpu, df_page), ignore_index=True)\n",
    "    # end for each page\n",
    "    \n",
    "    # Save as CPU CSV\n",
    "    fname = f'Geekbench 6/{cpu}.csv'\n",
    "    df_cpu.to_csv(fname, index=False)\n",
    "    #df_all.append(df_cpu)\n",
    "# end for each cpu"
   ]
  },
  {
   "cell_type": "markdown",
   "id": "33b88a5b-b198-432b-b391-097f5821885e",
   "metadata": {},
   "source": [
    "## Load all CPU tables and compute perf stats"
   ]
  },
  {
   "cell_type": "code",
   "execution_count": 101,
   "id": "1a998ac9-3f51-483a-b990-d46506623f78",
   "metadata": {},
   "outputs": [
    {
     "data": {
      "text/plain": [
       "['Geekbench 6/AMD Ryzen 5 PRO 3500U.csv',\n",
       " 'Geekbench 6/AMD Ryzen 5 PRO 4650U.csv',\n",
       " 'Geekbench 6/AMD Ryzen 7 PRO 2700U.csv',\n",
       " 'Geekbench 6/Intel Core i5-10210U.csv',\n",
       " 'Geekbench 6/Intel Core i5-10310U.csv',\n",
       " 'Geekbench 6/Intel Core i5-1135G7.csv',\n",
       " 'Geekbench 6/Intel Core i5-1145G7.csv',\n",
       " 'Geekbench 6/Intel Core i5-1245U.csv',\n",
       " 'Geekbench 6/Intel Core i5-1335U.csv',\n",
       " 'Geekbench 6/Intel Core i5-6200U.csv',\n",
       " 'Geekbench 6/Intel Core i5-6300U.csv',\n",
       " 'Geekbench 6/Intel Core i5-7300U.csv',\n",
       " 'Geekbench 6/Intel Core i5-8250U.csv',\n",
       " 'Geekbench 6/Intel Core i5-8350U.csv',\n",
       " 'Geekbench 6/Intel Core i5-8365U.csv',\n",
       " 'Geekbench 6/Intel Core i5-9400H.csv']"
      ]
     },
     "execution_count": 101,
     "metadata": {},
     "output_type": "execute_result"
    }
   ],
   "source": [
    "cpu_csv_list = sorted(glob.glob('Geekbench 6/*.csv'))\n",
    "cpu_csv_list"
   ]
  },
  {
   "cell_type": "code",
   "execution_count": 128,
   "id": "30fcd518-e150-4f02-aae6-c59ae68a4245",
   "metadata": {},
   "outputs": [
    {
     "name": "stdout",
     "output_type": "stream",
     "text": [
      "loading CSV for AMD Ryzen 5 PRO 3500U...\n",
      "- core count: 6 with ≠4 cores\n",
      "  removing 5 with low core number\n",
      "loading CSV for AMD Ryzen 5 PRO 4650U...\n",
      "- core count: 8 with ≠6 cores\n",
      "  removing 7 with low core number\n",
      "loading CSV for AMD Ryzen 7 PRO 2700U...\n",
      "- core count: 1 with ≠4 cores\n",
      "  removing 0 with low core number\n",
      "loading CSV for Intel Core i5-10210U...\n",
      "- core count: 22 with ≠4 cores\n",
      "  removing 6 with low core number\n",
      "loading CSV for Intel Core i5-10310U...\n",
      "- core count: 19 with ≠4 cores\n",
      "  removing 2 with low core number\n",
      "loading CSV for Intel Core i5-1135G7...\n",
      "- core count: 15 with ≠4 cores\n",
      "  removing 5 with low core number\n",
      "loading CSV for Intel Core i5-1145G7...\n",
      "- core count: 15 with ≠4 cores\n",
      "  removing 10 with low core number\n",
      "loading CSV for Intel Core i5-1245U...\n",
      "- core count: 88 with ≠10 cores\n",
      "  removing 17 with low core number\n",
      "loading CSV for Intel Core i5-1335U...\n",
      "- core count: 15 with ≠10 cores\n",
      "  removing 11 with low core number\n",
      "loading CSV for Intel Core i5-6200U...\n",
      "- core count: 5 with ≠2 cores\n",
      "  removing 3 with low core number\n",
      "loading CSV for Intel Core i5-6300U...\n",
      "- core count: 4 with ≠2 cores\n",
      "  removing 1 with low core number\n",
      "loading CSV for Intel Core i5-7300U...\n",
      "- core count: 14 with ≠2 cores\n",
      "  removing 4 with low core number\n",
      "loading CSV for Intel Core i5-8250U...\n",
      "- core count: 23 with ≠4 cores\n",
      "  removing 6 with low core number\n",
      "loading CSV for Intel Core i5-8350U...\n",
      "- core count: 22 with ≠4 cores\n",
      "  removing 20 with low core number\n",
      "loading CSV for Intel Core i5-8365U...\n",
      "- core count: 6 with ≠4 cores\n",
      "  removing 4 with low core number\n",
      "loading CSV for Intel Core i5-9400H...\n",
      "- core count: 4 with ≠4 cores\n",
      "  removing 2 with low core number\n"
     ]
    }
   ],
   "source": [
    "df_all = []\n",
    "for cpu_csv in cpu_csv_list:\n",
    "    cpu_name = cpu_csv.removeprefix('Geekbench 6/').removesuffix('.csv')\n",
    "    print(f'loading CSV for {cpu_name}...')\n",
    "    cpu_df = pd.read_csv(cpu_csv)\n",
    "    # filter out abnormally low number of cores\n",
    "    core_stats = cpu_df['CPU Cores'].value_counts()\n",
    "    nb_core_usual = core_stats.index[0]\n",
    "    nb_core_usual_freq = core_stats.iloc[0]\n",
    "    print(f'- core count: {len(cpu_df) - nb_core_usual_freq} with ≠{nb_core_usual} cores')\n",
    "    nb_core_low = cpu_df['CPU Cores']<nb_core_usual\n",
    "    print(f'  removing {sum(nb_core_low)} with low core number')\n",
    "    cpu_df = cpu_df[~nb_core_low]\n",
    "    cpu_df.rename(columns={'CPU Name': 'CPU Name Declared'}, inplace=True)\n",
    "    cpu_df['CPU Name'] = cpu_name\n",
    "    df_all.append(cpu_df)\n",
    "\n",
    "df_all = pd.concat(df_all, ignore_index=True)"
   ]
  },
  {
   "cell_type": "code",
   "execution_count": 129,
   "id": "f3ceaa46-69cd-46c5-82b3-c1f403f7a37c",
   "metadata": {},
   "outputs": [
    {
     "data": {
      "text/html": [
       "<div>\n",
       "<style scoped>\n",
       "    .dataframe tbody tr th:only-of-type {\n",
       "        vertical-align: middle;\n",
       "    }\n",
       "\n",
       "    .dataframe tbody tr th {\n",
       "        vertical-align: top;\n",
       "    }\n",
       "\n",
       "    .dataframe thead th {\n",
       "        text-align: right;\n",
       "    }\n",
       "</style>\n",
       "<table border=\"1\" class=\"dataframe\">\n",
       "  <thead>\n",
       "    <tr style=\"text-align: right;\">\n",
       "      <th></th>\n",
       "      <th>System</th>\n",
       "      <th>CPU Name Declared</th>\n",
       "      <th>CPU Freq</th>\n",
       "      <th>CPU Cores</th>\n",
       "      <th>Uploaded</th>\n",
       "      <th>Platform</th>\n",
       "      <th>Single-Core Score</th>\n",
       "      <th>Multi-Core Score</th>\n",
       "      <th>URL</th>\n",
       "      <th>CPU Name</th>\n",
       "    </tr>\n",
       "  </thead>\n",
       "  <tbody>\n",
       "    <tr>\n",
       "      <th>0</th>\n",
       "      <td>ASUSTeK COMPUTER INC. VivoBook_ASUSLaptop X512...</td>\n",
       "      <td>AMD Ryzen 5 3500U</td>\n",
       "      <td>2100</td>\n",
       "      <td>4</td>\n",
       "      <td>Feb 15, 2025</td>\n",
       "      <td>Windows</td>\n",
       "      <td>1045.0</td>\n",
       "      <td>2985.0</td>\n",
       "      <td>https://browser.geekbench.com/v6/cpu/10561447</td>\n",
       "      <td>AMD Ryzen 5 PRO 3500U</td>\n",
       "    </tr>\n",
       "    <tr>\n",
       "      <th>1</th>\n",
       "      <td>HP HP EliteBook 745 G6</td>\n",
       "      <td>AMD Ryzen 5 PRO 3500U</td>\n",
       "      <td>2100</td>\n",
       "      <td>4</td>\n",
       "      <td>Feb 15, 2025</td>\n",
       "      <td>Windows</td>\n",
       "      <td>927.0</td>\n",
       "      <td>2950.0</td>\n",
       "      <td>https://browser.geekbench.com/v6/cpu/10561057</td>\n",
       "      <td>AMD Ryzen 5 PRO 3500U</td>\n",
       "    </tr>\n",
       "    <tr>\n",
       "      <th>2</th>\n",
       "      <td>LENOVO 81W2</td>\n",
       "      <td>AMD Ryzen 5 3500U</td>\n",
       "      <td>2100</td>\n",
       "      <td>4</td>\n",
       "      <td>Feb 15, 2025</td>\n",
       "      <td>Windows</td>\n",
       "      <td>657.0</td>\n",
       "      <td>2009.0</td>\n",
       "      <td>https://browser.geekbench.com/v6/cpu/10560561</td>\n",
       "      <td>AMD Ryzen 5 PRO 3500U</td>\n",
       "    </tr>\n",
       "    <tr>\n",
       "      <th>3</th>\n",
       "      <td>LENOVO 20NJ0004US</td>\n",
       "      <td>AMD Ryzen 5 PRO 3500U</td>\n",
       "      <td>2100</td>\n",
       "      <td>4</td>\n",
       "      <td>Feb 14, 2025</td>\n",
       "      <td>Linux</td>\n",
       "      <td>1105.0</td>\n",
       "      <td>2820.0</td>\n",
       "      <td>https://browser.geekbench.com/v6/cpu/10542978</td>\n",
       "      <td>AMD Ryzen 5 PRO 3500U</td>\n",
       "    </tr>\n",
       "    <tr>\n",
       "      <th>4</th>\n",
       "      <td>HP HP ProBook 455R G6</td>\n",
       "      <td>AMD Ryzen 5 3500U</td>\n",
       "      <td>2100</td>\n",
       "      <td>4</td>\n",
       "      <td>Feb 14, 2025</td>\n",
       "      <td>Windows</td>\n",
       "      <td>558.0</td>\n",
       "      <td>1782.0</td>\n",
       "      <td>https://browser.geekbench.com/v6/cpu/10534597</td>\n",
       "      <td>AMD Ryzen 5 PRO 3500U</td>\n",
       "    </tr>\n",
       "    <tr>\n",
       "      <th>...</th>\n",
       "      <td>...</td>\n",
       "      <td>...</td>\n",
       "      <td>...</td>\n",
       "      <td>...</td>\n",
       "      <td>...</td>\n",
       "      <td>...</td>\n",
       "      <td>...</td>\n",
       "      <td>...</td>\n",
       "      <td>...</td>\n",
       "      <td>...</td>\n",
       "    </tr>\n",
       "    <tr>\n",
       "      <th>14497</th>\n",
       "      <td>Dell Inc. Latitude 5501</td>\n",
       "      <td>Intel Core i5-9400H</td>\n",
       "      <td>2496</td>\n",
       "      <td>4</td>\n",
       "      <td>Feb 28, 2023</td>\n",
       "      <td>Windows</td>\n",
       "      <td>1341.0</td>\n",
       "      <td>4225.0</td>\n",
       "      <td>https://browser.geekbench.com/v6/cpu/353671</td>\n",
       "      <td>Intel Core i5-9400H</td>\n",
       "    </tr>\n",
       "    <tr>\n",
       "      <th>14498</th>\n",
       "      <td>Dell Inc. Latitude 5401</td>\n",
       "      <td>Intel Core i5-9400H</td>\n",
       "      <td>4300</td>\n",
       "      <td>4</td>\n",
       "      <td>Feb 25, 2023</td>\n",
       "      <td>Linux</td>\n",
       "      <td>1402.0</td>\n",
       "      <td>3905.0</td>\n",
       "      <td>https://browser.geekbench.com/v6/cpu/307225</td>\n",
       "      <td>Intel Core i5-9400H</td>\n",
       "    </tr>\n",
       "    <tr>\n",
       "      <th>14499</th>\n",
       "      <td>Dell Inc. Latitude 5401</td>\n",
       "      <td>Intel Core i5-9400H</td>\n",
       "      <td>2496</td>\n",
       "      <td>4</td>\n",
       "      <td>Feb 22, 2023</td>\n",
       "      <td>Windows</td>\n",
       "      <td>1345.0</td>\n",
       "      <td>3773.0</td>\n",
       "      <td>https://browser.geekbench.com/v6/cpu/261250</td>\n",
       "      <td>Intel Core i5-9400H</td>\n",
       "    </tr>\n",
       "    <tr>\n",
       "      <th>14500</th>\n",
       "      <td>Dell Inc. Latitude 5401</td>\n",
       "      <td>Intel Core i5-9400H</td>\n",
       "      <td>2493</td>\n",
       "      <td>4</td>\n",
       "      <td>Feb 19, 2023</td>\n",
       "      <td>Windows</td>\n",
       "      <td>1390.0</td>\n",
       "      <td>3881.0</td>\n",
       "      <td>https://browser.geekbench.com/v6/cpu/203763</td>\n",
       "      <td>Intel Core i5-9400H</td>\n",
       "    </tr>\n",
       "    <tr>\n",
       "      <th>14501</th>\n",
       "      <td>Dell Inc. Precision 3541</td>\n",
       "      <td>Intel Core i5-9400H</td>\n",
       "      <td>4300</td>\n",
       "      <td>4</td>\n",
       "      <td>Feb 14, 2023</td>\n",
       "      <td>Linux</td>\n",
       "      <td>1508.0</td>\n",
       "      <td>4364.0</td>\n",
       "      <td>https://browser.geekbench.com/v6/cpu/17900</td>\n",
       "      <td>Intel Core i5-9400H</td>\n",
       "    </tr>\n",
       "  </tbody>\n",
       "</table>\n",
       "<p>14502 rows × 10 columns</p>\n",
       "</div>"
      ],
      "text/plain": [
       "                                                  System  \\\n",
       "0      ASUSTeK COMPUTER INC. VivoBook_ASUSLaptop X512...   \n",
       "1                                 HP HP EliteBook 745 G6   \n",
       "2                                            LENOVO 81W2   \n",
       "3                                      LENOVO 20NJ0004US   \n",
       "4                                  HP HP ProBook 455R G6   \n",
       "...                                                  ...   \n",
       "14497                            Dell Inc. Latitude 5501   \n",
       "14498                            Dell Inc. Latitude 5401   \n",
       "14499                            Dell Inc. Latitude 5401   \n",
       "14500                            Dell Inc. Latitude 5401   \n",
       "14501                           Dell Inc. Precision 3541   \n",
       "\n",
       "           CPU Name Declared  CPU Freq  CPU Cores      Uploaded Platform  \\\n",
       "0          AMD Ryzen 5 3500U      2100          4  Feb 15, 2025  Windows   \n",
       "1      AMD Ryzen 5 PRO 3500U      2100          4  Feb 15, 2025  Windows   \n",
       "2          AMD Ryzen 5 3500U      2100          4  Feb 15, 2025  Windows   \n",
       "3      AMD Ryzen 5 PRO 3500U      2100          4  Feb 14, 2025    Linux   \n",
       "4          AMD Ryzen 5 3500U      2100          4  Feb 14, 2025  Windows   \n",
       "...                      ...       ...        ...           ...      ...   \n",
       "14497    Intel Core i5-9400H      2496          4  Feb 28, 2023  Windows   \n",
       "14498    Intel Core i5-9400H      4300          4  Feb 25, 2023    Linux   \n",
       "14499    Intel Core i5-9400H      2496          4  Feb 22, 2023  Windows   \n",
       "14500    Intel Core i5-9400H      2493          4  Feb 19, 2023  Windows   \n",
       "14501    Intel Core i5-9400H      4300          4  Feb 14, 2023    Linux   \n",
       "\n",
       "       Single-Core Score  Multi-Core Score  \\\n",
       "0                 1045.0            2985.0   \n",
       "1                  927.0            2950.0   \n",
       "2                  657.0            2009.0   \n",
       "3                 1105.0            2820.0   \n",
       "4                  558.0            1782.0   \n",
       "...                  ...               ...   \n",
       "14497             1341.0            4225.0   \n",
       "14498             1402.0            3905.0   \n",
       "14499             1345.0            3773.0   \n",
       "14500             1390.0            3881.0   \n",
       "14501             1508.0            4364.0   \n",
       "\n",
       "                                                 URL               CPU Name  \n",
       "0      https://browser.geekbench.com/v6/cpu/10561447  AMD Ryzen 5 PRO 3500U  \n",
       "1      https://browser.geekbench.com/v6/cpu/10561057  AMD Ryzen 5 PRO 3500U  \n",
       "2      https://browser.geekbench.com/v6/cpu/10560561  AMD Ryzen 5 PRO 3500U  \n",
       "3      https://browser.geekbench.com/v6/cpu/10542978  AMD Ryzen 5 PRO 3500U  \n",
       "4      https://browser.geekbench.com/v6/cpu/10534597  AMD Ryzen 5 PRO 3500U  \n",
       "...                                              ...                    ...  \n",
       "14497    https://browser.geekbench.com/v6/cpu/353671    Intel Core i5-9400H  \n",
       "14498    https://browser.geekbench.com/v6/cpu/307225    Intel Core i5-9400H  \n",
       "14499    https://browser.geekbench.com/v6/cpu/261250    Intel Core i5-9400H  \n",
       "14500    https://browser.geekbench.com/v6/cpu/203763    Intel Core i5-9400H  \n",
       "14501     https://browser.geekbench.com/v6/cpu/17900    Intel Core i5-9400H  \n",
       "\n",
       "[14502 rows x 10 columns]"
      ]
     },
     "execution_count": 129,
     "metadata": {},
     "output_type": "execute_result"
    }
   ],
   "source": [
    "df_all"
   ]
  },
  {
   "cell_type": "markdown",
   "id": "b8e537d3-3763-4bc1-906d-3a411a8acf4e",
   "metadata": {},
   "source": [
    "### Aggregate by CPU"
   ]
  },
  {
   "cell_type": "code",
   "execution_count": 82,
   "id": "ef26c170-aa0d-436a-97f3-8534d0ca3ccd",
   "metadata": {},
   "outputs": [],
   "source": [
    "def quantile_fun(q):\n",
    "    return lambda x: np.quantile(x, q)"
   ]
  },
  {
   "cell_type": "code",
   "execution_count": 142,
   "id": "c9a9c31c-d6fe-45b9-8bad-d03b24eaaaff",
   "metadata": {},
   "outputs": [
    {
     "data": {
      "text/html": [
       "<div>\n",
       "<style scoped>\n",
       "    .dataframe tbody tr th:only-of-type {\n",
       "        vertical-align: middle;\n",
       "    }\n",
       "\n",
       "    .dataframe tbody tr th {\n",
       "        vertical-align: top;\n",
       "    }\n",
       "\n",
       "    .dataframe thead th {\n",
       "        text-align: right;\n",
       "    }\n",
       "</style>\n",
       "<table border=\"1\" class=\"dataframe\">\n",
       "  <thead>\n",
       "    <tr style=\"text-align: right;\">\n",
       "      <th></th>\n",
       "      <th>Multi mean</th>\n",
       "      <th>Multi q05</th>\n",
       "      <th>Multi q10</th>\n",
       "      <th>Multi q50</th>\n",
       "      <th>Multi q90</th>\n",
       "      <th>Multi q95</th>\n",
       "    </tr>\n",
       "    <tr>\n",
       "      <th>CPU Name</th>\n",
       "      <th></th>\n",
       "      <th></th>\n",
       "      <th></th>\n",
       "      <th></th>\n",
       "      <th></th>\n",
       "      <th></th>\n",
       "    </tr>\n",
       "  </thead>\n",
       "  <tbody>\n",
       "    <tr>\n",
       "      <th>Intel Core i5-6200U</th>\n",
       "      <td>1695.8</td>\n",
       "      <td>781.4</td>\n",
       "      <td>1067.0</td>\n",
       "      <td>1832.0</td>\n",
       "      <td>2029.4</td>\n",
       "      <td>2063.4</td>\n",
       "    </tr>\n",
       "    <tr>\n",
       "      <th>Intel Core i5-6300U</th>\n",
       "      <td>1783.7</td>\n",
       "      <td>791.7</td>\n",
       "      <td>1157.6</td>\n",
       "      <td>1910.0</td>\n",
       "      <td>2180.4</td>\n",
       "      <td>2226.2</td>\n",
       "    </tr>\n",
       "    <tr>\n",
       "      <th>Intel Core i5-7300U</th>\n",
       "      <td>1908.0</td>\n",
       "      <td>853.8</td>\n",
       "      <td>1236.0</td>\n",
       "      <td>2029.5</td>\n",
       "      <td>2400.5</td>\n",
       "      <td>2465.2</td>\n",
       "    </tr>\n",
       "    <tr>\n",
       "      <th>AMD Ryzen 7 PRO 2700U</th>\n",
       "      <td>2447.9</td>\n",
       "      <td>1545.5</td>\n",
       "      <td>1798.0</td>\n",
       "      <td>2545.0</td>\n",
       "      <td>3140.5</td>\n",
       "      <td>3258.0</td>\n",
       "    </tr>\n",
       "    <tr>\n",
       "      <th>AMD Ryzen 5 PRO 3500U</th>\n",
       "      <td>2500.3</td>\n",
       "      <td>1475.5</td>\n",
       "      <td>1794.6</td>\n",
       "      <td>2620.0</td>\n",
       "      <td>3123.0</td>\n",
       "      <td>3224.0</td>\n",
       "    </tr>\n",
       "    <tr>\n",
       "      <th>Intel Core i5-10210U</th>\n",
       "      <td>2942.6</td>\n",
       "      <td>795.7</td>\n",
       "      <td>1465.9</td>\n",
       "      <td>3087.5</td>\n",
       "      <td>4037.0</td>\n",
       "      <td>4259.4</td>\n",
       "    </tr>\n",
       "    <tr>\n",
       "      <th>Intel Core i5-8250U</th>\n",
       "      <td>2991.0</td>\n",
       "      <td>1519.3</td>\n",
       "      <td>2002.8</td>\n",
       "      <td>3126.0</td>\n",
       "      <td>3849.1</td>\n",
       "      <td>3990.4</td>\n",
       "    </tr>\n",
       "    <tr>\n",
       "      <th>Intel Core i5-8365U</th>\n",
       "      <td>3055.0</td>\n",
       "      <td>1296.2</td>\n",
       "      <td>1858.0</td>\n",
       "      <td>3166.5</td>\n",
       "      <td>4141.5</td>\n",
       "      <td>4204.2</td>\n",
       "    </tr>\n",
       "    <tr>\n",
       "      <th>Intel Core i5-8350U</th>\n",
       "      <td>3045.4</td>\n",
       "      <td>1177.9</td>\n",
       "      <td>1902.0</td>\n",
       "      <td>3236.5</td>\n",
       "      <td>4097.7</td>\n",
       "      <td>4260.2</td>\n",
       "    </tr>\n",
       "    <tr>\n",
       "      <th>Intel Core i5-10310U</th>\n",
       "      <td>3311.9</td>\n",
       "      <td>1720.4</td>\n",
       "      <td>2188.7</td>\n",
       "      <td>3449.5</td>\n",
       "      <td>4201.0</td>\n",
       "      <td>4373.0</td>\n",
       "    </tr>\n",
       "    <tr>\n",
       "      <th>Intel Core i5-9400H</th>\n",
       "      <td>4042.8</td>\n",
       "      <td>2423.0</td>\n",
       "      <td>2915.6</td>\n",
       "      <td>4347.0</td>\n",
       "      <td>4839.2</td>\n",
       "      <td>4940.6</td>\n",
       "    </tr>\n",
       "    <tr>\n",
       "      <th>AMD Ryzen 5 PRO 4650U</th>\n",
       "      <td>4542.2</td>\n",
       "      <td>2753.8</td>\n",
       "      <td>3331.2</td>\n",
       "      <td>4591.0</td>\n",
       "      <td>5834.4</td>\n",
       "      <td>5975.8</td>\n",
       "    </tr>\n",
       "    <tr>\n",
       "      <th>Intel Core i5-1135G7</th>\n",
       "      <td>4465.2</td>\n",
       "      <td>2374.2</td>\n",
       "      <td>2879.4</td>\n",
       "      <td>4694.0</td>\n",
       "      <td>5744.6</td>\n",
       "      <td>6004.7</td>\n",
       "    </tr>\n",
       "    <tr>\n",
       "      <th>Intel Core i5-1145G7</th>\n",
       "      <td>4671.3</td>\n",
       "      <td>2182.2</td>\n",
       "      <td>2860.5</td>\n",
       "      <td>4873.0</td>\n",
       "      <td>6098.0</td>\n",
       "      <td>6296.6</td>\n",
       "    </tr>\n",
       "    <tr>\n",
       "      <th>Intel Core i5-1245U</th>\n",
       "      <td>6078.7</td>\n",
       "      <td>3101.3</td>\n",
       "      <td>3744.4</td>\n",
       "      <td>6269.0</td>\n",
       "      <td>8226.6</td>\n",
       "      <td>8626.4</td>\n",
       "    </tr>\n",
       "    <tr>\n",
       "      <th>Intel Core i5-1335U</th>\n",
       "      <td>6631.5</td>\n",
       "      <td>3908.2</td>\n",
       "      <td>4528.8</td>\n",
       "      <td>6786.0</td>\n",
       "      <td>8524.6</td>\n",
       "      <td>8812.0</td>\n",
       "    </tr>\n",
       "  </tbody>\n",
       "</table>\n",
       "</div>"
      ],
      "text/plain": [
       "                       Multi mean  Multi q05  Multi q10  Multi q50  Multi q90  \\\n",
       "CPU Name                                                                        \n",
       "Intel Core i5-6200U        1695.8      781.4     1067.0     1832.0     2029.4   \n",
       "Intel Core i5-6300U        1783.7      791.7     1157.6     1910.0     2180.4   \n",
       "Intel Core i5-7300U        1908.0      853.8     1236.0     2029.5     2400.5   \n",
       "AMD Ryzen 7 PRO 2700U      2447.9     1545.5     1798.0     2545.0     3140.5   \n",
       "AMD Ryzen 5 PRO 3500U      2500.3     1475.5     1794.6     2620.0     3123.0   \n",
       "Intel Core i5-10210U       2942.6      795.7     1465.9     3087.5     4037.0   \n",
       "Intel Core i5-8250U        2991.0     1519.3     2002.8     3126.0     3849.1   \n",
       "Intel Core i5-8365U        3055.0     1296.2     1858.0     3166.5     4141.5   \n",
       "Intel Core i5-8350U        3045.4     1177.9     1902.0     3236.5     4097.7   \n",
       "Intel Core i5-10310U       3311.9     1720.4     2188.7     3449.5     4201.0   \n",
       "Intel Core i5-9400H        4042.8     2423.0     2915.6     4347.0     4839.2   \n",
       "AMD Ryzen 5 PRO 4650U      4542.2     2753.8     3331.2     4591.0     5834.4   \n",
       "Intel Core i5-1135G7       4465.2     2374.2     2879.4     4694.0     5744.6   \n",
       "Intel Core i5-1145G7       4671.3     2182.2     2860.5     4873.0     6098.0   \n",
       "Intel Core i5-1245U        6078.7     3101.3     3744.4     6269.0     8226.6   \n",
       "Intel Core i5-1335U        6631.5     3908.2     4528.8     6786.0     8524.6   \n",
       "\n",
       "                       Multi q95  \n",
       "CPU Name                          \n",
       "Intel Core i5-6200U       2063.4  \n",
       "Intel Core i5-6300U       2226.2  \n",
       "Intel Core i5-7300U       2465.2  \n",
       "AMD Ryzen 7 PRO 2700U     3258.0  \n",
       "AMD Ryzen 5 PRO 3500U     3224.0  \n",
       "Intel Core i5-10210U      4259.4  \n",
       "Intel Core i5-8250U       3990.4  \n",
       "Intel Core i5-8365U       4204.2  \n",
       "Intel Core i5-8350U       4260.2  \n",
       "Intel Core i5-10310U      4373.0  \n",
       "Intel Core i5-9400H       4940.6  \n",
       "AMD Ryzen 5 PRO 4650U     5975.8  \n",
       "Intel Core i5-1135G7      6004.7  \n",
       "Intel Core i5-1145G7      6296.6  \n",
       "Intel Core i5-1245U       8626.4  \n",
       "Intel Core i5-1335U       8812.0  "
      ]
     },
     "execution_count": 142,
     "metadata": {},
     "output_type": "execute_result"
    }
   ],
   "source": [
    "def agg_dict(column, column_short=None):\n",
    "    if column_short is None:\n",
    "        column_short = column\n",
    "    return {\n",
    "        f'{column_short} mean': (column, 'mean'),\n",
    "        f'{column_short} q05': (column, quantile_fun(0.05)),\n",
    "        f'{column_short} q10': (column, quantile_fun(0.1)),\n",
    "        f'{column_short} q50': (column, quantile_fun(0.5)),\n",
    "        f'{column_short} q90': (column, quantile_fun(0.9)),\n",
    "        f'{column_short} q95': (column, quantile_fun(0.95)),\n",
    "    }\n",
    "\n",
    "multi_stats = df_all.groupby('CPU Name').agg(**agg_dict('Multi-Core Score', 'Multi')).sort_values('Multi q50')\n",
    "multi_stats.round(1)"
   ]
  },
  {
   "cell_type": "code",
   "execution_count": 143,
   "id": "1f78244e-619b-483e-a0ee-8f42e4f06496",
   "metadata": {},
   "outputs": [
    {
     "data": {
      "text/html": [
       "<div>\n",
       "<style scoped>\n",
       "    .dataframe tbody tr th:only-of-type {\n",
       "        vertical-align: middle;\n",
       "    }\n",
       "\n",
       "    .dataframe tbody tr th {\n",
       "        vertical-align: top;\n",
       "    }\n",
       "\n",
       "    .dataframe thead th {\n",
       "        text-align: right;\n",
       "    }\n",
       "</style>\n",
       "<table border=\"1\" class=\"dataframe\">\n",
       "  <thead>\n",
       "    <tr style=\"text-align: right;\">\n",
       "      <th></th>\n",
       "      <th>Single mean</th>\n",
       "      <th>Single q05</th>\n",
       "      <th>Single q10</th>\n",
       "      <th>Single q50</th>\n",
       "      <th>Single q90</th>\n",
       "      <th>Single q95</th>\n",
       "    </tr>\n",
       "    <tr>\n",
       "      <th>CPU Name</th>\n",
       "      <th></th>\n",
       "      <th></th>\n",
       "      <th></th>\n",
       "      <th></th>\n",
       "      <th></th>\n",
       "      <th></th>\n",
       "    </tr>\n",
       "  </thead>\n",
       "  <tbody>\n",
       "    <tr>\n",
       "      <th>AMD Ryzen 7 PRO 2700U</th>\n",
       "      <td>867.9</td>\n",
       "      <td>517.5</td>\n",
       "      <td>606.5</td>\n",
       "      <td>914.0</td>\n",
       "      <td>1070.5</td>\n",
       "      <td>1097.5</td>\n",
       "    </tr>\n",
       "    <tr>\n",
       "      <th>Intel Core i5-6200U</th>\n",
       "      <td>856.0</td>\n",
       "      <td>498.2</td>\n",
       "      <td>616.0</td>\n",
       "      <td>916.0</td>\n",
       "      <td>998.0</td>\n",
       "      <td>1010.2</td>\n",
       "    </tr>\n",
       "    <tr>\n",
       "      <th>AMD Ryzen 5 PRO 3500U</th>\n",
       "      <td>878.9</td>\n",
       "      <td>515.8</td>\n",
       "      <td>598.4</td>\n",
       "      <td>949.0</td>\n",
       "      <td>1077.0</td>\n",
       "      <td>1100.0</td>\n",
       "    </tr>\n",
       "    <tr>\n",
       "      <th>Intel Core i5-6300U</th>\n",
       "      <td>903.6</td>\n",
       "      <td>550.2</td>\n",
       "      <td>629.0</td>\n",
       "      <td>965.0</td>\n",
       "      <td>1061.0</td>\n",
       "      <td>1085.1</td>\n",
       "    </tr>\n",
       "    <tr>\n",
       "      <th>Intel Core i5-7300U</th>\n",
       "      <td>1001.0</td>\n",
       "      <td>534.0</td>\n",
       "      <td>663.0</td>\n",
       "      <td>1087.5</td>\n",
       "      <td>1199.0</td>\n",
       "      <td>1224.0</td>\n",
       "    </tr>\n",
       "    <tr>\n",
       "      <th>Intel Core i5-8250U</th>\n",
       "      <td>1058.5</td>\n",
       "      <td>583.6</td>\n",
       "      <td>725.3</td>\n",
       "      <td>1145.0</td>\n",
       "      <td>1231.0</td>\n",
       "      <td>1246.0</td>\n",
       "    </tr>\n",
       "    <tr>\n",
       "      <th>Intel Core i5-8350U</th>\n",
       "      <td>1075.2</td>\n",
       "      <td>531.0</td>\n",
       "      <td>721.8</td>\n",
       "      <td>1190.5</td>\n",
       "      <td>1291.0</td>\n",
       "      <td>1325.0</td>\n",
       "    </tr>\n",
       "    <tr>\n",
       "      <th>Intel Core i5-10210U</th>\n",
       "      <td>1128.5</td>\n",
       "      <td>438.0</td>\n",
       "      <td>638.9</td>\n",
       "      <td>1229.0</td>\n",
       "      <td>1407.0</td>\n",
       "      <td>1433.7</td>\n",
       "    </tr>\n",
       "    <tr>\n",
       "      <th>Intel Core i5-8365U</th>\n",
       "      <td>1174.5</td>\n",
       "      <td>576.8</td>\n",
       "      <td>729.5</td>\n",
       "      <td>1270.0</td>\n",
       "      <td>1435.0</td>\n",
       "      <td>1471.2</td>\n",
       "    </tr>\n",
       "    <tr>\n",
       "      <th>Intel Core i5-10310U</th>\n",
       "      <td>1224.9</td>\n",
       "      <td>677.6</td>\n",
       "      <td>897.8</td>\n",
       "      <td>1296.5</td>\n",
       "      <td>1446.0</td>\n",
       "      <td>1481.2</td>\n",
       "    </tr>\n",
       "    <tr>\n",
       "      <th>AMD Ryzen 5 PRO 4650U</th>\n",
       "      <td>1323.9</td>\n",
       "      <td>949.6</td>\n",
       "      <td>1007.0</td>\n",
       "      <td>1421.0</td>\n",
       "      <td>1510.0</td>\n",
       "      <td>1534.4</td>\n",
       "    </tr>\n",
       "    <tr>\n",
       "      <th>Intel Core i5-9400H</th>\n",
       "      <td>1330.4</td>\n",
       "      <td>878.8</td>\n",
       "      <td>982.6</td>\n",
       "      <td>1429.0</td>\n",
       "      <td>1493.0</td>\n",
       "      <td>1509.0</td>\n",
       "    </tr>\n",
       "    <tr>\n",
       "      <th>Intel Core i5-1135G7</th>\n",
       "      <td>1593.2</td>\n",
       "      <td>945.0</td>\n",
       "      <td>1105.6</td>\n",
       "      <td>1702.0</td>\n",
       "      <td>1881.0</td>\n",
       "      <td>1925.0</td>\n",
       "    </tr>\n",
       "    <tr>\n",
       "      <th>Intel Core i5-1145G7</th>\n",
       "      <td>1632.9</td>\n",
       "      <td>803.4</td>\n",
       "      <td>1114.9</td>\n",
       "      <td>1765.5</td>\n",
       "      <td>1928.1</td>\n",
       "      <td>1970.6</td>\n",
       "    </tr>\n",
       "    <tr>\n",
       "      <th>Intel Core i5-1245U</th>\n",
       "      <td>1823.9</td>\n",
       "      <td>935.4</td>\n",
       "      <td>1132.2</td>\n",
       "      <td>1964.0</td>\n",
       "      <td>2237.8</td>\n",
       "      <td>2283.0</td>\n",
       "    </tr>\n",
       "    <tr>\n",
       "      <th>Intel Core i5-1335U</th>\n",
       "      <td>1947.9</td>\n",
       "      <td>1143.4</td>\n",
       "      <td>1284.4</td>\n",
       "      <td>2103.0</td>\n",
       "      <td>2342.0</td>\n",
       "      <td>2385.0</td>\n",
       "    </tr>\n",
       "  </tbody>\n",
       "</table>\n",
       "</div>"
      ],
      "text/plain": [
       "                       Single mean  Single q05  Single q10  Single q50  \\\n",
       "CPU Name                                                                 \n",
       "AMD Ryzen 7 PRO 2700U        867.9       517.5       606.5       914.0   \n",
       "Intel Core i5-6200U          856.0       498.2       616.0       916.0   \n",
       "AMD Ryzen 5 PRO 3500U        878.9       515.8       598.4       949.0   \n",
       "Intel Core i5-6300U          903.6       550.2       629.0       965.0   \n",
       "Intel Core i5-7300U         1001.0       534.0       663.0      1087.5   \n",
       "Intel Core i5-8250U         1058.5       583.6       725.3      1145.0   \n",
       "Intel Core i5-8350U         1075.2       531.0       721.8      1190.5   \n",
       "Intel Core i5-10210U        1128.5       438.0       638.9      1229.0   \n",
       "Intel Core i5-8365U         1174.5       576.8       729.5      1270.0   \n",
       "Intel Core i5-10310U        1224.9       677.6       897.8      1296.5   \n",
       "AMD Ryzen 5 PRO 4650U       1323.9       949.6      1007.0      1421.0   \n",
       "Intel Core i5-9400H         1330.4       878.8       982.6      1429.0   \n",
       "Intel Core i5-1135G7        1593.2       945.0      1105.6      1702.0   \n",
       "Intel Core i5-1145G7        1632.9       803.4      1114.9      1765.5   \n",
       "Intel Core i5-1245U         1823.9       935.4      1132.2      1964.0   \n",
       "Intel Core i5-1335U         1947.9      1143.4      1284.4      2103.0   \n",
       "\n",
       "                       Single q90  Single q95  \n",
       "CPU Name                                       \n",
       "AMD Ryzen 7 PRO 2700U      1070.5      1097.5  \n",
       "Intel Core i5-6200U         998.0      1010.2  \n",
       "AMD Ryzen 5 PRO 3500U      1077.0      1100.0  \n",
       "Intel Core i5-6300U        1061.0      1085.1  \n",
       "Intel Core i5-7300U        1199.0      1224.0  \n",
       "Intel Core i5-8250U        1231.0      1246.0  \n",
       "Intel Core i5-8350U        1291.0      1325.0  \n",
       "Intel Core i5-10210U       1407.0      1433.7  \n",
       "Intel Core i5-8365U        1435.0      1471.2  \n",
       "Intel Core i5-10310U       1446.0      1481.2  \n",
       "AMD Ryzen 5 PRO 4650U      1510.0      1534.4  \n",
       "Intel Core i5-9400H        1493.0      1509.0  \n",
       "Intel Core i5-1135G7       1881.0      1925.0  \n",
       "Intel Core i5-1145G7       1928.1      1970.6  \n",
       "Intel Core i5-1245U        2237.8      2283.0  \n",
       "Intel Core i5-1335U        2342.0      2385.0  "
      ]
     },
     "execution_count": 143,
     "metadata": {},
     "output_type": "execute_result"
    }
   ],
   "source": [
    "single_stats = df_all.groupby('CPU Name').agg(**agg_dict('Single-Core Score', 'Single')).sort_values('Single q50')\n",
    "single_stats.round(1)"
   ]
  },
  {
   "cell_type": "code",
   "execution_count": 154,
   "id": "47fb2ec7-6cfe-410f-b082-b4159ae90e3b",
   "metadata": {},
   "outputs": [
    {
     "data": {
      "text/html": [
       "<div>\n",
       "<style scoped>\n",
       "    .dataframe tbody tr th:only-of-type {\n",
       "        vertical-align: middle;\n",
       "    }\n",
       "\n",
       "    .dataframe tbody tr th {\n",
       "        vertical-align: top;\n",
       "    }\n",
       "\n",
       "    .dataframe thead th {\n",
       "        text-align: right;\n",
       "    }\n",
       "</style>\n",
       "<table border=\"1\" class=\"dataframe\">\n",
       "  <thead>\n",
       "    <tr style=\"text-align: right;\">\n",
       "      <th></th>\n",
       "      <th>Single mean</th>\n",
       "      <th>Single q05</th>\n",
       "      <th>Single q10</th>\n",
       "      <th>Single q50</th>\n",
       "      <th>Single q90</th>\n",
       "      <th>Single q95</th>\n",
       "      <th>Multi mean</th>\n",
       "      <th>Multi q05</th>\n",
       "      <th>Multi q10</th>\n",
       "      <th>Multi q50</th>\n",
       "      <th>Multi q90</th>\n",
       "      <th>Multi q95</th>\n",
       "    </tr>\n",
       "    <tr>\n",
       "      <th>CPU Name</th>\n",
       "      <th></th>\n",
       "      <th></th>\n",
       "      <th></th>\n",
       "      <th></th>\n",
       "      <th></th>\n",
       "      <th></th>\n",
       "      <th></th>\n",
       "      <th></th>\n",
       "      <th></th>\n",
       "      <th></th>\n",
       "      <th></th>\n",
       "      <th></th>\n",
       "    </tr>\n",
       "  </thead>\n",
       "  <tbody>\n",
       "    <tr>\n",
       "      <th>Intel Core i5-6200U</th>\n",
       "      <td>855.965898</td>\n",
       "      <td>498.20</td>\n",
       "      <td>616.0</td>\n",
       "      <td>916.0</td>\n",
       "      <td>998.0</td>\n",
       "      <td>1010.20</td>\n",
       "      <td>1695.806419</td>\n",
       "      <td>781.40</td>\n",
       "      <td>1067.0</td>\n",
       "      <td>1832.0</td>\n",
       "      <td>2029.4</td>\n",
       "      <td>2063.40</td>\n",
       "    </tr>\n",
       "    <tr>\n",
       "      <th>Intel Core i5-6300U</th>\n",
       "      <td>903.597598</td>\n",
       "      <td>550.20</td>\n",
       "      <td>629.0</td>\n",
       "      <td>965.0</td>\n",
       "      <td>1061.0</td>\n",
       "      <td>1085.10</td>\n",
       "      <td>1783.732733</td>\n",
       "      <td>791.70</td>\n",
       "      <td>1157.6</td>\n",
       "      <td>1910.0</td>\n",
       "      <td>2180.4</td>\n",
       "      <td>2226.20</td>\n",
       "    </tr>\n",
       "    <tr>\n",
       "      <th>Intel Core i5-7300U</th>\n",
       "      <td>1000.950803</td>\n",
       "      <td>534.00</td>\n",
       "      <td>663.0</td>\n",
       "      <td>1087.5</td>\n",
       "      <td>1199.0</td>\n",
       "      <td>1224.00</td>\n",
       "      <td>1907.979920</td>\n",
       "      <td>853.75</td>\n",
       "      <td>1236.0</td>\n",
       "      <td>2029.5</td>\n",
       "      <td>2400.5</td>\n",
       "      <td>2465.25</td>\n",
       "    </tr>\n",
       "    <tr>\n",
       "      <th>Intel Core i5-8250U</th>\n",
       "      <td>1058.495976</td>\n",
       "      <td>583.65</td>\n",
       "      <td>725.3</td>\n",
       "      <td>1145.0</td>\n",
       "      <td>1231.0</td>\n",
       "      <td>1246.00</td>\n",
       "      <td>2991.009054</td>\n",
       "      <td>1519.30</td>\n",
       "      <td>2002.8</td>\n",
       "      <td>3126.0</td>\n",
       "      <td>3849.1</td>\n",
       "      <td>3990.40</td>\n",
       "    </tr>\n",
       "    <tr>\n",
       "      <th>Intel Core i5-8350U</th>\n",
       "      <td>1075.236735</td>\n",
       "      <td>531.00</td>\n",
       "      <td>721.8</td>\n",
       "      <td>1190.5</td>\n",
       "      <td>1291.0</td>\n",
       "      <td>1325.00</td>\n",
       "      <td>3045.438776</td>\n",
       "      <td>1177.90</td>\n",
       "      <td>1902.0</td>\n",
       "      <td>3236.5</td>\n",
       "      <td>4097.7</td>\n",
       "      <td>4260.20</td>\n",
       "    </tr>\n",
       "    <tr>\n",
       "      <th>Intel Core i5-8365U</th>\n",
       "      <td>1174.486948</td>\n",
       "      <td>576.75</td>\n",
       "      <td>729.5</td>\n",
       "      <td>1270.0</td>\n",
       "      <td>1435.0</td>\n",
       "      <td>1471.25</td>\n",
       "      <td>3054.958835</td>\n",
       "      <td>1296.25</td>\n",
       "      <td>1858.0</td>\n",
       "      <td>3166.5</td>\n",
       "      <td>4141.5</td>\n",
       "      <td>4204.25</td>\n",
       "    </tr>\n",
       "    <tr>\n",
       "      <th>Intel Core i5-9400H</th>\n",
       "      <td>1330.387268</td>\n",
       "      <td>878.80</td>\n",
       "      <td>982.6</td>\n",
       "      <td>1429.0</td>\n",
       "      <td>1493.0</td>\n",
       "      <td>1509.00</td>\n",
       "      <td>4042.766578</td>\n",
       "      <td>2423.00</td>\n",
       "      <td>2915.6</td>\n",
       "      <td>4347.0</td>\n",
       "      <td>4839.2</td>\n",
       "      <td>4940.60</td>\n",
       "    </tr>\n",
       "    <tr>\n",
       "      <th>Intel Core i5-10210U</th>\n",
       "      <td>1128.525151</td>\n",
       "      <td>437.95</td>\n",
       "      <td>638.9</td>\n",
       "      <td>1229.0</td>\n",
       "      <td>1407.0</td>\n",
       "      <td>1433.70</td>\n",
       "      <td>2942.583501</td>\n",
       "      <td>795.65</td>\n",
       "      <td>1465.9</td>\n",
       "      <td>3087.5</td>\n",
       "      <td>4037.0</td>\n",
       "      <td>4259.35</td>\n",
       "    </tr>\n",
       "    <tr>\n",
       "      <th>Intel Core i5-10310U</th>\n",
       "      <td>1224.907816</td>\n",
       "      <td>677.55</td>\n",
       "      <td>897.8</td>\n",
       "      <td>1296.5</td>\n",
       "      <td>1446.0</td>\n",
       "      <td>1481.15</td>\n",
       "      <td>3311.936874</td>\n",
       "      <td>1720.45</td>\n",
       "      <td>2188.7</td>\n",
       "      <td>3449.5</td>\n",
       "      <td>4201.0</td>\n",
       "      <td>4373.00</td>\n",
       "    </tr>\n",
       "    <tr>\n",
       "      <th>Intel Core i5-1135G7</th>\n",
       "      <td>1593.150754</td>\n",
       "      <td>945.00</td>\n",
       "      <td>1105.6</td>\n",
       "      <td>1702.0</td>\n",
       "      <td>1881.0</td>\n",
       "      <td>1925.00</td>\n",
       "      <td>4465.206030</td>\n",
       "      <td>2374.20</td>\n",
       "      <td>2879.4</td>\n",
       "      <td>4694.0</td>\n",
       "      <td>5744.6</td>\n",
       "      <td>6004.70</td>\n",
       "    </tr>\n",
       "    <tr>\n",
       "      <th>Intel Core i5-1145G7</th>\n",
       "      <td>1632.860606</td>\n",
       "      <td>803.45</td>\n",
       "      <td>1114.9</td>\n",
       "      <td>1765.5</td>\n",
       "      <td>1928.1</td>\n",
       "      <td>1970.55</td>\n",
       "      <td>4671.280808</td>\n",
       "      <td>2182.25</td>\n",
       "      <td>2860.5</td>\n",
       "      <td>4873.0</td>\n",
       "      <td>6098.0</td>\n",
       "      <td>6296.55</td>\n",
       "    </tr>\n",
       "    <tr>\n",
       "      <th>Intel Core i5-1245U</th>\n",
       "      <td>1823.918616</td>\n",
       "      <td>935.40</td>\n",
       "      <td>1132.2</td>\n",
       "      <td>1964.0</td>\n",
       "      <td>2237.8</td>\n",
       "      <td>2283.00</td>\n",
       "      <td>6078.726348</td>\n",
       "      <td>3101.30</td>\n",
       "      <td>3744.4</td>\n",
       "      <td>6269.0</td>\n",
       "      <td>8226.6</td>\n",
       "      <td>8626.40</td>\n",
       "    </tr>\n",
       "    <tr>\n",
       "      <th>Intel Core i5-1335U</th>\n",
       "      <td>1947.881699</td>\n",
       "      <td>1143.40</td>\n",
       "      <td>1284.4</td>\n",
       "      <td>2103.0</td>\n",
       "      <td>2342.0</td>\n",
       "      <td>2385.00</td>\n",
       "      <td>6631.515672</td>\n",
       "      <td>3908.20</td>\n",
       "      <td>4528.8</td>\n",
       "      <td>6786.0</td>\n",
       "      <td>8524.6</td>\n",
       "      <td>8812.00</td>\n",
       "    </tr>\n",
       "    <tr>\n",
       "      <th>AMD Ryzen 7 PRO 2700U</th>\n",
       "      <td>867.889381</td>\n",
       "      <td>517.50</td>\n",
       "      <td>606.5</td>\n",
       "      <td>914.0</td>\n",
       "      <td>1070.5</td>\n",
       "      <td>1097.50</td>\n",
       "      <td>2447.871681</td>\n",
       "      <td>1545.50</td>\n",
       "      <td>1798.0</td>\n",
       "      <td>2545.0</td>\n",
       "      <td>3140.5</td>\n",
       "      <td>3258.00</td>\n",
       "    </tr>\n",
       "    <tr>\n",
       "      <th>AMD Ryzen 5 PRO 3500U</th>\n",
       "      <td>878.851256</td>\n",
       "      <td>515.80</td>\n",
       "      <td>598.4</td>\n",
       "      <td>949.0</td>\n",
       "      <td>1077.0</td>\n",
       "      <td>1100.00</td>\n",
       "      <td>2500.276382</td>\n",
       "      <td>1475.50</td>\n",
       "      <td>1794.6</td>\n",
       "      <td>2620.0</td>\n",
       "      <td>3123.0</td>\n",
       "      <td>3224.00</td>\n",
       "    </tr>\n",
       "    <tr>\n",
       "      <th>AMD Ryzen 5 PRO 4650U</th>\n",
       "      <td>1323.859013</td>\n",
       "      <td>949.60</td>\n",
       "      <td>1007.0</td>\n",
       "      <td>1421.0</td>\n",
       "      <td>1510.0</td>\n",
       "      <td>1534.40</td>\n",
       "      <td>4542.175227</td>\n",
       "      <td>2753.80</td>\n",
       "      <td>3331.2</td>\n",
       "      <td>4591.0</td>\n",
       "      <td>5834.4</td>\n",
       "      <td>5975.80</td>\n",
       "    </tr>\n",
       "  </tbody>\n",
       "</table>\n",
       "</div>"
      ],
      "text/plain": [
       "                       Single mean  Single q05  Single q10  Single q50  \\\n",
       "CPU Name                                                                 \n",
       "Intel Core i5-6200U     855.965898      498.20       616.0       916.0   \n",
       "Intel Core i5-6300U     903.597598      550.20       629.0       965.0   \n",
       "Intel Core i5-7300U    1000.950803      534.00       663.0      1087.5   \n",
       "Intel Core i5-8250U    1058.495976      583.65       725.3      1145.0   \n",
       "Intel Core i5-8350U    1075.236735      531.00       721.8      1190.5   \n",
       "Intel Core i5-8365U    1174.486948      576.75       729.5      1270.0   \n",
       "Intel Core i5-9400H    1330.387268      878.80       982.6      1429.0   \n",
       "Intel Core i5-10210U   1128.525151      437.95       638.9      1229.0   \n",
       "Intel Core i5-10310U   1224.907816      677.55       897.8      1296.5   \n",
       "Intel Core i5-1135G7   1593.150754      945.00      1105.6      1702.0   \n",
       "Intel Core i5-1145G7   1632.860606      803.45      1114.9      1765.5   \n",
       "Intel Core i5-1245U    1823.918616      935.40      1132.2      1964.0   \n",
       "Intel Core i5-1335U    1947.881699     1143.40      1284.4      2103.0   \n",
       "AMD Ryzen 7 PRO 2700U   867.889381      517.50       606.5       914.0   \n",
       "AMD Ryzen 5 PRO 3500U   878.851256      515.80       598.4       949.0   \n",
       "AMD Ryzen 5 PRO 4650U  1323.859013      949.60      1007.0      1421.0   \n",
       "\n",
       "                       Single q90  Single q95   Multi mean  Multi q05  \\\n",
       "CPU Name                                                                \n",
       "Intel Core i5-6200U         998.0     1010.20  1695.806419     781.40   \n",
       "Intel Core i5-6300U        1061.0     1085.10  1783.732733     791.70   \n",
       "Intel Core i5-7300U        1199.0     1224.00  1907.979920     853.75   \n",
       "Intel Core i5-8250U        1231.0     1246.00  2991.009054    1519.30   \n",
       "Intel Core i5-8350U        1291.0     1325.00  3045.438776    1177.90   \n",
       "Intel Core i5-8365U        1435.0     1471.25  3054.958835    1296.25   \n",
       "Intel Core i5-9400H        1493.0     1509.00  4042.766578    2423.00   \n",
       "Intel Core i5-10210U       1407.0     1433.70  2942.583501     795.65   \n",
       "Intel Core i5-10310U       1446.0     1481.15  3311.936874    1720.45   \n",
       "Intel Core i5-1135G7       1881.0     1925.00  4465.206030    2374.20   \n",
       "Intel Core i5-1145G7       1928.1     1970.55  4671.280808    2182.25   \n",
       "Intel Core i5-1245U        2237.8     2283.00  6078.726348    3101.30   \n",
       "Intel Core i5-1335U        2342.0     2385.00  6631.515672    3908.20   \n",
       "AMD Ryzen 7 PRO 2700U      1070.5     1097.50  2447.871681    1545.50   \n",
       "AMD Ryzen 5 PRO 3500U      1077.0     1100.00  2500.276382    1475.50   \n",
       "AMD Ryzen 5 PRO 4650U      1510.0     1534.40  4542.175227    2753.80   \n",
       "\n",
       "                       Multi q10  Multi q50  Multi q90  Multi q95  \n",
       "CPU Name                                                           \n",
       "Intel Core i5-6200U       1067.0     1832.0     2029.4    2063.40  \n",
       "Intel Core i5-6300U       1157.6     1910.0     2180.4    2226.20  \n",
       "Intel Core i5-7300U       1236.0     2029.5     2400.5    2465.25  \n",
       "Intel Core i5-8250U       2002.8     3126.0     3849.1    3990.40  \n",
       "Intel Core i5-8350U       1902.0     3236.5     4097.7    4260.20  \n",
       "Intel Core i5-8365U       1858.0     3166.5     4141.5    4204.25  \n",
       "Intel Core i5-9400H       2915.6     4347.0     4839.2    4940.60  \n",
       "Intel Core i5-10210U      1465.9     3087.5     4037.0    4259.35  \n",
       "Intel Core i5-10310U      2188.7     3449.5     4201.0    4373.00  \n",
       "Intel Core i5-1135G7      2879.4     4694.0     5744.6    6004.70  \n",
       "Intel Core i5-1145G7      2860.5     4873.0     6098.0    6296.55  \n",
       "Intel Core i5-1245U       3744.4     6269.0     8226.6    8626.40  \n",
       "Intel Core i5-1335U       4528.8     6786.0     8524.6    8812.00  \n",
       "AMD Ryzen 7 PRO 2700U     1798.0     2545.0     3140.5    3258.00  \n",
       "AMD Ryzen 5 PRO 3500U     1794.6     2620.0     3123.0    3224.00  \n",
       "AMD Ryzen 5 PRO 4650U     3331.2     4591.0     5834.4    5975.80  "
      ]
     },
     "execution_count": 154,
     "metadata": {},
     "output_type": "execute_result"
    }
   ],
   "source": [
    "all_stats = pd.concat((single_stats, multi_stats), axis=1)\n",
    "all_stats.loc[cpu_list]"
   ]
  },
  {
   "cell_type": "markdown",
   "id": "f726595c-1a67-4f7d-8367-c6995de6233c",
   "metadata": {},
   "source": [
    "### Save stats and plot"
   ]
  },
  {
   "cell_type": "code",
   "execution_count": 155,
   "id": "064f8aeb-287e-4c94-99ad-f6a089068bd7",
   "metadata": {},
   "outputs": [],
   "source": [
    "all_stats.loc[cpu_list].to_csv('CPUs_GB6_stats.csv')"
   ]
  },
  {
   "cell_type": "code",
   "execution_count": 174,
   "id": "978c7954-4cca-405f-9c0b-e9a0a312392c",
   "metadata": {},
   "outputs": [
    {
     "data": {
      "image/png": "[encoded data removed]",
      "text/plain": [
       "<Figure size 800x400 with 2 Axes>"
      ]
     },
     "metadata": {},
     "output_type": "display_data"
    }
   ],
   "source": [
    "fig, (ax1, ax2) = plt.subplots(1,2, sharey=True, figsize=(8,4))\n",
    "\n",
    "col_single = 'tab:blue'\n",
    "ax1.set(title='Single-Core Geekbench 6')\n",
    "ax1.plot(all_stats['Single q50'], all_stats.index, 'd', color=col_single, label='Median')\n",
    "ax1.plot(all_stats['Single q90'], all_stats.index, '|', color=col_single, label='Q10-90')\n",
    "ax1.plot(all_stats['Single q10'], all_stats.index, '|', color=col_single)\n",
    "\n",
    "col_multi = 'tab:red'\n",
    "ax2.set(title='Multi-Core Geekbench 6')\n",
    "ax2.plot(all_stats['Multi q50'], all_stats.index, 'd', color=col_multi, label='Median')\n",
    "ax2.plot(all_stats['Multi q90'], all_stats.index, '|', color=col_multi, label='Q10-90')\n",
    "ax2.plot(all_stats['Multi q10'], all_stats.index, '|', color=col_multi)\n",
    "\n",
    "for axi in (ax1, ax2):\n",
    "    axi.grid(True)\n",
    "    axi.legend(loc='lower right')\n",
    "    axi.set_xlim(xmin=0)\n",
    "\n",
    "fig.tight_layout()\n",
    "fig.savefig('CPUs_GB6_stats.png', dpi=300)"
   ]
  },
  {
   "cell_type": "code",
   "execution_count": null,
   "id": "8d89ab00-e217-4c6e-a893-c8868555bfd1",
   "metadata": {},
   "outputs": [],
   "source": []
  }
 ],
 "metadata": {
  "kernelspec": {
   "display_name": "Python 3 (ipykernel)",
   "language": "python",
   "name": "python3"
  },
  "language_info": {
   "codemirror_mode": {
    "name": "ipython",
    "version": 3
   },
   "file_extension": ".py",
   "mimetype": "text/x-python",
   "name": "python",
   "nbconvert_exporter": "python",
   "pygments_lexer": "ipython3",
   "version": "3.12.8"
  }
 },
 "nbformat": 4,
 "nbformat_minor": 5
}
